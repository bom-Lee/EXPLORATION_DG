{
 "cells": [
  {
   "cell_type": "markdown",
   "id": "7ae031a2",
   "metadata": {},
   "source": [
    "# 프로젝트 - Movielens 영화 추천 실습"
   ]
  },
  {
   "cell_type": "markdown",
   "id": "4d6415ce",
   "metadata": {},
   "source": [
    "전 스텝에서 배운 MF 모델 학습 방법을 토대로, 내가 좋아할 만한 영화 추천 시스템을 제작해 보자.\n",
    "\n",
    "이번에 활용할 데이터셋은 추천 시스템의 MNIST라고 부를만한 Movielens 데이터.\n",
    "\n",
    "* 유저가 영화에 대해 평점을 매긴 데이터가 데이터 크기 별로 있습니다. MovieLens 1M Dataset 사용을 권장.\n",
    "* 별점 데이터는 대표적인 explicit 데이터. 하지만 implicit 데이터로 간주하고 테스트해 볼 수 있음.\n",
    "* 별점을 시청횟수로 해석해서 생각.\n",
    "* 또한 유저가 3점 미만으로 준 데이터는 선호하지 않는다고 가정하고 제외."
   ]
  },
  {
   "cell_type": "markdown",
   "id": "d1dafb08",
   "metadata": {},
   "source": [
    "### 1) 데이터 준비와 전처리\n",
    "-----\n",
    "Movielens 데이터는 rating.dat 안에 이미 인덱싱까지 완료된 사용자-영화-평점 데이터가 깔끔하게 정리되어 있음."
   ]
  },
  {
   "cell_type": "code",
   "execution_count": 1,
   "id": "966440b8",
   "metadata": {},
   "outputs": [
    {
     "data": {
      "text/html": [
       "<div>\n",
       "<style scoped>\n",
       "    .dataframe tbody tr th:only-of-type {\n",
       "        vertical-align: middle;\n",
       "    }\n",
       "\n",
       "    .dataframe tbody tr th {\n",
       "        vertical-align: top;\n",
       "    }\n",
       "\n",
       "    .dataframe thead th {\n",
       "        text-align: right;\n",
       "    }\n",
       "</style>\n",
       "<table border=\"1\" class=\"dataframe\">\n",
       "  <thead>\n",
       "    <tr style=\"text-align: right;\">\n",
       "      <th></th>\n",
       "      <th>user_id</th>\n",
       "      <th>movie_id</th>\n",
       "      <th>ratings</th>\n",
       "      <th>timestamp</th>\n",
       "    </tr>\n",
       "  </thead>\n",
       "  <tbody>\n",
       "    <tr>\n",
       "      <th>0</th>\n",
       "      <td>1</td>\n",
       "      <td>1193</td>\n",
       "      <td>5</td>\n",
       "      <td>978300760</td>\n",
       "    </tr>\n",
       "    <tr>\n",
       "      <th>1</th>\n",
       "      <td>1</td>\n",
       "      <td>661</td>\n",
       "      <td>3</td>\n",
       "      <td>978302109</td>\n",
       "    </tr>\n",
       "    <tr>\n",
       "      <th>2</th>\n",
       "      <td>1</td>\n",
       "      <td>914</td>\n",
       "      <td>3</td>\n",
       "      <td>978301968</td>\n",
       "    </tr>\n",
       "    <tr>\n",
       "      <th>3</th>\n",
       "      <td>1</td>\n",
       "      <td>3408</td>\n",
       "      <td>4</td>\n",
       "      <td>978300275</td>\n",
       "    </tr>\n",
       "    <tr>\n",
       "      <th>4</th>\n",
       "      <td>1</td>\n",
       "      <td>2355</td>\n",
       "      <td>5</td>\n",
       "      <td>978824291</td>\n",
       "    </tr>\n",
       "  </tbody>\n",
       "</table>\n",
       "</div>"
      ],
      "text/plain": [
       "   user_id  movie_id  ratings  timestamp\n",
       "0        1      1193        5  978300760\n",
       "1        1       661        3  978302109\n",
       "2        1       914        3  978301968\n",
       "3        1      3408        4  978300275\n",
       "4        1      2355        5  978824291"
      ]
     },
     "execution_count": 1,
     "metadata": {},
     "output_type": "execute_result"
    }
   ],
   "source": [
    "import pandas as pd\n",
    "import os\n",
    "\n",
    "rating_file_path=os.getenv('HOME') + '/aiffel/recommendata_iu/data/ml-1m/ratings.dat'\n",
    "ratings_cols = ['user_id', 'movie_id', 'ratings', 'timestamp']\n",
    "ratings = pd.read_csv(rating_file_path, sep='::', names=ratings_cols, engine='python', encoding = \"ISO-8859-1\")\n",
    "orginal_data_size = len(ratings)\n",
    "ratings.head()"
   ]
  },
  {
   "cell_type": "code",
   "execution_count": 2,
   "id": "0ba4f125",
   "metadata": {},
   "outputs": [
    {
     "name": "stdout",
     "output_type": "stream",
     "text": [
      "orginal_data_size: 1000209, filtered_data_size: 836478\n",
      "Ratio of Remaining Data is 83.63%\n"
     ]
    }
   ],
   "source": [
    "# 3점 이상만 남깁니다.\n",
    "ratings = ratings[ratings['ratings']>=3]\n",
    "filtered_data_size = len(ratings)\n",
    "\n",
    "print(f'orginal_data_size: {orginal_data_size}, filtered_data_size: {filtered_data_size}')\n",
    "print(f'Ratio of Remaining Data is {filtered_data_size / orginal_data_size:.2%}')"
   ]
  },
  {
   "cell_type": "code",
   "execution_count": 3,
   "id": "0e883e21",
   "metadata": {},
   "outputs": [],
   "source": [
    "# ratings 컬럼의 이름을 counts로 바꿉니다.\n",
    "ratings.rename(columns={'ratings':'counts'}, inplace=True)"
   ]
  },
  {
   "cell_type": "code",
   "execution_count": 4,
   "id": "584e83b7",
   "metadata": {},
   "outputs": [
    {
     "data": {
      "text/plain": [
       "0          5\n",
       "1          3\n",
       "2          3\n",
       "3          4\n",
       "4          5\n",
       "          ..\n",
       "1000203    3\n",
       "1000205    5\n",
       "1000206    5\n",
       "1000207    4\n",
       "1000208    4\n",
       "Name: counts, Length: 836478, dtype: int64"
      ]
     },
     "execution_count": 4,
     "metadata": {},
     "output_type": "execute_result"
    }
   ],
   "source": [
    "ratings['counts']"
   ]
  },
  {
   "cell_type": "code",
   "execution_count": 5,
   "id": "965f0cdb",
   "metadata": {},
   "outputs": [
    {
     "data": {
      "text/html": [
       "<div>\n",
       "<style scoped>\n",
       "    .dataframe tbody tr th:only-of-type {\n",
       "        vertical-align: middle;\n",
       "    }\n",
       "\n",
       "    .dataframe tbody tr th {\n",
       "        vertical-align: top;\n",
       "    }\n",
       "\n",
       "    .dataframe thead th {\n",
       "        text-align: right;\n",
       "    }\n",
       "</style>\n",
       "<table border=\"1\" class=\"dataframe\">\n",
       "  <thead>\n",
       "    <tr style=\"text-align: right;\">\n",
       "      <th></th>\n",
       "      <th>movie_id</th>\n",
       "      <th>title</th>\n",
       "      <th>genre</th>\n",
       "    </tr>\n",
       "  </thead>\n",
       "  <tbody>\n",
       "    <tr>\n",
       "      <th>0</th>\n",
       "      <td>1</td>\n",
       "      <td>Toy Story (1995)</td>\n",
       "      <td>Animation|Children's|Comedy</td>\n",
       "    </tr>\n",
       "    <tr>\n",
       "      <th>1</th>\n",
       "      <td>2</td>\n",
       "      <td>Jumanji (1995)</td>\n",
       "      <td>Adventure|Children's|Fantasy</td>\n",
       "    </tr>\n",
       "    <tr>\n",
       "      <th>2</th>\n",
       "      <td>3</td>\n",
       "      <td>Grumpier Old Men (1995)</td>\n",
       "      <td>Comedy|Romance</td>\n",
       "    </tr>\n",
       "    <tr>\n",
       "      <th>3</th>\n",
       "      <td>4</td>\n",
       "      <td>Waiting to Exhale (1995)</td>\n",
       "      <td>Comedy|Drama</td>\n",
       "    </tr>\n",
       "    <tr>\n",
       "      <th>4</th>\n",
       "      <td>5</td>\n",
       "      <td>Father of the Bride Part II (1995)</td>\n",
       "      <td>Comedy</td>\n",
       "    </tr>\n",
       "  </tbody>\n",
       "</table>\n",
       "</div>"
      ],
      "text/plain": [
       "   movie_id                               title                         genre\n",
       "0         1                    Toy Story (1995)   Animation|Children's|Comedy\n",
       "1         2                      Jumanji (1995)  Adventure|Children's|Fantasy\n",
       "2         3             Grumpier Old Men (1995)                Comedy|Romance\n",
       "3         4            Waiting to Exhale (1995)                  Comedy|Drama\n",
       "4         5  Father of the Bride Part II (1995)                        Comedy"
      ]
     },
     "execution_count": 5,
     "metadata": {},
     "output_type": "execute_result"
    }
   ],
   "source": [
    "# 영화 제목을 보기 위해 메타 데이터를 읽어옵니다.\n",
    "movie_file_path=os.getenv('HOME') + '/aiffel/recommendata_iu/data/ml-1m/movies.dat'\n",
    "cols = ['movie_id', 'title', 'genre'] \n",
    "movies = pd.read_csv(movie_file_path, sep='::', names=cols, engine='python', encoding='ISO-8859-1')\n",
    "movies.head()"
   ]
  },
  {
   "cell_type": "code",
   "execution_count": 6,
   "id": "6e0865ee",
   "metadata": {},
   "outputs": [
    {
     "data": {
      "text/html": [
       "<div>\n",
       "<style scoped>\n",
       "    .dataframe tbody tr th:only-of-type {\n",
       "        vertical-align: middle;\n",
       "    }\n",
       "\n",
       "    .dataframe tbody tr th {\n",
       "        vertical-align: top;\n",
       "    }\n",
       "\n",
       "    .dataframe thead th {\n",
       "        text-align: right;\n",
       "    }\n",
       "</style>\n",
       "<table border=\"1\" class=\"dataframe\">\n",
       "  <thead>\n",
       "    <tr style=\"text-align: right;\">\n",
       "      <th></th>\n",
       "      <th>movie_id</th>\n",
       "      <th>title</th>\n",
       "      <th>genre</th>\n",
       "    </tr>\n",
       "  </thead>\n",
       "  <tbody>\n",
       "    <tr>\n",
       "      <th>0</th>\n",
       "      <td>1</td>\n",
       "      <td>toy story (1995)</td>\n",
       "      <td>Animation|Children's|Comedy</td>\n",
       "    </tr>\n",
       "    <tr>\n",
       "      <th>1</th>\n",
       "      <td>2</td>\n",
       "      <td>jumanji (1995)</td>\n",
       "      <td>Adventure|Children's|Fantasy</td>\n",
       "    </tr>\n",
       "    <tr>\n",
       "      <th>2</th>\n",
       "      <td>3</td>\n",
       "      <td>grumpier old men (1995)</td>\n",
       "      <td>Comedy|Romance</td>\n",
       "    </tr>\n",
       "    <tr>\n",
       "      <th>3</th>\n",
       "      <td>4</td>\n",
       "      <td>waiting to exhale (1995)</td>\n",
       "      <td>Comedy|Drama</td>\n",
       "    </tr>\n",
       "    <tr>\n",
       "      <th>4</th>\n",
       "      <td>5</td>\n",
       "      <td>father of the bride part ii (1995)</td>\n",
       "      <td>Comedy</td>\n",
       "    </tr>\n",
       "  </tbody>\n",
       "</table>\n",
       "</div>"
      ],
      "text/plain": [
       "   movie_id                               title                         genre\n",
       "0         1                    toy story (1995)   Animation|Children's|Comedy\n",
       "1         2                      jumanji (1995)  Adventure|Children's|Fantasy\n",
       "2         3             grumpier old men (1995)                Comedy|Romance\n",
       "3         4            waiting to exhale (1995)                  Comedy|Drama\n",
       "4         5  father of the bride part ii (1995)                        Comedy"
      ]
     },
     "execution_count": 6,
     "metadata": {},
     "output_type": "execute_result"
    }
   ],
   "source": [
    "# 검색을 쉽게하기 위해 제목 문자열을 소문자로 바꿔줍시다.\n",
    "\n",
    "movies['title'] = movies['title'].str.lower()\n",
    "movies.head()"
   ]
  },
  {
   "cell_type": "code",
   "execution_count": 7,
   "id": "e1343d24",
   "metadata": {},
   "outputs": [],
   "source": [
    "# timestamp 칼럼을 제거\n",
    "del ratings['timestamp']"
   ]
  },
  {
   "cell_type": "code",
   "execution_count": 8,
   "id": "e55dc686",
   "metadata": {},
   "outputs": [],
   "source": [
    "# genre(장르) 칼럼을 제거\n",
    "del movies['genre']"
   ]
  },
  {
   "cell_type": "code",
   "execution_count": 9,
   "id": "8ec78186",
   "metadata": {},
   "outputs": [],
   "source": [
    "# ratings = ratings.drop(columns=['timestamp', 'genre'])\n",
    "# ratings.head()"
   ]
  },
  {
   "cell_type": "code",
   "execution_count": 10,
   "id": "9f1d69a1",
   "metadata": {},
   "outputs": [
    {
     "data": {
      "text/html": [
       "<div>\n",
       "<style scoped>\n",
       "    .dataframe tbody tr th:only-of-type {\n",
       "        vertical-align: middle;\n",
       "    }\n",
       "\n",
       "    .dataframe tbody tr th {\n",
       "        vertical-align: top;\n",
       "    }\n",
       "\n",
       "    .dataframe thead th {\n",
       "        text-align: right;\n",
       "    }\n",
       "</style>\n",
       "<table border=\"1\" class=\"dataframe\">\n",
       "  <thead>\n",
       "    <tr style=\"text-align: right;\">\n",
       "      <th></th>\n",
       "      <th>user_id</th>\n",
       "      <th>movie_id</th>\n",
       "      <th>counts</th>\n",
       "      <th>title</th>\n",
       "    </tr>\n",
       "  </thead>\n",
       "  <tbody>\n",
       "    <tr>\n",
       "      <th>0</th>\n",
       "      <td>1</td>\n",
       "      <td>1193</td>\n",
       "      <td>5</td>\n",
       "      <td>one flew over the cuckoo's nest (1975)</td>\n",
       "    </tr>\n",
       "    <tr>\n",
       "      <th>1</th>\n",
       "      <td>1</td>\n",
       "      <td>661</td>\n",
       "      <td>3</td>\n",
       "      <td>james and the giant peach (1996)</td>\n",
       "    </tr>\n",
       "    <tr>\n",
       "      <th>2</th>\n",
       "      <td>1</td>\n",
       "      <td>914</td>\n",
       "      <td>3</td>\n",
       "      <td>my fair lady (1964)</td>\n",
       "    </tr>\n",
       "    <tr>\n",
       "      <th>3</th>\n",
       "      <td>1</td>\n",
       "      <td>3408</td>\n",
       "      <td>4</td>\n",
       "      <td>erin brockovich (2000)</td>\n",
       "    </tr>\n",
       "    <tr>\n",
       "      <th>4</th>\n",
       "      <td>1</td>\n",
       "      <td>2355</td>\n",
       "      <td>5</td>\n",
       "      <td>bug's life, a (1998)</td>\n",
       "    </tr>\n",
       "  </tbody>\n",
       "</table>\n",
       "</div>"
      ],
      "text/plain": [
       "   user_id  movie_id  counts                                   title\n",
       "0        1      1193       5  one flew over the cuckoo's nest (1975)\n",
       "1        1       661       3        james and the giant peach (1996)\n",
       "2        1       914       3                     my fair lady (1964)\n",
       "3        1      3408       4                  erin brockovich (2000)\n",
       "4        1      2355       5                    bug's life, a (1998)"
      ]
     },
     "execution_count": 10,
     "metadata": {},
     "output_type": "execute_result"
    }
   ],
   "source": [
    "# ratings 와 movies 데이터 프레임 합치기\n",
    "ratings = ratings.join(movies.set_index('movie_id'), on='movie_id')\n",
    "ratings.head()"
   ]
  },
  {
   "cell_type": "code",
   "execution_count": 11,
   "id": "138a896f",
   "metadata": {},
   "outputs": [
    {
     "data": {
      "text/plain": [
       "0                one flew over the cuckoo's nest (1975)\n",
       "1                      james and the giant peach (1996)\n",
       "2                                   my fair lady (1964)\n",
       "3                                erin brockovich (2000)\n",
       "4                                  bug's life, a (1998)\n",
       "5                            princess bride, the (1987)\n",
       "6                                        ben-hur (1959)\n",
       "7                             christmas story, a (1983)\n",
       "8                snow white and the seven dwarfs (1937)\n",
       "9                              wizard of oz, the (1939)\n",
       "10                          beauty and the beast (1991)\n",
       "11                                          gigi (1958)\n",
       "12                        miracle on 34th street (1947)\n",
       "13                      ferris bueller's day off (1986)\n",
       "14                           sound of music, the (1965)\n",
       "15                                     airplane! (1980)\n",
       "16                                        tarzan (1999)\n",
       "17                                         bambi (1942)\n",
       "18                                    awakenings (1990)\n",
       "19                                           big (1988)\n",
       "20                                 pleasantville (1998)\n",
       "21    wallace & gromit: the best of aardman animatio...\n",
       "22                            back to the future (1985)\n",
       "23                              schindler's list (1993)\n",
       "24                                meet joe black (1998)\n",
       "25                                    pocahontas (1995)\n",
       "26                    e.t. the extra-terrestrial (1982)\n",
       "27                                       titanic (1997)\n",
       "28                                       ponette (1996)\n",
       "29                                close shave, a (1995)\n",
       "30                                          antz (1998)\n",
       "31                             girl, interrupted (1999)\n",
       "32                                      hercules (1997)\n",
       "33                                       aladdin (1992)\n",
       "34                                         mulan (1998)\n",
       "35                  hunchback of notre dame, the (1996)\n",
       "36                       last days of disco, the (1998)\n",
       "37                                    cinderella (1950)\n",
       "38                              sixth sense, the (1999)\n",
       "39                                     apollo 13 (1995)\n",
       "40                                     toy story (1995)\n",
       "41                                      rain man (1988)\n",
       "42                            driving miss daisy (1989)\n",
       "43                     run lola run (lola rennt) (1998)\n",
       "44            star wars: episode iv - a new hope (1977)\n",
       "45                                  mary poppins (1964)\n",
       "46                                         dumbo (1941)\n",
       "47                         to kill a mockingbird (1962)\n",
       "48                           saving private ryan (1998)\n",
       "49                            secret garden, the (1993)\n",
       "50                                   toy story 2 (1999)\n",
       "51                                         fargo (1996)\n",
       "52                            dead poets society (1989)\n",
       "Name: title, dtype: object"
      ]
     },
     "execution_count": 11,
     "metadata": {},
     "output_type": "execute_result"
    }
   ],
   "source": [
    "# user_id가 92인 사용자가 어떤 영화를 시청했는지 확인.\n",
    "movie_id_user92 = ratings[ratings['user_id']== 1]['title']\n",
    "movie_id_user92"
   ]
  },
  {
   "cell_type": "markdown",
   "id": "fe333174",
   "metadata": {},
   "source": [
    "여기까지가 전처리. 이후에는 이전 스텝에 소개했던 것과 동일한 방식으로 MF model을 구성하여 내가 좋아할 만한 영화를 추천해 볼 수 있음."
   ]
  },
  {
   "cell_type": "markdown",
   "id": "59cfc4a1",
   "metadata": {},
   "source": [
    "### 2) 분석해 봅시다.\n",
    "-----\n",
    "* ratings에 있는 유니크한 영화 개수\n",
    "* ratings에 있는 유니크한 사용자 수\n",
    "* 가장 인기 있는 영화 30개(인기순)"
   ]
  },
  {
   "cell_type": "code",
   "execution_count": 12,
   "id": "55f113c9",
   "metadata": {},
   "outputs": [
    {
     "data": {
      "text/plain": [
       "3628"
      ]
     },
     "execution_count": 12,
     "metadata": {},
     "output_type": "execute_result"
    }
   ],
   "source": [
    "# 영화 개수\n",
    "ratings['movie_id'].nunique()"
   ]
  },
  {
   "cell_type": "code",
   "execution_count": 13,
   "id": "e3ee880f",
   "metadata": {},
   "outputs": [
    {
     "data": {
      "text/plain": [
       "6039"
      ]
     },
     "execution_count": 13,
     "metadata": {},
     "output_type": "execute_result"
    }
   ],
   "source": [
    "# 사용자 수\n",
    "ratings['user_id'].nunique()"
   ]
  },
  {
   "cell_type": "code",
   "execution_count": 14,
   "id": "946649c9",
   "metadata": {},
   "outputs": [
    {
     "data": {
      "text/plain": [
       "title\n",
       "american beauty (1999)                                   3211\n",
       "star wars: episode iv - a new hope (1977)                2910\n",
       "star wars: episode v - the empire strikes back (1980)    2885\n",
       "star wars: episode vi - return of the jedi (1983)        2716\n",
       "saving private ryan (1998)                               2561\n",
       "terminator 2: judgment day (1991)                        2509\n",
       "silence of the lambs, the (1991)                         2498\n",
       "raiders of the lost ark (1981)                           2473\n",
       "back to the future (1985)                                2460\n",
       "matrix, the (1999)                                       2434\n",
       "jurassic park (1993)                                     2413\n",
       "sixth sense, the (1999)                                  2385\n",
       "fargo (1996)                                             2371\n",
       "braveheart (1995)                                        2314\n",
       "men in black (1997)                                      2297\n",
       "schindler's list (1993)                                  2257\n",
       "princess bride, the (1987)                               2252\n",
       "shakespeare in love (1998)                               2213\n",
       "l.a. confidential (1997)                                 2210\n",
       "shawshank redemption, the (1994)                         2194\n",
       "godfather, the (1972)                                    2167\n",
       "groundhog day (1993)                                     2121\n",
       "e.t. the extra-terrestrial (1982)                        2102\n",
       "being john malkovich (1999)                              2066\n",
       "ghostbusters (1984)                                      2051\n",
       "pulp fiction (1994)                                      2030\n",
       "forrest gump (1994)                                      2022\n",
       "terminator, the (1984)                                   2019\n",
       "toy story (1995)                                         2000\n",
       "fugitive, the (1993)                                     1941\n",
       "Name: user_id, dtype: int64"
      ]
     },
     "execution_count": 14,
     "metadata": {},
     "output_type": "execute_result"
    }
   ],
   "source": [
    "# 인기있는 영화 30\n",
    "movie_count = ratings.groupby('title')['user_id'].count()\n",
    "movie_count.sort_values(ascending=False).head(30)"
   ]
  },
  {
   "cell_type": "code",
   "execution_count": 15,
   "id": "6df9b309",
   "metadata": {},
   "outputs": [
    {
     "data": {
      "text/plain": [
       "count    6039.000000\n",
       "mean      138.512668\n",
       "std       156.241599\n",
       "min         1.000000\n",
       "25%        38.000000\n",
       "50%        81.000000\n",
       "75%       177.000000\n",
       "max      1968.000000\n",
       "Name: movie_id, dtype: float64"
      ]
     },
     "execution_count": 15,
     "metadata": {},
     "output_type": "execute_result"
    }
   ],
   "source": [
    "# 유저별 몇 편의 영화를 시청했는지에 대한 통계\n",
    "user_count = ratings.groupby('user_id')['movie_id'].count()\n",
    "user_count.describe()"
   ]
  },
  {
   "cell_type": "code",
   "execution_count": 16,
   "id": "bd3f9dae",
   "metadata": {},
   "outputs": [
    {
     "data": {
      "text/plain": [
       "count    6039.000000\n",
       "mean        4.055970\n",
       "std         0.432143\n",
       "min         3.000000\n",
       "25%         4.000000\n",
       "50%         4.000000\n",
       "75%         4.000000\n",
       "max         5.000000\n",
       "Name: counts, dtype: float64"
      ]
     },
     "execution_count": 16,
     "metadata": {},
     "output_type": "execute_result"
    }
   ],
   "source": [
    "# 영화 별 시청(count)횟수 중앙값에 대한 통계\n",
    "user_median = ratings.groupby('user_id')['counts'].median()\n",
    "user_median.describe()"
   ]
  },
  {
   "cell_type": "markdown",
   "id": "96c1aa6d",
   "metadata": {},
   "source": [
    "### 3) 내가 선호하는 영화를 5가지 골라서 ratings에 추가해 줍시다.\n",
    "-----"
   ]
  },
  {
   "cell_type": "code",
   "execution_count": 17,
   "id": "71f24d86",
   "metadata": {},
   "outputs": [],
   "source": [
    "# title = movies['title'].values\n",
    "# title"
   ]
  },
  {
   "cell_type": "code",
   "execution_count": 18,
   "id": "9df697be",
   "metadata": {},
   "outputs": [],
   "source": [
    "# movie_id = movies['movie_id'].values\n",
    "# movie_id"
   ]
  },
  {
   "cell_type": "code",
   "execution_count": 19,
   "id": "a0b4b603",
   "metadata": {},
   "outputs": [],
   "source": [
    "# movie_dic = { movie_id:title for movie_id, title in zip(movie_id, title) }\n",
    "# movie_dic"
   ]
  },
  {
   "cell_type": "code",
   "execution_count": 20,
   "id": "0161f03d",
   "metadata": {},
   "outputs": [
    {
     "data": {
      "text/html": [
       "<div>\n",
       "<style scoped>\n",
       "    .dataframe tbody tr th:only-of-type {\n",
       "        vertical-align: middle;\n",
       "    }\n",
       "\n",
       "    .dataframe tbody tr th {\n",
       "        vertical-align: top;\n",
       "    }\n",
       "\n",
       "    .dataframe thead th {\n",
       "        text-align: right;\n",
       "    }\n",
       "</style>\n",
       "<table border=\"1\" class=\"dataframe\">\n",
       "  <thead>\n",
       "    <tr style=\"text-align: right;\">\n",
       "      <th></th>\n",
       "      <th>user_id</th>\n",
       "      <th>movie_id</th>\n",
       "      <th>counts</th>\n",
       "      <th>title</th>\n",
       "    </tr>\n",
       "  </thead>\n",
       "  <tbody>\n",
       "    <tr>\n",
       "      <th>0</th>\n",
       "      <td>6041</td>\n",
       "      <td>648</td>\n",
       "      <td>5</td>\n",
       "      <td>mission: impossible (1996)</td>\n",
       "    </tr>\n",
       "    <tr>\n",
       "      <th>1</th>\n",
       "      <td>6041</td>\n",
       "      <td>2571</td>\n",
       "      <td>5</td>\n",
       "      <td>matrix, the (1999)</td>\n",
       "    </tr>\n",
       "    <tr>\n",
       "      <th>2</th>\n",
       "      <td>6041</td>\n",
       "      <td>1580</td>\n",
       "      <td>5</td>\n",
       "      <td>men in black (1997)</td>\n",
       "    </tr>\n",
       "    <tr>\n",
       "      <th>3</th>\n",
       "      <td>6041</td>\n",
       "      <td>1240</td>\n",
       "      <td>5</td>\n",
       "      <td>terminator, the (1984)</td>\n",
       "    </tr>\n",
       "    <tr>\n",
       "      <th>4</th>\n",
       "      <td>6041</td>\n",
       "      <td>3623</td>\n",
       "      <td>5</td>\n",
       "      <td>mission: impossible 2 (2000)</td>\n",
       "    </tr>\n",
       "  </tbody>\n",
       "</table>\n",
       "</div>"
      ],
      "text/plain": [
       "  user_id  movie_id  counts                         title\n",
       "0    6041       648       5    mission: impossible (1996)\n",
       "1    6041      2571       5            matrix, the (1999)\n",
       "2    6041      1580       5           men in black (1997)\n",
       "3    6041      1240       5        terminator, the (1984)\n",
       "4    6041      3623       5  mission: impossible 2 (2000)"
      ]
     },
     "execution_count": 20,
     "metadata": {},
     "output_type": "execute_result"
    }
   ],
   "source": [
    "# 내가 선호하는 영화 5가지\n",
    "my_favorite = [648, 2571, 1580, 1240, 3623]\n",
    "\n",
    "# id 리스트를 title 리스트로 변환.\n",
    "my_favorite_movie = []\n",
    "for i in my_favorite:\n",
    "    my_favorite_movie.extend(list(movies[movies['movie_id']==i]['title']))\n",
    "\n",
    "# '6041'이라는 'user_id'가 위의 영화를 5회씩 시청했다고 가정.\n",
    "my_movielist = pd.DataFrame({'user_id': ['6041']*5, 'movie_id': my_favorite, 'counts':[5]*5,  'title': my_favorite_movie})\n",
    "my_movielist"
   ]
  },
  {
   "cell_type": "code",
   "execution_count": 21,
   "id": "b4c53924",
   "metadata": {},
   "outputs": [
    {
     "data": {
      "text/html": [
       "<div>\n",
       "<style scoped>\n",
       "    .dataframe tbody tr th:only-of-type {\n",
       "        vertical-align: middle;\n",
       "    }\n",
       "\n",
       "    .dataframe tbody tr th {\n",
       "        vertical-align: top;\n",
       "    }\n",
       "\n",
       "    .dataframe thead th {\n",
       "        text-align: right;\n",
       "    }\n",
       "</style>\n",
       "<table border=\"1\" class=\"dataframe\">\n",
       "  <thead>\n",
       "    <tr style=\"text-align: right;\">\n",
       "      <th></th>\n",
       "      <th>user_id</th>\n",
       "      <th>movie_id</th>\n",
       "      <th>counts</th>\n",
       "      <th>title</th>\n",
       "    </tr>\n",
       "  </thead>\n",
       "  <tbody>\n",
       "    <tr>\n",
       "      <th>836473</th>\n",
       "      <td>6040</td>\n",
       "      <td>1090</td>\n",
       "      <td>3</td>\n",
       "      <td>platoon (1986)</td>\n",
       "    </tr>\n",
       "    <tr>\n",
       "      <th>836474</th>\n",
       "      <td>6040</td>\n",
       "      <td>1094</td>\n",
       "      <td>5</td>\n",
       "      <td>crying game, the (1992)</td>\n",
       "    </tr>\n",
       "    <tr>\n",
       "      <th>836475</th>\n",
       "      <td>6040</td>\n",
       "      <td>562</td>\n",
       "      <td>5</td>\n",
       "      <td>welcome to the dollhouse (1995)</td>\n",
       "    </tr>\n",
       "    <tr>\n",
       "      <th>836476</th>\n",
       "      <td>6040</td>\n",
       "      <td>1096</td>\n",
       "      <td>4</td>\n",
       "      <td>sophie's choice (1982)</td>\n",
       "    </tr>\n",
       "    <tr>\n",
       "      <th>836477</th>\n",
       "      <td>6040</td>\n",
       "      <td>1097</td>\n",
       "      <td>4</td>\n",
       "      <td>e.t. the extra-terrestrial (1982)</td>\n",
       "    </tr>\n",
       "    <tr>\n",
       "      <th>836478</th>\n",
       "      <td>6041</td>\n",
       "      <td>648</td>\n",
       "      <td>5</td>\n",
       "      <td>mission: impossible (1996)</td>\n",
       "    </tr>\n",
       "    <tr>\n",
       "      <th>836479</th>\n",
       "      <td>6041</td>\n",
       "      <td>2571</td>\n",
       "      <td>5</td>\n",
       "      <td>matrix, the (1999)</td>\n",
       "    </tr>\n",
       "    <tr>\n",
       "      <th>836480</th>\n",
       "      <td>6041</td>\n",
       "      <td>1580</td>\n",
       "      <td>5</td>\n",
       "      <td>men in black (1997)</td>\n",
       "    </tr>\n",
       "    <tr>\n",
       "      <th>836481</th>\n",
       "      <td>6041</td>\n",
       "      <td>1240</td>\n",
       "      <td>5</td>\n",
       "      <td>terminator, the (1984)</td>\n",
       "    </tr>\n",
       "    <tr>\n",
       "      <th>836482</th>\n",
       "      <td>6041</td>\n",
       "      <td>3623</td>\n",
       "      <td>5</td>\n",
       "      <td>mission: impossible 2 (2000)</td>\n",
       "    </tr>\n",
       "  </tbody>\n",
       "</table>\n",
       "</div>"
      ],
      "text/plain": [
       "       user_id  movie_id  counts                              title\n",
       "836473    6040      1090       3                     platoon (1986)\n",
       "836474    6040      1094       5            crying game, the (1992)\n",
       "836475    6040       562       5    welcome to the dollhouse (1995)\n",
       "836476    6040      1096       4             sophie's choice (1982)\n",
       "836477    6040      1097       4  e.t. the extra-terrestrial (1982)\n",
       "836478    6041       648       5         mission: impossible (1996)\n",
       "836479    6041      2571       5                 matrix, the (1999)\n",
       "836480    6041      1580       5                men in black (1997)\n",
       "836481    6041      1240       5             terminator, the (1984)\n",
       "836482    6041      3623       5       mission: impossible 2 (2000)"
      ]
     },
     "execution_count": 21,
     "metadata": {},
     "output_type": "execute_result"
    }
   ],
   "source": [
    "if not ratings.isin({'user_id':['6041']})['user_id'].any():\n",
    "    ratings = ratings.append(my_movielist, ignore_index=True)\n",
    "\n",
    "ratings.tail(10)       # 잘 추가되었는지 확인."
   ]
  },
  {
   "cell_type": "markdown",
   "id": "ea55c8b9",
   "metadata": {},
   "source": [
    "### 4) CSR matrix를 직접 만들어 봅시다.\n",
    "-----"
   ]
  },
  {
   "cell_type": "code",
   "execution_count": 22,
   "id": "f2308257",
   "metadata": {},
   "outputs": [],
   "source": [
    "# 고유한 유저, 영화를 찾아내는 코드\n",
    "user_unique = ratings['user_id'].unique()\n",
    "movie_unique = ratings['title'].unique()\n",
    "\n",
    "# 유저, 영화 indexing 하는 코드 idx는 index의 약자입니다.\n",
    "user_to_idx = {v:k for k,v in enumerate(user_unique)}\n",
    "movie_to_idx = {v:k for k,v in enumerate(movie_unique)}"
   ]
  },
  {
   "cell_type": "code",
   "execution_count": 23,
   "id": "21cb5257",
   "metadata": {},
   "outputs": [
    {
     "name": "stdout",
     "output_type": "stream",
     "text": [
      "6039\n",
      "58\n"
     ]
    }
   ],
   "source": [
    "# 인덱싱이 잘 되었는지 확인해 봅니다. \n",
    "print(user_to_idx['6041'])    # 6040명의 유저 중 마지막으로 추가된 유저이니 6041이 나와야 함. \n",
    "print(movie_to_idx['mission: impossible (1996)'])"
   ]
  },
  {
   "cell_type": "code",
   "execution_count": 24,
   "id": "22dcf288",
   "metadata": {},
   "outputs": [
    {
     "name": "stdout",
     "output_type": "stream",
     "text": [
      "user_id column indexing OK!!\n",
      "movie  column indexing OK!!\n"
     ]
    },
    {
     "data": {
      "text/html": [
       "<div>\n",
       "<style scoped>\n",
       "    .dataframe tbody tr th:only-of-type {\n",
       "        vertical-align: middle;\n",
       "    }\n",
       "\n",
       "    .dataframe tbody tr th {\n",
       "        vertical-align: top;\n",
       "    }\n",
       "\n",
       "    .dataframe thead th {\n",
       "        text-align: right;\n",
       "    }\n",
       "</style>\n",
       "<table border=\"1\" class=\"dataframe\">\n",
       "  <thead>\n",
       "    <tr style=\"text-align: right;\">\n",
       "      <th></th>\n",
       "      <th>user_id</th>\n",
       "      <th>movie_id</th>\n",
       "      <th>counts</th>\n",
       "      <th>title</th>\n",
       "    </tr>\n",
       "  </thead>\n",
       "  <tbody>\n",
       "    <tr>\n",
       "      <th>0</th>\n",
       "      <td>0</td>\n",
       "      <td>1193</td>\n",
       "      <td>5</td>\n",
       "      <td>0</td>\n",
       "    </tr>\n",
       "    <tr>\n",
       "      <th>1</th>\n",
       "      <td>0</td>\n",
       "      <td>661</td>\n",
       "      <td>3</td>\n",
       "      <td>1</td>\n",
       "    </tr>\n",
       "    <tr>\n",
       "      <th>2</th>\n",
       "      <td>0</td>\n",
       "      <td>914</td>\n",
       "      <td>3</td>\n",
       "      <td>2</td>\n",
       "    </tr>\n",
       "    <tr>\n",
       "      <th>3</th>\n",
       "      <td>0</td>\n",
       "      <td>3408</td>\n",
       "      <td>4</td>\n",
       "      <td>3</td>\n",
       "    </tr>\n",
       "    <tr>\n",
       "      <th>4</th>\n",
       "      <td>0</td>\n",
       "      <td>2355</td>\n",
       "      <td>5</td>\n",
       "      <td>4</td>\n",
       "    </tr>\n",
       "    <tr>\n",
       "      <th>...</th>\n",
       "      <td>...</td>\n",
       "      <td>...</td>\n",
       "      <td>...</td>\n",
       "      <td>...</td>\n",
       "    </tr>\n",
       "    <tr>\n",
       "      <th>836478</th>\n",
       "      <td>6039</td>\n",
       "      <td>648</td>\n",
       "      <td>5</td>\n",
       "      <td>58</td>\n",
       "    </tr>\n",
       "    <tr>\n",
       "      <th>836479</th>\n",
       "      <td>6039</td>\n",
       "      <td>2571</td>\n",
       "      <td>5</td>\n",
       "      <td>124</td>\n",
       "    </tr>\n",
       "    <tr>\n",
       "      <th>836480</th>\n",
       "      <td>6039</td>\n",
       "      <td>1580</td>\n",
       "      <td>5</td>\n",
       "      <td>175</td>\n",
       "    </tr>\n",
       "    <tr>\n",
       "      <th>836481</th>\n",
       "      <td>6039</td>\n",
       "      <td>1240</td>\n",
       "      <td>5</td>\n",
       "      <td>200</td>\n",
       "    </tr>\n",
       "    <tr>\n",
       "      <th>836482</th>\n",
       "      <td>6039</td>\n",
       "      <td>3623</td>\n",
       "      <td>5</td>\n",
       "      <td>482</td>\n",
       "    </tr>\n",
       "  </tbody>\n",
       "</table>\n",
       "<p>836483 rows × 4 columns</p>\n",
       "</div>"
      ],
      "text/plain": [
       "        user_id  movie_id  counts  title\n",
       "0             0      1193       5      0\n",
       "1             0       661       3      1\n",
       "2             0       914       3      2\n",
       "3             0      3408       4      3\n",
       "4             0      2355       5      4\n",
       "...         ...       ...     ...    ...\n",
       "836478     6039       648       5     58\n",
       "836479     6039      2571       5    124\n",
       "836480     6039      1580       5    175\n",
       "836481     6039      1240       5    200\n",
       "836482     6039      3623       5    482\n",
       "\n",
       "[836483 rows x 4 columns]"
      ]
     },
     "execution_count": 24,
     "metadata": {},
     "output_type": "execute_result"
    }
   ],
   "source": [
    "# indexing을 통해 데이터 컬럼 내 값을 바꾸는 코드\n",
    "# dictionary 자료형의 get 함수는 https://wikidocs.net/16 을 참고하세요.\n",
    "\n",
    "# user_to_idx.get을 통해 user_id 컬럼의 모든 값을 인덱싱한 Series를 구해 봅시다. \n",
    "# 혹시 정상적으로 인덱싱되지 않은 row가 있다면 인덱스가 NaN이 될 테니 dropna()로 제거합니다. \n",
    "temp_user_ratings = ratings['user_id'].map(user_to_idx.get).dropna()\n",
    "if len(temp_user_ratings) == len(ratings):   # 모든 row가 정상적으로 인덱싱되었다면\n",
    "    print('user_id column indexing OK!!')\n",
    "    ratings['user_id'] = temp_user_ratings   # ratings['user_id']을 인덱싱된 Series로 교체해 줍니다. \n",
    "else:\n",
    "    print('user_id column indexing Fail!!')\n",
    "\n",
    "# movie_to_idx을 통해 movie 컬럼도 동일한 방식으로 인덱싱해 줍니다. \n",
    "temp_movie_ratings = ratings['title'].map(movie_to_idx.get).dropna()\n",
    "if len(temp_movie_ratings) == len(ratings):\n",
    "    print('movie  column indexing OK!!')\n",
    "    ratings['title'] = temp_movie_ratings\n",
    "else:\n",
    "    print('movie column indexing Fail!!')\n",
    "\n",
    "ratings"
   ]
  },
  {
   "cell_type": "markdown",
   "id": "30cd6d4d",
   "metadata": {},
   "source": [
    "#### CSR matrix 생성"
   ]
  },
  {
   "cell_type": "code",
   "execution_count": 25,
   "id": "eafd9ea4",
   "metadata": {},
   "outputs": [
    {
     "data": {
      "text/plain": [
       "<6040x3628 sparse matrix of type '<class 'numpy.int64'>'\n",
       "\twith 836483 stored elements in Compressed Sparse Row format>"
      ]
     },
     "execution_count": 25,
     "metadata": {},
     "output_type": "execute_result"
    }
   ],
   "source": [
    "from scipy.sparse import csr_matrix\n",
    "\n",
    "num_user = ratings['user_id'].nunique()\n",
    "num_movie = ratings['title'].nunique()\n",
    "\n",
    "csr_ratings = csr_matrix((ratings.counts, (ratings.user_id, ratings.title)), shape= (num_user, num_movie))\n",
    "csr_ratings"
   ]
  },
  {
   "cell_type": "markdown",
   "id": "6f0c55de",
   "metadata": {},
   "source": [
    "### 5) als_model = AlternatingLeastSquares 모델을 직접 구성하여 훈련시켜 봅시다.\n",
    "-----"
   ]
  },
  {
   "cell_type": "code",
   "execution_count": 26,
   "id": "00edde8a",
   "metadata": {},
   "outputs": [],
   "source": [
    "#[[ your code ]]\n",
    "\n",
    "from implicit.als import AlternatingLeastSquares\n",
    "import os\n",
    "import numpy as np\n",
    "\n",
    "# implicit 라이브러리에서 권장하고 있는 부분입니다. 학습 내용과는 무관합니다.\n",
    "os.environ['OPENBLAS_NUM_THREADS']='1'\n",
    "os.environ['KMP_DUPLICATE_LIB_OK']='True'\n",
    "os.environ['MKL_NUM_THREADS']='1'"
   ]
  },
  {
   "cell_type": "code",
   "execution_count": 27,
   "id": "bf98c90d",
   "metadata": {},
   "outputs": [],
   "source": [
    "# Implicit AlternatingLeastSquares 모델의 선언\n",
    "als_model = AlternatingLeastSquares(factors=100, regularization=0.01, use_gpu=False, iterations=15, dtype=np.float32)"
   ]
  },
  {
   "cell_type": "code",
   "execution_count": 28,
   "id": "03c2c9af",
   "metadata": {},
   "outputs": [
    {
     "data": {
      "text/plain": [
       "<3628x6040 sparse matrix of type '<class 'numpy.int64'>'\n",
       "\twith 836483 stored elements in Compressed Sparse Column format>"
      ]
     },
     "execution_count": 28,
     "metadata": {},
     "output_type": "execute_result"
    }
   ],
   "source": [
    "# als 모델은 input으로 (item X user 꼴의 matrix를 받기 때문에 Transpose해줍니다.)\n",
    "csr_ratings_transpose = csr_ratings.T\n",
    "csr_ratings_transpose"
   ]
  },
  {
   "cell_type": "code",
   "execution_count": 29,
   "id": "9f1ef6a0",
   "metadata": {},
   "outputs": [
    {
     "data": {
      "application/vnd.jupyter.widget-view+json": {
       "model_id": "c92fa81fdf734195810dea867fde325e",
       "version_major": 2,
       "version_minor": 0
      },
      "text/plain": [
       "  0%|          | 0/15 [00:00<?, ?it/s]"
      ]
     },
     "metadata": {},
     "output_type": "display_data"
    }
   ],
   "source": [
    "# 모델 훈련\n",
    "als_model.fit(csr_ratings_transpose)"
   ]
  },
  {
   "cell_type": "markdown",
   "id": "3bd64a78",
   "metadata": {},
   "source": [
    "### 6) 내가 선호하는 5가지 영화 중 하나와 그 외의 영화 하나를 골라 훈련된 모델이 예측한 나의 선호도를 파악해 보세요.\n",
    "-----"
   ]
  },
  {
   "cell_type": "code",
   "execution_count": 30,
   "id": "841002be",
   "metadata": {},
   "outputs": [
    {
     "name": "stdout",
     "output_type": "stream",
     "text": [
      "슝=3\n"
     ]
    }
   ],
   "source": [
    "#[[ your code ]]\n",
    "\n",
    "bom, mission = user_to_idx['6041'], movie_to_idx['mission: impossible (1996)']\n",
    "\n",
    "bom_vector, mission_vector = als_model.user_factors[bom], als_model.item_factors[mission]\n",
    "print('슝=3')"
   ]
  },
  {
   "cell_type": "code",
   "execution_count": 31,
   "id": "13cfcef4",
   "metadata": {},
   "outputs": [
    {
     "data": {
      "text/plain": [
       "array([ 9.60037887e-01,  4.56339955e-01, -6.98009491e-01,  1.32376671e-01,\n",
       "       -2.90270418e-01, -5.80006123e-01, -2.49372229e-01,  6.33196890e-01,\n",
       "        8.82005692e-01,  1.72089532e-01,  2.34960362e-01, -5.14051616e-01,\n",
       "        3.34529310e-01,  3.73436958e-01,  2.34871700e-01, -1.76156506e-01,\n",
       "        1.17498243e+00,  1.05443716e+00, -4.17632937e-01,  1.02343440e-01,\n",
       "       -1.28060627e+00,  9.22156945e-02,  3.51641588e-02, -2.92548556e-02,\n",
       "        5.88888228e-02, -2.38320217e-01, -7.69748747e-01,  1.00630954e-01,\n",
       "        1.30639106e-01,  1.78310588e-01, -7.62635529e-01,  6.05957806e-01,\n",
       "        5.47584295e-01, -9.70015228e-02, -5.43254852e-01,  1.32438540e-01,\n",
       "        2.90463835e-01, -1.67574972e-01,  2.02958077e-01,  1.98900878e-01,\n",
       "       -7.36391723e-01,  4.90176260e-01,  3.59829187e-01,  8.24575648e-02,\n",
       "       -8.63540530e-01,  1.27366275e-01, -1.08155712e-01, -4.62950975e-01,\n",
       "       -2.91099370e-01,  7.48185337e-01, -7.20817864e-01, -1.16275442e+00,\n",
       "       -5.55196628e-02,  2.67295420e-01, -5.37048340e-01,  1.64344758e-01,\n",
       "        6.26921728e-02, -4.19077128e-01,  3.74921352e-01, -1.47813642e+00,\n",
       "       -3.03350836e-01, -4.75612618e-02,  1.04309487e+00,  5.79401910e-01,\n",
       "       -6.75631642e-01,  4.63821262e-01,  2.76881065e-02,  3.24114561e-01,\n",
       "        3.25456023e-01, -4.85658705e-01,  4.14376259e-01,  6.93882287e-01,\n",
       "       -7.89184414e-04,  9.59087312e-01, -3.20372015e-01,  6.44730926e-01,\n",
       "        3.08661591e-02, -1.32145554e-01, -4.11608100e-01,  3.36428881e-01,\n",
       "       -5.60094297e-01,  6.98504508e-01,  2.12631777e-01, -2.37203255e-01,\n",
       "        2.75262058e-01,  1.35455027e-01,  7.08409548e-01,  5.22275627e-01,\n",
       "       -7.22477615e-01, -6.77075237e-02,  1.11961611e-01,  1.04558147e-01,\n",
       "       -6.03963494e-01,  2.66043037e-01,  6.25632405e-01,  5.78093827e-01,\n",
       "       -6.38015091e-01, -3.78258824e-01, -4.67691243e-01, -8.24378524e-03],\n",
       "      dtype=float32)"
      ]
     },
     "execution_count": 31,
     "metadata": {},
     "output_type": "execute_result"
    }
   ],
   "source": [
    "bom_vector"
   ]
  },
  {
   "cell_type": "code",
   "execution_count": 32,
   "id": "2c76744d",
   "metadata": {},
   "outputs": [
    {
     "data": {
      "text/plain": [
       "array([ 1.06239319e-02,  7.01617077e-03, -1.53506296e-02,  1.11652669e-02,\n",
       "        6.16850797e-03, -9.22922324e-03,  7.60580588e-04,  2.61902455e-02,\n",
       "        1.09913778e-02, -4.43844218e-03,  8.36829096e-03, -3.26055847e-02,\n",
       "        6.88389968e-03, -5.40135056e-03,  1.52924955e-02,  2.12032516e-02,\n",
       "        2.96972580e-02,  4.44300398e-02, -1.67873781e-02,  5.91114163e-03,\n",
       "       -1.51494576e-03,  1.46993380e-02,  2.04874557e-02,  2.38717850e-02,\n",
       "        2.99423710e-02,  2.89157387e-02, -2.23791413e-02, -1.43071925e-02,\n",
       "       -2.21139174e-02,  1.75475497e-02, -2.74364036e-02,  1.66404024e-02,\n",
       "        4.05239686e-03,  1.23032453e-02, -1.14622554e-02,  8.56767595e-03,\n",
       "        2.33784448e-02,  1.89617444e-02, -2.88731325e-03,  2.56679729e-02,\n",
       "       -2.95580812e-02,  4.64753772e-04,  1.16966320e-02,  7.12606311e-03,\n",
       "       -7.54814409e-03,  1.26753293e-03, -1.16479234e-03,  1.83549765e-02,\n",
       "        1.11383619e-02,  1.22714285e-02, -9.21402872e-03, -5.53525845e-03,\n",
       "        3.73121947e-02,  1.30048506e-02, -8.32630228e-03,  1.78545266e-02,\n",
       "       -1.24518434e-03,  2.36358158e-02,  1.44776618e-02, -1.07630324e-02,\n",
       "       -2.90143620e-02, -1.17645934e-02,  3.23607139e-02,  1.87789537e-02,\n",
       "       -9.91382636e-03, -2.02743467e-02,  7.90900178e-03,  1.33457575e-02,\n",
       "        3.01397908e-02, -9.82530764e-04,  1.98992565e-02,  1.17871556e-02,\n",
       "        1.54571785e-02,  2.97242478e-02, -5.48029365e-03,  4.61940654e-02,\n",
       "       -2.25000028e-02,  1.01066213e-02, -1.81985963e-02, -2.16118116e-02,\n",
       "       -8.55317060e-03, -6.27797656e-03,  3.61622795e-02, -1.17436107e-02,\n",
       "       -1.90670986e-03,  2.96108760e-02,  3.66973728e-02,  2.34611258e-02,\n",
       "       -1.09539507e-02, -1.81915741e-02,  1.48825143e-02, -1.20533826e-02,\n",
       "       -1.77880730e-02,  1.03774732e-02,  2.46430114e-02,  9.05122608e-03,\n",
       "        5.37279109e-03, -8.51623155e-03,  8.75558326e-05,  1.12395231e-02],\n",
       "      dtype=float32)"
      ]
     },
     "execution_count": 32,
     "metadata": {},
     "output_type": "execute_result"
    }
   ],
   "source": [
    "mission_vector"
   ]
  },
  {
   "cell_type": "code",
   "execution_count": 33,
   "id": "1321e777",
   "metadata": {},
   "outputs": [
    {
     "data": {
      "text/plain": [
       "0.5254852"
      ]
     },
     "execution_count": 33,
     "metadata": {},
     "output_type": "execute_result"
    }
   ],
   "source": [
    "# bom과 mission을 내적하는 코드 : 내가 좋아하는 영화에 대한 선호도 예측\n",
    "np.dot(bom_vector, mission_vector)"
   ]
  },
  {
   "cell_type": "code",
   "execution_count": 34,
   "id": "d18d9eb0",
   "metadata": {},
   "outputs": [
    {
     "data": {
      "text/plain": [
       "0.42963547"
      ]
     },
     "execution_count": 34,
     "metadata": {},
     "output_type": "execute_result"
    }
   ],
   "source": [
    "# 다른 영화에 대한 선호도 예측\n",
    "bom2 = movie_to_idx['terminator, the (1984)']\n",
    "bom2_vector = als_model.item_factors[bom2]\n",
    "np.dot(bom_vector, bom2_vector)"
   ]
  },
  {
   "cell_type": "markdown",
   "id": "b787a01b",
   "metadata": {},
   "source": [
    "### 7) 내가 좋아하는 영화와 비슷한 영화를 추천받아 봅시다.\n",
    "-----"
   ]
  },
  {
   "cell_type": "code",
   "execution_count": 35,
   "id": "f09cdf56",
   "metadata": {},
   "outputs": [
    {
     "data": {
      "text/plain": [
       "[(38, 0.99999994),\n",
       " (121, 0.4909378),\n",
       " (233, 0.4539584),\n",
       " (220, 0.40958),\n",
       " (273, 0.39929873),\n",
       " (170, 0.39321187),\n",
       " (796, 0.38530102),\n",
       " (99, 0.3597511),\n",
       " (243, 0.35422155),\n",
       " (670, 0.34867734),\n",
       " (1938, 0.33924192),\n",
       " (124, 0.33714926),\n",
       " (808, 0.33648202),\n",
       " (818, 0.33343652),\n",
       " (157, 0.33310473)]"
      ]
     },
     "execution_count": 35,
     "metadata": {},
     "output_type": "execute_result"
    }
   ],
   "source": [
    "#[[ your code ]]\n",
    "\n",
    "favorite_movie = 'sixth sense, the (1999)'\n",
    "movie_id = movie_to_idx[favorite_movie]\n",
    "similar_movie = als_model.similar_items(movie_id, N=15)\n",
    "similar_movie"
   ]
  },
  {
   "cell_type": "code",
   "execution_count": 36,
   "id": "39fc9427",
   "metadata": {},
   "outputs": [
    {
     "data": {
      "text/plain": [
       "['sixth sense, the (1999)',\n",
       " 'silence of the lambs, the (1991)',\n",
       " 'usual suspects, the (1995)',\n",
       " 'seven (se7en) (1995)',\n",
       " 'fight club (1999)',\n",
       " 'being john malkovich (1999)',\n",
       " 'bone collector, the (1999)',\n",
       " 'american beauty (1999)',\n",
       " 'ghostbusters (1984)',\n",
       " 'galaxy quest (1999)',\n",
       " 'superstar (1999)',\n",
       " 'matrix, the (1999)',\n",
       " 'end of days (1999)',\n",
       " 'stigmata (1999)',\n",
       " 'shawshank redemption, the (1994)']"
      ]
     },
     "execution_count": 36,
     "metadata": {},
     "output_type": "execute_result"
    }
   ],
   "source": [
    "# movie_to_idx 를 뒤집어, index로부터 movie 이름을 얻는 dict를 생성.\n",
    "idx_to_movie  = {v:k for k,v in movie_to_idx.items()}\n",
    "[idx_to_movie [i[0]] for i in similar_movie]"
   ]
  },
  {
   "cell_type": "code",
   "execution_count": 37,
   "id": "e8987f6d",
   "metadata": {},
   "outputs": [
    {
     "name": "stdout",
     "output_type": "stream",
     "text": [
      "슝=3\n"
     ]
    }
   ],
   "source": [
    "def get_similar_movie(movie_name: str):\n",
    "    movie_id = movie_to_idx[movie_name]\n",
    "    similar_movie = als_model.similar_items(movie_id)\n",
    "    similar_movie = [idx_to_movie[i[0]] for i in similar_movie]\n",
    "    return similar_movie\n",
    "\n",
    "print(\"슝=3\")"
   ]
  },
  {
   "cell_type": "code",
   "execution_count": 38,
   "id": "a8a27bf1",
   "metadata": {},
   "outputs": [
    {
     "data": {
      "text/plain": [
       "['sixth sense, the (1999)',\n",
       " 'silence of the lambs, the (1991)',\n",
       " 'usual suspects, the (1995)',\n",
       " 'seven (se7en) (1995)',\n",
       " 'fight club (1999)',\n",
       " 'being john malkovich (1999)',\n",
       " 'bone collector, the (1999)',\n",
       " 'american beauty (1999)',\n",
       " 'ghostbusters (1984)',\n",
       " 'galaxy quest (1999)']"
      ]
     },
     "execution_count": 38,
     "metadata": {},
     "output_type": "execute_result"
    }
   ],
   "source": [
    "get_similar_movie('sixth sense, the (1999)')"
   ]
  },
  {
   "cell_type": "markdown",
   "id": "d5e71c19",
   "metadata": {},
   "source": [
    "### 8) 내가 가장 좋아할 만한 영화들을 추천받아 봅시다.\n",
    "-----"
   ]
  },
  {
   "cell_type": "code",
   "execution_count": 39,
   "id": "9197f428",
   "metadata": {},
   "outputs": [
    {
     "data": {
      "text/plain": [
       "[(92, 0.61487),\n",
       " (107, 0.526078),\n",
       " (372, 0.4771634),\n",
       " (62, 0.45017248),\n",
       " (67, 0.41191846),\n",
       " (746, 0.34975153),\n",
       " (44, 0.30248734),\n",
       " (64, 0.298372),\n",
       " (117, 0.2955354),\n",
       " (375, 0.2831174),\n",
       " (346, 0.27694067),\n",
       " (141, 0.27433467),\n",
       " (82, 0.26537085),\n",
       " (670, 0.25994635),\n",
       " (474, 0.25563854),\n",
       " (22, 0.2522382),\n",
       " (145, 0.24720839),\n",
       " (150, 0.24539125),\n",
       " (1537, 0.23843439),\n",
       " (60, 0.23647149)]"
      ]
     },
     "execution_count": 39,
     "metadata": {},
     "output_type": "execute_result"
    }
   ],
   "source": [
    "#[[ your code ]]\n",
    "\n",
    "user = user_to_idx['6041']\n",
    "# recommend에서는 user*item CSR Matrix를 받습니다.\n",
    "movie_recommended = als_model.recommend(user, csr_ratings, N=20, filter_already_liked_items=True)\n",
    "movie_recommended"
   ]
  },
  {
   "cell_type": "code",
   "execution_count": 40,
   "id": "f3322613",
   "metadata": {},
   "outputs": [
    {
     "data": {
      "text/plain": [
       "['terminator 2: judgment day (1991)',\n",
       " 'jurassic park (1993)',\n",
       " 'x-men (2000)',\n",
       " 'total recall (1990)',\n",
       " 'gladiator (2000)',\n",
       " 'perfect storm, the (2000)',\n",
       " 'star wars: episode iv - a new hope (1977)',\n",
       " 'star wars: episode vi - return of the jedi (1983)',\n",
       " 'star wars: episode v - the empire strikes back (1980)',\n",
       " 'face/off (1997)',\n",
       " 'patriot, the (2000)',\n",
       " 'fugitive, the (1993)',\n",
       " 'lost world: jurassic park, the (1997)',\n",
       " 'galaxy quest (1999)',\n",
       " 'chicken run (2000)',\n",
       " 'back to the future (1985)',\n",
       " 'fifth element, the (1997)',\n",
       " 'independence day (id4) (1996)',\n",
       " 'u-571 (2000)',\n",
       " 'star wars: episode i - the phantom menace (1999)']"
      ]
     },
     "execution_count": 40,
     "metadata": {},
     "output_type": "execute_result"
    }
   ],
   "source": [
    "[idx_to_movie[i[0]] for i in movie_recommended]"
   ]
  },
  {
   "cell_type": "code",
   "execution_count": 41,
   "id": "b47081f5",
   "metadata": {},
   "outputs": [],
   "source": [
    "bb = movie_to_idx['alien (1979)']\n",
    "explain = als_model.explain(user, csr_ratings, itemid=bb)"
   ]
  },
  {
   "cell_type": "code",
   "execution_count": 42,
   "id": "750269e2",
   "metadata": {},
   "outputs": [
    {
     "data": {
      "text/plain": [
       "[('terminator, the (1984)', 0.21722437757576682),\n",
       " ('matrix, the (1999)', 0.07835023864704715),\n",
       " ('mission: impossible 2 (2000)', -0.0015444121890415847),\n",
       " ('mission: impossible (1996)', -0.019594697348800524),\n",
       " ('men in black (1997)', -0.0705254994481379)]"
      ]
     },
     "execution_count": 42,
     "metadata": {},
     "output_type": "execute_result"
    }
   ],
   "source": [
    "[(idx_to_movie[i[0]], i[1]) for i in explain[1]]"
   ]
  },
  {
   "cell_type": "markdown",
   "id": "6bc7a145",
   "metadata": {},
   "source": [
    "## 회고\n",
    "지금까지 진행해온 프로젝트 중에 내 기준으로 가장 실용적으로 활용 가능한 프로젝트였다.\n",
    "처음 추천시스템을 접했을 땐, 자연어처리라고 생각했는데 직접 실습을 해보니 자연어처리와는 또 다른 맥락으로 분류되야 할 것 같았다.\n",
    "\n",
    "lms에서 실습했던 '비슷한 아티스트 찾기 + 유저에게 추천하기'를 되짚어 가며 프로젝트를 진행했다. 모델을 이해하려고 여러차례 반복적으로 보고 또 보고 수정하고 또 수정했던 것 같다. 결과를 도출해내는 것도 프로젝트를 진행하는 것도 막막하기만 했는데 갑자기 번뜩이면서 수정해야할 부분이 눈에 보이기 시작했다.\n",
    "\n",
    "데이터 준비와 전처리 과정에서 indexing을 잘못 지정해서 데이터 탐색 부분에서 계속적으로 에러가 나서 프로젝트 진행이 안됬는데, 처음부터 차근차근 변수명과 잘못 지정된 코드들을 찾아내가면서 '에러를 수정해가는 과정에서 배운다는 말이 이거구나'하며 즐겁게 에러를 해결했던 것 같다.\n",
    "\n",
    "인공지능 수학적 지식이나 이론 부분에서 아직 부족한게 많아 모델이 예측한 결과에 대한 해석에 대해서 완벽하게 습득되지는 않아서 아쉬운 것 같다.\n",
    "\n",
    "\n",
    "(영화를 즐겨보는 편이 아니여서 모델이 내가 선호하는 영화와 유사한 영화를 추천해 줬는지 판단할 수 없지만, 수많은 영화들 중에서 모델에게 추천받은 영화의 리뷰들은 한번 찾아볼 생각이다.)"
   ]
  },
  {
   "cell_type": "code",
   "execution_count": null,
   "id": "924e5f89",
   "metadata": {},
   "outputs": [],
   "source": []
  }
 ],
 "metadata": {
  "kernelspec": {
   "display_name": "Python 3 (ipykernel)",
   "language": "python",
   "name": "python3"
  },
  "language_info": {
   "codemirror_mode": {
    "name": "ipython",
    "version": 3
   },
   "file_extension": ".py",
   "mimetype": "text/x-python",
   "name": "python",
   "nbconvert_exporter": "python",
   "pygments_lexer": "ipython3",
   "version": "3.9.7"
  }
 },
 "nbformat": 4,
 "nbformat_minor": 5
}
