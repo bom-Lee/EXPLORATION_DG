{
 "cells": [
  {
   "cell_type": "markdown",
   "id": "2debf6e3",
   "metadata": {},
   "source": [
    "## (1) load_digits : 손글씨를 분류해 봅시다"
   ]
  },
  {
   "cell_type": "code",
   "execution_count": 1,
   "id": "184ec901",
   "metadata": {},
   "outputs": [],
   "source": [
    "# (1)필요한 모듈 import하기\n",
    "\n",
    "from sklearn.datasets import load_digits\n",
    "from sklearn.model_selection import train_test_split\n",
    "from sklearn.metrics import classification_report, accuracy_score # 모델 평가에 사용"
   ]
  },
  {
   "cell_type": "code",
   "execution_count": 2,
   "id": "9a3a32c2",
   "metadata": {},
   "outputs": [
    {
     "name": "stdout",
     "output_type": "stream",
     "text": [
      "['DESCR', 'data', 'feature_names', 'frame', 'images', 'target', 'target_names']\n"
     ]
    }
   ],
   "source": [
    "# (2) 데이터 준비\n",
    "# load_digits 메서드를 사용\n",
    "\n",
    "digits = load_digits()\n",
    "print(dir(digits))"
   ]
  },
  {
   "cell_type": "code",
   "execution_count": 3,
   "id": "c9593010",
   "metadata": {},
   "outputs": [
    {
     "data": {
      "text/plain": [
       "(1797, 64)"
      ]
     },
     "execution_count": 3,
     "metadata": {},
     "output_type": "execute_result"
    }
   ],
   "source": [
    "# (3)데이터 이해하기\n",
    "\n",
    "# (3)-1. Feature Data 지정\n",
    "\n",
    "digits_data = digits.data\n",
    "digits_data.shape    ## shape는 배열의 형상정보를 출력(데이터 형태)"
   ]
  },
  {
   "cell_type": "code",
   "execution_count": 4,
   "id": "5be38b67",
   "metadata": {},
   "outputs": [],
   "source": [
    "    ## digits_data에 저장된 데이터 양과 형식 확인\n",
    "    ## 1797개의 digit 데이터와 각각의 데이터에 64개의 픽셀값이 저장되어 있음."
   ]
  },
  {
   "cell_type": "code",
   "execution_count": 5,
   "id": "3c6a8cd4",
   "metadata": {},
   "outputs": [
    {
     "name": "stdout",
     "output_type": "stream",
     "text": [
      "(1797,)\n"
     ]
    },
    {
     "data": {
      "text/plain": [
       "array([0, 1, 2, ..., 8, 9, 8])"
      ]
     },
     "execution_count": 5,
     "metadata": {},
     "output_type": "execute_result"
    }
   ],
   "source": [
    "# (3)-2. Label Data 지정\n",
    "\n",
    "digits_label = digits.target\n",
    "print(digits_label.shape)\n",
    "digits_label"
   ]
  },
  {
   "cell_type": "code",
   "execution_count": 6,
   "id": "33a7dbd6",
   "metadata": {},
   "outputs": [
    {
     "data": {
      "text/plain": [
       "array([0, 1, 2, 3, 4, 5, 6, 7, 8, 9])"
      ]
     },
     "execution_count": 6,
     "metadata": {},
     "output_type": "execute_result"
    }
   ],
   "source": [
    "# (3)-3. Target Names 출력\n",
    "\n",
    "digits.target_names"
   ]
  },
  {
   "cell_type": "code",
   "execution_count": 7,
   "id": "91035a0a",
   "metadata": {},
   "outputs": [],
   "source": [
    "    ## Target_Name는 0~9까지의 숫자"
   ]
  },
  {
   "cell_type": "code",
   "execution_count": 8,
   "id": "b4d69371",
   "metadata": {},
   "outputs": [
    {
     "name": "stdout",
     "output_type": "stream",
     "text": [
      ".. _digits_dataset:\n",
      "\n",
      "Optical recognition of handwritten digits dataset\n",
      "--------------------------------------------------\n",
      "\n",
      "**Data Set Characteristics:**\n",
      "\n",
      "    :Number of Instances: 1797\n",
      "    :Number of Attributes: 64\n",
      "    :Attribute Information: 8x8 image of integer pixels in the range 0..16.\n",
      "    :Missing Attribute Values: None\n",
      "    :Creator: E. Alpaydin (alpaydin '@' boun.edu.tr)\n",
      "    :Date: July; 1998\n",
      "\n",
      "This is a copy of the test set of the UCI ML hand-written digits datasets\n",
      "https://archive.ics.uci.edu/ml/datasets/Optical+Recognition+of+Handwritten+Digits\n",
      "\n",
      "The data set contains images of hand-written digits: 10 classes where\n",
      "each class refers to a digit.\n",
      "\n",
      "Preprocessing programs made available by NIST were used to extract\n",
      "normalized bitmaps of handwritten digits from a preprinted form. From a\n",
      "total of 43 people, 30 contributed to the training set and different 13\n",
      "to the test set. 32x32 bitmaps are divided into nonoverlapping blocks of\n",
      "4x4 and the number of on pixels are counted in each block. This generates\n",
      "an input matrix of 8x8 where each element is an integer in the range\n",
      "0..16. This reduces dimensionality and gives invariance to small\n",
      "distortions.\n",
      "\n",
      "For info on NIST preprocessing routines, see M. D. Garris, J. L. Blue, G.\n",
      "T. Candela, D. L. Dimmick, J. Geist, P. J. Grother, S. A. Janet, and C.\n",
      "L. Wilson, NIST Form-Based Handprint Recognition System, NISTIR 5469,\n",
      "1994.\n",
      "\n",
      ".. topic:: References\n",
      "\n",
      "  - C. Kaynak (1995) Methods of Combining Multiple Classifiers and Their\n",
      "    Applications to Handwritten Digit Recognition, MSc Thesis, Institute of\n",
      "    Graduate Studies in Science and Engineering, Bogazici University.\n",
      "  - E. Alpaydin, C. Kaynak (1998) Cascading Classifiers, Kybernetika.\n",
      "  - Ken Tang and Ponnuthurai N. Suganthan and Xi Yao and A. Kai Qin.\n",
      "    Linear dimensionalityreduction using relevance weighted LDA. School of\n",
      "    Electrical and Electronic Engineering Nanyang Technological University.\n",
      "    2005.\n",
      "  - Claudio Gentile. A New Approximate Maximal Margin Classification\n",
      "    Algorithm. NIPS. 2000.\n",
      "\n"
     ]
    }
   ],
   "source": [
    "# (3)-4. 데이터 Describe 해 보기\n",
    "\n",
    "print(digits.DESCR)"
   ]
  },
  {
   "cell_type": "code",
   "execution_count": 9,
   "id": "efdad989",
   "metadata": {},
   "outputs": [
    {
     "name": "stdout",
     "output_type": "stream",
     "text": [
      "X_train 개수:  1437 , X_test 개수:  360\n"
     ]
    }
   ],
   "source": [
    "# (4) train, test 데이터 분리\n",
    "\n",
    "# 모델 학습과 테스트용 문제지와 정답지를 준비\n",
    "# X_train, X_test, y_train, y_test를 생성하는 방법을 참고\n",
    "\n",
    "\n",
    "from sklearn.model_selection import train_test_split\n",
    "\n",
    "X_train, X_test, y_train, y_test = train_test_split(digits_data, \n",
    "                                                    digits_label, \n",
    "                                                    test_size=0.2, \n",
    "                                                    random_state=7)\n",
    "\n",
    "print('X_train 개수: ', len(X_train),', X_test 개수: ', len(X_test))"
   ]
  },
  {
   "cell_type": "code",
   "execution_count": 10,
   "id": "a377a5da",
   "metadata": {},
   "outputs": [],
   "source": [
    "    ## digits 데이터 셋을 학습용 데이터와 테스트용 데이터로 분리\n",
    "    ## test 데이터 셋의 크기는 전체 데이터셋의 20%\n",
    "    ## 1797개의 데이터셋 - 학습용 데이터: 1437개, 테스트용 데이터: 360개"
   ]
  },
  {
   "cell_type": "code",
   "execution_count": 11,
   "id": "b4b48ad2",
   "metadata": {
    "scrolled": true
   },
   "outputs": [
    {
     "name": "stdout",
     "output_type": "stream",
     "text": [
      "              precision    recall  f1-score   support\n",
      "\n",
      "           0       1.00      0.98      0.99        43\n",
      "           1       0.81      0.81      0.81        42\n",
      "           2       0.79      0.82      0.80        40\n",
      "           3       0.79      0.91      0.85        34\n",
      "           4       0.83      0.95      0.89        37\n",
      "           5       0.90      0.96      0.93        28\n",
      "           6       0.84      0.93      0.88        28\n",
      "           7       0.96      0.82      0.89        33\n",
      "           8       0.88      0.65      0.75        43\n",
      "           9       0.78      0.78      0.78        32\n",
      "\n",
      "    accuracy                           0.86       360\n",
      "   macro avg       0.86      0.86      0.86       360\n",
      "weighted avg       0.86      0.86      0.85       360\n",
      "\n",
      "0.8555555555555555\n"
     ]
    }
   ],
   "source": [
    "# (5) 다양한 모델로 학습시켜보기\n",
    "# 학습데이터 X_train, y_train 을 활용해 분류기 모델을 만들어 보자.\n",
    "\n",
    "\n",
    "# (5)-1. Decision Tree 사용해 보기\n",
    "\n",
    "from sklearn.tree import DecisionTreeClassifier # 모델을 import해서 가져오기\n",
    "\n",
    "decision_tree = DecisionTreeClassifier(random_state=32)\n",
    "decision_tree.fit(X_train, y_train) # decision_tree 라는 변수에 모델을 저장\n",
    "y_pred = decision_tree.predict(X_test) # Decision Tree 모델, 학습 - 결과\n",
    "\n",
    "\n",
    "digit_acc={}   # 손글씨 데이터의 정확도 dictionary\n",
    "digit_acc['Decision Tree'] = accuracy_score(y_test, y_pred) # Decision Tree 모델 평가\n",
    "\n",
    "print(classification_report(y_test, y_pred))\n",
    "print(digit_acc['Decision Tree'])"
   ]
  },
  {
   "cell_type": "code",
   "execution_count": 12,
   "id": "c6e4e15c",
   "metadata": {},
   "outputs": [],
   "source": [
    "# Decision Tree, accuracy : 86%    \n",
    "    \n",
    "    \n",
    "    ## Precision\n",
    "        ## 0, 5, 7, 8 을 제외한 나머지에서 평균 precision(macro avg)보다 낮음.\n",
    "        ## 0, 5, 7, 8 의 경우, 다른 숫자들에 비해서 정밀한 예측.\n",
    "\n",
    "    ## Recall\n",
    "        ## 0, 3, 4, 5, 6 을 제외한 나머지에서 평균 recall(macro avg)보다 낮음.\n",
    "        ## 0, 3, 4, 5, 6 의 경우, 해당 숫자 내에서 정확한 예측.\n",
    "\n",
    "        \n",
    "    ## 각각의 label에 따라서 precision과 recall의 편차가 큰 편이기에, 모델의 성능이 좋다고 말할 수 없음."
   ]
  },
  {
   "cell_type": "code",
   "execution_count": 13,
   "id": "208aa393",
   "metadata": {},
   "outputs": [
    {
     "name": "stdout",
     "output_type": "stream",
     "text": [
      "              precision    recall  f1-score   support\n",
      "\n",
      "           0       1.00      0.98      0.99        43\n",
      "           1       0.93      1.00      0.97        42\n",
      "           2       1.00      1.00      1.00        40\n",
      "           3       1.00      1.00      1.00        34\n",
      "           4       0.93      1.00      0.96        37\n",
      "           5       0.90      0.96      0.93        28\n",
      "           6       1.00      0.96      0.98        28\n",
      "           7       0.94      0.97      0.96        33\n",
      "           8       1.00      0.84      0.91        43\n",
      "           9       0.94      0.94      0.94        32\n",
      "\n",
      "    accuracy                           0.96       360\n",
      "   macro avg       0.96      0.96      0.96       360\n",
      "weighted avg       0.97      0.96      0.96       360\n",
      "\n",
      "0.9638888888888889\n"
     ]
    }
   ],
   "source": [
    "# (5)-2. Random Forest 사용해 보기\n",
    "\n",
    "from sklearn.ensemble import RandomForestClassifier\n",
    "\n",
    "random_forest = RandomForestClassifier(random_state=32)\n",
    "random_forest.fit(X_train, y_train)\n",
    "y_pred = random_forest.predict(X_test)\n",
    "\n",
    "digit_acc['Random Forest'] = accuracy_score(y_test, y_pred) ## Random Forest 모델 평가\n",
    "\n",
    "print(classification_report(y_test, y_pred))\n",
    "print(digit_acc['Random Forest'])"
   ]
  },
  {
   "cell_type": "code",
   "execution_count": 14,
   "id": "1ee7968b",
   "metadata": {},
   "outputs": [],
   "source": [
    "# Decision Tree, accuracy : 91%\n",
    "    ## 해당 데이터는 악성/양성 종양에 대한 데이터이므로,\n",
    "    ## accuracy 자체보다는, Recall의 값이 중요함.\n",
    "\n",
    "    ## Precision\n",
    "        ## 0, 2, 3, 6, 8 을 제외한 나머지에서 평균 precision(macro avg)보다 낮음.\n",
    "        ## 0, 2, 3, 6, 8 의 경우, 다른 숫자들에 비해서 정밀한 예측.\n",
    "        \n",
    "    ## Recall\n",
    "        ## 1, 2, 3, 4, 5, 6, 7 을 제외한 나머지에서 평균 recall(macro avg)보다 낮음.\n",
    "        ## 1, 2, 3, 4, 5, 6, 7 의 경우, 해당 숫자 내에서 정확한 예측.\n",
    "        ### 특히, 8의 경우, recall값 : 0.84 - 실제 8 데이터 중에서 8이라고 예측한 결과가 굉장히 적음.\n",
    "\n",
    "        \n",
    "    ## precision과 recall의 각 label 별 편차가 대체적으로 크지 않고,\n",
    "    ## 전반적으로 0.9 이상의 값을 갖기때문에, 모델의 성능이 좋다고 말할 수 있음."
   ]
  },
  {
   "cell_type": "code",
   "execution_count": 15,
   "id": "d8cd0606",
   "metadata": {},
   "outputs": [
    {
     "name": "stdout",
     "output_type": "stream",
     "text": [
      "classifier\n"
     ]
    }
   ],
   "source": [
    "# (5)-3. # SVM 사용해 보기\n",
    "\n",
    "from sklearn import svm\n",
    "svm_model = svm.SVC()\n",
    "\n",
    "print(svm_model._estimator_type)"
   ]
  },
  {
   "cell_type": "code",
   "execution_count": 16,
   "id": "6821300a",
   "metadata": {},
   "outputs": [
    {
     "name": "stdout",
     "output_type": "stream",
     "text": [
      "              precision    recall  f1-score   support\n",
      "\n",
      "           0       1.00      1.00      1.00        43\n",
      "           1       0.95      1.00      0.98        42\n",
      "           2       1.00      1.00      1.00        40\n",
      "           3       1.00      1.00      1.00        34\n",
      "           4       1.00      1.00      1.00        37\n",
      "           5       0.93      1.00      0.97        28\n",
      "           6       1.00      1.00      1.00        28\n",
      "           7       1.00      1.00      1.00        33\n",
      "           8       1.00      0.93      0.96        43\n",
      "           9       1.00      0.97      0.98        32\n",
      "\n",
      "    accuracy                           0.99       360\n",
      "   macro avg       0.99      0.99      0.99       360\n",
      "weighted avg       0.99      0.99      0.99       360\n",
      "\n",
      "0.9888888888888889\n"
     ]
    }
   ],
   "source": [
    "# SVM 모델 학습 - 결과\n",
    "svm_model.fit(X_train, y_train)\n",
    "y_pred = svm_model.predict(X_test)\n",
    "\n",
    "digit_acc['SVM'] = accuracy_score(y_test, y_pred) ## SVM 모델 평가\n",
    "\n",
    "print(classification_report(y_test, y_pred))\n",
    "print(digit_acc['SVM'])"
   ]
  },
  {
   "cell_type": "code",
   "execution_count": 17,
   "id": "39a935f4",
   "metadata": {},
   "outputs": [],
   "source": [
    "# SVM, accuracy : 99%\n",
    "\n",
    "    ## 99%라는 너무 높은 accuracy를 갖기 때문에, 믿을 수 있는 수치인지 의문.\n",
    "    \n",
    "    \n",
    "    ## Precision\n",
    "        ## 1, 5 에서 평균 precision(macro avg)보다 낮음.\n",
    "        ## 대부분 정밀한 예측.\n",
    "        \n",
    "    ## Recall\n",
    "        ## 8, 9 에서 평균 recall(macro avg)보다 낮음.\n",
    "        ## 대부분 해당 숫자 내에서 정확한 예측.\n",
    "        \n",
    "        \n",
    "    ## precision과 recall의 각 label 별 편차가 대체적으로 크지 않고,\n",
    "    ## 전반적으로 0.9 이상의 값을 갖음.\n",
    "        ## but, 99%의 정확도는 굉장히 높은 수치이며, 해당 모델의 성능에 대한 의심.\n",
    "        ## if, 해당 모델의 성능이 사실이라면, 해당 프로젝트에서는 SVM 모델을 사용하는 것이 가장 좋음."
   ]
  },
  {
   "cell_type": "code",
   "execution_count": 18,
   "id": "c1638603",
   "metadata": {},
   "outputs": [
    {
     "name": "stdout",
     "output_type": "stream",
     "text": [
      "classifier\n"
     ]
    }
   ],
   "source": [
    "# (5)-4. # SGD Classifier 사용해 보기\n",
    "\n",
    "from sklearn.linear_model import SGDClassifier\n",
    "sgd_model = SGDClassifier()\n",
    "\n",
    "print(sgd_model._estimator_type)"
   ]
  },
  {
   "cell_type": "code",
   "execution_count": 19,
   "id": "b81f5085",
   "metadata": {},
   "outputs": [
    {
     "name": "stdout",
     "output_type": "stream",
     "text": [
      "              precision    recall  f1-score   support\n",
      "\n",
      "           0       1.00      0.98      0.99        43\n",
      "           1       0.94      0.81      0.87        42\n",
      "           2       0.98      1.00      0.99        40\n",
      "           3       0.94      0.91      0.93        34\n",
      "           4       0.95      1.00      0.97        37\n",
      "           5       0.93      0.96      0.95        28\n",
      "           6       1.00      0.93      0.96        28\n",
      "           7       0.97      0.97      0.97        33\n",
      "           8       0.74      0.91      0.81        43\n",
      "           9       0.96      0.84      0.90        32\n",
      "\n",
      "    accuracy                           0.93       360\n",
      "   macro avg       0.94      0.93      0.93       360\n",
      "weighted avg       0.94      0.93      0.93       360\n",
      "\n",
      "0.9305555555555556\n"
     ]
    }
   ],
   "source": [
    "# SGD 모델 학습 - 결과\n",
    "sgd_model.fit(X_train, y_train)\n",
    "y_pred = sgd_model.predict(X_test)\n",
    "\n",
    "digit_acc['SGD Classifier'] = accuracy_score(y_test, y_pred) ## SGD 모델 평가\n",
    "\n",
    "print(classification_report(y_test, y_pred))\n",
    "print(digit_acc['SGD Classifier'])"
   ]
  },
  {
   "cell_type": "code",
   "execution_count": 20,
   "id": "400f99e7",
   "metadata": {},
   "outputs": [],
   "source": [
    "# SGD, accuracy : 95%\n",
    " \n",
    "    \n",
    "    ## Precision\n",
    "        ## 3, 5, 8, 9 를 제외한 나머지에서 평균 precision(macro avg)보다 높음.\n",
    "        ## 3, 5, 8, 9 의 경우, 다른 숫자들에 비해서 정밀도가 떨어짐.\n",
    "        \n",
    "    ## Recall\n",
    "        ## 1, 8, 9 을 제외한 나머지에서 평균 recall(macro avg)보다 높음.\n",
    "        ## 1, 8, 9 의 경우, 해당 숫자 내에서 정확한 예측을 한 비율이 적음.\n",
    "        ### 특히, 1의 경우, recall값 : 0.83 - 실제 1 데이터 중에서 1이라고 예측한 결과가 굉장히 적음.\n",
    "        \n",
    "        \n",
    "    ## but, 일부 label에서 precision과 recall 값이 다른 label에 비해서 많이 낮음.\n",
    "        \n",
    "        ## 이유? SGD의 특성으로 인한 결과!\n",
    "        ## SGD는 추출된 데이터 한개에 대해서 그래디언트를 계산하고, 경사 하강 알고리즘을 적용하는 방식.\n",
    "        ## 전체 데이터를 사용하는 것이 아니라, 랜덤하게 추출한 일부 데이터를 사용.\n",
    "        ## 속도가 매우 빠르지만, 학습 중간 과정에서 결과의 진폭이 크고 불안정.\n",
    "        ## 데이터를 하나씩 처리하기 때문에 오차율이 크고, GPU의 성능을 모두 활용하지 못함."
   ]
  },
  {
   "cell_type": "code",
   "execution_count": 21,
   "id": "a2ebe37c",
   "metadata": {},
   "outputs": [
    {
     "name": "stdout",
     "output_type": "stream",
     "text": [
      "classifier\n"
     ]
    }
   ],
   "source": [
    "# (5)-5. # Logistic Regression 사용해 보기\n",
    "\n",
    "from sklearn.linear_model import LogisticRegression\n",
    "logistic_model = LogisticRegression()\n",
    "\n",
    "print(logistic_model._estimator_type)"
   ]
  },
  {
   "cell_type": "code",
   "execution_count": 22,
   "id": "a66551d3",
   "metadata": {},
   "outputs": [
    {
     "name": "stdout",
     "output_type": "stream",
     "text": [
      "              precision    recall  f1-score   support\n",
      "\n",
      "           0       1.00      1.00      1.00        43\n",
      "           1       0.95      0.95      0.95        42\n",
      "           2       0.98      1.00      0.99        40\n",
      "           3       0.94      0.97      0.96        34\n",
      "           4       0.97      1.00      0.99        37\n",
      "           5       0.82      0.96      0.89        28\n",
      "           6       1.00      0.96      0.98        28\n",
      "           7       0.97      0.97      0.97        33\n",
      "           8       0.92      0.81      0.86        43\n",
      "           9       0.97      0.91      0.94        32\n",
      "\n",
      "    accuracy                           0.95       360\n",
      "   macro avg       0.95      0.95      0.95       360\n",
      "weighted avg       0.95      0.95      0.95       360\n",
      "\n",
      "0.9527777777777777\n"
     ]
    },
    {
     "name": "stderr",
     "output_type": "stream",
     "text": [
      "/opt/conda/lib/python3.9/site-packages/sklearn/linear_model/_logistic.py:814: ConvergenceWarning: lbfgs failed to converge (status=1):\n",
      "STOP: TOTAL NO. of ITERATIONS REACHED LIMIT.\n",
      "\n",
      "Increase the number of iterations (max_iter) or scale the data as shown in:\n",
      "    https://scikit-learn.org/stable/modules/preprocessing.html\n",
      "Please also refer to the documentation for alternative solver options:\n",
      "    https://scikit-learn.org/stable/modules/linear_model.html#logistic-regression\n",
      "  n_iter_i = _check_optimize_result(\n"
     ]
    }
   ],
   "source": [
    "# Logistic Regression 모델 학습 - 결과\n",
    "logistic_model.fit(X_train, y_train)\n",
    "y_pred = logistic_model.predict(X_test)\n",
    "\n",
    "digit_acc['Logistic Regression'] = accuracy_score(y_test, y_pred) ## Logistic Regression 모델 평가\n",
    "\n",
    "print(classification_report(y_test, y_pred))\n",
    "print(digit_acc['Logistic Regression'])"
   ]
  },
  {
   "cell_type": "code",
   "execution_count": 23,
   "id": "e2e39006",
   "metadata": {},
   "outputs": [],
   "source": [
    "# Logistic Regression, accuracy : 95%\n",
    "\n",
    "\n",
    "    ## precision\n",
    "        ## 5, 8 를 제외한 나머지에서 평균 precision(macro avg)보다 높음.\n",
    "        ## 5, 8 의 경우, 다른 숫자들에 비해서 정밀도가 떨어짐.\n",
    "        \n",
    "    ## Recall\n",
    "        ## 8, 9을 제외한 나머지에서 평균 recall(macro avg)보다 높음.\n",
    "        ## 8, 9의 경우, 해당 숫자 내에서 정확한 예측을 한 비율이 적음.\n",
    "        \n",
    "        \n",
    "        ## 오류\n",
    "            ## 학습에 따른 모델의 convergence가 이루어지지 않았기에 발생함.\n",
    "            ## 학습에 대한 모델의 최적화가 이루어지지 않음.\n",
    "        \n",
    "        ## 해결방법?\n",
    "            ## 학습 데이터의 양이 증가하면, 해당 오류를 해결할 수 있지 않을까 생각함."
   ]
  },
  {
   "cell_type": "code",
   "execution_count": 24,
   "id": "6441688b",
   "metadata": {},
   "outputs": [],
   "source": [
    "# (6) 모델을 평가해 보기\n",
    "# 학습된 모델들의 테스트데이터 예측 결과를 어떻게 해석해야 할까요?\n",
    "# 모델의 성능을 평가하는 지표로는 무엇이 좋을까요?\n",
    "# sklearn.metrics 에서 제공하는 평가지표 중 적절한 것을 선택해 보세요.\n",
    "# 선택하신 이유도 설명해 주세요."
   ]
  },
  {
   "cell_type": "code",
   "execution_count": 25,
   "id": "08cf8fa6",
   "metadata": {},
   "outputs": [],
   "source": [
    "# Decision Tree, accuracy : 86%\n",
    "# Random Forest, accuracy : 96%\n",
    "# SVM, accuracy : 99%\n",
    "# SGD, accuracy : 95%\n",
    "# Logistic Regression, accuracy : 95%\n",
    "\n",
    "\n",
    "# Decision Tree, accuracy : 86%\n",
    "    ## 각각의 label에 따라서 precision과 recall의 편차가 큰 편이기에, 모델의 성능이 좋다고 말할 수 없음.\n",
    "\n",
    "\n",
    "# Random Forest, accuracy : 96%\n",
    "    ## precision과 recall의 각 label 별 편차가 대체적으로 크지 않고,\n",
    "    ## 전반적으로 0.9 이상의 값을 갖기때문에, 모델의 성능이 좋다고 말할 수 있음.\n",
    "\n",
    "\n",
    "# SVM, accuracy : 99%\n",
    "    ## precision과 recall의 각 label 별 편차가 대체적으로 크지 않고,\n",
    "    ## 전반적으로 0.9 이상의 값을 갖음.\n",
    "        ## but, 99%의 정확도는 굉장히 높은 수치이며, 해당 모델의 성능에 대한 의심.\n",
    "        ## if, 해당 모델의 성능이 사실이라면, 해당 프로젝트에서는 SVM 모델을 사용하는 것이 가장 좋음.\n",
    "\n",
    "\n",
    "# SGD, accuracy : 95%\n",
    "    ## 일부 label에서 precision과 recall 값이 다른 label에 비해서 많이 낮음.\n",
    "        \n",
    "        ## 이유? SGD의 특성으로 인한 결과!\n",
    "        ## SGD는 추출된 데이터 한개에 대해서 그래디언트를 계산하고, 경사 하강 알고리즘을 적용하는 방식.\n",
    "        ## 전체 데이터를 사용하는 것이 아니라, 랜덤하게 추출한 일부 데이터를 사용.\n",
    "        ## 속도가 매우 빠르지만, 학습 중간 과정에서 결과의 진폭이 크고 불안정.\n",
    "        ## 데이터를 하나씩 처리하기 때문에 오차율이 크고, GPU의 성능을 모두 활용하지 못함.\n",
    "\n",
    "\n",
    "# Logistic Regression, accuracy : 95%\n",
    "        ## 오류\n",
    "            ## 학습에 따른 모델의 convergence가 이루어지지 않았기에 발생함.\n",
    "            ## 학습에 대한 모델의 최적화가 이루어지지 않음.\n",
    "        \n",
    "        ## 해결방법?\n",
    "            ## 학습 데이터의 양이 증가하면, 해당 오류를 해결할 수 있지 않을까 생각함.\n"
   ]
  },
  {
   "cell_type": "code",
   "execution_count": 26,
   "id": "03db4019",
   "metadata": {},
   "outputs": [
    {
     "name": "stdout",
     "output_type": "stream",
     "text": [
      "Decision Tree        : 0.8555555555555555\n",
      "Random Forest        : 0.9638888888888889\n",
      "SVM                  : 0.9888888888888889\n",
      "SGD Classifier       : 0.9305555555555556\n",
      "Logistic Regression  : 0.9527777777777777\n"
     ]
    }
   ],
   "source": [
    "# sklearn.metrics 에서 제공하는 평가지표\n",
    "\n",
    "    ## 사이킷런 패키지에서 지원하는 분류 성능평가 명령\n",
    "    ## 사이킷런 패키지는 metrics 서브패키지에서 다음처럼 다양한 분류용 성능평가 명령을 제공.\n",
    "\n",
    "        # confusion_matrix(y_true, y_pred)\n",
    "        # accuracy_score(y_true, y_pred) *\n",
    "        # precision_score(y_true, y_pred)\n",
    "        # recall_score(y_true, y_pred)\n",
    "        # fbeta_score(y_true, y_pred, beta)\n",
    "        # f1_score(y_true, y_pred)\n",
    "        # classfication_report(y_true, y_pred) *\n",
    "        # roc_curve\n",
    "        # auc\n",
    "\n",
    "## digits datasets의 경우 사실 Recall과 Precision등의 영향을 받지 않는 데이터임.\n",
    "## digit의 경우 정답 또는 오류를 틀리게 예측한 것을 파악하는 것보다 오류를 바르게 예측하는게 더 중요함.\n",
    "## 단순히 정확도만 확인해도 무방하기 때문에 Accuracy를 평가지료로 사용하면 될 것 같음.\n",
    "    ## classfication_report(y_true, y_pred)를 사용하여 결과값과 정확성을 알 수 있지만\n",
    "    ## 한눈에 보기 쉽게 각 모델들의 ccuracy값을 accuracy_score(y_true, y_pred)로 정리.\n",
    "    \n",
    "for i in digit_acc.items():\n",
    "    print(\"{0:<20} : {1}\".format(i[0],i[1]))"
   ]
  },
  {
   "cell_type": "code",
   "execution_count": 27,
   "id": "db786ed9",
   "metadata": {},
   "outputs": [],
   "source": [
    "# 회고\n",
    "\n",
    "# 정리하자면, 정확도가 가장 높은 수치를 보인 모델은 98%로 SVM이다.\n",
    "# 해당 프로젝트의 경우, SVM 모델의 성능이 가장 좋다고 생각한다.\n",
    "\n",
    "# digit의 경우 정답 또는 오류를 틀리게 예측한 것을 파악하는 것보다\n",
    "# 오류를 바르게 예측하는게 더 중요하다고 생각했다.\n",
    "# 따라서, 단순히 정확도만 확인해도 무방하기 때문에 Accuracy를 평가지료로 사용했다.\n",
    "\n",
    "# (마지막에 각 모델들의 성능을 한눈에 보기 위해 dictionary의 .items() 함수를 사용했다.)"
   ]
  },
  {
   "cell_type": "code",
   "execution_count": null,
   "id": "e3cb1f62",
   "metadata": {},
   "outputs": [],
   "source": []
  },
  {
   "cell_type": "markdown",
   "id": "bf8d6a61",
   "metadata": {},
   "source": [
    "## (2) load_wine : 와인을 분류해 봅시다"
   ]
  },
  {
   "cell_type": "code",
   "execution_count": 1,
   "id": "aebd1df9",
   "metadata": {},
   "outputs": [],
   "source": [
    "# (1)필요한 모듈 import하기\n",
    "\n",
    "from sklearn.datasets import load_wine\n",
    "from sklearn.model_selection import train_test_split\n",
    "from sklearn.metrics import classification_report "
   ]
  },
  {
   "cell_type": "code",
   "execution_count": 2,
   "id": "b0ea030e",
   "metadata": {},
   "outputs": [
    {
     "name": "stdout",
     "output_type": "stream",
     "text": [
      "['DESCR', 'data', 'feature_names', 'frame', 'target', 'target_names']\n"
     ]
    }
   ],
   "source": [
    "# (2) 데이터 준비\n",
    "# load_wine 메서드를 사용\n",
    "\n",
    "wine = load_wine()\n",
    "print(dir(wine))"
   ]
  },
  {
   "cell_type": "code",
   "execution_count": 3,
   "id": "0127fc86",
   "metadata": {},
   "outputs": [
    {
     "data": {
      "text/plain": [
       "(178, 13)"
      ]
     },
     "execution_count": 3,
     "metadata": {},
     "output_type": "execute_result"
    }
   ],
   "source": [
    "# (3)데이터 이해하기\n",
    "\n",
    "# (3)-1. Feature Data 지정\n",
    "\n",
    "wine_data = wine.data\n",
    "wine_data.shape    ## shape는 배열의 형상정보를 출력(데이터 형태)"
   ]
  },
  {
   "cell_type": "code",
   "execution_count": 4,
   "id": "38a147a4",
   "metadata": {},
   "outputs": [],
   "source": [
    "    ## wine_data에 저장된 데이터 양과 형식 확인.\n",
    "    ## 178개의 wine 데이터와 각각의 데이터에 13개의 픽셀값(특성)이 저장되어 있음."
   ]
  },
  {
   "cell_type": "code",
   "execution_count": 5,
   "id": "ca4d845a",
   "metadata": {},
   "outputs": [
    {
     "name": "stdout",
     "output_type": "stream",
     "text": [
      "(178,)\n"
     ]
    },
    {
     "data": {
      "text/plain": [
       "array([0, 0, 0, 0, 0, 0, 0, 0, 0, 0, 0, 0, 0, 0, 0, 0, 0, 0, 0, 0, 0, 0,\n",
       "       0, 0, 0, 0, 0, 0, 0, 0, 0, 0, 0, 0, 0, 0, 0, 0, 0, 0, 0, 0, 0, 0,\n",
       "       0, 0, 0, 0, 0, 0, 0, 0, 0, 0, 0, 0, 0, 0, 0, 1, 1, 1, 1, 1, 1, 1,\n",
       "       1, 1, 1, 1, 1, 1, 1, 1, 1, 1, 1, 1, 1, 1, 1, 1, 1, 1, 1, 1, 1, 1,\n",
       "       1, 1, 1, 1, 1, 1, 1, 1, 1, 1, 1, 1, 1, 1, 1, 1, 1, 1, 1, 1, 1, 1,\n",
       "       1, 1, 1, 1, 1, 1, 1, 1, 1, 1, 1, 1, 1, 1, 1, 1, 1, 1, 1, 1, 2, 2,\n",
       "       2, 2, 2, 2, 2, 2, 2, 2, 2, 2, 2, 2, 2, 2, 2, 2, 2, 2, 2, 2, 2, 2,\n",
       "       2, 2, 2, 2, 2, 2, 2, 2, 2, 2, 2, 2, 2, 2, 2, 2, 2, 2, 2, 2, 2, 2,\n",
       "       2, 2])"
      ]
     },
     "execution_count": 5,
     "metadata": {},
     "output_type": "execute_result"
    }
   ],
   "source": [
    "# (3)-2. Label Data 지정\n",
    "\n",
    "wine_label = wine.target\n",
    "print(wine_label.shape)\n",
    "wine_label"
   ]
  },
  {
   "cell_type": "code",
   "execution_count": 6,
   "id": "1ad08a47",
   "metadata": {},
   "outputs": [
    {
     "data": {
      "text/plain": [
       "array(['class_0', 'class_1', 'class_2'], dtype='<U7')"
      ]
     },
     "execution_count": 6,
     "metadata": {},
     "output_type": "execute_result"
    }
   ],
   "source": [
    "# (3)-3. Target Names 출력\n",
    "\n",
    "wine.target_names"
   ]
  },
  {
   "cell_type": "code",
   "execution_count": 7,
   "id": "a3ea154a",
   "metadata": {},
   "outputs": [],
   "source": [
    "    ## Target_Name은 'class_0', 'class_1', 'class_2 3가지 클래스를 가짐."
   ]
  },
  {
   "cell_type": "code",
   "execution_count": 8,
   "id": "79b9f822",
   "metadata": {},
   "outputs": [
    {
     "name": "stdout",
     "output_type": "stream",
     "text": [
      ".. _wine_dataset:\n",
      "\n",
      "Wine recognition dataset\n",
      "------------------------\n",
      "\n",
      "**Data Set Characteristics:**\n",
      "\n",
      "    :Number of Instances: 178 (50 in each of three classes)\n",
      "    :Number of Attributes: 13 numeric, predictive attributes and the class\n",
      "    :Attribute Information:\n",
      " \t\t- Alcohol\n",
      " \t\t- Malic acid\n",
      " \t\t- Ash\n",
      "\t\t- Alcalinity of ash  \n",
      " \t\t- Magnesium\n",
      "\t\t- Total phenols\n",
      " \t\t- Flavanoids\n",
      " \t\t- Nonflavanoid phenols\n",
      " \t\t- Proanthocyanins\n",
      "\t\t- Color intensity\n",
      " \t\t- Hue\n",
      " \t\t- OD280/OD315 of diluted wines\n",
      " \t\t- Proline\n",
      "\n",
      "    - class:\n",
      "            - class_0\n",
      "            - class_1\n",
      "            - class_2\n",
      "\t\t\n",
      "    :Summary Statistics:\n",
      "    \n",
      "    ============================= ==== ===== ======= =====\n",
      "                                   Min   Max   Mean     SD\n",
      "    ============================= ==== ===== ======= =====\n",
      "    Alcohol:                      11.0  14.8    13.0   0.8\n",
      "    Malic Acid:                   0.74  5.80    2.34  1.12\n",
      "    Ash:                          1.36  3.23    2.36  0.27\n",
      "    Alcalinity of Ash:            10.6  30.0    19.5   3.3\n",
      "    Magnesium:                    70.0 162.0    99.7  14.3\n",
      "    Total Phenols:                0.98  3.88    2.29  0.63\n",
      "    Flavanoids:                   0.34  5.08    2.03  1.00\n",
      "    Nonflavanoid Phenols:         0.13  0.66    0.36  0.12\n",
      "    Proanthocyanins:              0.41  3.58    1.59  0.57\n",
      "    Colour Intensity:              1.3  13.0     5.1   2.3\n",
      "    Hue:                          0.48  1.71    0.96  0.23\n",
      "    OD280/OD315 of diluted wines: 1.27  4.00    2.61  0.71\n",
      "    Proline:                       278  1680     746   315\n",
      "    ============================= ==== ===== ======= =====\n",
      "\n",
      "    :Missing Attribute Values: None\n",
      "    :Class Distribution: class_0 (59), class_1 (71), class_2 (48)\n",
      "    :Creator: R.A. Fisher\n",
      "    :Donor: Michael Marshall (MARSHALL%PLU@io.arc.nasa.gov)\n",
      "    :Date: July, 1988\n",
      "\n",
      "This is a copy of UCI ML Wine recognition datasets.\n",
      "https://archive.ics.uci.edu/ml/machine-learning-databases/wine/wine.data\n",
      "\n",
      "The data is the results of a chemical analysis of wines grown in the same\n",
      "region in Italy by three different cultivators. There are thirteen different\n",
      "measurements taken for different constituents found in the three types of\n",
      "wine.\n",
      "\n",
      "Original Owners: \n",
      "\n",
      "Forina, M. et al, PARVUS - \n",
      "An Extendible Package for Data Exploration, Classification and Correlation. \n",
      "Institute of Pharmaceutical and Food Analysis and Technologies,\n",
      "Via Brigata Salerno, 16147 Genoa, Italy.\n",
      "\n",
      "Citation:\n",
      "\n",
      "Lichman, M. (2013). UCI Machine Learning Repository\n",
      "[https://archive.ics.uci.edu/ml]. Irvine, CA: University of California,\n",
      "School of Information and Computer Science. \n",
      "\n",
      ".. topic:: References\n",
      "\n",
      "  (1) S. Aeberhard, D. Coomans and O. de Vel, \n",
      "  Comparison of Classifiers in High Dimensional Settings, \n",
      "  Tech. Rep. no. 92-02, (1992), Dept. of Computer Science and Dept. of  \n",
      "  Mathematics and Statistics, James Cook University of North Queensland. \n",
      "  (Also submitted to Technometrics). \n",
      "\n",
      "  The data was used with many others for comparing various \n",
      "  classifiers. The classes are separable, though only RDA \n",
      "  has achieved 100% correct classification. \n",
      "  (RDA : 100%, QDA 99.4%, LDA 98.9%, 1NN 96.1% (z-transformed data)) \n",
      "  (All results using the leave-one-out technique) \n",
      "\n",
      "  (2) S. Aeberhard, D. Coomans and O. de Vel, \n",
      "  \"THE CLASSIFICATION PERFORMANCE OF RDA\" \n",
      "  Tech. Rep. no. 92-01, (1992), Dept. of Computer Science and Dept. of \n",
      "  Mathematics and Statistics, James Cook University of North Queensland. \n",
      "  (Also submitted to Journal of Chemometrics).\n",
      "\n"
     ]
    }
   ],
   "source": [
    "# (3)-4. 데이터 Describe 해 보기\n",
    "\n",
    "print(wine.DESCR)"
   ]
  },
  {
   "cell_type": "code",
   "execution_count": 9,
   "id": "0a782f83",
   "metadata": {},
   "outputs": [],
   "source": [
    "    ## 총 178개의 데이터.\n",
    "    ## 특성은 총 13개, 모두 정수형 데이터.\n",
    "    ## 누락된 특성 값 없음. (NaN 값이 없음.)\n",
    "    ## class_0 (59), class_1 (71), class_2 (48) : 클래스 별 데이터 개수가 균등하지 않음."
   ]
  },
  {
   "cell_type": "code",
   "execution_count": 10,
   "id": "378528b0",
   "metadata": {},
   "outputs": [
    {
     "name": "stdout",
     "output_type": "stream",
     "text": [
      "X_train 개수:  142 , X_test 개수:  36\n"
     ]
    }
   ],
   "source": [
    "# (4) train, test 데이터 분리\n",
    "\n",
    "# 모델 학습과 테스트용 문제지와 정답지를 준비\n",
    "# X_train, X_test, y_train, y_test를 생성하는 방법을 참고\n",
    "\n",
    "\n",
    "from sklearn.model_selection import train_test_split\n",
    "\n",
    "X_train, X_test, y_train, y_test = train_test_split(wine_data, \n",
    "                                                    wine_label, \n",
    "                                                    test_size=0.2, \n",
    "                                                    random_state=7)\n",
    "\n",
    "print('X_train 개수: ', len(X_train),', X_test 개수: ', len(X_test))"
   ]
  },
  {
   "cell_type": "code",
   "execution_count": 11,
   "id": "453d0dd3",
   "metadata": {},
   "outputs": [],
   "source": [
    "    ## wine 데이터 셋을 학습용 데이터와 테스트용 데이터로 분리\n",
    "    ## test 데이터 셋의 크기는 전체 데이터셋의 20%\n",
    "    ## 178개의 데이터셋 - 학습용 데이터: 142개, 테스트용 데이터: 36개"
   ]
  },
  {
   "cell_type": "code",
   "execution_count": 12,
   "id": "c74a8400",
   "metadata": {
    "scrolled": true
   },
   "outputs": [
    {
     "name": "stdout",
     "output_type": "stream",
     "text": [
      "              precision    recall  f1-score   support\n",
      "\n",
      "           0       1.00      1.00      1.00         7\n",
      "           1       0.89      1.00      0.94        17\n",
      "           2       1.00      0.83      0.91        12\n",
      "\n",
      "    accuracy                           0.94        36\n",
      "   macro avg       0.96      0.94      0.95        36\n",
      "weighted avg       0.95      0.94      0.94        36\n",
      "\n"
     ]
    }
   ],
   "source": [
    "# (5) 다양한 모델로 학습시켜보기\n",
    "# 학습데이터 X_train, y_train 을 활용해 분류기 모델을 만들어 보자.\n",
    "\n",
    "\n",
    "# 다양한 모델들의 정확도를 한꺼번에 계산하기 위해 예측값들을 저장하는 변수 추가\n",
    "y_pred_list = []\n",
    "\n",
    "\n",
    "# (5)-1. Decision Tree 사용해 보기\n",
    "\n",
    "from sklearn.tree import DecisionTreeClassifier # 모델을 import해서 가져오기\n",
    "\n",
    "decision_tree = DecisionTreeClassifier(random_state=32)\n",
    "decision_tree.fit(X_train, y_train) # decision_tree 라는 변수에 모델을 저장\n",
    "\n",
    "y_pred = decision_tree.predict(X_test)\n",
    "y_pred_list.append(y_pred)\n",
    "\n",
    "print(classification_report(y_test, y_pred)) # Decision Tree 모델 평가"
   ]
  },
  {
   "cell_type": "code",
   "execution_count": 13,
   "id": "5d093510",
   "metadata": {},
   "outputs": [],
   "source": [
    "# Decision Tree, accuracy : 94%    \n",
    "    \n",
    "    \n",
    "    ## Precision\n",
    "        ## class 1의 경우 평균 precision(macro avg)보다 낮음.\n",
    "\n",
    "    ## Recall\n",
    "        ## class 2의 경우 평균 recall(macro avg)보다 낮음.\n",
    "        \n",
    "    ## 각각의 label에 따라서 precision과 recall의 편차가 큰 편이기에, 모델의 성능이 좋다고 말할 수 없음."
   ]
  },
  {
   "cell_type": "code",
   "execution_count": 14,
   "id": "839ab85a",
   "metadata": {},
   "outputs": [
    {
     "name": "stdout",
     "output_type": "stream",
     "text": [
      "              precision    recall  f1-score   support\n",
      "\n",
      "           0       1.00      1.00      1.00         7\n",
      "           1       1.00      1.00      1.00        17\n",
      "           2       1.00      1.00      1.00        12\n",
      "\n",
      "    accuracy                           1.00        36\n",
      "   macro avg       1.00      1.00      1.00        36\n",
      "weighted avg       1.00      1.00      1.00        36\n",
      "\n"
     ]
    }
   ],
   "source": [
    "# (5)-2. Random Forest 사용해 보기\n",
    "\n",
    "from sklearn.ensemble import RandomForestClassifier\n",
    "\n",
    "random_forest = RandomForestClassifier(random_state=32)\n",
    "random_forest.fit(X_train, y_train)\n",
    "\n",
    "y_pred = random_forest.predict(X_test) \n",
    "y_pred_list.append(y_pred)\n",
    "\n",
    "print(classification_report(y_test, y_pred)) ## Random Forest 모델 평가"
   ]
  },
  {
   "cell_type": "code",
   "execution_count": 15,
   "id": "e302c294",
   "metadata": {},
   "outputs": [],
   "source": [
    "# Random Forest, accuracy : 100%\n",
    "\n",
    "\n",
    "    ## Precision\n",
    "        ## class 1, 2, 3 모두 정밀한 예측.\n",
    "        \n",
    "    ## Recall\n",
    "        ## class 1, 2, 3 모두 정밀한 예측.\n",
    "        \n",
    "    ## precision과 recall의 각 label 별 편차가 대체적으로 크지 않고,\n",
    "    ## 전반적으로 0.9 이상의 값을 갖기때문에, 모델의 성능이 좋다고 말할 수 있음."
   ]
  },
  {
   "cell_type": "code",
   "execution_count": 16,
   "id": "ca2eaf97",
   "metadata": {},
   "outputs": [
    {
     "name": "stdout",
     "output_type": "stream",
     "text": [
      "classifier\n"
     ]
    }
   ],
   "source": [
    "# (5)-3. # SVM 사용해 보기\n",
    "\n",
    "from sklearn import svm\n",
    "svm_model = svm.SVC()\n",
    "\n",
    "print(svm_model._estimator_type)"
   ]
  },
  {
   "cell_type": "code",
   "execution_count": 17,
   "id": "33c96ba1",
   "metadata": {},
   "outputs": [
    {
     "name": "stdout",
     "output_type": "stream",
     "text": [
      "              precision    recall  f1-score   support\n",
      "\n",
      "           0       0.86      0.86      0.86         7\n",
      "           1       0.58      0.88      0.70        17\n",
      "           2       0.33      0.08      0.13        12\n",
      "\n",
      "    accuracy                           0.61        36\n",
      "   macro avg       0.59      0.61      0.56        36\n",
      "weighted avg       0.55      0.61      0.54        36\n",
      "\n"
     ]
    }
   ],
   "source": [
    "# SVM 모델 학습 - 결과\n",
    "svm_model.fit(X_train, y_train)\n",
    "y_pred = svm_model.predict(X_test)\n",
    "y_pred_list.append(y_pred)\n",
    "\n",
    "print(classification_report(y_test, y_pred)) ## SVM 모델 평가"
   ]
  },
  {
   "cell_type": "code",
   "execution_count": 18,
   "id": "a9410cf7",
   "metadata": {},
   "outputs": [],
   "source": [
    "# SVM, accuracy : 61%\n",
    "\n",
    "    \n",
    "    ## Precision\n",
    "        ## class 1, 2 에서 평균 precision(macro avg)보다 낮음.\n",
    "        ## class 0의 경우 평균 precision(macro avg)보다 높음.\n",
    "        \n",
    "    ## Recall\n",
    "        ## class 1, 2 에서 평균 recall(macro avg)보다 높음.\n",
    "        ## class 0의 경우 해당 class 내에서 정확한 예측을 한 비율이 현저하게 적음.\n",
    "        \n",
    "        \n",
    "    ## 전체적으로 오답률이 높았고, 특히 class 2의 경우 대부분이 오답.\n",
    "    ## 61% 의 굉장히 낮은 정확도."
   ]
  },
  {
   "cell_type": "code",
   "execution_count": 19,
   "id": "5c5d12bc",
   "metadata": {},
   "outputs": [
    {
     "name": "stdout",
     "output_type": "stream",
     "text": [
      "classifier\n"
     ]
    }
   ],
   "source": [
    "# (5)-4. # SGD Classifier 사용해 보기\n",
    "\n",
    "from sklearn.linear_model import SGDClassifier\n",
    "sgd_model = SGDClassifier()\n",
    "\n",
    "print(sgd_model._estimator_type)"
   ]
  },
  {
   "cell_type": "code",
   "execution_count": 20,
   "id": "50b2d66b",
   "metadata": {},
   "outputs": [
    {
     "name": "stdout",
     "output_type": "stream",
     "text": [
      "              precision    recall  f1-score   support\n",
      "\n",
      "           0       0.88      1.00      0.93         7\n",
      "           1       0.57      0.94      0.71        17\n",
      "           2       0.00      0.00      0.00        12\n",
      "\n",
      "    accuracy                           0.64        36\n",
      "   macro avg       0.48      0.65      0.55        36\n",
      "weighted avg       0.44      0.64      0.52        36\n",
      "\n"
     ]
    },
    {
     "name": "stderr",
     "output_type": "stream",
     "text": [
      "/opt/conda/lib/python3.9/site-packages/sklearn/metrics/_classification.py:1308: UndefinedMetricWarning: Precision and F-score are ill-defined and being set to 0.0 in labels with no predicted samples. Use `zero_division` parameter to control this behavior.\n",
      "  _warn_prf(average, modifier, msg_start, len(result))\n",
      "/opt/conda/lib/python3.9/site-packages/sklearn/metrics/_classification.py:1308: UndefinedMetricWarning: Precision and F-score are ill-defined and being set to 0.0 in labels with no predicted samples. Use `zero_division` parameter to control this behavior.\n",
      "  _warn_prf(average, modifier, msg_start, len(result))\n",
      "/opt/conda/lib/python3.9/site-packages/sklearn/metrics/_classification.py:1308: UndefinedMetricWarning: Precision and F-score are ill-defined and being set to 0.0 in labels with no predicted samples. Use `zero_division` parameter to control this behavior.\n",
      "  _warn_prf(average, modifier, msg_start, len(result))\n"
     ]
    }
   ],
   "source": [
    "# SGD 모델 학습 - 결과\n",
    "sgd_model.fit(X_train, y_train)\n",
    "y_pred = sgd_model.predict(X_test)\n",
    "y_pred_list.append(y_pred)\n",
    "\n",
    "print(classification_report(y_test, y_pred))"
   ]
  },
  {
   "cell_type": "code",
   "execution_count": 21,
   "id": "97a7cf72",
   "metadata": {},
   "outputs": [],
   "source": [
    "# SGD, accuracy : 64%\n",
    " \n",
    "    \n",
    "    ## Precision\n",
    "        ## class 0, 1의 경우 평균 precision(macro avg)보다 높음.\n",
    "        ## class 2 의 경우 평균 precision(macro avg)보다 낮음.\n",
    "        \n",
    "    ## Recall\n",
    "        ## class 0, 2의 경우 평균 recall(macro avg)보다 높음.\n",
    "        ## class 1 의 경우 평균 recall(macro avg)보다 낮음.\n",
    "        ## precision과 recall 값이 다른 label에 비해서 많이 낮음.\n",
    "        \n",
    "    ## 오류\n",
    "        ## 예측 샘플이 없는 labels에서 predicted 및 f1-score가 잘못 정의되어 0.0으로 설정됨.\n",
    "        ## 해결하려면 'zero_division' 매개 변수를 사용하면 됨."
   ]
  },
  {
   "cell_type": "code",
   "execution_count": 22,
   "id": "e58dac87",
   "metadata": {},
   "outputs": [
    {
     "name": "stdout",
     "output_type": "stream",
     "text": [
      "classifier\n"
     ]
    }
   ],
   "source": [
    "# (5)-5. # Logistic Regression 사용해 보기\n",
    "\n",
    "from sklearn.linear_model import LogisticRegression\n",
    "logistic_model = LogisticRegression()\n",
    "\n",
    "print(logistic_model._estimator_type)"
   ]
  },
  {
   "cell_type": "code",
   "execution_count": 23,
   "id": "62f4a5ad",
   "metadata": {},
   "outputs": [
    {
     "name": "stdout",
     "output_type": "stream",
     "text": [
      "              precision    recall  f1-score   support\n",
      "\n",
      "           0       1.00      0.86      0.92         7\n",
      "           1       0.94      1.00      0.97        17\n",
      "           2       1.00      1.00      1.00        12\n",
      "\n",
      "    accuracy                           0.97        36\n",
      "   macro avg       0.98      0.95      0.96        36\n",
      "weighted avg       0.97      0.97      0.97        36\n",
      "\n"
     ]
    },
    {
     "name": "stderr",
     "output_type": "stream",
     "text": [
      "/opt/conda/lib/python3.9/site-packages/sklearn/linear_model/_logistic.py:814: ConvergenceWarning: lbfgs failed to converge (status=1):\n",
      "STOP: TOTAL NO. of ITERATIONS REACHED LIMIT.\n",
      "\n",
      "Increase the number of iterations (max_iter) or scale the data as shown in:\n",
      "    https://scikit-learn.org/stable/modules/preprocessing.html\n",
      "Please also refer to the documentation for alternative solver options:\n",
      "    https://scikit-learn.org/stable/modules/linear_model.html#logistic-regression\n",
      "  n_iter_i = _check_optimize_result(\n"
     ]
    }
   ],
   "source": [
    "# Logistic Regression 모델 학습 - 결과\n",
    "logistic_model.fit(X_train, y_train)\n",
    "\n",
    "y_pred = logistic_model.predict(X_test)\n",
    "y_pred_list.append(y_pred)\n",
    "\n",
    "print(classification_report(y_test, y_pred))\n"
   ]
  },
  {
   "cell_type": "code",
   "execution_count": 24,
   "id": "1f7793be",
   "metadata": {},
   "outputs": [],
   "source": [
    "# Logistic Regression, accuracy : 97%\n",
    "\n",
    "\n",
    "    ## Precision\n",
    "        ## class 0, 2의 경우 평균 precision(macro avg)보다 높음.\n",
    "        ## class 1 의 경우 평균 precision(macro avg)보다 낮음.\n",
    "        \n",
    "    ## Recall\n",
    "        ## class 1, 2의 경우 평균 recall(macro avg)보다 높음.\n",
    "        ## class 0 의 경우 평균 recall(macro avg)보다 낮음.\n",
    "        \n",
    "    ## 오류\n",
    "        ## 수렴 경고 : 수렴 실패(status=1), 중지 : 총 반복 횟수가 한계에 도달함.\n",
    "        ## 해결하려면, 반복 횟수를 늘리거나(max_iter) 데이터를 확장해야 함."
   ]
  },
  {
   "cell_type": "code",
   "execution_count": 25,
   "id": "a29b8b69",
   "metadata": {},
   "outputs": [],
   "source": [
    "# (6) 모델을 평가해 보기\n",
    "# 학습된 모델들의 테스트데이터 예측 결과를 어떻게 해석해야 할까요?\n",
    "# 모델의 성능을 평가하는 지표로는 무엇이 좋을까요?\n",
    "# sklearn.metrics 에서 제공하는 평가지표 중 적절한 것을 선택해 보세요.\n",
    "# 선택하신 이유도 설명해 주세요."
   ]
  },
  {
   "cell_type": "code",
   "execution_count": 26,
   "id": "3862bd81",
   "metadata": {},
   "outputs": [
    {
     "name": "stdout",
     "output_type": "stream",
     "text": [
      "0 : 0.9434624017957352\n",
      "1 : 1.0\n",
      "2 : 0.5405684754521964\n",
      "3 : 0.5172839506172839\n",
      "4 : 0.9715506715506714\n"
     ]
    }
   ],
   "source": [
    "from sklearn.metrics import f1_score\n",
    "# 0: decision tree, 1: random forest, 2: svm, 3: sgd classifier, 4: logistic regression\n",
    "for idx, y_pred in enumerate(y_pred_list):\n",
    "    accuracy = f1_score(y_test, y_pred, average='weighted')\n",
    "    print(f'{idx} : {accuracy}')"
   ]
  },
  {
   "cell_type": "code",
   "execution_count": 27,
   "id": "7f718f84",
   "metadata": {},
   "outputs": [],
   "source": [
    "# classification_report의 accuracy로 본 모델들의 정확도를 비교하자면,\n",
    "\n",
    "# Decision Tree, accuracy : 94%\n",
    "    ## precision과 recall의 편차가 큰 편이기에, 모델의 성능이 좋다고 판단할 수 없음.\n",
    "\n",
    "    \n",
    "# Random Forest, accuracy : 100%\n",
    "    ## 대부분 class 모두 정밀한 예측. precision과 recall의 편차가 크지 않고\n",
    "    ## 전반적으로 0.9 이상의 값을 갖기 때문에 모델 성능이 좋다고 판단.\n",
    "\n",
    "    \n",
    "# SVM, accuracy : 61%\n",
    "    ## 전반적으로 오답률이 높았고 굉장히 낮은 정확도를 보임. 성능이 좋다고 판단할 수 없음.\n",
    "\n",
    "    \n",
    "# SGD, accuracy : 58%\n",
    "    ## precision과 recall의 편차가 큰 편이고 굉장히 낮은 정확도를 보임.\n",
    "    ## 모델의 성능이 좋다고 판단할 수 없음.\n",
    "\n",
    "\n",
    "# Logistic Regression, accuracy : 97%\n",
    "    ## 단 하나의 오답을 제외하고 전반적으로 높은 정확도를 보임. 성능이 좋다고 판단할 수 있음.\n",
    "\n",
    "\n",
    "## wine datasets의 경우 digits와 같은 분류 문제. (Recall과 Precision등의 영향을 받지 않는 데이터.)\n",
    "## wine의 경우도 정답 또는 오류를 틀리게 예측한 것을 파악하는 것보다 오류를 바르게 예측하는게 더 중요하다고 생각했다.\n",
    "## 단순히 정확도만 확인해도 무방하기 때문에 Accuracy를 평가지료로 사용하면 될 것 같았다.\n",
    "## 그렇게 따지면, 정확도가 가장 높은 수치를 보인 모델은 100%로 Random Forest이다.\n",
    "\n",
    "# 그런데, 해당 프로젝트 target의 class들의 데이터 개수는 균등하지 않게 분포한다는 걸 알 수 있다.\n",
    "# 보통 분류 문제의 경우 classification_report 와 accuracy_score를 이용를 이용한다.\n",
    "# 하지만 데이터의 불균형으로 정확한 판단이 힘들다고 생각해 accuracy_score가 아닌 f1 score average를 평가지표로 선택했다."
   ]
  },
  {
   "cell_type": "code",
   "execution_count": 28,
   "id": "19f1d915",
   "metadata": {},
   "outputs": [],
   "source": [
    "# 회고\n",
    "\n",
    "# 정리하자면, 해당 프로젝트의 경우 RandomForestClassifier 모델의 성능이 가장 좋다고 생각한다.\n",
    "# 그렇지만, Logistic Regression 의 사용도 고려해볼만 하다.\n",
    "\n",
    "# 일단, RandomForest Classifier의 f1-score는 1.0이다.\n",
    "    ## f1 score는 큰 값에 패널티를 주면서 작은 값 위주로 평균을 구하기 때문에 불균형한 데이터에서 잘 작동을 한다.\n",
    "    ## f1 score average로 weighted를 사용한 이유 : weighted 옵션은 라벨 불균형을 고려해 점수를 계산하기 때문에 선택했다.    \n",
    "# 결과만 놓고 보자면 accuracy_score 나, f1_score 나 RandomForest 모델이 가장 성능이 좋게 나왔다.\n",
    "\n",
    "# 하지만 Random Forest 는 Logistic Regression 모델보다 많은 메모리를 사용하며\n",
    "# 데이터가 많아질시 훈련과 예측이 느리다.\n",
    "# 따라서 정확도 약 97% 를 가지는 Logistic Regression 의 사용도 고려해볼 수 있다.\n",
    "\n",
    "# 이번 프로젝트를 통해 f1_score 를 어떻게 해석하고 사용하는지 알 수 있었다.\n",
    "# 모델의 정확도가 높다고 해서 모델의 성능이 가장 좋다고 할 수 없고,\n",
    "# 상황과 모델의 특성을 파악해서 선택해야한다는걸 알 수 있었다."
   ]
  },
  {
   "cell_type": "code",
   "execution_count": null,
   "id": "820ce9da",
   "metadata": {},
   "outputs": [],
   "source": []
  },
  {
   "cell_type": "markdown",
   "id": "6191d150",
   "metadata": {},
   "source": [
    "## (3) load_breast_cancer : 유방암 여부를 진단해 봅시다"
   ]
  },
  {
   "cell_type": "code",
   "execution_count": 1,
   "id": "eac781d8",
   "metadata": {},
   "outputs": [],
   "source": [
    "# (1)필요한 모듈 import하기\n",
    "\n",
    "from sklearn.datasets import load_breast_cancer\n",
    "from sklearn.model_selection import train_test_split\n",
    "from sklearn.metrics import classification_report\n",
    "from sklearn.metrics import confusion_matrix"
   ]
  },
  {
   "cell_type": "code",
   "execution_count": 2,
   "id": "64cbb135",
   "metadata": {},
   "outputs": [
    {
     "name": "stdout",
     "output_type": "stream",
     "text": [
      "(569, 30)\n"
     ]
    }
   ],
   "source": [
    "# (2) 데이터 준비\n",
    "# load_breast_cancer 메서드를 사용\n",
    "\n",
    "breast_cancer = load_breast_cancer()\n",
    "\n",
    "breast_cancer_data = breast_cancer.data\n",
    "breast_cancer_label = breast_cancer.target\n",
    "print(breast_cancer_data.shape)"
   ]
  },
  {
   "cell_type": "code",
   "execution_count": 3,
   "id": "0cd386d8",
   "metadata": {},
   "outputs": [],
   "source": [
    "    ## breast_cancer_data에 저장된 데이터 양과 형식 확인.\n",
    "    ## 569개의 breast_cancer 데이터와 각각의 데이터에 30개의 feature이 저장되어 있음."
   ]
  },
  {
   "cell_type": "code",
   "execution_count": 4,
   "id": "2d577626",
   "metadata": {},
   "outputs": [
    {
     "data": {
      "text/plain": [
       "array([1.799e+01, 1.038e+01, 1.228e+02, 1.001e+03, 1.184e-01, 2.776e-01,\n",
       "       3.001e-01, 1.471e-01, 2.419e-01, 7.871e-02, 1.095e+00, 9.053e-01,\n",
       "       8.589e+00, 1.534e+02, 6.399e-03, 4.904e-02, 5.373e-02, 1.587e-02,\n",
       "       3.003e-02, 6.193e-03, 2.538e+01, 1.733e+01, 1.846e+02, 2.019e+03,\n",
       "       1.622e-01, 6.656e-01, 7.119e-01, 2.654e-01, 4.601e-01, 1.189e-01])"
      ]
     },
     "execution_count": 4,
     "metadata": {},
     "output_type": "execute_result"
    }
   ],
   "source": [
    "# (3)데이터 이해하기\n",
    "\n",
    "# (3)-1. Feature Data 지정\n",
    "\n",
    "breast_cancer.feature_names\n",
    "breast_cancer_data[0]"
   ]
  },
  {
   "cell_type": "code",
   "execution_count": 5,
   "id": "80444602",
   "metadata": {},
   "outputs": [
    {
     "name": "stdout",
     "output_type": "stream",
     "text": [
      "(569,)\n",
      "[0 0 0 0 0 0 0 0 0 0 0 0 0 0 0 0 0 0 0 1 1 1 0 0 0 0 0 0 0 0 0 0 0 0 0 0 0\n",
      " 1 0 0 0 0 0 0 0 0 1 0 1 1 1 1 1 0 0 1 0 0 1 1 1 1 0 1 0 0 1 1 1 1 0 1 0 0\n",
      " 1 0 1 0 0 1 1 1 0 0 1 0 0 0 1 1 1 0 1 1 0 0 1 1 1 0 0 1 1 1 1 0 1 1 0 1 1\n",
      " 1 1 1 1 1 1 0 0 0 1 0 0 1 1 1 0 0 1 0 1 0 0 1 0 0 1 1 0 1 1 0 1 1 1 1 0 1\n",
      " 1 1 1 1 1 1 1 1 0 1 1 1 1 0 0 1 0 1 1 0 0 1 1 0 0 1 1 1 1 0 1 1 0 0 0 1 0\n",
      " 1 0 1 1 1 0 1 1 0 0 1 0 0 0 0 1 0 0 0 1 0 1 0 1 1 0 1 0 0 0 0 1 1 0 0 1 1\n",
      " 1 0 1 1 1 1 1 0 0 1 1 0 1 1 0 0 1 0 1 1 1 1 0 1 1 1 1 1 0 1 0 0 0 0 0 0 0\n",
      " 0 0 0 0 0 0 0 1 1 1 1 1 1 0 1 0 1 1 0 1 1 0 1 0 0 1 1 1 1 1 1 1 1 1 1 1 1\n",
      " 1 0 1 1 0 1 0 1 1 1 1 1 1 1 1 1 1 1 1 1 1 0 1 1 1 0 1 0 1 1 1 1 0 0 0 1 1\n",
      " 1 1 0 1 0 1 0 1 1 1 0 1 1 1 1 1 1 1 0 0 0 1 1 1 1 1 1 1 1 1 1 1 0 0 1 0 0\n",
      " 0 1 0 0 1 1 1 1 1 0 1 1 1 1 1 0 1 1 1 0 1 1 0 0 1 1 1 1 1 1 0 1 1 1 1 1 1\n",
      " 1 0 1 1 1 1 1 0 1 1 0 1 1 1 1 1 1 1 1 1 1 1 1 0 1 0 0 1 0 1 1 1 1 1 0 1 1\n",
      " 0 1 0 1 1 0 1 0 1 1 1 1 1 1 1 1 0 0 1 1 1 1 1 1 0 1 1 1 1 1 1 1 1 1 1 0 1\n",
      " 1 1 1 1 1 1 0 1 0 1 1 0 1 1 1 1 1 0 0 1 0 1 0 1 1 1 1 1 0 1 1 0 1 0 1 0 0\n",
      " 1 1 1 0 1 1 1 1 1 1 1 1 1 1 1 0 1 0 0 1 1 1 1 1 1 1 1 1 1 1 1 1 1 1 1 1 1\n",
      " 1 1 1 1 1 1 1 0 0 0 0 0 0 1]\n"
     ]
    }
   ],
   "source": [
    "# (3)-2. Label Data 지정\n",
    "\n",
    "breast_cancer_label = breast_cancer.target\n",
    "print(breast_cancer_label.shape)\n",
    "print(breast_cancer_label[:])"
   ]
  },
  {
   "cell_type": "code",
   "execution_count": 6,
   "id": "3102e6cd",
   "metadata": {},
   "outputs": [],
   "source": [
    "## breast_cancer_label에 저장된 데이터 양과 형식 확인.\n",
    "## 569개의 데이터가 저장."
   ]
  },
  {
   "cell_type": "code",
   "execution_count": 7,
   "id": "45c09f0e",
   "metadata": {},
   "outputs": [
    {
     "data": {
      "text/plain": [
       "array(['malignant', 'benign'], dtype='<U9')"
      ]
     },
     "execution_count": 7,
     "metadata": {},
     "output_type": "execute_result"
    }
   ],
   "source": [
    "# (3)-3. Target Names 출력\n",
    "\n",
    "breast_cancer.target_names"
   ]
  },
  {
   "cell_type": "code",
   "execution_count": 8,
   "id": "02106dc8",
   "metadata": {},
   "outputs": [],
   "source": [
    "    ## Target_Name은 'malignant', 'benign'"
   ]
  },
  {
   "cell_type": "code",
   "execution_count": 9,
   "id": "921c2fc9",
   "metadata": {},
   "outputs": [
    {
     "name": "stdout",
     "output_type": "stream",
     "text": [
      ".. _breast_cancer_dataset:\n",
      "\n",
      "Breast cancer wisconsin (diagnostic) dataset\n",
      "--------------------------------------------\n",
      "\n",
      "**Data Set Characteristics:**\n",
      "\n",
      "    :Number of Instances: 569\n",
      "\n",
      "    :Number of Attributes: 30 numeric, predictive attributes and the class\n",
      "\n",
      "    :Attribute Information:\n",
      "        - radius (mean of distances from center to points on the perimeter)\n",
      "        - texture (standard deviation of gray-scale values)\n",
      "        - perimeter\n",
      "        - area\n",
      "        - smoothness (local variation in radius lengths)\n",
      "        - compactness (perimeter^2 / area - 1.0)\n",
      "        - concavity (severity of concave portions of the contour)\n",
      "        - concave points (number of concave portions of the contour)\n",
      "        - symmetry\n",
      "        - fractal dimension (\"coastline approximation\" - 1)\n",
      "\n",
      "        The mean, standard error, and \"worst\" or largest (mean of the three\n",
      "        worst/largest values) of these features were computed for each image,\n",
      "        resulting in 30 features.  For instance, field 0 is Mean Radius, field\n",
      "        10 is Radius SE, field 20 is Worst Radius.\n",
      "\n",
      "        - class:\n",
      "                - WDBC-Malignant\n",
      "                - WDBC-Benign\n",
      "\n",
      "    :Summary Statistics:\n",
      "\n",
      "    ===================================== ====== ======\n",
      "                                           Min    Max\n",
      "    ===================================== ====== ======\n",
      "    radius (mean):                        6.981  28.11\n",
      "    texture (mean):                       9.71   39.28\n",
      "    perimeter (mean):                     43.79  188.5\n",
      "    area (mean):                          143.5  2501.0\n",
      "    smoothness (mean):                    0.053  0.163\n",
      "    compactness (mean):                   0.019  0.345\n",
      "    concavity (mean):                     0.0    0.427\n",
      "    concave points (mean):                0.0    0.201\n",
      "    symmetry (mean):                      0.106  0.304\n",
      "    fractal dimension (mean):             0.05   0.097\n",
      "    radius (standard error):              0.112  2.873\n",
      "    texture (standard error):             0.36   4.885\n",
      "    perimeter (standard error):           0.757  21.98\n",
      "    area (standard error):                6.802  542.2\n",
      "    smoothness (standard error):          0.002  0.031\n",
      "    compactness (standard error):         0.002  0.135\n",
      "    concavity (standard error):           0.0    0.396\n",
      "    concave points (standard error):      0.0    0.053\n",
      "    symmetry (standard error):            0.008  0.079\n",
      "    fractal dimension (standard error):   0.001  0.03\n",
      "    radius (worst):                       7.93   36.04\n",
      "    texture (worst):                      12.02  49.54\n",
      "    perimeter (worst):                    50.41  251.2\n",
      "    area (worst):                         185.2  4254.0\n",
      "    smoothness (worst):                   0.071  0.223\n",
      "    compactness (worst):                  0.027  1.058\n",
      "    concavity (worst):                    0.0    1.252\n",
      "    concave points (worst):               0.0    0.291\n",
      "    symmetry (worst):                     0.156  0.664\n",
      "    fractal dimension (worst):            0.055  0.208\n",
      "    ===================================== ====== ======\n",
      "\n",
      "    :Missing Attribute Values: None\n",
      "\n",
      "    :Class Distribution: 212 - Malignant, 357 - Benign\n",
      "\n",
      "    :Creator:  Dr. William H. Wolberg, W. Nick Street, Olvi L. Mangasarian\n",
      "\n",
      "    :Donor: Nick Street\n",
      "\n",
      "    :Date: November, 1995\n",
      "\n",
      "This is a copy of UCI ML Breast Cancer Wisconsin (Diagnostic) datasets.\n",
      "https://goo.gl/U2Uwz2\n",
      "\n",
      "Features are computed from a digitized image of a fine needle\n",
      "aspirate (FNA) of a breast mass.  They describe\n",
      "characteristics of the cell nuclei present in the image.\n",
      "\n",
      "Separating plane described above was obtained using\n",
      "Multisurface Method-Tree (MSM-T) [K. P. Bennett, \"Decision Tree\n",
      "Construction Via Linear Programming.\" Proceedings of the 4th\n",
      "Midwest Artificial Intelligence and Cognitive Science Society,\n",
      "pp. 97-101, 1992], a classification method which uses linear\n",
      "programming to construct a decision tree.  Relevant features\n",
      "were selected using an exhaustive search in the space of 1-4\n",
      "features and 1-3 separating planes.\n",
      "\n",
      "The actual linear program used to obtain the separating plane\n",
      "in the 3-dimensional space is that described in:\n",
      "[K. P. Bennett and O. L. Mangasarian: \"Robust Linear\n",
      "Programming Discrimination of Two Linearly Inseparable Sets\",\n",
      "Optimization Methods and Software 1, 1992, 23-34].\n",
      "\n",
      "This database is also available through the UW CS ftp server:\n",
      "\n",
      "ftp ftp.cs.wisc.edu\n",
      "cd math-prog/cpo-dataset/machine-learn/WDBC/\n",
      "\n",
      ".. topic:: References\n",
      "\n",
      "   - W.N. Street, W.H. Wolberg and O.L. Mangasarian. Nuclear feature extraction \n",
      "     for breast tumor diagnosis. IS&T/SPIE 1993 International Symposium on \n",
      "     Electronic Imaging: Science and Technology, volume 1905, pages 861-870,\n",
      "     San Jose, CA, 1993.\n",
      "   - O.L. Mangasarian, W.N. Street and W.H. Wolberg. Breast cancer diagnosis and \n",
      "     prognosis via linear programming. Operations Research, 43(4), pages 570-577, \n",
      "     July-August 1995.\n",
      "   - W.H. Wolberg, W.N. Street, and O.L. Mangasarian. Machine learning techniques\n",
      "     to diagnose breast cancer from fine-needle aspirates. Cancer Letters 77 (1994) \n",
      "     163-171.\n"
     ]
    }
   ],
   "source": [
    "# (3)-4. 데이터 Describe 해 보기\n",
    "\n",
    "print(breast_cancer.DESCR)"
   ]
  },
  {
   "cell_type": "code",
   "execution_count": 10,
   "id": "47cb6e66",
   "metadata": {},
   "outputs": [],
   "source": [
    "    ## 총 569개의 데이터.\n",
    "    ## 특성은 총 30개.\n",
    "    ## 2개의 라벨 - Malignant(악성 종양) 212개 , Benign(양성 종양) 357개."
   ]
  },
  {
   "cell_type": "code",
   "execution_count": 11,
   "id": "cf55fded",
   "metadata": {},
   "outputs": [
    {
     "name": "stdout",
     "output_type": "stream",
     "text": [
      "X_train 개수:  455 , X_test 개수:  114\n"
     ]
    }
   ],
   "source": [
    "# (4) train, test 데이터 분리\n",
    "\n",
    "# 모델 학습과 테스트용 문제지와 정답지를 준비\n",
    "# X_train, X_test, y_train, y_test를 생성하는 방법을 참고\n",
    "\n",
    "\n",
    "from sklearn.model_selection import train_test_split\n",
    "\n",
    "X_train, X_test, y_train, y_test = train_test_split(breast_cancer_data, \n",
    "                                                    breast_cancer_label, \n",
    "                                                    test_size=0.2, \n",
    "                                                    random_state=7)\n",
    "\n",
    "print('X_train 개수: ', len(X_train),', X_test 개수: ', len(X_test))"
   ]
  },
  {
   "cell_type": "code",
   "execution_count": 12,
   "id": "be74df3d",
   "metadata": {},
   "outputs": [],
   "source": [
    "    ## wine 데이터 셋을 학습용 데이터와 테스트용 데이터로 분리\n",
    "    ## test 데이터 셋의 크기는 전체 데이터셋의 20%\n",
    "    ## 569개의 데이터셋 - 학습용 데이터: 455개, 테스트용 데이터: 114개"
   ]
  },
  {
   "cell_type": "code",
   "execution_count": 13,
   "id": "89c6d002",
   "metadata": {
    "scrolled": true
   },
   "outputs": [
    {
     "name": "stdout",
     "output_type": "stream",
     "text": [
      "              precision    recall  f1-score   support\n",
      "\n",
      "           0       0.92      0.82      0.87        40\n",
      "           1       0.91      0.96      0.93        74\n",
      "\n",
      "    accuracy                           0.91       114\n",
      "   macro avg       0.91      0.89      0.90       114\n",
      "weighted avg       0.91      0.91      0.91       114\n",
      "\n",
      "[[33  7]\n",
      " [ 3 71]]\n"
     ]
    }
   ],
   "source": [
    "# (5) 다양한 모델로 학습시켜보기\n",
    "# 학습데이터 X_train, y_train 을 활용해 분류기 모델을 만들어 보자.\n",
    "\n",
    "\n",
    "# (5)-1. Decision Tree 사용해 보기\n",
    "\n",
    "from sklearn.tree import DecisionTreeClassifier\n",
    "\n",
    "decision_tree = DecisionTreeClassifier(random_state=32)\n",
    "decision_tree.fit(X_train, y_train) # decision_tree 라는 변수에 모델을 저장\n",
    "y_pred = decision_tree.predict(X_test)\n",
    "\n",
    "print(classification_report(y_test, y_pred)) # Decision Tree 모델 평가\n",
    "print(confusion_matrix(y_test, y_pred))"
   ]
  },
  {
   "cell_type": "code",
   "execution_count": 14,
   "id": "f88f616a",
   "metadata": {},
   "outputs": [],
   "source": [
    "# Decision Tree, accuracy : 91%\n",
    "    \n",
    "    \n",
    "    ## 해당 데이터는 악성/양성 종양에 대한 데이터이므로,\n",
    "    ## accuracy 자체보다는, Recall의 값이 중요함.\n",
    "    \n",
    "    ## Recall : 0.82의 값으로 측정.\n",
    "    ## test set 중, 7명의 악성 종양 환자에게 양성 종양이라는 잘못된 판단을 함."
   ]
  },
  {
   "cell_type": "code",
   "execution_count": 15,
   "id": "4c62ea10",
   "metadata": {},
   "outputs": [
    {
     "name": "stdout",
     "output_type": "stream",
     "text": [
      "              precision    recall  f1-score   support\n",
      "\n",
      "           0       1.00      1.00      1.00        40\n",
      "           1       1.00      1.00      1.00        74\n",
      "\n",
      "    accuracy                           1.00       114\n",
      "   macro avg       1.00      1.00      1.00       114\n",
      "weighted avg       1.00      1.00      1.00       114\n",
      "\n",
      "[[40  0]\n",
      " [ 0 74]]\n"
     ]
    }
   ],
   "source": [
    "# (5)-2. Random Forest 사용해 보기\n",
    "\n",
    "from sklearn.ensemble import RandomForestClassifier\n",
    "\n",
    "random_forest = RandomForestClassifier(random_state=32)\n",
    "random_forest.fit(X_train, y_train)\n",
    "y_pred = random_forest.predict(X_test)\n",
    "\n",
    "print(classification_report(y_test, y_pred)) ## Random Forest 모델 평가\n",
    "print(confusion_matrix(y_test, y_pred))"
   ]
  },
  {
   "cell_type": "code",
   "execution_count": 16,
   "id": "ff1cbe26",
   "metadata": {},
   "outputs": [],
   "source": [
    "# Random Forest, accuracy : 100%\n",
    "\n",
    "\n",
    "    ## 해당 모델의 정확도는 100%.\n",
    "    ## 모든 악성 종양 환자에게 정확한 진단을 함."
   ]
  },
  {
   "cell_type": "code",
   "execution_count": 17,
   "id": "9fc134f3",
   "metadata": {},
   "outputs": [
    {
     "name": "stdout",
     "output_type": "stream",
     "text": [
      "              precision    recall  f1-score   support\n",
      "\n",
      "           0       1.00      0.72      0.84        40\n",
      "           1       0.87      1.00      0.93        74\n",
      "\n",
      "    accuracy                           0.90       114\n",
      "   macro avg       0.94      0.86      0.89       114\n",
      "weighted avg       0.92      0.90      0.90       114\n",
      "\n",
      "[[29 11]\n",
      " [ 0 74]]\n"
     ]
    }
   ],
   "source": [
    "# (5)-3. # SVM 사용해 보기\n",
    "\n",
    "from sklearn import svm\n",
    "\n",
    "svm_model = svm.SVC()\n",
    "svm_model.fit(X_train, y_train)\n",
    "y_pred = svm_model.predict(X_test)\n",
    "\n",
    "print(classification_report(y_test, y_pred)) ## SVM 모델 평가\n",
    "print(confusion_matrix(y_test, y_pred))"
   ]
  },
  {
   "cell_type": "code",
   "execution_count": 18,
   "id": "d2ab2103",
   "metadata": {},
   "outputs": [],
   "source": [
    "# SVM, accuracy : 90%\n",
    "\n",
    "    \n",
    "    ## 해당 데이터는 악성/양성 종양에 대한 데이터이므로,\n",
    "    ## accuracy 자체보다는, Recall의 값이 중요.\n",
    "    \n",
    "    ## Recall : 0.72의 값으로 측정.\n",
    "    ## test set 중, 11명의 악성 종양 환자에게 양성 종양이라는 잘못된 판단을 함."
   ]
  },
  {
   "cell_type": "code",
   "execution_count": 19,
   "id": "353a2803",
   "metadata": {
    "scrolled": true
   },
   "outputs": [
    {
     "name": "stdout",
     "output_type": "stream",
     "text": [
      "              precision    recall  f1-score   support\n",
      "\n",
      "           0       1.00      0.70      0.82        40\n",
      "           1       0.86      1.00      0.92        74\n",
      "\n",
      "    accuracy                           0.89       114\n",
      "   macro avg       0.93      0.85      0.87       114\n",
      "weighted avg       0.91      0.89      0.89       114\n",
      "\n",
      "[[28 12]\n",
      " [ 0 74]]\n"
     ]
    }
   ],
   "source": [
    "# (5)-4. # SGD Classifier 사용해 보기\n",
    "\n",
    "from sklearn.linear_model import SGDClassifier\n",
    "\n",
    "sgd_model = SGDClassifier()\n",
    "sgd_model.fit(X_train, y_train)\n",
    "y_pred = sgd_model.predict(X_test)\n",
    "\n",
    "print(classification_report(y_test, y_pred))\n",
    "print(confusion_matrix(y_test, y_pred))"
   ]
  },
  {
   "cell_type": "code",
   "execution_count": 20,
   "id": "fa675033",
   "metadata": {},
   "outputs": [],
   "source": [
    "# SGD, accuracy : 90%\n",
    " \n",
    "    \n",
    "    ## 해당 데이터는 악성/양성 종양에 대한 데이터이므로,\n",
    "    ## accuracy 자체보다는, Recall의 값이 중요함.\n",
    "\n",
    "    ## Recall : 0.72의 값으로 측정.\n",
    "    ## test set 중, 11명의 악성 종양 환자에게 양성 종양이라는 잘못된 판단을 함."
   ]
  },
  {
   "cell_type": "code",
   "execution_count": 21,
   "id": "caa1f3ea",
   "metadata": {},
   "outputs": [
    {
     "name": "stdout",
     "output_type": "stream",
     "text": [
      "              precision    recall  f1-score   support\n",
      "\n",
      "           0       1.00      0.85      0.92        40\n",
      "           1       0.93      1.00      0.96        74\n",
      "\n",
      "    accuracy                           0.95       114\n",
      "   macro avg       0.96      0.93      0.94       114\n",
      "weighted avg       0.95      0.95      0.95       114\n",
      "\n",
      "[[34  6]\n",
      " [ 0 74]]\n"
     ]
    },
    {
     "name": "stderr",
     "output_type": "stream",
     "text": [
      "/opt/conda/lib/python3.9/site-packages/sklearn/linear_model/_logistic.py:814: ConvergenceWarning: lbfgs failed to converge (status=1):\n",
      "STOP: TOTAL NO. of ITERATIONS REACHED LIMIT.\n",
      "\n",
      "Increase the number of iterations (max_iter) or scale the data as shown in:\n",
      "    https://scikit-learn.org/stable/modules/preprocessing.html\n",
      "Please also refer to the documentation for alternative solver options:\n",
      "    https://scikit-learn.org/stable/modules/linear_model.html#logistic-regression\n",
      "  n_iter_i = _check_optimize_result(\n"
     ]
    }
   ],
   "source": [
    "# (5)-5. # Logistic Regression 사용해 보기\n",
    "\n",
    "from sklearn.linear_model import LogisticRegression\n",
    "\n",
    "logistic_model = LogisticRegression()\n",
    "logistic_model.fit(X_train, y_train)\n",
    "y_pred = logistic_model.predict(X_test)\n",
    "\n",
    "print(classification_report(y_test, y_pred))\n",
    "print(confusion_matrix(y_test, y_pred))"
   ]
  },
  {
   "cell_type": "code",
   "execution_count": 22,
   "id": "9fdbcb9e",
   "metadata": {},
   "outputs": [],
   "source": [
    "# Logistic Regression, accuracy : 95%\n",
    "\n",
    "\n",
    "    ## 해당 데이터는 악성/양성 종양에 대한 데이터이므로,\n",
    "    ## accuracy 자체보다는, Recall의 값이 중요함.\n",
    "    \n",
    "    ## Recall : 0.85의 값으로 측정.\n",
    "    ## test set 중, 6명의 악성 종양 환자에게 양성 종양이라는 잘못된 판단을 함.\n",
    "        \n",
    "    ## 오류\n",
    "        ## 수렴 경고 : 수렴 실패(status=1), 중지 : 총 반복 횟수가 한계에 도달함.\n",
    "        ## 해결하려면, 반복 횟수를 늘리거나(max_iter) 데이터를 확장해야 함."
   ]
  },
  {
   "cell_type": "code",
   "execution_count": 23,
   "id": "d519e27a",
   "metadata": {},
   "outputs": [],
   "source": [
    "# (6) 모델을 평가해 보기\n",
    "\n",
    "# 학습된 모델들의 테스트데이터 예측 결과를 어떻게 해석해야 할까요?\n",
    "# 모델의 성능을 평가하는 지표로는 무엇이 좋을까요?\n",
    "# sklearn.metrics 에서 제공하는 평가지표 중 적절한 것을 선택해 보세요.\n",
    "# 선택하신 이유도 설명해 주세요."
   ]
  },
  {
   "cell_type": "code",
   "execution_count": 24,
   "id": "048f3182",
   "metadata": {},
   "outputs": [],
   "source": [
    "# 평가지표로 confusion_matrix를 사용한 이유?\n",
    "    ## [recall_score]를 이용하고 싶었는데 어째서인지 자꾸 모든 데이터값이 1로 나와서\n",
    "    ## 올바른 비교와 판단이 힘들어 [confusion_matrix]를 사용했다.\n",
    "\n",
    "# 해당 프로젝트에서는 reall값이 중요하다고 판단했다.\n",
    "    ## reall값이란 예측값으로 해당 프로젝트의 데이터 상에 암인데 암이 아닌 것으로 예측하는 것보다\n",
    "    ## 암이 아닌 것을 암으로 예측하는 것이 낫기 때문에 recall값을 평가지료로 사용했다.\n",
    "\n",
    "# 일단 모든 모델들의 accuracy로 보자면, \n",
    "    ## Decision Tree: 91% (Recall = 0.82)\n",
    "    ## Random Forest: 100% (Recall = 1.00)\n",
    "    ## SVM: 90% (Recall = 0.72)\n",
    "    ## SGD Classifier: 89% (Recall = 0.70)\n",
    "    ## Logistic Regression: 95% (Recall = 0.85)\n",
    "    ## 모든 모델이 89%이상의 정확도를 보여준다.\n",
    "\n",
    "# 해당 프로젝트에서 Random Forest를 제외한 나머지 모델에서는 Recall 값이 0.70~0.85 사이의 값을 갖는 것으로 확인.\n",
    "    ## 즉, 악성 종양 환자를 양성 종양 환자로 판단한 케이스가 6~12명.\n",
    "\n",
    "# 따라서 Random Forest를 제외한 나머지 4개의 모델은 해당 데이터에 적합한 모델이 아니라고 판단.\n",
    "\n",
    "    ## 환자 입장에서는 암이 존재한다고 했을 때 놓치지 않고 검출하는 것이 가장 좋을 것.\n",
    "    ## 만약 암의 존재를 알아차라지 못하면 치료가 늦어져서 생명에 위험이 생기기 때문.\n",
    "    ## 하지만 암이 존재하지 않는데도 불구하고 존재한다고 검출을 했을 때는 결과적으로는 문제가 없음."
   ]
  },
  {
   "cell_type": "code",
   "execution_count": 25,
   "id": "93c068a7",
   "metadata": {},
   "outputs": [],
   "source": [
    "# 회고\n",
    "\n",
    "# 정리하자면, 해당 프로젝트의 경우 Random ForestClassifier 모델의 성능이 가장 좋다고 생각한다.\n",
    "# Random Forest Classifier의 recall은 1.0이다. 즉, 모든 악성 종양 환자에게 정확한 진단을 했다.\n",
    "# 해당 프로젝트 같은 사람의 생명이 걸린 문제에서는 적절한 모델을 사용하여 최대한 정확한 진단을 필요로 한다. \n",
    "\n",
    "# 전체 프로젝트에서 Random Forest 모델이 대체적으로 성능이 높았다.\n",
    "# 그러나, RandomForest의 경우 느린 속도와 많은 메모리 차지를 하는 단점을 가지고 있어서 상황에 맞게 선택해야 할 것 같다.\n",
    "# 프로젝트(3)과 같이 생명이 걸린 경우 속도보다 정확한 예측과 진단이 필요하기 때문에 Random Forest 모델이 적합하다. \n",
    "\n",
    "# 이번 EXPLORATION을 통해 다양한 데이터들을 관찰하고 이해하며, 데이터에 맞는 분류 모델을 알아봤다.\n",
    "# 데이터와 문제, 상황 등 적합한 모델을 고르기 위해 고려해야할 사항이 존재했다.\n",
    "# 또한, 성능이 좋다는 것이 무조건 정확도가 높다는 걸로 판단할 수 없었다."
   ]
  },
  {
   "cell_type": "code",
   "execution_count": null,
   "id": "b688251d",
   "metadata": {},
   "outputs": [],
   "source": []
  }
 ],
 "metadata": {
  "kernelspec": {
   "display_name": "Python 3 (ipykernel)",
   "language": "python",
   "name": "python3"
  },
  "language_info": {
   "codemirror_mode": {
    "name": "ipython",
    "version": 3
   },
   "file_extension": ".py",
   "mimetype": "text/x-python",
   "name": "python",
   "nbconvert_exporter": "python",
   "pygments_lexer": "ipython3",
   "version": "3.9.7"
  }
 },
 "nbformat": 4,
 "nbformat_minor": 5
}
