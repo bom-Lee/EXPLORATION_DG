{
 "cells": [
  {
   "cell_type": "markdown",
   "id": "db87a0b5",
   "metadata": {},
   "source": [
    "# 8.뉴스 요약봇 만들기\n",
    "## 프로젝트: 뉴스기사 요약해보기 \n",
    "* 추상적 요약과 추출적 요약 모두 해보기"
   ]
  },
  {
   "cell_type": "code",
   "execution_count": 1,
   "id": "d7c80d04",
   "metadata": {},
   "outputs": [],
   "source": [
    "import numpy as np\n",
    "import pandas as pd\n",
    "import os\n",
    "import re\n",
    "import matplotlib.pyplot as plt\n",
    "from nltk.corpus import stopwords\n",
    "from bs4 import BeautifulSoup \n",
    "from tensorflow.keras.preprocessing.text import Tokenizer \n",
    "from tensorflow.keras.preprocessing.sequence import pad_sequences\n",
    "import urllib.request"
   ]
  },
  {
   "cell_type": "markdown",
   "id": "214eeefd",
   "metadata": {},
   "source": [
    "## Step 1. 데이터 수집하기\n",
    "* 뉴스 기사 데이터(news_summary_more.csv)를 사용\n",
    "* https://github.com/sunnysai12345/News_Summary"
   ]
  },
  {
   "cell_type": "code",
   "execution_count": 2,
   "id": "8bb9339d",
   "metadata": {},
   "outputs": [
    {
     "name": "stdout",
     "output_type": "stream",
     "text": [
      "전체 샘플수 : 98401\n"
     ]
    }
   ],
   "source": [
    "#  데이터 다운로드\n",
    "\n",
    "import urllib.request\n",
    "urllib.request.urlretrieve(\"https://raw.githubusercontent.com/sunnysai12345/News_Summary/master/news_summary_more.csv\", filename=\"news_summary_more.csv\")\n",
    "data = pd.read_csv('news_summary_more.csv', encoding='iso-8859-1')\n",
    "print('전체 샘플수 :', (len(data)))"
   ]
  },
  {
   "cell_type": "code",
   "execution_count": 3,
   "id": "92d879a1",
   "metadata": {},
   "outputs": [
    {
     "data": {
      "text/html": [
       "<div>\n",
       "<style scoped>\n",
       "    .dataframe tbody tr th:only-of-type {\n",
       "        vertical-align: middle;\n",
       "    }\n",
       "\n",
       "    .dataframe tbody tr th {\n",
       "        vertical-align: top;\n",
       "    }\n",
       "\n",
       "    .dataframe thead th {\n",
       "        text-align: right;\n",
       "    }\n",
       "</style>\n",
       "<table border=\"1\" class=\"dataframe\">\n",
       "  <thead>\n",
       "    <tr style=\"text-align: right;\">\n",
       "      <th></th>\n",
       "      <th>headlines</th>\n",
       "      <th>text</th>\n",
       "    </tr>\n",
       "  </thead>\n",
       "  <tbody>\n",
       "    <tr>\n",
       "      <th>35759</th>\n",
       "      <td>Sri Lanka Prez suspends Parliament amid politi...</td>\n",
       "      <td>Sri Lanka President Maithripala Sirisena on Th...</td>\n",
       "    </tr>\n",
       "    <tr>\n",
       "      <th>57406</th>\n",
       "      <td>Viral rejection letter from 1928 calls author'...</td>\n",
       "      <td>A rejection letter by Australian publisher Ang...</td>\n",
       "    </tr>\n",
       "    <tr>\n",
       "      <th>29665</th>\n",
       "      <td>Users complain of getting WhatsApp texts from ...</td>\n",
       "      <td>Several users have claimed that they are recei...</td>\n",
       "    </tr>\n",
       "    <tr>\n",
       "      <th>11782</th>\n",
       "      <td>We've other priorities: SC on UP's plea for ur...</td>\n",
       "      <td>Turning down Uttar Pradesh government's reques...</td>\n",
       "    </tr>\n",
       "    <tr>\n",
       "      <th>90491</th>\n",
       "      <td>Umpires offered apples before IPL match at Ede...</td>\n",
       "      <td>In Wednesday's IPL match between Kolkata Knigh...</td>\n",
       "    </tr>\n",
       "    <tr>\n",
       "      <th>30246</th>\n",
       "      <td>GQ magazine cover features extra photoshopped ...</td>\n",
       "      <td>In a dig at the alleged photoshopped cover of ...</td>\n",
       "    </tr>\n",
       "    <tr>\n",
       "      <th>46327</th>\n",
       "      <td>Mithali hits more than two 6s for 1st time in ...</td>\n",
       "      <td>Indian woman cricketer Mithali Raj smashed mor...</td>\n",
       "    </tr>\n",
       "    <tr>\n",
       "      <th>93427</th>\n",
       "      <td>Severed head of calf recovered from Allahabad ...</td>\n",
       "      <td>Tension prevailed in Teliarganj area of Allaha...</td>\n",
       "    </tr>\n",
       "    <tr>\n",
       "      <th>69039</th>\n",
       "      <td>Number of GST returns filed highest on last da...</td>\n",
       "      <td>As many as 13.76 lakh businesses used the GSTN...</td>\n",
       "    </tr>\n",
       "    <tr>\n",
       "      <th>18476</th>\n",
       "      <td>Twitter 'unfairly' reduced 6 lakh accounts' vi...</td>\n",
       "      <td>Twitter Co-founder and CEO Jack Dorsey on Wedn...</td>\n",
       "    </tr>\n",
       "  </tbody>\n",
       "</table>\n",
       "</div>"
      ],
      "text/plain": [
       "                                               headlines  \\\n",
       "35759  Sri Lanka Prez suspends Parliament amid politi...   \n",
       "57406  Viral rejection letter from 1928 calls author'...   \n",
       "29665  Users complain of getting WhatsApp texts from ...   \n",
       "11782  We've other priorities: SC on UP's plea for ur...   \n",
       "90491  Umpires offered apples before IPL match at Ede...   \n",
       "30246  GQ magazine cover features extra photoshopped ...   \n",
       "46327  Mithali hits more than two 6s for 1st time in ...   \n",
       "93427  Severed head of calf recovered from Allahabad ...   \n",
       "69039  Number of GST returns filed highest on last da...   \n",
       "18476  Twitter 'unfairly' reduced 6 lakh accounts' vi...   \n",
       "\n",
       "                                                    text  \n",
       "35759  Sri Lanka President Maithripala Sirisena on Th...  \n",
       "57406  A rejection letter by Australian publisher Ang...  \n",
       "29665  Several users have claimed that they are recei...  \n",
       "11782  Turning down Uttar Pradesh government's reques...  \n",
       "90491  In Wednesday's IPL match between Kolkata Knigh...  \n",
       "30246  In a dig at the alleged photoshopped cover of ...  \n",
       "46327  Indian woman cricketer Mithali Raj smashed mor...  \n",
       "93427  Tension prevailed in Teliarganj area of Allaha...  \n",
       "69039  As many as 13.76 lakh businesses used the GSTN...  \n",
       "18476  Twitter Co-founder and CEO Jack Dorsey on Wedn...  "
      ]
     },
     "execution_count": 3,
     "metadata": {},
     "output_type": "execute_result"
    }
   ],
   "source": [
    "data.sample(10)"
   ]
  },
  {
   "cell_type": "markdown",
   "id": "f5c2dc7e",
   "metadata": {},
   "source": [
    "* 이 데이터는 기사의 본문에 해당되는 text와 headlines 두 가지 열로 구성\n",
    "\n",
    "* 추상적 요약을 하는 경우에는 text를 본문, headlines를 이미 요약된 데이터로 삼아서 모델을 학습할 수 있음.\n",
    "* 추출적 요약을 하는 경우에는 오직 text열만을 사용."
   ]
  },
  {
   "cell_type": "markdown",
   "id": "a0fb686d",
   "metadata": {},
   "source": [
    "## Step 2. 데이터 전처리하기 (추상적 요약)\n",
    "* 실습에서 사용된 전처리를 참고하여 각자 필요하다고 생각하는 전처리를 추가 사용하여 텍스트를 정규화 또는 정제해 보자.\n",
    "* 만약, 불용어 제거를 선택한다면 상대적으로 길이가 짧은 요약 데이터에 대해서도 불용어를 제거하는 것이 좋을지 고민해 보자."
   ]
  },
  {
   "cell_type": "code",
   "execution_count": 4,
   "id": "64e03148",
   "metadata": {},
   "outputs": [
    {
     "name": "stdout",
     "output_type": "stream",
     "text": [
      "=3\n"
     ]
    },
    {
     "name": "stderr",
     "output_type": "stream",
     "text": [
      "[nltk_data] Downloading package stopwords to /aiffel/nltk_data...\n",
      "[nltk_data]   Package stopwords is already up-to-date!\n"
     ]
    }
   ],
   "source": [
    "import nltk    # NLTK 패키지에서 불용어 사전을 다운로드\n",
    "nltk.download('stopwords')\n",
    "\n",
    "import warnings\n",
    "warnings.filterwarnings(\"ignore\", category=UserWarning, module='bs4')\n",
    "\n",
    "print('=3')"
   ]
  },
  {
   "cell_type": "code",
   "execution_count": 5,
   "id": "579f92c3",
   "metadata": {},
   "outputs": [
    {
     "data": {
      "text/html": [
       "<div>\n",
       "<style scoped>\n",
       "    .dataframe tbody tr th:only-of-type {\n",
       "        vertical-align: middle;\n",
       "    }\n",
       "\n",
       "    .dataframe tbody tr th {\n",
       "        vertical-align: top;\n",
       "    }\n",
       "\n",
       "    .dataframe thead th {\n",
       "        text-align: right;\n",
       "    }\n",
       "</style>\n",
       "<table border=\"1\" class=\"dataframe\">\n",
       "  <thead>\n",
       "    <tr style=\"text-align: right;\">\n",
       "      <th></th>\n",
       "      <th>headlines</th>\n",
       "      <th>text</th>\n",
       "    </tr>\n",
       "  </thead>\n",
       "  <tbody>\n",
       "    <tr>\n",
       "      <th>0</th>\n",
       "      <td>upGrad learner switches to career in ML &amp; Al w...</td>\n",
       "      <td>Saurav Kant, an alumnus of upGrad and IIIT-B's...</td>\n",
       "    </tr>\n",
       "    <tr>\n",
       "      <th>1</th>\n",
       "      <td>Delhi techie wins free food from Swiggy for on...</td>\n",
       "      <td>Kunal Shah's credit card bill payment platform...</td>\n",
       "    </tr>\n",
       "    <tr>\n",
       "      <th>2</th>\n",
       "      <td>New Zealand end Rohit Sharma-led India's 12-ma...</td>\n",
       "      <td>New Zealand defeated India by 8 wickets in the...</td>\n",
       "    </tr>\n",
       "    <tr>\n",
       "      <th>3</th>\n",
       "      <td>Aegon life iTerm insurance plan helps customer...</td>\n",
       "      <td>With Aegon Life iTerm Insurance plan, customer...</td>\n",
       "    </tr>\n",
       "    <tr>\n",
       "      <th>4</th>\n",
       "      <td>Have known Hirani for yrs, what if MeToo claim...</td>\n",
       "      <td>Speaking about the sexual harassment allegatio...</td>\n",
       "    </tr>\n",
       "  </tbody>\n",
       "</table>\n",
       "</div>"
      ],
      "text/plain": [
       "                                           headlines  \\\n",
       "0  upGrad learner switches to career in ML & Al w...   \n",
       "1  Delhi techie wins free food from Swiggy for on...   \n",
       "2  New Zealand end Rohit Sharma-led India's 12-ma...   \n",
       "3  Aegon life iTerm insurance plan helps customer...   \n",
       "4  Have known Hirani for yrs, what if MeToo claim...   \n",
       "\n",
       "                                                text  \n",
       "0  Saurav Kant, an alumnus of upGrad and IIIT-B's...  \n",
       "1  Kunal Shah's credit card bill payment platform...  \n",
       "2  New Zealand defeated India by 8 wickets in the...  \n",
       "3  With Aegon Life iTerm Insurance plan, customer...  \n",
       "4  Speaking about the sexual harassment allegatio...  "
      ]
     },
     "execution_count": 5,
     "metadata": {},
     "output_type": "execute_result"
    }
   ],
   "source": [
    "data.head()    # 5개만 출력"
   ]
  },
  {
   "cell_type": "code",
   "execution_count": 6,
   "id": "e751c6cd",
   "metadata": {},
   "outputs": [
    {
     "data": {
      "text/html": [
       "<div>\n",
       "<style scoped>\n",
       "    .dataframe tbody tr th:only-of-type {\n",
       "        vertical-align: middle;\n",
       "    }\n",
       "\n",
       "    .dataframe tbody tr th {\n",
       "        vertical-align: top;\n",
       "    }\n",
       "\n",
       "    .dataframe thead th {\n",
       "        text-align: right;\n",
       "    }\n",
       "</style>\n",
       "<table border=\"1\" class=\"dataframe\">\n",
       "  <thead>\n",
       "    <tr style=\"text-align: right;\">\n",
       "      <th></th>\n",
       "      <th>text</th>\n",
       "      <th>headlines</th>\n",
       "    </tr>\n",
       "  </thead>\n",
       "  <tbody>\n",
       "    <tr>\n",
       "      <th>0</th>\n",
       "      <td>Saurav Kant, an alumnus of upGrad and IIIT-B's...</td>\n",
       "      <td>upGrad learner switches to career in ML &amp; Al w...</td>\n",
       "    </tr>\n",
       "    <tr>\n",
       "      <th>1</th>\n",
       "      <td>Kunal Shah's credit card bill payment platform...</td>\n",
       "      <td>Delhi techie wins free food from Swiggy for on...</td>\n",
       "    </tr>\n",
       "    <tr>\n",
       "      <th>2</th>\n",
       "      <td>New Zealand defeated India by 8 wickets in the...</td>\n",
       "      <td>New Zealand end Rohit Sharma-led India's 12-ma...</td>\n",
       "    </tr>\n",
       "    <tr>\n",
       "      <th>3</th>\n",
       "      <td>With Aegon Life iTerm Insurance plan, customer...</td>\n",
       "      <td>Aegon life iTerm insurance plan helps customer...</td>\n",
       "    </tr>\n",
       "    <tr>\n",
       "      <th>4</th>\n",
       "      <td>Speaking about the sexual harassment allegatio...</td>\n",
       "      <td>Have known Hirani for yrs, what if MeToo claim...</td>\n",
       "    </tr>\n",
       "  </tbody>\n",
       "</table>\n",
       "</div>"
      ],
      "text/plain": [
       "                                                text  \\\n",
       "0  Saurav Kant, an alumnus of upGrad and IIIT-B's...   \n",
       "1  Kunal Shah's credit card bill payment platform...   \n",
       "2  New Zealand defeated India by 8 wickets in the...   \n",
       "3  With Aegon Life iTerm Insurance plan, customer...   \n",
       "4  Speaking about the sexual harassment allegatio...   \n",
       "\n",
       "                                           headlines  \n",
       "0  upGrad learner switches to career in ML & Al w...  \n",
       "1  Delhi techie wins free food from Swiggy for on...  \n",
       "2  New Zealand end Rohit Sharma-led India's 12-ma...  \n",
       "3  Aegon life iTerm insurance plan helps customer...  \n",
       "4  Have known Hirani for yrs, what if MeToo claim...  "
      ]
     },
     "execution_count": 6,
     "metadata": {},
     "output_type": "execute_result"
    }
   ],
   "source": [
    "data = data[['text','headlines']] # 훈련에 사용할 headlines 열과 text 열만 별도 저장&출력\n",
    "                                 # text 열의 내용을 요약한 것이 headlines 열\n",
    "data.head()"
   ]
  },
  {
   "cell_type": "markdown",
   "id": "d74fd8cf",
   "metadata": {},
   "source": [
    "### 2-1. (1) 데이터 정리\n",
    "#### 중복 샘플 제거"
   ]
  },
  {
   "cell_type": "code",
   "execution_count": 7,
   "id": "3720a228",
   "metadata": {},
   "outputs": [
    {
     "name": "stdout",
     "output_type": "stream",
     "text": [
      "text 열에서 중복을 배제한 유일한 샘플의 수 : 98360\n",
      "headlines 열에서 중복을 배제한 유일한 샘플의 수 : 98280\n"
     ]
    }
   ],
   "source": [
    "print('text 열에서 중복을 배제한 유일한 샘플의 수 :', data['text'].nunique())\n",
    "print('headlines 열에서 중복을 배제한 유일한 샘플의 수 :', data['headlines'].nunique())"
   ]
  },
  {
   "cell_type": "code",
   "execution_count": 8,
   "id": "91ddb2bf",
   "metadata": {},
   "outputs": [
    {
     "name": "stdout",
     "output_type": "stream",
     "text": [
      "전체 샘플수 : 98360\n"
     ]
    }
   ],
   "source": [
    "data.drop_duplicates(subset = ['text'], inplace=True)  # drop_duplicates() : 중복 샘플을 제거\n",
    "print('전체 샘플수 :', (len(data)))"
   ]
  },
  {
   "cell_type": "code",
   "execution_count": 9,
   "id": "92c69f04",
   "metadata": {},
   "outputs": [
    {
     "name": "stdout",
     "output_type": "stream",
     "text": [
      "text         0\n",
      "headlines    0\n",
      "dtype: int64\n"
     ]
    }
   ],
   "source": [
    "print(data.isnull().sum())  # Null 값이 있는지 확인"
   ]
  },
  {
   "cell_type": "markdown",
   "id": "30b243c9",
   "metadata": {},
   "source": [
    "#### 텍스트 정규화"
   ]
  },
  {
   "cell_type": "code",
   "execution_count": 10,
   "id": "d013c1d0",
   "metadata": {},
   "outputs": [
    {
     "name": "stdout",
     "output_type": "stream",
     "text": [
      "정규화 사전의 수:  120\n"
     ]
    }
   ],
   "source": [
    "contractions = {\"ain't\": \"is not\", \"aren't\": \"are not\",\"can't\": \"cannot\", \"'cause\": \"because\", \"could've\": \"could have\", \"couldn't\": \"could not\",\n",
    "                           \"didn't\": \"did not\",  \"doesn't\": \"does not\", \"don't\": \"do not\", \"hadn't\": \"had not\", \"hasn't\": \"has not\", \"haven't\": \"have not\",\n",
    "                           \"he'd\": \"he would\",\"he'll\": \"he will\", \"he's\": \"he is\", \"how'd\": \"how did\", \"how'd'y\": \"how do you\", \"how'll\": \"how will\", \"how's\": \"how is\",\n",
    "                           \"I'd\": \"I would\", \"I'd've\": \"I would have\", \"I'll\": \"I will\", \"I'll've\": \"I will have\",\"I'm\": \"I am\", \"I've\": \"I have\", \"i'd\": \"i would\",\n",
    "                           \"i'd've\": \"i would have\", \"i'll\": \"i will\",  \"i'll've\": \"i will have\",\"i'm\": \"i am\", \"i've\": \"i have\", \"isn't\": \"is not\", \"it'd\": \"it would\",\n",
    "                           \"it'd've\": \"it would have\", \"it'll\": \"it will\", \"it'll've\": \"it will have\",\"it's\": \"it is\", \"let's\": \"let us\", \"ma'am\": \"madam\",\n",
    "                           \"mayn't\": \"may not\", \"might've\": \"might have\",\"mightn't\": \"might not\",\"mightn't've\": \"might not have\", \"must've\": \"must have\",\n",
    "                           \"mustn't\": \"must not\", \"mustn't've\": \"must not have\", \"needn't\": \"need not\", \"needn't've\": \"need not have\",\"o'clock\": \"of the clock\",\n",
    "                           \"oughtn't\": \"ought not\", \"oughtn't've\": \"ought not have\", \"shan't\": \"shall not\", \"sha'n't\": \"shall not\", \"shan't've\": \"shall not have\",\n",
    "                           \"she'd\": \"she would\", \"she'd've\": \"she would have\", \"she'll\": \"she will\", \"she'll've\": \"she will have\", \"she's\": \"she is\",\n",
    "                           \"should've\": \"should have\", \"shouldn't\": \"should not\", \"shouldn't've\": \"should not have\", \"so've\": \"so have\",\"so's\": \"so as\",\n",
    "                           \"this's\": \"this is\",\"that'd\": \"that would\", \"that'd've\": \"that would have\", \"that's\": \"that is\", \"there'd\": \"there would\",\n",
    "                           \"there'd've\": \"there would have\", \"there's\": \"there is\", \"here's\": \"here is\",\"they'd\": \"they would\", \"they'd've\": \"they would have\",\n",
    "                           \"they'll\": \"they will\", \"they'll've\": \"they will have\", \"they're\": \"they are\", \"they've\": \"they have\", \"to've\": \"to have\",\n",
    "                           \"wasn't\": \"was not\", \"we'd\": \"we would\", \"we'd've\": \"we would have\", \"we'll\": \"we will\", \"we'll've\": \"we will have\", \"we're\": \"we are\",\n",
    "                           \"we've\": \"we have\", \"weren't\": \"were not\", \"what'll\": \"what will\", \"what'll've\": \"what will have\", \"what're\": \"what are\",\n",
    "                           \"what's\": \"what is\", \"what've\": \"what have\", \"when's\": \"when is\", \"when've\": \"when have\", \"where'd\": \"where did\", \"where's\": \"where is\",\n",
    "                           \"where've\": \"where have\", \"who'll\": \"who will\", \"who'll've\": \"who will have\", \"who's\": \"who is\", \"who've\": \"who have\",\n",
    "                           \"why's\": \"why is\", \"why've\": \"why have\", \"will've\": \"will have\", \"won't\": \"will not\", \"won't've\": \"will not have\",\n",
    "                           \"would've\": \"would have\", \"wouldn't\": \"would not\", \"wouldn't've\": \"would not have\", \"y'all\": \"you all\",\n",
    "                           \"y'all'd\": \"you all would\",\"y'all'd've\": \"you all would have\",\"y'all're\": \"you all are\",\"y'all've\": \"you all have\",\n",
    "                           \"you'd\": \"you would\", \"you'd've\": \"you would have\", \"you'll\": \"you will\", \"you'll've\": \"you will have\",\n",
    "                           \"you're\": \"you are\", \"you've\": \"you have\"}\n",
    "\n",
    "print(\"정규화 사전의 수: \", len(contractions))"
   ]
  },
  {
   "cell_type": "markdown",
   "id": "3ed43cd6",
   "metadata": {},
   "source": [
    "#### 불용어 제거"
   ]
  },
  {
   "cell_type": "code",
   "execution_count": 11,
   "id": "b9dd6ef3",
   "metadata": {},
   "outputs": [
    {
     "name": "stdout",
     "output_type": "stream",
     "text": [
      "불용어 개수 : 179\n",
      "['i', 'me', 'my', 'myself', 'we', 'our', 'ours', 'ourselves', 'you', \"you're\", \"you've\", \"you'll\", \"you'd\", 'your', 'yours', 'yourself', 'yourselves', 'he', 'him', 'his', 'himself', 'she', \"she's\", 'her', 'hers', 'herself', 'it', \"it's\", 'its', 'itself', 'they', 'them', 'their', 'theirs', 'themselves', 'what', 'which', 'who', 'whom', 'this', 'that', \"that'll\", 'these', 'those', 'am', 'is', 'are', 'was', 'were', 'be', 'been', 'being', 'have', 'has', 'had', 'having', 'do', 'does', 'did', 'doing', 'a', 'an', 'the', 'and', 'but', 'if', 'or', 'because', 'as', 'until', 'while', 'of', 'at', 'by', 'for', 'with', 'about', 'against', 'between', 'into', 'through', 'during', 'before', 'after', 'above', 'below', 'to', 'from', 'up', 'down', 'in', 'out', 'on', 'off', 'over', 'under', 'again', 'further', 'then', 'once', 'here', 'there', 'when', 'where', 'why', 'how', 'all', 'any', 'both', 'each', 'few', 'more', 'most', 'other', 'some', 'such', 'no', 'nor', 'not', 'only', 'own', 'same', 'so', 'than', 'too', 'very', 's', 't', 'can', 'will', 'just', 'don', \"don't\", 'should', \"should've\", 'now', 'd', 'll', 'm', 'o', 're', 've', 'y', 'ain', 'aren', \"aren't\", 'couldn', \"couldn't\", 'didn', \"didn't\", 'doesn', \"doesn't\", 'hadn', \"hadn't\", 'hasn', \"hasn't\", 'haven', \"haven't\", 'isn', \"isn't\", 'ma', 'mightn', \"mightn't\", 'mustn', \"mustn't\", 'needn', \"needn't\", 'shan', \"shan't\", 'shouldn', \"shouldn't\", 'wasn', \"wasn't\", 'weren', \"weren't\", 'won', \"won't\", 'wouldn', \"wouldn't\"]\n"
     ]
    }
   ],
   "source": [
    "print('불용어 개수 :', len(stopwords.words('english') ))\n",
    "print(stopwords.words('english'))"
   ]
  },
  {
   "cell_type": "code",
   "execution_count": 12,
   "id": "fb9533c8",
   "metadata": {},
   "outputs": [
    {
     "name": "stdout",
     "output_type": "stream",
     "text": [
      "=3\n"
     ]
    }
   ],
   "source": [
    "# 데이터 전처리 함수\n",
    "def preprocess_sentence(sentence, remove_stopwords=True):\n",
    "    sentence = sentence.lower() # 텍스트 소문자화\n",
    "    sentence = BeautifulSoup(sentence, \"lxml\").text # <br />, <a href = ...> 등의 html 태그 제거\n",
    "    sentence = re.sub(r'\\([^)]*\\)', '', sentence) # 괄호로 닫힌 문자열 (...) 제거 Ex) my husband (and myself!) for => my husband for\n",
    "    sentence = re.sub('\"','', sentence) # 쌍따옴표 \" 제거\n",
    "    sentence = ' '.join([contractions[t] if t in contractions else t for t in sentence.split(\" \")]) # 약어 정규화\n",
    "    sentence = re.sub(r\"'s\\b\",\"\", sentence) # 소유격 제거. Ex) roland's -> roland\n",
    "    sentence = re.sub(\"[^a-zA-Z]\", \" \", sentence) # 영어 외 문자(숫자, 특수문자 등) 공백으로 변환\n",
    "    sentence = re.sub('[m]{2,}', 'mm', sentence) # m이 3개 이상이면 2개로 변경. Ex) ummmmmmm yeah -> umm yeah\n",
    "    \n",
    "    # 불용어 제거 (text)\n",
    "    if remove_stopwords:\n",
    "        tokens = ' '.join(word for word in sentence.split() if not word in stopwords.words('english') if len(word) > 1)\n",
    "    # 불용어 미제거 (headlines)\n",
    "    else:\n",
    "        tokens = ' '.join(word for word in sentence.split() if len(word) > 1)\n",
    "    return tokens\n",
    "print('=3')"
   ]
  },
  {
   "cell_type": "markdown",
   "id": "fc50dbaa",
   "metadata": {},
   "source": [
    "* NLTK를 이용해 불용어를 제거하는 파트 : text 전처리 시에서만 호출하고 이미 상대적으로 문장 길이가 짧은 headlines 전처리할 때는 호출하지 않을 예정.\n",
    "* Abstractive한 문장 요약 결과문이 자연스러운 문장이 되려면 이 불용어들이 headlines 남아 있는 게 더 좋을 것 같음.\n",
    "→ remove_stopwords 추가, if문 추가"
   ]
  },
  {
   "cell_type": "code",
   "execution_count": 13,
   "id": "4768a014",
   "metadata": {},
   "outputs": [
    {
     "name": "stdout",
     "output_type": "stream",
     "text": [
      "text:  everything bought great infact ordered twice third ordered wasfor mother father\n",
      "headlines: great way to start the day\n"
     ]
    }
   ],
   "source": [
    "# 전처리 전, 후의 결과를 확인하기 위해서 임의의 text와 headlines를 만들어 함수를 호출\n",
    "temp_text = 'Everything I bought was great, infact I ordered twice and the third ordered was<br />for my mother and father.'\n",
    "temp_headlines = 'Great way to start (or finish) the day!!!'\n",
    "\n",
    "print(\"text: \", preprocess_sentence(temp_text))\n",
    "print(\"headlines:\", preprocess_sentence(temp_headlines, False))  # 불용어를 제거하지 않습니다."
   ]
  },
  {
   "cell_type": "markdown",
   "id": "bb93a1d0",
   "metadata": {},
   "source": [
    "* 모든 알파벳이 소문자로 변환\n",
    "* \\<br />과 같은 html 태그가 제거\n",
    "* (or finish)와 같은 괄호로 묶였던 단어 시퀀스가 제거\n",
    "* 특수문자가 제거(영어만 남음.)"
   ]
  },
  {
   "cell_type": "markdown",
   "id": "6b4c82ff",
   "metadata": {},
   "source": [
    "#### 훈련 데이터 전체에 대해서 전처리\n",
    "\n",
    "* Text의 경우에는 불용어를 제거\n",
    "* headlines의 경우에는 불용어를 제거하지 않을 것\n",
    "= 따로 호출해서 진행"
   ]
  },
  {
   "cell_type": "code",
   "execution_count": 15,
   "id": "362d09dc",
   "metadata": {},
   "outputs": [
    {
     "name": "stdout",
     "output_type": "stream",
     "text": [
      "Text 전처리 후 결과:  ['saurav kant alumnus upgrad iiit pg program machine learning artificial intelligence sr systems engineer infosys almost years work experience program upgrad degree career support helped transition data scientist tech mahindra salary hike upgrad online power learning powered lakh careers', 'kunal shah credit card bill payment platform cred gave users chance win free food swiggy one year pranav kaushik delhi techie bagged reward spending cred coins users get one cred coin per rupee bill paid used avail rewards brands like ixigo bookmyshow ubereats cult fit', 'new zealand defeated india wickets fourth odi hamilton thursday win first match five match odi series india lost international match rohit sharma captaincy consecutive victories dating back march match witnessed india getting seventh lowest total odi cricket history', 'aegon life iterm insurance plan customers enjoy tax benefits premiums paid save taxes plan provides life cover age years also customers options insure critical illnesses disability accidental death benefit rider life cover age years', 'speaking sexual harassment allegations rajkumar hirani sonam kapoor said known hirani many years true metoo movement get derailed metoo movement always believe woman case need reserve judgment added hirani accused assistant worked sanju']\n"
     ]
    }
   ],
   "source": [
    "clean_text = []\n",
    "# 전체 Text 데이터에 대한 전처리 : 10분 이상 시간이 걸릴 수 있습니다. \n",
    "for s in data['text']:\n",
    "    clean_text.append(preprocess_sentence(s))\n",
    "\n",
    "# 전처리 후 출력\n",
    "print(\"Text 전처리 후 결과: \", clean_text[:5])"
   ]
  },
  {
   "cell_type": "code",
   "execution_count": 16,
   "id": "51f023aa",
   "metadata": {},
   "outputs": [
    {
     "name": "stdout",
     "output_type": "stream",
     "text": [
      "headlines 전처리 후 결과:  ['upgrad learner switches to career in ml al with salary hike', 'delhi techie wins free food from swiggy for one year on cred', 'new zealand end rohit sharma led india match winning streak', 'aegon life iterm insurance plan helps customers save tax', 'have known hirani for yrs what if metoo claims are not true sonam']\n"
     ]
    }
   ],
   "source": [
    "clean_headlines = []\n",
    "# 전체 headlines 데이터에 대한 전처리 : 5분 이상 시간이 걸릴 수 있습니다. \n",
    "for s in data['headlines']:\n",
    "    clean_headlines.append(preprocess_sentence(s, False))\n",
    "\n",
    "print(\"headlines 전처리 후 결과: \", clean_headlines[:5])"
   ]
  },
  {
   "cell_type": "raw",
   "id": "68c409ba",
   "metadata": {},
   "source": [
    "* 텍스트 정제 과정 후 다시 한번 빈(empty) 샘플이 생겼는지 확인\n",
    "* 빈(empty) 값을 가진 샘플들이 있다면, 모두 Null 값을 가진 샘플로 대체"
   ]
  },
  {
   "cell_type": "code",
   "execution_count": 17,
   "id": "cf7dc270",
   "metadata": {},
   "outputs": [
    {
     "name": "stdout",
     "output_type": "stream",
     "text": [
      "=3\n"
     ]
    }
   ],
   "source": [
    "# 데이터프레임에 재저장\n",
    "data['text'] = clean_text\n",
    "data['headlines'] = clean_headlines\n",
    "\n",
    "# 빈 값을 Null 값으로 변환\n",
    "data.replace('', np.nan, inplace=True)\n",
    "print('=3')"
   ]
  },
  {
   "cell_type": "code",
   "execution_count": 18,
   "id": "40d01453",
   "metadata": {},
   "outputs": [
    {
     "data": {
      "text/plain": [
       "text         0\n",
       "headlines    0\n",
       "dtype: int64"
      ]
     },
     "execution_count": 18,
     "metadata": {},
     "output_type": "execute_result"
    }
   ],
   "source": [
    "data.isnull().sum()  # .isnull().sum()을 사용해서 Null 값 확인"
   ]
  },
  {
   "cell_type": "code",
   "execution_count": 19,
   "id": "937dfc75",
   "metadata": {},
   "outputs": [
    {
     "name": "stdout",
     "output_type": "stream",
     "text": [
      "전체 샘플수 : 98360\n"
     ]
    }
   ],
   "source": [
    "# 정제 과정에서 모든 단어가 제거되어 생성된 70개의 빈 샘플 제거 \n",
    "data.dropna(axis=0, inplace=True)\n",
    "print('전체 샘플수 :', (len(data)))"
   ]
  },
  {
   "cell_type": "markdown",
   "id": "2b936b09",
   "metadata": {},
   "source": [
    "### 2-1. (2) 훈련데이터와 테스트데이터 나누기\n",
    "#### 샘플의 최대 길이 정하기"
   ]
  },
  {
   "cell_type": "code",
   "execution_count": 20,
   "id": "23b6d391",
   "metadata": {},
   "outputs": [
    {
     "name": "stdout",
     "output_type": "stream",
     "text": [
      "텍스트의 최소 길이 : 1\n",
      "텍스트의 최대 길이 : 60\n",
      "텍스트의 평균 길이 : 35.09968483123221\n",
      "요약의 최소 길이 : 1\n",
      "요약의 최대 길이 : 16\n",
      "요약의 평균 길이 : 9.299532330215534\n"
     ]
    },
    {
     "data": {
      "image/png": "[encoded data removed]",
      "text/plain": [
       "<Figure size 432x288 with 2 Axes>"
      ]
     },
     "metadata": {
      "needs_background": "light"
     },
     "output_type": "display_data"
    },
    {
     "data": {
      "image/png": "[encoded data removed]",
      "text/plain": [
       "<Figure size 432x288 with 1 Axes>"
      ]
     },
     "metadata": {
      "needs_background": "light"
     },
     "output_type": "display_data"
    },
    {
     "data": {
      "image/png": "[encoded data removed]",
      "text/plain": [
       "<Figure size 432x288 with 1 Axes>"
      ]
     },
     "metadata": {
      "needs_background": "light"
     },
     "output_type": "display_data"
    }
   ],
   "source": [
    "# 훈련에 사용할 샘플의 최대 길이 지정\n",
    "\n",
    "# 길이 분포 출력\n",
    "import matplotlib.pyplot as plt\n",
    "\n",
    "text_len = [len(s.split()) for s in data['text']]\n",
    "headlines_len = [len(s.split()) for s in data['headlines']]\n",
    "\n",
    "print('텍스트의 최소 길이 : {}'.format(np.min(text_len)))\n",
    "print('텍스트의 최대 길이 : {}'.format(np.max(text_len)))\n",
    "print('텍스트의 평균 길이 : {}'.format(np.mean(text_len)))\n",
    "print('요약의 최소 길이 : {}'.format(np.min(headlines_len)))\n",
    "print('요약의 최대 길이 : {}'.format(np.max(headlines_len)))\n",
    "print('요약의 평균 길이 : {}'.format(np.mean(headlines_len)))\n",
    "\n",
    "plt.subplot(1,2,1)\n",
    "plt.boxplot(text_len)\n",
    "plt.title('text')\n",
    "plt.subplot(1,2,2)\n",
    "plt.boxplot(headlines_len)\n",
    "plt.title('headlines')\n",
    "plt.tight_layout()\n",
    "plt.show()\n",
    "\n",
    "plt.title('text')\n",
    "plt.hist(text_len, bins = 40)\n",
    "plt.xlabel('length of samples')\n",
    "plt.ylabel('number of samples')\n",
    "plt.show()\n",
    "\n",
    "plt.title('headlines')\n",
    "plt.hist(headlines_len, bins = 40)\n",
    "plt.xlabel('length of samples')\n",
    "plt.ylabel('number of samples')\n",
    "plt.show()"
   ]
  },
  {
   "cell_type": "markdown",
   "id": "7a0dbee8",
   "metadata": {},
   "source": [
    "(위에서부터 차례대로 그래프)\n",
    "* 실제 텍스트와 요약의 길이 분포\n",
    "* 실제 텍스트 샘플 길이별 개수\n",
    "* 요약본 샘플 길이별 개수\n",
    "\n",
    "* text의 경우 최소 길이가 1, 최대 길이가 60.\n",
    "* 평균 길이는 35로 시각화된 그래프로 봤을 때는 대체적으로는 20~ 50의 길이를 가진다는 것을 확인.\n",
    "\n",
    "* headlines의 경우 최소 길이가 1, 최대 길이가 16, 평균 길이가 9로 text에 비해 상대적으로 길이가 매우 짧음.\n",
    "* 그래프로 봤을 때에도 대체적으로 4~14의 길이를 가짐."
   ]
  },
  {
   "cell_type": "code",
   "execution_count": 21,
   "id": "75632a18",
   "metadata": {},
   "outputs": [
    {
     "name": "stdout",
     "output_type": "stream",
     "text": [
      "=3\n"
     ]
    }
   ],
   "source": [
    "# Text와 headlines의 적절한 최대 길이를 임의로 지정\n",
    "\n",
    "text_max_len = 60\n",
    "headlines_max_len = 12\n",
    "print('=3')"
   ]
  },
  {
   "cell_type": "code",
   "execution_count": 22,
   "id": "cbecc8b5",
   "metadata": {},
   "outputs": [
    {
     "name": "stdout",
     "output_type": "stream",
     "text": [
      "=3\n"
     ]
    }
   ],
   "source": [
    "# 길이를 입력하면, 데이터의 몇 %가 해당하는지 계산하는 함수\n",
    "\n",
    "def below_threshold_len(max_len, nested_list):\n",
    "  cnt = 0\n",
    "  for s in nested_list:\n",
    "    if(len(s.split()) <= max_len):\n",
    "        cnt = cnt + 1\n",
    "  print('전체 샘플 중 길이가 %s 이하인 샘플의 비율: %s'%(max_len, (cnt / len(nested_list))))\n",
    "print('=3')"
   ]
  },
  {
   "cell_type": "code",
   "execution_count": 23,
   "id": "1a3d9ed9",
   "metadata": {},
   "outputs": [
    {
     "name": "stdout",
     "output_type": "stream",
     "text": [
      "전체 샘플 중 길이가 60 이하인 샘플의 비율: 1.0\n",
      "전체 샘플 중 길이가 12 이하인 샘플의 비율: 0.9880337535583571\n"
     ]
    }
   ],
   "source": [
    "# 임의의 길이가 몇%의 샘플까지 포함하는지 확인\n",
    "\n",
    "below_threshold_len(text_max_len, data['text'])\n",
    "below_threshold_len(headlines_max_len,  data['headlines'])"
   ]
  },
  {
   "cell_type": "markdown",
   "id": "0ad6d402",
   "metadata": {},
   "source": [
    "* 각각 60과 10로 패딩을 하게 되면 해당 길이보다 긴 샘플들은 내용이 잘리게 됨.\n",
    "* text열과 headlines열 모두 98% 이상 해당 길이로 패딩됨."
   ]
  },
  {
   "cell_type": "code",
   "execution_count": 24,
   "id": "6b053e18",
   "metadata": {},
   "outputs": [
    {
     "name": "stdout",
     "output_type": "stream",
     "text": [
      "전체 샘플수 : 97183\n"
     ]
    }
   ],
   "source": [
    "# 정해진 길이에 맞춰 자르는 것이 아니라, 정해진 길이보다 길면 제외하는 방법으로 데이터를 정제\n",
    "\n",
    "data = data[data['text'].apply(lambda x: len(x.split()) <= text_max_len)]\n",
    "data = data[data['headlines'].apply(lambda x: len(x.split()) <= headlines_max_len)]\n",
    "print('전체 샘플수 :', (len(data)))"
   ]
  },
  {
   "cell_type": "markdown",
   "id": "c06c58a2",
   "metadata": {},
   "source": [
    "#### 시작 토큰과 종료 토큰 추가하기\n",
    "* 시작 토큰은 sostoken, 종료 토큰은 eostoken이라 임의로 명명하고 앞, 뒤로 추가\n",
    "\n",
    "* decoder_input : 디코더의 입력에 해당하면서 시작 토큰이 맨 앞에 있는 문장의 이름\n",
    "* decoder_target : 디코더의 출력 또는 레이블에 해당되면서 종료 토큰이 맨 뒤에 붙는 문장의 이름"
   ]
  },
  {
   "cell_type": "code",
   "execution_count": 25,
   "id": "f9095544",
   "metadata": {},
   "outputs": [
    {
     "data": {
      "text/html": [
       "<div>\n",
       "<style scoped>\n",
       "    .dataframe tbody tr th:only-of-type {\n",
       "        vertical-align: middle;\n",
       "    }\n",
       "\n",
       "    .dataframe tbody tr th {\n",
       "        vertical-align: top;\n",
       "    }\n",
       "\n",
       "    .dataframe thead th {\n",
       "        text-align: right;\n",
       "    }\n",
       "</style>\n",
       "<table border=\"1\" class=\"dataframe\">\n",
       "  <thead>\n",
       "    <tr style=\"text-align: right;\">\n",
       "      <th></th>\n",
       "      <th>text</th>\n",
       "      <th>headlines</th>\n",
       "      <th>decoder_input</th>\n",
       "      <th>decoder_target</th>\n",
       "    </tr>\n",
       "  </thead>\n",
       "  <tbody>\n",
       "    <tr>\n",
       "      <th>0</th>\n",
       "      <td>saurav kant alumnus upgrad iiit pg program mac...</td>\n",
       "      <td>upgrad learner switches to career in ml al wit...</td>\n",
       "      <td>sostoken upgrad learner switches to career in ...</td>\n",
       "      <td>upgrad learner switches to career in ml al wit...</td>\n",
       "    </tr>\n",
       "    <tr>\n",
       "      <th>1</th>\n",
       "      <td>kunal shah credit card bill payment platform c...</td>\n",
       "      <td>delhi techie wins free food from swiggy for on...</td>\n",
       "      <td>sostoken delhi techie wins free food from swig...</td>\n",
       "      <td>delhi techie wins free food from swiggy for on...</td>\n",
       "    </tr>\n",
       "    <tr>\n",
       "      <th>2</th>\n",
       "      <td>new zealand defeated india wickets fourth odi ...</td>\n",
       "      <td>new zealand end rohit sharma led india match w...</td>\n",
       "      <td>sostoken new zealand end rohit sharma led indi...</td>\n",
       "      <td>new zealand end rohit sharma led india match w...</td>\n",
       "    </tr>\n",
       "    <tr>\n",
       "      <th>3</th>\n",
       "      <td>aegon life iterm insurance plan customers enjo...</td>\n",
       "      <td>aegon life iterm insurance plan helps customer...</td>\n",
       "      <td>sostoken aegon life iterm insurance plan helps...</td>\n",
       "      <td>aegon life iterm insurance plan helps customer...</td>\n",
       "    </tr>\n",
       "    <tr>\n",
       "      <th>5</th>\n",
       "      <td>pakistani singer rahat fateh ali khan denied r...</td>\n",
       "      <td>rahat fateh ali khan denies getting notice for...</td>\n",
       "      <td>sostoken rahat fateh ali khan denies getting n...</td>\n",
       "      <td>rahat fateh ali khan denies getting notice for...</td>\n",
       "    </tr>\n",
       "  </tbody>\n",
       "</table>\n",
       "</div>"
      ],
      "text/plain": [
       "                                                text  \\\n",
       "0  saurav kant alumnus upgrad iiit pg program mac...   \n",
       "1  kunal shah credit card bill payment platform c...   \n",
       "2  new zealand defeated india wickets fourth odi ...   \n",
       "3  aegon life iterm insurance plan customers enjo...   \n",
       "5  pakistani singer rahat fateh ali khan denied r...   \n",
       "\n",
       "                                           headlines  \\\n",
       "0  upgrad learner switches to career in ml al wit...   \n",
       "1  delhi techie wins free food from swiggy for on...   \n",
       "2  new zealand end rohit sharma led india match w...   \n",
       "3  aegon life iterm insurance plan helps customer...   \n",
       "5  rahat fateh ali khan denies getting notice for...   \n",
       "\n",
       "                                       decoder_input  \\\n",
       "0  sostoken upgrad learner switches to career in ...   \n",
       "1  sostoken delhi techie wins free food from swig...   \n",
       "2  sostoken new zealand end rohit sharma led indi...   \n",
       "3  sostoken aegon life iterm insurance plan helps...   \n",
       "5  sostoken rahat fateh ali khan denies getting n...   \n",
       "\n",
       "                                      decoder_target  \n",
       "0  upgrad learner switches to career in ml al wit...  \n",
       "1  delhi techie wins free food from swiggy for on...  \n",
       "2  new zealand end rohit sharma led india match w...  \n",
       "3  aegon life iterm insurance plan helps customer...  \n",
       "5  rahat fateh ali khan denies getting notice for...  "
      ]
     },
     "execution_count": 25,
     "metadata": {},
     "output_type": "execute_result"
    }
   ],
   "source": [
    "# 요약 데이터에는 시작 토큰과 종료 토큰을 추가한다.\n",
    "data['decoder_input'] = data['headlines'].apply(lambda x : 'sostoken '+ x)\n",
    "data['decoder_target'] = data['headlines'].apply(lambda x : x + ' eostoken')\n",
    "data.head()"
   ]
  },
  {
   "cell_type": "code",
   "execution_count": 26,
   "id": "73bf0ef3",
   "metadata": {},
   "outputs": [
    {
     "name": "stdout",
     "output_type": "stream",
     "text": [
      "=3\n"
     ]
    }
   ],
   "source": [
    "# 인코더의 입력, 디코더의 입력과 레이블을 각각 다시 Numpy 타입으로 저장\n",
    "\n",
    "encoder_input = np.array(data['text']) # 인코더의 입력\n",
    "decoder_input = np.array(data['decoder_input']) # 디코더의 입력\n",
    "decoder_target = np.array(data['decoder_target']) # 디코더의 레이블\n",
    "print('=3')"
   ]
  },
  {
   "cell_type": "markdown",
   "id": "011b31bf",
   "metadata": {},
   "source": [
    "#### 훈련 데이터와 테스트 데이터 분리"
   ]
  },
  {
   "cell_type": "code",
   "execution_count": 27,
   "id": "85390ca7",
   "metadata": {},
   "outputs": [
    {
     "name": "stdout",
     "output_type": "stream",
     "text": [
      "[38200 20916 89301 ... 84595 61261  3039]\n"
     ]
    }
   ],
   "source": [
    "# encoder_input과 크기와 형태가 같은 순서가 섞인 정수 시퀀스 생성\n",
    "\n",
    "indices = np.arange(encoder_input.shape[0])\n",
    "np.random.shuffle(indices)\n",
    "print(indices)"
   ]
  },
  {
   "cell_type": "code",
   "execution_count": 28,
   "id": "fbaadc63",
   "metadata": {},
   "outputs": [
    {
     "name": "stdout",
     "output_type": "stream",
     "text": [
      "=3\n"
     ]
    }
   ],
   "source": [
    "# 데이터의 샘플 순서를 정의(:잘 섞인 샘플)\n",
    "\n",
    "encoder_input = encoder_input[indices]\n",
    "decoder_input = decoder_input[indices]\n",
    "decoder_target = decoder_target[indices]\n",
    "print('=3')"
   ]
  },
  {
   "cell_type": "code",
   "execution_count": 29,
   "id": "fc4fb941",
   "metadata": {},
   "outputs": [
    {
     "name": "stdout",
     "output_type": "stream",
     "text": [
      "테스트 데이터의 수 : 19436\n"
     ]
    }
   ],
   "source": [
    "# 테스트 데이터의 크기를 정의\n",
    "\n",
    "n_of_val = int(len(encoder_input)*0.2)\n",
    "print('테스트 데이터의 수 :', n_of_val)"
   ]
  },
  {
   "cell_type": "code",
   "execution_count": 30,
   "id": "dd31bd44",
   "metadata": {},
   "outputs": [
    {
     "name": "stdout",
     "output_type": "stream",
     "text": [
      "훈련 데이터의 개수 : 77747\n",
      "훈련 레이블의 개수 : 77747\n",
      "테스트 데이터의 개수 : 19436\n",
      "테스트 레이블의 개수 : 19436\n"
     ]
    }
   ],
   "source": [
    "# 정의한 테스트 데이터의 개수를 이용해 전체 데이터를 양분 (:표시의 위치 주의)\n",
    "\n",
    "encoder_input_train = encoder_input[:-n_of_val]\n",
    "decoder_input_train = decoder_input[:-n_of_val]\n",
    "decoder_target_train = decoder_target[:-n_of_val]\n",
    "\n",
    "encoder_input_test = encoder_input[-n_of_val:]\n",
    "decoder_input_test = decoder_input[-n_of_val:]\n",
    "decoder_target_test = decoder_target[-n_of_val:]\n",
    "\n",
    "print('훈련 데이터의 개수 :', len(encoder_input_train))\n",
    "print('훈련 레이블의 개수 :', len(decoder_input_train))\n",
    "print('테스트 데이터의 개수 :', len(encoder_input_test))\n",
    "print('테스트 레이블의 개수 :', len(decoder_input_test))"
   ]
  },
  {
   "cell_type": "markdown",
   "id": "460a77da",
   "metadata": {},
   "source": [
    "### (3) 정수 인코딩\n",
    "#### 단어 집합(vocabulary) 만들기 및 정수 인코딩"
   ]
  },
  {
   "cell_type": "code",
   "execution_count": 31,
   "id": "3b3daaa1",
   "metadata": {},
   "outputs": [
    {
     "name": "stdout",
     "output_type": "stream",
     "text": [
      "=3\n"
     ]
    }
   ],
   "source": [
    "# 입력된 훈련 데이터로부터 단어 집합 생성\n",
    "\n",
    "src_tokenizer = Tokenizer() # 토크나이저 정의\n",
    "src_tokenizer.fit_on_texts(encoder_input_train) # 입력된 데이터로부터 단어 집합 생성\n",
    "print('=3')"
   ]
  },
  {
   "cell_type": "markdown",
   "id": "1f529edc",
   "metadata": {},
   "source": [
    "* 단어 집합이 생성되는 동시에 각 단어에 고유한 정수가 부여\n",
    "* 빈도수가 낮은 단어들은 훈련 데이터에서 제외"
   ]
  },
  {
   "cell_type": "code",
   "execution_count": 32,
   "id": "b1f773ba",
   "metadata": {},
   "outputs": [
    {
     "name": "stdout",
     "output_type": "stream",
     "text": [
      "단어 집합(vocabulary)의 크기 : 69309\n",
      "등장 빈도가 6번 이하인 희귀 단어의 수: 47249\n",
      "단어 집합에서 희귀 단어를 제외시킬 경우의 단어 집합의 크기 22060\n",
      "단어 집합에서 희귀 단어의 비율: 68.17152173599388\n",
      "전체 등장 빈도에서 희귀 단어 등장 빈도 비율: 3.513971179816199\n"
     ]
    }
   ],
   "source": [
    "threshold = 7\n",
    "total_cnt = len(src_tokenizer.word_index) # 단어의 수\n",
    "rare_cnt = 0 # 등장 빈도수가 threshold보다 작은 단어의 개수를 카운트\n",
    "total_freq = 0 # 훈련 데이터의 전체 단어 빈도수 총 합\n",
    "rare_freq = 0 # 등장 빈도수가 threshold보다 작은 단어의 등장 빈도수의 총 합\n",
    "\n",
    "# 단어와 빈도수의 쌍(pair)을 key와 value로 받는다.\n",
    "for key, value in src_tokenizer.word_counts.items():  # 단어와 각 단어의 등장 빈도수가 저장돼 있음\n",
    "    total_freq = total_freq + value\n",
    "\n",
    "    # 단어의 등장 빈도수가 threshold보다 작으면\n",
    "    if(value < threshold):\n",
    "        rare_cnt = rare_cnt + 1\n",
    "        rare_freq = rare_freq + value\n",
    "\n",
    "print('단어 집합(vocabulary)의 크기 :', total_cnt)\n",
    "print('등장 빈도가 %s번 이하인 희귀 단어의 수: %s'%(threshold - 1, rare_cnt))\n",
    "print('단어 집합에서 희귀 단어를 제외시킬 경우의 단어 집합의 크기 %s'%(total_cnt - rare_cnt))\n",
    "print(\"단어 집합에서 희귀 단어의 비율:\", (rare_cnt / total_cnt)*100)\n",
    "print(\"전체 등장 빈도에서 희귀 단어 등장 빈도 비율:\", (rare_freq / total_freq)*100)"
   ]
  },
  {
   "cell_type": "markdown",
   "id": "0f799c52",
   "metadata": {},
   "source": [
    "* 등장 빈도가 threshold 값인 7회 미만, 즉 6회 이하인 단어들은 단어 집합에서 65% 이상을 차지.\n",
    "* 실제로 훈련 데이터에서 등장 빈도로 차지하는 비중은 상대적으로 적은 수치인 3.5%.\n",
    "\n",
    "* 등장 빈도가 6회 이하인 단어들은 정수 인코딩 과정에서 빼고, 훈련 데이터에서 제거.\n",
    "* 위에서 이를 제외한 단어 집합의 크기를 8천여 개로 계산, 이와 비슷한 값으로 어림잡아 단어 집합의 크기를 22,000으로 제한."
   ]
  },
  {
   "cell_type": "code",
   "execution_count": 33,
   "id": "29a5b3b9",
   "metadata": {},
   "outputs": [
    {
     "name": "stdout",
     "output_type": "stream",
     "text": [
      "=3\n"
     ]
    }
   ],
   "source": [
    "src_vocab = 22000\n",
    "src_tokenizer = Tokenizer(num_words=src_vocab) # 단어 집합의 크기를 22,000으로 제한\n",
    "src_tokenizer.fit_on_texts(encoder_input_train) # 단어 집합 재생성\n",
    "print('=3')"
   ]
  },
  {
   "cell_type": "code",
   "execution_count": 34,
   "id": "6d452902",
   "metadata": {},
   "outputs": [
    {
     "name": "stdout",
     "output_type": "stream",
     "text": [
      "[[78, 5671, 6358, 186, 4, 424, 4628, 2000, 308, 71, 785, 482, 105, 424, 308, 17, 78, 201, 533, 4628, 701, 471, 201, 533, 1326, 90, 23], [78, 1952, 1341, 628, 82, 2694, 221, 761, 1553, 112, 276, 14737, 10, 35, 3821, 127, 457, 590, 1281, 5490, 14237, 1062, 35, 315, 2481, 4], [2105, 7, 70, 2640, 102, 283, 19432, 22, 1342, 25, 70, 450, 363, 121, 256, 893, 497, 3862, 1651, 70, 102, 301, 51, 426, 70, 1651, 283, 19432, 275, 619, 210, 1095, 2137, 314, 12870, 1249, 3504, 298]]\n"
     ]
    }
   ],
   "source": [
    "# 텍스트 시퀀스를 정수 시퀀스로 변환 : texts_to_sequences()\n",
    "encoder_input_train = src_tokenizer.texts_to_sequences(encoder_input_train)\n",
    "encoder_input_test = src_tokenizer.texts_to_sequences(encoder_input_test)\n",
    "\n",
    "# 잘 진행되었는지 샘플 출력\n",
    "print(encoder_input_train[:3])"
   ]
  },
  {
   "cell_type": "code",
   "execution_count": 35,
   "id": "a732ebb9",
   "metadata": {},
   "outputs": [
    {
     "name": "stdout",
     "output_type": "stream",
     "text": [
      "=3\n"
     ]
    }
   ],
   "source": [
    "tar_tokenizer = Tokenizer()\n",
    "tar_tokenizer.fit_on_texts(decoder_input_train)  #  전체 단어 집합과 각 단어에 대한 빈도수를 계산\n",
    "print('=3')"
   ]
  },
  {
   "cell_type": "code",
   "execution_count": 36,
   "id": "57931a0a",
   "metadata": {},
   "outputs": [
    {
     "name": "stdout",
     "output_type": "stream",
     "text": [
      "단어 집합(vocabulary)의 크기 : 29955\n",
      "등장 빈도가 5번 이하인 희귀 단어의 수: 19563\n",
      "단어 집합에서 희귀 단어를 제외시킬 경우의 단어 집합의 크기 10392\n",
      "단어 집합에서 희귀 단어의 비율: 65.30796194291437\n",
      "전체 등장 빈도에서 희귀 단어 등장 빈도 비율: 4.685610033978609\n"
     ]
    }
   ],
   "source": [
    "# 등장 빈도수가 6회 미만인 단어들이 이 데이터에서 얼만큼의 비중을 차지하는지 확인\n",
    "\n",
    "threshold = 6\n",
    "total_cnt = len(tar_tokenizer.word_index) # 단어의 수\n",
    "rare_cnt = 0 # 등장 빈도수가 threshold보다 작은 단어의 개수를 카운트\n",
    "total_freq = 0 # 훈련 데이터의 전체 단어 빈도수 총 합\n",
    "rare_freq = 0 # 등장 빈도수가 threshold보다 작은 단어의 등장 빈도수의 총 합\n",
    "\n",
    "# 단어와 빈도수의 쌍(pair)을 key와 value로 받는다.\n",
    "for key, value in tar_tokenizer.word_counts.items():\n",
    "    total_freq = total_freq + value\n",
    "\n",
    "    # 단어의 등장 빈도수가 threshold보다 작으면\n",
    "    if(value < threshold):\n",
    "        rare_cnt = rare_cnt + 1\n",
    "        rare_freq = rare_freq + value\n",
    "\n",
    "print('단어 집합(vocabulary)의 크기 :', total_cnt)\n",
    "print('등장 빈도가 %s번 이하인 희귀 단어의 수: %s'%(threshold - 1, rare_cnt))\n",
    "print('단어 집합에서 희귀 단어를 제외시킬 경우의 단어 집합의 크기 %s'%(total_cnt - rare_cnt))\n",
    "print(\"단어 집합에서 희귀 단어의 비율:\", (rare_cnt / total_cnt)*100)\n",
    "print(\"전체 등장 빈도에서 희귀 단어 등장 빈도 비율:\", (rare_freq / total_freq)*100)"
   ]
  },
  {
   "cell_type": "markdown",
   "id": "55e158dd",
   "metadata": {},
   "source": [
    "* 등장 빈도가 5회 이하인 단어들은 단어 집합에서 약 65%를 차지.\n",
    "* 실제로 훈련 데이터에서 등장 빈도로 차지하는 비중은 상대적으로 매우 적은 수치인 4.7%.\n",
    "* 아까 했던 것과 동일하게 이 단어들은 모두 제거.\n",
    "*  어림잡아 10,000을 단어 집합의 크기로 제한."
   ]
  },
  {
   "cell_type": "code",
   "execution_count": 37,
   "id": "9d7c3622",
   "metadata": {},
   "outputs": [
    {
     "name": "stdout",
     "output_type": "stream",
     "text": [
      "input\n",
      "input  [[1, 117, 478, 1713, 2871, 7, 4971, 386, 7608, 3, 327], [1, 263, 13, 1353, 1944, 15, 159, 1317], [1, 1166, 36, 188, 2026, 72, 155, 188], [1, 2248, 4972, 385, 6, 1196, 8, 43, 36, 1945, 922], [1, 140, 372, 18, 2663, 1022, 7, 4509, 16, 1092, 201]]\n",
      "target\n",
      "decoder  [[117, 478, 1713, 2871, 7, 4971, 386, 7608, 3, 327, 2], [263, 13, 1353, 1944, 15, 159, 1317, 2], [1166, 36, 188, 2026, 72, 155, 188, 2], [2248, 4972, 385, 6, 1196, 8, 43, 36, 1945, 922, 2], [140, 372, 18, 2663, 1022, 7, 4509, 16, 1092, 201, 2]]\n"
     ]
    }
   ],
   "source": [
    "tar_vocab = 10000\n",
    "tar_tokenizer = Tokenizer(num_words=tar_vocab) \n",
    "tar_tokenizer.fit_on_texts(decoder_input_train)\n",
    "tar_tokenizer.fit_on_texts(decoder_target_train)\n",
    "\n",
    "# 텍스트 시퀀스를 정수 시퀀스로 변환\n",
    "decoder_input_train = tar_tokenizer.texts_to_sequences(decoder_input_train) \n",
    "decoder_target_train = tar_tokenizer.texts_to_sequences(decoder_target_train)\n",
    "decoder_input_test = tar_tokenizer.texts_to_sequences(decoder_input_test)\n",
    "decoder_target_test = tar_tokenizer.texts_to_sequences(decoder_target_test)\n",
    "\n",
    "# 잘 변환되었는지 확인\n",
    "print('input')\n",
    "print('input ',decoder_input_train[:5])\n",
    "print('target')\n",
    "print('decoder ',decoder_target_train[:5])"
   ]
  },
  {
   "cell_type": "markdown",
   "id": "23a64526",
   "metadata": {},
   "source": [
    "* 전체 데이터에서 빈도수가 낮은 단어가 삭제되었다는 것은 빈도수가 낮은 단어만으로 구성되었던 샘플들은 이제 빈(empty) 샘플이 되었을 가능성.\n",
    "* 이 현상은 길이가 상대적으로 길었던 원문(text)의 경우에는 문제가 별로 없겠지만, 애초에 평균 길이가 9밖에 되지 않았던 요약문(headlines)의 경우에는 이 현상이 굉장히 두드러졌을 가능성이 높음."
   ]
  },
  {
   "cell_type": "code",
   "execution_count": 38,
   "id": "00d8c0da",
   "metadata": {},
   "outputs": [
    {
     "name": "stdout",
     "output_type": "stream",
     "text": [
      "삭제할 훈련 데이터의 개수 : 354\n",
      "삭제할 테스트 데이터의 개수 : 87\n",
      "훈련 데이터의 개수 : 77393\n",
      "훈련 레이블의 개수 : 77393\n",
      "테스트 데이터의 개수 : 19349\n",
      "테스트 레이블의 개수 : 19349\n"
     ]
    }
   ],
   "source": [
    "# 훈련 데이터와 테스트 데이터에 대해서 요약문의 길이가 5인 경우의 인덱스를 각각 drop_train과 drop_test에 라는 변수에 저장\n",
    "\n",
    "drop_train = [index for index, sentence in enumerate(decoder_input_train) if len(sentence) == 5]\n",
    "drop_test = [index for index, sentence in enumerate(decoder_input_test) if len(sentence) == 5]\n",
    "\n",
    "print('삭제할 훈련 데이터의 개수 :', len(drop_train))\n",
    "print('삭제할 테스트 데이터의 개수 :', len(drop_test))\n",
    "\n",
    "encoder_input_train = [sentence for index, sentence in enumerate(encoder_input_train) if index not in drop_train]\n",
    "decoder_input_train = [sentence for index, sentence in enumerate(decoder_input_train) if index not in drop_train]\n",
    "decoder_target_train = [sentence for index, sentence in enumerate(decoder_target_train) if index not in drop_train]\n",
    "\n",
    "encoder_input_test = [sentence for index, sentence in enumerate(encoder_input_test) if index not in drop_test]\n",
    "decoder_input_test = [sentence for index, sentence in enumerate(decoder_input_test) if index not in drop_test]\n",
    "decoder_target_test = [sentence for index, sentence in enumerate(decoder_target_test) if index not in drop_test]\n",
    "\n",
    "print('훈련 데이터의 개수 :', len(encoder_input_train))\n",
    "print('훈련 레이블의 개수 :', len(decoder_input_train))\n",
    "print('테스트 데이터의 개수 :', len(encoder_input_test))\n",
    "print('테스트 레이블의 개수 :', len(decoder_input_test))"
   ]
  },
  {
   "cell_type": "markdown",
   "id": "13ecf80b",
   "metadata": {},
   "source": [
    "* 훈련 데이터와 테스트 데이터 모두 일정량의 샘플들이 제거된 것을 확인"
   ]
  },
  {
   "cell_type": "markdown",
   "id": "29d7d787",
   "metadata": {},
   "source": [
    "#### 패딩하기\n",
    "* 정해둔 최대 길이로 패딩.\n",
    "* 최대 길이보다 짧은 데이터들은 뒤의 공간에 숫자 0을 넣어 최대 길이로 길이를 맞춤."
   ]
  },
  {
   "cell_type": "code",
   "execution_count": 39,
   "id": "128d270d",
   "metadata": {},
   "outputs": [
    {
     "name": "stdout",
     "output_type": "stream",
     "text": [
      "=3\n"
     ]
    }
   ],
   "source": [
    "# 같은 길이로 맞춰주는 패딩 작업\n",
    "\n",
    "encoder_input_train = pad_sequences(encoder_input_train, maxlen=text_max_len, padding='post')\n",
    "encoder_input_test = pad_sequences(encoder_input_test, maxlen=text_max_len, padding='post')\n",
    "decoder_input_train = pad_sequences(decoder_input_train, maxlen=headlines_max_len, padding='post')\n",
    "decoder_target_train = pad_sequences(decoder_target_train, maxlen=headlines_max_len, padding='post')\n",
    "decoder_input_test = pad_sequences(decoder_input_test, maxlen=headlines_max_len, padding='post')\n",
    "decoder_target_test = pad_sequences(decoder_target_test, maxlen=headlines_max_len, padding='post')\n",
    "print('=3')"
   ]
  },
  {
   "cell_type": "markdown",
   "id": "bd9083f5",
   "metadata": {},
   "source": [
    "### 2-1. (2) 모델 설계하기\n",
    "#### 함수형 API를 이용해서 인코더 설계"
   ]
  },
  {
   "cell_type": "code",
   "execution_count": 40,
   "id": "3be4fd9a",
   "metadata": {},
   "outputs": [
    {
     "name": "stdout",
     "output_type": "stream",
     "text": [
      "WARNING:tensorflow:Layer lstm will not use cuDNN kernels since it doesn't meet the criteria. It will use a generic GPU kernel as fallback when running on GPU.\n",
      "WARNING:tensorflow:Layer lstm_1 will not use cuDNN kernels since it doesn't meet the criteria. It will use a generic GPU kernel as fallback when running on GPU.\n",
      "WARNING:tensorflow:Layer lstm_2 will not use cuDNN kernels since it doesn't meet the criteria. It will use a generic GPU kernel as fallback when running on GPU.\n"
     ]
    }
   ],
   "source": [
    "from tensorflow.keras.layers import Input, LSTM, Embedding, Dense, Concatenate, TimeDistributed\n",
    "from tensorflow.keras.models import Model\n",
    "from tensorflow.keras.callbacks import EarlyStopping, ModelCheckpoint\n",
    "\n",
    "\n",
    "# 인코더 설계 시작\n",
    "embedding_dim = 128\n",
    "hidden_size = 256\n",
    "\n",
    "# 인코더\n",
    "encoder_inputs = Input(shape=(text_max_len,))\n",
    "\n",
    "# 인코더의 임베딩 층\n",
    "enc_emb = Embedding(src_vocab, embedding_dim)(encoder_inputs)\n",
    "\n",
    "# 인코더의 LSTM 1\n",
    "encoder_lstm1 = LSTM(hidden_size, return_sequences=True, return_state=True ,dropout = 0.4, recurrent_dropout = 0.4)\n",
    "encoder_output1, state_h1, state_c1 = encoder_lstm1(enc_emb)\n",
    "\n",
    "# 인코더의 LSTM 2\n",
    "encoder_lstm2 = LSTM(hidden_size, return_sequences=True, return_state=True, dropout=0.4, recurrent_dropout=0.4)\n",
    "encoder_output2, state_h2, state_c2 = encoder_lstm2(encoder_output1)\n",
    "\n",
    "# 인코더의 LSTM 3\n",
    "encoder_lstm3 = LSTM(hidden_size, return_state=True, return_sequences=True, dropout=0.4, recurrent_dropout=0.4)\n",
    "encoder_outputs, state_h, state_c= encoder_lstm3(encoder_output2)"
   ]
  },
  {
   "cell_type": "markdown",
   "id": "2c314239",
   "metadata": {},
   "source": [
    "* 임베딩 벡터의 차원은 128로 정의, hidden state의 크기를 256으로 정의.\n",
    "* hidden state : LSTM에서 얼만큼의 수용력(capacity)를 가질지를 정하는 파라미터.\n",
    "  (이 파라미터는 LSTM의 용량의 크기나, LSTM에서의 뉴런의 개수라고 이해)\n",
    "* 다른 신경망과 마찬가지로, 무조건 용량을 많이 준다고 해서 성능이 반드시 올라가는 것은 아님.\n",
    "\n",
    "* 인코더의 LSTM은 총 3개의 층으로 구성해서 모델의 복잡도를 높임. (hidden state의 크기를 늘리는 것이 LSTM 층 1개의 용량을 늘린다면, 3개의 층을 사용하는 것은 모델의 용량을 늘린다고 볼 수 있음)"
   ]
  },
  {
   "cell_type": "markdown",
   "id": "76d39bbb",
   "metadata": {},
   "source": [
    "#### 디코더 설계"
   ]
  },
  {
   "cell_type": "code",
   "execution_count": 41,
   "id": "6495a8f7",
   "metadata": {},
   "outputs": [
    {
     "name": "stdout",
     "output_type": "stream",
     "text": [
      "WARNING:tensorflow:Layer lstm_3 will not use cuDNN kernels since it doesn't meet the criteria. It will use a generic GPU kernel as fallback when running on GPU.\n"
     ]
    }
   ],
   "source": [
    "# 디코더 설계\n",
    "decoder_inputs = Input(shape=(None,))\n",
    "\n",
    "# 디코더의 임베딩 층\n",
    "dec_emb_layer = Embedding(tar_vocab, embedding_dim)\n",
    "dec_emb = dec_emb_layer(decoder_inputs)\n",
    "\n",
    "# 디코더의 LSTM\n",
    "decoder_lstm = LSTM(hidden_size, return_sequences=True, return_state=True, dropout=0.4, recurrent_dropout=0.2)\n",
    "decoder_outputs, _, _ = decoder_lstm(dec_emb, initial_state=[state_h, state_c])"
   ]
  },
  {
   "cell_type": "markdown",
   "id": "09d58bb6",
   "metadata": {},
   "source": [
    "* 디코더의 임베딩 층과 LSTM을 설계하는 것은 인코더와 거의 동일.\n",
    "* 하지만, LSTM의 입력을 정의할 때, initial_state의 인자값으로 인코더의 hidden state와 cell state의 값을 넣어줘야 함."
   ]
  },
  {
   "cell_type": "markdown",
   "id": "8671b630",
   "metadata": {},
   "source": [
    "#### 디코더 출력층 설계"
   ]
  },
  {
   "cell_type": "code",
   "execution_count": 42,
   "id": "97906208",
   "metadata": {},
   "outputs": [
    {
     "name": "stdout",
     "output_type": "stream",
     "text": [
      "Model: \"model\"\n",
      "__________________________________________________________________________________________________\n",
      "Layer (type)                    Output Shape         Param #     Connected to                     \n",
      "==================================================================================================\n",
      "input_1 (InputLayer)            [(None, 60)]         0                                            \n",
      "__________________________________________________________________________________________________\n",
      "embedding (Embedding)           (None, 60, 128)      2816000     input_1[0][0]                    \n",
      "__________________________________________________________________________________________________\n",
      "lstm (LSTM)                     [(None, 60, 256), (N 394240      embedding[0][0]                  \n",
      "__________________________________________________________________________________________________\n",
      "input_2 (InputLayer)            [(None, None)]       0                                            \n",
      "__________________________________________________________________________________________________\n",
      "lstm_1 (LSTM)                   [(None, 60, 256), (N 525312      lstm[0][0]                       \n",
      "__________________________________________________________________________________________________\n",
      "embedding_1 (Embedding)         (None, None, 128)    1280000     input_2[0][0]                    \n",
      "__________________________________________________________________________________________________\n",
      "lstm_2 (LSTM)                   [(None, 60, 256), (N 525312      lstm_1[0][0]                     \n",
      "__________________________________________________________________________________________________\n",
      "lstm_3 (LSTM)                   [(None, None, 256),  394240      embedding_1[0][0]                \n",
      "                                                                 lstm_2[0][1]                     \n",
      "                                                                 lstm_2[0][2]                     \n",
      "__________________________________________________________________________________________________\n",
      "dense (Dense)                   (None, None, 10000)  2570000     lstm_3[0][0]                     \n",
      "==================================================================================================\n",
      "Total params: 8,505,104\n",
      "Trainable params: 8,505,104\n",
      "Non-trainable params: 0\n",
      "__________________________________________________________________________________________________\n"
     ]
    }
   ],
   "source": [
    "# 디코더의 출력층\n",
    "decoder_softmax_layer = Dense(tar_vocab, activation='softmax')  # 다중 클래스 분류 문제\n",
    "decoder_softmax_outputs = decoder_softmax_layer(decoder_outputs) \n",
    "\n",
    "# 모델 정의\n",
    "model = Model([encoder_inputs, decoder_inputs], decoder_softmax_outputs)\n",
    "model.summary()"
   ]
  },
  {
   "cell_type": "markdown",
   "id": "7f8d811e",
   "metadata": {},
   "source": [
    "* 지금까지 설계한 것은 인코더의 hidden state와 cell state를 디코더의 초기 state로 사용하는 가장 기본적인 seq2seq.\n",
    "* 그런데, 디코더의 출력층을 설계를 살짝 바꿔서 성능을 높일 수 있는 방법으로 어텐션 메커니즘을 사용."
   ]
  },
  {
   "cell_type": "markdown",
   "id": "11b7b343",
   "metadata": {},
   "source": [
    "## Step 3. 어텐션 메커니즘 사용하기 (추상적 요약)\n",
    "* 일반적인 seq2seq보다는 어텐션 메커니즘을 사용한 seq2seq를 사용하는 것이 더 나은 성능을 얻을 수 있음.\n",
    "* 실습 내용을 참고하여 어텐션 메커니즘을 사용한 seq2seq를 설계해 보자."
   ]
  },
  {
   "cell_type": "code",
   "execution_count": 43,
   "id": "c8d5e67a",
   "metadata": {},
   "outputs": [
    {
     "name": "stdout",
     "output_type": "stream",
     "text": [
      "Model: \"model_1\"\n",
      "__________________________________________________________________________________________________\n",
      "Layer (type)                    Output Shape         Param #     Connected to                     \n",
      "==================================================================================================\n",
      "input_1 (InputLayer)            [(None, 60)]         0                                            \n",
      "__________________________________________________________________________________________________\n",
      "embedding (Embedding)           (None, 60, 128)      2816000     input_1[0][0]                    \n",
      "__________________________________________________________________________________________________\n",
      "lstm (LSTM)                     [(None, 60, 256), (N 394240      embedding[0][0]                  \n",
      "__________________________________________________________________________________________________\n",
      "input_2 (InputLayer)            [(None, None)]       0                                            \n",
      "__________________________________________________________________________________________________\n",
      "lstm_1 (LSTM)                   [(None, 60, 256), (N 525312      lstm[0][0]                       \n",
      "__________________________________________________________________________________________________\n",
      "embedding_1 (Embedding)         (None, None, 128)    1280000     input_2[0][0]                    \n",
      "__________________________________________________________________________________________________\n",
      "lstm_2 (LSTM)                   [(None, 60, 256), (N 525312      lstm_1[0][0]                     \n",
      "__________________________________________________________________________________________________\n",
      "lstm_3 (LSTM)                   [(None, None, 256),  394240      embedding_1[0][0]                \n",
      "                                                                 lstm_2[0][1]                     \n",
      "                                                                 lstm_2[0][2]                     \n",
      "__________________________________________________________________________________________________\n",
      "attention_layer (AdditiveAttent (None, None, 256)    256         lstm_3[0][0]                     \n",
      "                                                                 lstm_2[0][0]                     \n",
      "__________________________________________________________________________________________________\n",
      "concat_layer (Concatenate)      (None, None, 512)    0           lstm_3[0][0]                     \n",
      "                                                                 attention_layer[0][0]            \n",
      "__________________________________________________________________________________________________\n",
      "dense_1 (Dense)                 (None, None, 10000)  5130000     concat_layer[0][0]               \n",
      "==================================================================================================\n",
      "Total params: 11,065,360\n",
      "Trainable params: 11,065,360\n",
      "Non-trainable params: 0\n",
      "__________________________________________________________________________________________________\n"
     ]
    }
   ],
   "source": [
    "# 어텐션 층 생성, 위에서 설계한 디코더 출력층수정\n",
    "\n",
    "from tensorflow.keras.layers import AdditiveAttention\n",
    "\n",
    "# 어텐션 층(어텐션 함수)\n",
    "attn_layer = AdditiveAttention(name='attention_layer')\n",
    "\n",
    "# 인코더와 디코더의 모든 time step의 hidden state를 어텐션 층에 전달하고 결과를 리턴\n",
    "attn_out = attn_layer([decoder_outputs, encoder_outputs])\n",
    "\n",
    "\n",
    "# 어텐션의 결과와 디코더의 hidden state들을 연결\n",
    "decoder_concat_input = Concatenate(axis=-1, name='concat_layer')([decoder_outputs, attn_out])\n",
    "\n",
    "# 디코더의 출력층\n",
    "decoder_softmax_layer = Dense(tar_vocab, activation='softmax')\n",
    "decoder_softmax_outputs = decoder_softmax_layer(decoder_concat_input)\n",
    "\n",
    "# 모델 정의\n",
    "model = Model([encoder_inputs, decoder_inputs], decoder_softmax_outputs)\n",
    "model.summary()"
   ]
  },
  {
   "cell_type": "markdown",
   "id": "1ccefb2b",
   "metadata": {},
   "source": [
    "* 인코더의 hidden state들과 디코더의 hidden state들을 어텐션 함수의 입력으로 사용.\n",
    "* 어텐션 함수가 리턴한 값을 예측 시에 디코더의 hidden state와 함께 활용하는 형태로 작동."
   ]
  },
  {
   "cell_type": "markdown",
   "id": "419b43f0",
   "metadata": {},
   "source": [
    "### 2-1. (3) 모델 훈련하기\n",
    "* 설계한 모델을 가지고 훈련을 진행."
   ]
  },
  {
   "cell_type": "code",
   "execution_count": 44,
   "id": "cb25ecab",
   "metadata": {},
   "outputs": [
    {
     "name": "stdout",
     "output_type": "stream",
     "text": [
      "Epoch 1/50\n",
      "303/303 [==============================] - 350s 1s/step - loss: 5.6321 - val_loss: 5.1693\n",
      "Epoch 2/50\n",
      "303/303 [==============================] - 338s 1s/step - loss: 5.0296 - val_loss: 4.8473\n",
      "Epoch 3/50\n",
      "303/303 [==============================] - 337s 1s/step - loss: 4.7178 - val_loss: 4.5907\n",
      "Epoch 4/50\n",
      "303/303 [==============================] - 337s 1s/step - loss: 4.4638 - val_loss: 4.4007\n",
      "Epoch 5/50\n",
      "303/303 [==============================] - 338s 1s/step - loss: 4.2558 - val_loss: 4.2638\n",
      "Epoch 6/50\n",
      "303/303 [==============================] - 336s 1s/step - loss: 4.0841 - val_loss: 4.1224\n",
      "Epoch 7/50\n",
      "303/303 [==============================] - 339s 1s/step - loss: 3.9385 - val_loss: 4.0437\n",
      "Epoch 8/50\n",
      "303/303 [==============================] - 339s 1s/step - loss: 3.8151 - val_loss: 3.9649\n",
      "Epoch 9/50\n",
      "303/303 [==============================] - 249s 820ms/step - loss: 3.7085 - val_loss: 3.9148\n",
      "Epoch 10/50\n",
      "303/303 [==============================] - 238s 785ms/step - loss: 3.6116 - val_loss: 3.8580\n",
      "Epoch 11/50\n",
      "303/303 [==============================] - 237s 784ms/step - loss: 3.5265 - val_loss: 3.8211\n",
      "Epoch 12/50\n",
      "303/303 [==============================] - 238s 785ms/step - loss: 3.4470 - val_loss: 3.7899\n",
      "Epoch 13/50\n",
      "303/303 [==============================] - 238s 786ms/step - loss: 3.3761 - val_loss: 3.7580\n",
      "Epoch 14/50\n",
      "303/303 [==============================] - 238s 786ms/step - loss: 3.3115 - val_loss: 3.7386\n",
      "Epoch 15/50\n",
      "303/303 [==============================] - 238s 785ms/step - loss: 3.2532 - val_loss: 3.7104\n",
      "Epoch 16/50\n",
      "303/303 [==============================] - 238s 787ms/step - loss: 3.2010 - val_loss: 3.6978\n",
      "Epoch 17/50\n",
      "303/303 [==============================] - 238s 785ms/step - loss: 3.1486 - val_loss: 3.6794\n",
      "Epoch 18/50\n",
      "303/303 [==============================] - 238s 787ms/step - loss: 3.0968 - val_loss: 3.6666\n",
      "Epoch 19/50\n",
      "303/303 [==============================] - 237s 783ms/step - loss: 3.0520 - val_loss: 3.6560\n",
      "Epoch 20/50\n",
      "303/303 [==============================] - 237s 783ms/step - loss: 3.0096 - val_loss: 3.6412\n",
      "Epoch 21/50\n",
      "303/303 [==============================] - 237s 781ms/step - loss: 2.9686 - val_loss: 3.6361\n",
      "Epoch 22/50\n",
      "303/303 [==============================] - 237s 783ms/step - loss: 2.9287 - val_loss: 3.6289\n",
      "Epoch 23/50\n",
      "303/303 [==============================] - 237s 782ms/step - loss: 2.8918 - val_loss: 3.6253\n",
      "Epoch 24/50\n",
      "303/303 [==============================] - 237s 782ms/step - loss: 2.8569 - val_loss: 3.6147\n",
      "Epoch 25/50\n",
      "303/303 [==============================] - 237s 782ms/step - loss: 2.8211 - val_loss: 3.6159\n",
      "Epoch 26/50\n",
      "303/303 [==============================] - 238s 786ms/step - loss: 2.7852 - val_loss: 3.6082\n",
      "Epoch 27/50\n",
      "303/303 [==============================] - 237s 782ms/step - loss: 2.7543 - val_loss: 3.6051\n",
      "Epoch 28/50\n",
      "303/303 [==============================] - 238s 785ms/step - loss: 2.7244 - val_loss: 3.6041\n",
      "Epoch 29/50\n",
      "303/303 [==============================] - 238s 785ms/step - loss: 2.6981 - val_loss: 3.6015\n",
      "Epoch 30/50\n",
      "303/303 [==============================] - 239s 788ms/step - loss: 2.6713 - val_loss: 3.6076\n",
      "Epoch 31/50\n",
      "303/303 [==============================] - 239s 788ms/step - loss: 2.6475 - val_loss: 3.6051\n",
      "Epoch 00031: early stopping\n"
     ]
    }
   ],
   "source": [
    "model.compile(optimizer='rmsprop', loss='sparse_categorical_crossentropy')\n",
    "es = EarlyStopping(monitor='val_loss', patience=2, verbose=1)\n",
    "history = model.fit(x=[encoder_input_train, decoder_input_train], y=decoder_target_train, \\\n",
    "          validation_data=([encoder_input_test, decoder_input_test], decoder_target_test), \\\n",
    "          batch_size=256, callbacks=[es], epochs=50)"
   ]
  },
  {
   "cell_type": "markdown",
   "id": "7139e1fa",
   "metadata": {},
   "source": [
    "#### 훈련 데이터의 손실과 검증 데이터의 손실이 줄어드는 과정을 시각화"
   ]
  },
  {
   "cell_type": "code",
   "execution_count": 45,
   "id": "13038c22",
   "metadata": {},
   "outputs": [
    {
     "data": {
      "image/png": "[encoded data removed]",
      "text/plain": [
       "<Figure size 432x288 with 1 Axes>"
      ]
     },
     "metadata": {
      "needs_background": "light"
     },
     "output_type": "display_data"
    }
   ],
   "source": [
    "plt.plot(history.history['loss'], label='train')\n",
    "plt.plot(history.history['val_loss'], label='test')\n",
    "plt.legend()\n",
    "plt.show()"
   ]
  },
  {
   "cell_type": "markdown",
   "id": "a102e364",
   "metadata": {},
   "source": [
    "## 2-1. (4) 인퍼런스 모델 구현하기\n",
    "* 테스트 단계에서는 정수 인덱스 행렬로 존재하던 텍스트 데이터를 실제 데이터로 복원해야 하므로, 필요한 3개의 사전을 아래와 같이 미리 준비"
   ]
  },
  {
   "cell_type": "code",
   "execution_count": 46,
   "id": "7986e7a1",
   "metadata": {},
   "outputs": [
    {
     "name": "stdout",
     "output_type": "stream",
     "text": [
      "=3\n"
     ]
    }
   ],
   "source": [
    "src_index_to_word = src_tokenizer.index_word # 원문 단어 집합에서 정수 -> 단어를 얻음\n",
    "tar_word_to_index = tar_tokenizer.word_index # 요약 단어 집합에서 단어 -> 정수를 얻음\n",
    "tar_index_to_word = tar_tokenizer.index_word # 요약 단어 집합에서 정수 -> 단어를 얻음\n",
    "\n",
    "print('=3')"
   ]
  },
  {
   "cell_type": "markdown",
   "id": "a354f2dc",
   "metadata": {},
   "source": [
    "* seq2seq는 훈련할 때와 실제 동작할 때(인퍼런스 단계)의 방식이 다르므로 그에 맞게 모델 설계를 별개로 진행해야 함.\n",
    "\n",
    "* 훈련 단계에서는 디코더의 입력부에 정답이 되는 문장 전체를 한꺼번에 넣고 디코더의 출력과 한 번에 비교할 수 있으므로, 인코더와 디코더를 엮은 통짜 모델 하나만 준비.\n",
    "\n",
    "* 그러나 정답 문장이 없는 인퍼런스 단계에서는 만들어야 할 문장의 길이만큼 디코더가 반복 구조로 동작해야 하기 때문에 부득이하게 인퍼런스를 위한 모델 설계를 별도로 해주어야 함."
   ]
  },
  {
   "cell_type": "code",
   "execution_count": 47,
   "id": "bed3f6f3",
   "metadata": {},
   "outputs": [
    {
     "name": "stdout",
     "output_type": "stream",
     "text": [
      "=3\n"
     ]
    }
   ],
   "source": [
    "# 인코더 모델과 디코더 모델을 분리해서 설계\n",
    "\n",
    "# 인코더 설계\n",
    "encoder_model = Model(inputs=encoder_inputs, outputs=[encoder_outputs, state_h, state_c])\n",
    "\n",
    "# 이전 시점의 상태들을 저장하는 텐서\n",
    "decoder_state_input_h = Input(shape=(hidden_size,))\n",
    "decoder_state_input_c = Input(shape=(hidden_size,))\n",
    "\n",
    "dec_emb2 = dec_emb_layer(decoder_inputs)\n",
    "\n",
    "# 문장의 다음 단어를 예측하기 위해서 초기 상태(initial_state)를 이전 시점의 상태로 사용. 이는 뒤의 함수 decode_sequence()에 구현\n",
    "# 훈련 과정에서와 달리 LSTM의 리턴하는 은닉 상태와 셀 상태인 state_h와 state_c를 버리지 않음.\n",
    "decoder_outputs2, state_h2, state_c2 = decoder_lstm(dec_emb2, initial_state=[decoder_state_input_h, decoder_state_input_c])\n",
    "\n",
    "print('=3')"
   ]
  },
  {
   "cell_type": "code",
   "execution_count": 48,
   "id": "12c6b4bb",
   "metadata": {},
   "outputs": [
    {
     "name": "stdout",
     "output_type": "stream",
     "text": [
      "=3\n"
     ]
    }
   ],
   "source": [
    "# 어텐션 메커니즘을 사용하는 출력층을 설계\n",
    "\n",
    "# 어텐션 함수\n",
    "decoder_hidden_state_input = Input(shape=(text_max_len, hidden_size))\n",
    "attn_out_inf = attn_layer([decoder_outputs2, decoder_hidden_state_input])\n",
    "decoder_inf_concat = Concatenate(axis=-1, name='concat')([decoder_outputs2, attn_out_inf])\n",
    "\n",
    "# 디코더의 출력층\n",
    "decoder_outputs2 = decoder_softmax_layer(decoder_inf_concat) \n",
    "\n",
    "# 최종 디코더 모델\n",
    "decoder_model = Model(\n",
    "    [decoder_inputs] + [decoder_hidden_state_input,decoder_state_input_h, decoder_state_input_c],\n",
    "    [decoder_outputs2] + [state_h2, state_c2])\n",
    "\n",
    "print('=3')"
   ]
  },
  {
   "cell_type": "code",
   "execution_count": 49,
   "id": "53901f0e",
   "metadata": {},
   "outputs": [
    {
     "name": "stdout",
     "output_type": "stream",
     "text": [
      "=3\n"
     ]
    }
   ],
   "source": [
    "# 인퍼런스 단계에서 단어 시퀀스를 완성하는 함수 생성\n",
    "\n",
    "def decode_sequence(input_seq):\n",
    "    # 입력으로부터 인코더의 상태를 얻음\n",
    "    e_out, e_h, e_c = encoder_model.predict(input_seq)\n",
    "\n",
    "     # <SOS>에 해당하는 토큰 생성\n",
    "    target_seq = np.zeros((1,1))\n",
    "    target_seq[0, 0] = tar_word_to_index['sostoken']\n",
    "\n",
    "    stop_condition = False\n",
    "    decoded_sentence = ''\n",
    "    while not stop_condition: # stop_condition이 True가 될 때까지 루프 반복\n",
    "\n",
    "        output_tokens, h, c = decoder_model.predict([target_seq] + [e_out, e_h, e_c])\n",
    "        sampled_token_index = np.argmax(output_tokens[0, -1, :])\n",
    "        sampled_token = tar_index_to_word[sampled_token_index]\n",
    "\n",
    "        if (sampled_token!='eostoken'):\n",
    "            decoded_sentence += ' '+sampled_token\n",
    "\n",
    "        #  <eos>에 도달하거나 최대 길이를 넘으면 중단.\n",
    "        if (sampled_token == 'eostoken'  or len(decoded_sentence.split()) >= (headlines_max_len-1)):\n",
    "            stop_condition = True\n",
    "\n",
    "        # 길이가 1인 타겟 시퀀스를 업데이트\n",
    "        target_seq = np.zeros((1,1))\n",
    "        target_seq[0, 0] = sampled_token_index\n",
    "\n",
    "        # 상태를 업데이트 합니다.\n",
    "        e_h, e_c = h, c\n",
    "\n",
    "    return decoded_sentence\n",
    "print('=3')"
   ]
  },
  {
   "cell_type": "markdown",
   "id": "6c9dda59",
   "metadata": {},
   "source": [
    "## Step 4. 실제 결과와 요약문 비교하기 (추상적 요약)\n",
    "* 원래의 요약문(headlines 열)과 학습을 통해 얻은 추상적 요약의 결과를 비교해 보자.\n",
    "\n",
    "\n",
    "* 테스트 단계에서는 정수 시퀀스를 텍스트 시퀀스로 변환하여 결과를 확인하는 것이 편리.\n",
    "* 주어진 정수 시퀀스를 텍스트 시퀀스로 변환하는 함수 생성.\n",
    "  (함수를 만들 때, text의 정수 시퀀스에서는 패딩을 위해 사용되는 숫자 0을 제외, headlines의 정수 시퀀스에서는 숫자 0, 시작 토큰의 인덱스, 종료 토큰의 인덱스를 출력에서 제외)"
   ]
  },
  {
   "cell_type": "code",
   "execution_count": 50,
   "id": "b1e47ed6",
   "metadata": {},
   "outputs": [
    {
     "name": "stdout",
     "output_type": "stream",
     "text": [
      "=3\n"
     ]
    }
   ],
   "source": [
    "# 원문의 정수 시퀀스를 텍스트 시퀀스로 변환\n",
    "def seq2text(input_seq):\n",
    "    temp=''\n",
    "    for i in input_seq:\n",
    "        if (i!=0):\n",
    "            temp = temp + src_index_to_word[i]+' '\n",
    "    return temp\n",
    "\n",
    "# 요약문의 정수 시퀀스를 텍스트 시퀀스로 변환\n",
    "def seq2summary(input_seq):\n",
    "    temp=''\n",
    "    for i in input_seq:\n",
    "        if ((i!=0 and i!=tar_word_to_index['sostoken']) and i!=tar_word_to_index['eostoken']):\n",
    "            temp = temp + tar_index_to_word[i] + ' '\n",
    "    return temp\n",
    "\n",
    "print('=3')"
   ]
  },
  {
   "cell_type": "code",
   "execution_count": 51,
   "id": "e38a8fd1",
   "metadata": {},
   "outputs": [
    {
     "name": "stdout",
     "output_type": "stream",
     "text": [
      "원문 : communist party india monday urged centre clarify reports national security advisor ajit doval attended bjp meeting upcoming state elections union minister rajnath singh residence alleging shocking violation rules party questioned senior government functionary like nsa could attend political party meeting \n",
      "실제 요약 : cpi slams nsa doval for allegedly attending bjp meet \n",
      "예측 요약 :  govt denies reports of india defence minister resigns\n",
      "\n",
      "\n",
      "원문 : chinese students paid special tribute mahatma gandhi birth anniversary beijing gandhi statue park ceremony park students read several well known teachings gandhiji indian embassy music teachers sang notably china centre indian studies shanghai university \n",
      "실제 요약 : chinese students pay tribute to gandhiji in beijing \n",
      "예측 요약 :  chinese girls make chinese temple rahul gandhi statue\n",
      "\n",
      "\n",
      "원문 : retired undefeated boxer floyd mayweather bugatti put sale ebay million luxury car mayweather sold car luxury auto collection looking sell grand sport models worldwide top speed km \n",
      "실제 요약 : floyd mayweather up for sale for crore \n",
      "예측 요약 :  mercedes benz sells crore for crore\n",
      "\n",
      "\n",
      "원문 : seychelles president danny said agreement india develop naval base assumption island move forward adding plan build facility funds said issue discussed upcoming india visit comes amidst domestic opposition project revised agreement leaked online \n",
      "실제 요약 : will not move forward on naval project with india \n",
      "예측 요약 :  india to invest in military programme\n",
      "\n",
      "\n",
      "원문 : islamic state member samata pleaded guilty several terrorism charges hid data including extremist blog usb operating system loaded onto conceal extremist data used extremist blog could closed deleted authorities \n",
      "실제 요약 : islamic state terrorist hid extremist data in \n",
      "예측 요약 :  uk woman jailed for yrs over terror attack\n",
      "\n",
      "\n",
      "원문 : technology giant apple delayed launch siri powered homepod smart speaker december early company said needed little time device ready release australia uk us homepod priced unveiled earlier june \n",
      "실제 요약 : apple delays launch of smart speaker to early \n",
      "예측 요약 :  apple to charge smart for users to watch them\n",
      "\n",
      "\n",
      "원문 : kolkata host exhibition match real madrid legends barcelona legends september match venue yet decided tribute barcelona legend johan former real madrid players fernando michel confirmed participation ivan perez also likely feature \n",
      "실제 요약 : kolkata to host real madrid barcelona game in sept \n",
      "예측 요약 :  real madrid to play real madrid to play club in real\n",
      "\n",
      "\n",
      "원문 : us president donald trump administration second time declared iran complying nuclear agreement world powers however warned iran remains one dangerous threats default spirit accord notably trump criticised deal presidential campaign worst deal ever \n",
      "실제 요약 : iran following nuke deal terms in spirit trump \n",
      "예측 요약 :  trump to host world no nuclear nuclear deal\n",
      "\n",
      "\n",
      "원문 : us performing dna tests migrant children bid reunite families tests performed accurately reunite families children could trafficked smuggled claiming parents officials said us court directed government reunite families july \n",
      "실제 요약 : us uses dna tests to reunite migrant children with families \n",
      "예측 요약 :  us school body to marry kids to fight gay kids\n",
      "\n",
      "\n",
      "원문 : two time olympic medalist sushil kumar made return wrestling gap three years gold medal national wrestling championship receiving quarterfinal semifinal final kumar two minutes seconds total mat fought two initial round bouts \n",
      "실제 요약 : sushil wins gold without fighting in quarters semis final \n",
      "예측 요약 :  sushil kumar breaks his record for his st time in years\n",
      "\n",
      "\n",
      "원문 : slamming former white house aide omarosa manigault newman claims made new book president donald trump called newman claims book titled trump used racial slurs set reality show also says later concluded racist \n",
      "실제 요약 : trump calls ex wh aide over claims in her book \n",
      "예측 요약 :  ex trump aide aide sues trump for calling him\n",
      "\n",
      "\n",
      "원문 : delhi high court said undue sympathy towards convicts awarding inadequate jail term public confidence law upholding year long term awarded trial court man rape dismissing man plea reduction punishment justice sp garg said awarding inadequate sentences serious threat society \n",
      "실제 요약 : jail term serious threat to society delhi hc \n",
      "예측 요약 :  hc rejects life penalty for murder of convicts\n",
      "\n",
      "\n",
      "원문 : alok verma removed post cbi director panel led prime minister narendra modi congress president rahul gandhi tweeted fear mr modi mind cannot sleep rahul added sacking cbi chief twice row clearly shows prisoner lies \n",
      "실제 요약 : pm cannot sleep rahul on alok verma removal as cbi chief \n",
      "예측 요약 :  pm modi is like cbi to speak out of rahul gandhi\n",
      "\n",
      "\n",
      "원문 : aam aadmi party suspended rebel leaders singh khaira kanwar sandhu party indulging anti party activities continuously attacking state central leadership welcoming suspension khaira said exposes dictatorial face delhi cm arvind kejriwal khaira removed post leader opposition july \n",
      "실제 요약 : aap suspends singh for anti party activities \n",
      "예측 요약 :  aap leader quits aap over ec chief secy aap\n",
      "\n",
      "\n",
      "원문 : civil aviation minister suresh prabhu said passengers soon use facial recognition biometrics enter airports government initiative become operational february called initiative forward looking however clarified would optional passengers opt facial recognition biometrics air travel \n",
      "실제 요약 : passengers can soon use facial recognition to enter airports govt \n",
      "예측 요약 :  govt to check facial recognition system to check safety security\n",
      "\n",
      "\n",
      "원문 : jammu kashmir cm mehbooba mufti written chief justice high court requesting set fast track court conclude kathua rape case trial within days mufti also condemned heinous crime function state shri mata vaishno devi university saying something wrong society \n",
      "실제 요약 : set up court to end kathua trial in days cm to hc \n",
      "예측 요약 :  hc orders probe into govt for denying rape case\n",
      "\n",
      "\n",
      "원문 : us president donald trump arrived several minutes start meeting women empowerment missed canadian pm justin trudeau statement meeting entered room canada ambassador france isabelle speaking trump left meeting early head singapore summit north korean leader kim jong un \n",
      "실제 요약 : us president trump arrives late at summit leaves early \n",
      "예측 요약 :  trump asks trump to host dinner at winter olympics meet\n",
      "\n",
      "\n",
      "원문 : letter pm narendra modi shiv sena goa called chief minister manohar parrikar bad santa agreeing diversion waters mahadayi river karnataka accusing cm parrikar snatching future children party requested pm modi act like real santa claus ask parrikar reverse decision \n",
      "실제 요약 : shiv sena calls goa cm bad santa over river diversion \n",
      "예측 요약 :  pm modi visits goa cm for denying alcohol remark\n",
      "\n",
      "\n",
      "원문 : union home minister rajnath singh national democratic alliance monday boycotted bihar government programme honour freedom fighters bjp claimed singh skipped felicitation rjd leader lalu prasad convicted fodder scam case invited function reportedly rajnath called bihar cm spoke calling visit \n",
      "실제 요약 : rajnath nda boycott freedom fighters in patna \n",
      "예측 요약 :  rajnath singh son to be part of bihar cm\n",
      "\n",
      "\n",
      "원문 : adani group managed port agreed give compensation lakh family members three workers died mishap tuesday mishap occurred coal caved workers port port also agreed give job kin deceased \n",
      "실제 요약 : port to give each to family of workers killed \n",
      "예측 요약 :  itbp to get death of toll rises to\n",
      "\n",
      "\n",
      "원문 : dog invaded pitch saved goal match de argentine third division match incident happened goalkeeper shot ball directly opponent left ball towards goal bounced dog crossing goal \n",
      "실제 요약 : dog invades pitch saves goal in football match in argentina \n",
      "예측 요약 :  player pulls out of ball with ball from the pitch\n",
      "\n",
      "\n",
      "원문 : prakash jha set direct biopic bihar mathematician dr narayan singh talking upcoming film jha said dr national treasure life inspiring would love direct biopic earlier vikas bahl announced biopic titled super patna based mathematician anand kumar starring hrithik roshan \n",
      "실제 요약 : prakash jha to direct biopic on bihar \n",
      "예측 요약 :  actor to play in film as actor maker as actor\n",
      "\n",
      "\n",
      "원문 : iranian oil minister joined twitter officially banned country come twitter dynamic effective relationship domestic foreign audience first tweet read although banned twitter used number authorities including president hassan rouhani foreign minister mohammad javad zarif \n",
      "실제 요약 : iranian oil minister joins twitter which is banned in iran \n",
      "예측 요약 :  iran bans iranian oil imports from iran over\n",
      "\n",
      "\n",
      "원문 : construction world largest optical infrared telescope begun chile desert named extremely large telescope metre diameter primary mirror housed metre rotating dome weighing tonnes gather million times light human eye observe universe first galaxies search earth \n",
      "실제 요약 : construction for the world largest telescope begins \n",
      "예측 요약 :  scientists find world largest solar light\n",
      "\n",
      "\n",
      "원문 : ailing tiger cub recently found dead madhya pradesh making th tiger death state since january carcass cub aged six months one year found near water source forest range third tiger death reported mp april \n",
      "실제 요약 : th tiger dies in madhya pradesh since january \n",
      "예측 요약 :  tiger woods found dead in tiger accident in gujarat\n",
      "\n",
      "\n",
      "원문 : organisation petroleum exporting countries agreed nominal increase oil production around million barrels day global supply saudi energy minister khalid al falih said saudi arabia argued time raise production following calls major consumer countries help reduce crude price avoid supply shortage \n",
      "실제 요약 : agrees oil output rise of mn saudi minister \n",
      "예측 요약 :  oil oil maker to buy oil supply for crore\n",
      "\n",
      "\n",
      "원문 : parthiv patel senior indian player terms years since international debut team facing south africa second test starting today year old made international debut age parthiv last played test outside asia none current indian team players made \n",
      "실제 요약 : parthiv senior most indian by experience in nd test team \n",
      "예측 요약 :  india st ever int test came to be awarded in years\n",
      "\n",
      "\n",
      "원문 : glitch japanese cryptocurrency exchange allowed users buy cryptocurrencies free glitch occurred last week lasted minutes affected price system exchange six trades discovering error trying rectify issue seventh customer attempted transfer bitcoin exchange \n",
      "실제 요약 : exchange glitch lets customers buy cryptocurrencies for free \n",
      "예측 요약 :  bitcoin exchange plunges to over bitcoin\n",
      "\n",
      "\n",
      "원문 : european union leaders saturday promised embrace british province northern ireland brexit ever ireland notably good friday agreement end violence northern ireland holding sides border uniting island uk ireland see public support \n",
      "실제 요약 : united ireland would be automatic full member eu \n",
      "예측 요약 :  eu parliament votes to hold referendum on june\n",
      "\n",
      "\n",
      "원문 : shares british company line surged friday announced plans change name line blockchain biggest one day gain company since december listing london blockchain technology cryptocurrencies new exciting area working time company said \n",
      "실제 요약 : firm stock up after it adds blockchain to its name \n",
      "예측 요약 :  shares surge after shares fall\n",
      "\n",
      "\n",
      "원문 : uber reportedly reduced number sensors used detect objects road self driving cars shifted ford fusion volvo suvs new vehicles feature one roof mounted lidar sensor compared seven units older ford fusion models comes uber self driving car killed woman us \n",
      "실제 요약 : uber reduced sensors on its self driving cars reports \n",
      "예측 요약 :  uber tests self driving cars to make self driving cars\n",
      "\n",
      "\n",
      "원문 : haryana cm manohar lal khattar thursday announced around tube well connections pending since january issued demand notices march tube wells issued farmers next six months khattar said target set issue new solar energy connections \n",
      "실제 요약 : haryana farmers to get pending tube well \n",
      "예측 요약 :  haryana govt to move to state for state of state\n",
      "\n",
      "\n",
      "원문 : amitabh bachchan revealed returns script written script said emphasising younger generation actors using lesser hindi becoming highly talking speaking hindi kaun banega crorepati bachchan said inspires young generation speak hindi good \n",
      "실제 요약 : return script if it is not written in script big \n",
      "예측 요약 :  big big deal not big on his upcoming film\n",
      "\n",
      "\n",
      "원문 : shoot salman khan starrer race reportedly stalled armed men entered film sets mumbai comes gangster jodhpur bishnoi community worships black bucks issued death threats actor following incident police reportedly escorted salman home advised actor maintain low profile \n",
      "실제 요약 : salman khan receives death threats race shoot stopped \n",
      "예측 요약 :  salman khan visits salman khan in mumbai\n",
      "\n",
      "\n",
      "원문 : year old woman punjab died hair got entangled wheel go tearing scalp head amusement park although victim wearing helmet hair long open police officials said shut go started probe departmental level officials said \n",
      "실제 요약 : punjab woman dies after hair gets in go \n",
      "예측 요약 :  woman delivers baby on road during surgery\n",
      "\n",
      "\n",
      "원문 : european union planning test ai based lie detector system certain border checkpoints screen travellers coming europe system part larger project named use ai detect facial micro expressions reveal someone lying experimental trials begin hungary greece latvia \n",
      "실제 요약 : eu plans to test ai based lie detector at border points \n",
      "예측 요약 :  scientists to use ai to use ai to counter pollution\n",
      "\n",
      "\n",
      "원문 : india deaf mute wrestler virender singh total seven medals india international events including four gold medals lives small house cannot afford bigger one singh provided financial aid government years struggle learned sign language age \n",
      "실제 요약 : deaf wrestler who won golds for india cannot afford house \n",
      "예측 요약 :  india asiad winning ambassador to be awarded at cwg\n",
      "\n",
      "\n",
      "원문 : indian born hindi spanish speaking business student named runners miss usa want show americans definition means american changing said scientist activist ra works nuclear regulatory commission nuclear plants crowned miss usa \n",
      "실제 요약 : indian origin woman crowned runners up at miss usa \n",
      "예측 요약 :  india born on google india st anniversary\n",
      "\n",
      "\n",
      "원문 : delhi deputy chief minister manish sisodia saturday claimed twitter account hacked anti hazare messages retweeted account someone retweeting anti anna hazare messages account trying delete even getting deleted said pls believe greatest respect never say things added \n",
      "실제 요약 : sisodia claims twitter hack after anti anna tweets appear \n",
      "예측 요약 :  twitter reacts to kejriwal evm tampering case\n",
      "\n",
      "\n",
      "원문 : former india cricketer sachin tendulkar paid surprise visit child care centre mumbai dressed santa claus occasion christmas tuesday sachin spent time underprivileged children gave gifts also played cricket joy innocent faces priceless tweeted \n",
      "실제 요약 : sachin dresses up as santa surprises underprivileged kids \n",
      "예측 요약 :  sachin tendulkar pays tribute to mahatma gandhi\n",
      "\n",
      "\n",
      "원문 : state run punjab national bank said due aggressive stance towards wilful defaulters passports impounded past months bank said lodged firs defaulters last nine months bank added past weeks declared wilful defaulters \n",
      "실제 요약 : passports of defaulters detained due to our effort pnb \n",
      "예측 요약 :  rbi to list of defaulters in pnb accounts\n",
      "\n",
      "\n",
      "원문 : prime minister narendra modi wednesday held roadshow japanese prime minister shinzo abe first time holding roadshow pm another country kilometre long event started ahmedabad airport ended sabarmati ashram dancers states showcased culture locations route \n",
      "실제 요약 : modi to hold roadshow with another pm for the first time \n",
      "예측 요약 :  pm modi to visit india st ever bridge in years\n",
      "\n",
      "\n",
      "원문 : indian space research organisation experimenting potential structures human moon minister state jitendra singh told lok sabha study towards developments added isro launched first moon mission chandrayaan planning send chandrayaan moon south pole year \n",
      "실제 요약 : isro working on potential structures for living on moon \n",
      "예측 요약 :  india moon mission to be held by isro scientist\n",
      "\n",
      "\n",
      "원문 : kannada actress shetty accused producer suresh harassing shoot film raju kannada medium wrote noticed performance producer bothered approached karnataka court settlement also registered formal complaint karnataka film chamber \n",
      "실제 요약 : kannada actress accuses producer of harassment \n",
      "예측 요약 :  producer of film producer over film scene\n",
      "\n",
      "\n",
      "원문 : actor pankaj tripathi known films like masaan said star kids get spotted actors like industry years however added spot hai gain respect need know craft tripathi said audience today fails appreciate real art \n",
      "실제 요약 : star kids spotted not actors who re here for yrs pankaj \n",
      "예측 요약 :  people have been paid more than actors in films\n",
      "\n",
      "\n",
      "원문 : european commission monday termed catalan independence vote illegal spanish law adding internal matter spain commission said times unity stability around lakh people voted favour region independence spain according catalonia government \n",
      "실제 요약 : european commission terms catalan independence vote illegal \n",
      "예측 요약 :  eu parliament votes to declare independence referendum\n",
      "\n",
      "\n",
      "원문 : indian navy friday successfully conducted first test fire land attack variant brahmos supersonic missile missile km range launched sea andaman nicobar islands reportedly first sea land missile test country also first time land attack variant fired ship \n",
      "실제 요약 : india successfully test fires land attack version of brahmos \n",
      "예측 요약 :  india successfully test fires fires of its first time\n",
      "\n",
      "\n",
      "원문 : speaking motherhood actress rani mukerji said realised love somebody happens child motherhood changes person positive way realised much love within added rani said every day learning process \n",
      "실제 요약 : learnt you can love someone more than yourself after rani \n",
      "예측 요약 :  love jihad and love love love love jihad case\n",
      "\n",
      "\n",
      "원문 : following cricketer virat kohli actress anushka sharma wedding tweeted right kind match fixing alongside illustration wish couple india tweet appealed heartbroken fans indulge ice cream tweeting broken heart builds durex india shared image said let nothing come except durex \n",
      "실제 요약 : how did brands wish virat anushka on their marriage \n",
      "예측 요약 :  fans get married to trolls kohli on virat kohli wedding\n",
      "\n",
      "\n",
      "원문 : actress esha deol sister deol organised surprise baby shower esha expecting first child husband bharat takhtani baby shower included themed balloons floral arrangements based chocolate belgium cake thanks bharat getting measurements esha gown managing keep surprise said \n",
      "실제 요약 : esha deol sister organises surprise baby shower for esha \n",
      "예측 요약 :  esha deol husband husband with baby in their baby\n",
      "\n",
      "\n"
     ]
    }
   ],
   "source": [
    "for i in range(50, 100):\n",
    "    print(\"원문 :\", seq2text(encoder_input_test[i]))\n",
    "    print(\"실제 요약 :\", seq2summary(decoder_input_test[i]))\n",
    "    print(\"예측 요약 :\", decode_sequence(encoder_input_test[i].reshape(1, text_max_len)))\n",
    "    print(\"\\n\")"
   ]
  },
  {
   "cell_type": "markdown",
   "id": "9ba0745f",
   "metadata": {},
   "source": [
    "### 성능개선 방안\n",
    "* seq2seq와 어텐션의 자체의 조합을 좀 더 좋게 수정\n",
    "* 빔 서치(beam search)\n",
    "* 사전 훈련된 워드 임베딩(pre-trained word embedding)\n",
    "* 인코더 - 디코더 자체의 구조를 새로이 변경한 하는 트랜스포머(Transformer)"
   ]
  },
  {
   "cell_type": "markdown",
   "id": "c6c39408",
   "metadata": {},
   "source": [
    "## Step 5. Summa을 이용해서 추출적 요약해보기\n",
    "* 추상적 요약은 추출적 요약과는 달리 문장의 표현력을 다양하게 가져갈 수 있지만, 추출적 요약에 비해서 난이도가 높음.\n",
    "* 반대로 말하면 추출적 요약은 추상적 요약에 비해 난이도가 낮고 기존 문장에서 문장을 꺼내오는 것이므로 잘못된 요약이 나올 가능성이 낮음.\n",
    "* Summa의 summarize를 사용하여 추출적 요약을 해보자.\n",
    "(패키지 Summa에서는 추출적 요약을 위한 모듈인 summarize를 제공하고 있어 아주 간단하게 실습 해볼 수 있음.)"
   ]
  },
  {
   "cell_type": "code",
   "execution_count": 52,
   "id": "131f63c8",
   "metadata": {},
   "outputs": [],
   "source": [
    "import requests\n",
    "from summa.summarizer import summarize"
   ]
  },
  {
   "cell_type": "code",
   "execution_count": 53,
   "id": "192608eb",
   "metadata": {},
   "outputs": [
    {
     "name": "stdout",
     "output_type": "stream",
     "text": [
      "                                              headlines  \\\n",
      "0     upGrad learner switches to career in ML & Al w...   \n",
      "1     Delhi techie wins free food from Swiggy for on...   \n",
      "2     New Zealand end Rohit Sharma-led India's 12-ma...   \n",
      "3     Aegon life iTerm insurance plan helps customer...   \n",
      "4     Have known Hirani for yrs, what if MeToo claim...   \n",
      "...                                                 ...   \n",
      "1495  Have seen Sachin Tendulkar get angry but not M...   \n",
      "1496  Player ensures wife stays dry in rain during A...   \n",
      "1497  Federer denied entry into locker room by secur...   \n",
      "1498  42/42 seats in West Bengal: CM Mamata's cutout...   \n",
      "1499  Court refuses chargesheet by Delhi Police agai...   \n",
      "\n",
      "                                                   text  \n",
      "0     Saurav Kant, an alumnus of upGrad and IIIT-B's...  \n",
      "1     Kunal Shah's credit card bill payment platform...  \n",
      "2     New Zealand defeated India by 8 wickets in the...  \n",
      "3     With Aegon Life iTerm Insurance plan, customer...  \n",
      "4     Speaking about the sexual harassment allegatio...  \n",
      "...                                                 ...  \n",
      "1495  India head coach Ravi Shastri has said that he...  \n",
      "1496  Italian tennis player Andreas Seppi ensured hi...  \n",
      "1497  World number three Roger Federer was stopped b...  \n",
      "1498  A cutout of TMC chief and West Bengal CM Mamat...  \n",
      "1499  A Delhi court on Saturday pulled up Delhi Poli...  \n",
      "\n",
      "[1500 rows x 2 columns]\n"
     ]
    }
   ],
   "source": [
    "text = pd.read_csv('news_summary_more.csv', encoding='iso-8859-1')\n",
    "print(text[:1500])"
   ]
  },
  {
   "cell_type": "markdown",
   "id": "9b977cf8",
   "metadata": {},
   "source": [
    "#### summarize 사용하기\n",
    "\n",
    "Summa의 summarize()의 인자로 사용되는 값\n",
    "\n",
    "* text (str) : 요약할 테스트.\n",
    "* ratio (float, optional) – 요약문에서 원본에서 선택되는 문장 비율. 0~1 사이값\n",
    "* words (int or None, optional) – 출력에 포함할 단어 수.\n",
    "* 만약, ratio와 함께 두 파라미터가 모두 제공되는 경우 ratio는 무시한다.\n",
    "* split (bool, optional) – True면 문장 list / False는 조인(join)된 문자열을 반환"
   ]
  },
  {
   "cell_type": "markdown",
   "id": "c41acd11",
   "metadata": {},
   "source": [
    "Summa의 summarize\n",
    "* 문장 토큰화를 별도로 하지 않더라도 내부적으로 문장 토큰화를 수행.\n",
    "* 그렇기 때문에 문장 구분이 되어있지 않은 원문을 바로 입력으로 넣을 수 있음.\n",
    "* 비율을 적게 주어서 요약문으로 선택되는 문장의 개수를 줄여봄.\n",
    "* 원문의 0.005%만을 출력하도록 설정."
   ]
  },
  {
   "cell_type": "code",
   "execution_count": 61,
   "id": "1121e1b9",
   "metadata": {},
   "outputs": [
    {
     "name": "stdout",
     "output_type": "stream",
     "text": [
      "headlines:\n",
      "He added decisions like demonetisation and RERA have put a check on black money that used to be \"parked in the real estate sector\".\n"
     ]
    }
   ],
   "source": [
    "print('headlines:')\n",
    "print(summarize(text[\"text\"][i], ratio=0.5))"
   ]
  },
  {
   "cell_type": "code",
   "execution_count": 62,
   "id": "122c6c3f",
   "metadata": {},
   "outputs": [
    {
     "name": "stdout",
     "output_type": "stream",
     "text": [
      "headlines:\n",
      "['He added decisions like demonetisation and RERA have put a check on black money that used to be \"parked in the real estate sector\".']\n"
     ]
    }
   ],
   "source": [
    "# 리스트로 출력 결과를 받고 싶다면 split 인자의 값을 True\n",
    "\n",
    "print('headlines:')\n",
    "print(summarize(text[\"text\"][i], ratio=0.5, split=True))"
   ]
  },
  {
   "cell_type": "code",
   "execution_count": 63,
   "id": "1cd9a0f6",
   "metadata": {},
   "outputs": [
    {
     "name": "stdout",
     "output_type": "stream",
     "text": [
      "headlines:\n",
      "Prime Minister Narendra Modi on Wednesday said his government's demonetisation decision made houses affordable for the aspiring youth.\n",
      "He added decisions like demonetisation and RERA have put a check on black money that used to be \"parked in the real estate sector\".\n"
     ]
    }
   ],
   "source": [
    "# 단어의 수로 요약문의 크기를 조절가능. (단어를 50개만 선택)\n",
    "\n",
    "print('headlines:')\n",
    "print(summarize(text[\"text\"][i], words=50))"
   ]
  },
  {
   "cell_type": "markdown",
   "id": "84d6f5b7",
   "metadata": {},
   "source": [
    "## 루브릭\n",
    "\n",
    "### 프로젝트 개인평가\n",
    "\n",
    "#### 1. Abstractive 모델 구성을 위한 텍스트 전처리 단계가 체계적으로 진행되었다.\n",
    "##### 분석단계, 정제단계, 정규화와 불용어 제거, 데이터셋 분리, 인코딩 과정이 빠짐없이 체계적으로 진행되었다.\n",
    "\n",
    "\n",
    "\n",
    "#### 2. 텍스트 요약모델이 성공적으로 학습되었음을 확인하였다.\n",
    "##### 모델학습이 안정적으로 수렴되었음을 그래프를 통해 확인하였으며, 실제 요약문과 유사한 요약문장을 얻을 수 있었다.\n",
    "\n",
    "\n",
    "\n",
    "#### 3. Extractive(추출적) 요약을 시도해 보고 Abstractive(추상적) 요약 결과와 함께 비교해 보았다.\n",
    "##### 두 요약 결과를 문법완성도 측면과 핵심단어 포함 측면으로 나누어 비교분석 결과를 제시하였다.\n",
    "\n",
    "\n"
   ]
  },
  {
   "cell_type": "markdown",
   "id": "1302f78f",
   "metadata": {},
   "source": [
    "## 회고\n",
    "다른 것 보다 모델 훈련 시간이 너무 오래걸려서 진도가 잘 안나가는 프로젝트였다.\n",
    "다양한 시도를 해보고 싶어도 모델 훈련 시간이 너무 오래걸려서 시도할 수 없었다.ㅠㅠ\n",
    "\n",
    "Extractive(추출적) 요약에 있어서 ratio=0.005, ratio=0.05 에서는 요약문이 출력되지 않았다. ratio=0.5가 되서야 요약문이 출력되었다. (ratio (float, optional) – 요약문에서 원본에서 선택되는 문장 비율. 0~1 사이값)\n",
    "ratio의 소수점 값 변화에 따라 출력 여부를 확인 할 수 있었다.\n",
    "\n",
    "Extractive(추출적) 요약과  Abstractive(추상적) 요약 결과로 요약 문장을 얻어 번역기를 돌려 보았더니 문맥상으로는 Abstractive(추상적) 요약이 한결 부드럽게 연결되었다.\n",
    "그렇지만 내용 이해에 있어서 본문의 내용을 정확히 요약한 것인지는 의문이다.\n",
    "\n",
    "프로젝트를 진행한 데이터의 원문 자체가 lms 노드에 비해 짧은 편이여서 그런지 문맥이나 내용 이해에 있어서는 핵심 단어나 문장을 그대로 가져오는 Extractive(추출적) 요약이 적합하다고 생각된다.\n",
    "\n",
    "원문이 길 경우 충분히 모델 학습이 됐다는 전제로 Abstractive(추상적) 요약이 유리할 것 같고, 원문이 짧은 경우에는 Extractive(추출적) 요약이 유리해 보인다."
   ]
  },
  {
   "cell_type": "code",
   "execution_count": null,
   "id": "87906560",
   "metadata": {},
   "outputs": [],
   "source": []
  }
 ],
 "metadata": {
  "kernelspec": {
   "display_name": "Python 3 (ipykernel)",
   "language": "python",
   "name": "python3"
  },
  "language_info": {
   "codemirror_mode": {
    "name": "ipython",
    "version": 3
   },
   "file_extension": ".py",
   "mimetype": "text/x-python",
   "name": "python",
   "nbconvert_exporter": "python",
   "pygments_lexer": "ipython3",
   "version": "3.9.7"
  }
 },
 "nbformat": 4,
 "nbformat_minor": 5
}
