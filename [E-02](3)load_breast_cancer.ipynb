{
 "cells": [
  {
   "cell_type": "code",
   "execution_count": 1,
   "id": "4141c6a3",
   "metadata": {},
   "outputs": [],
   "source": [
    "# (1)필요한 모듈 import하기\n",
    "\n",
    "from sklearn.datasets import load_breast_cancer\n",
    "from sklearn.model_selection import train_test_split\n",
    "from sklearn.metrics import classification_report\n",
    "from sklearn.metrics import confusion_matrix"
   ]
  },
  {
   "cell_type": "code",
   "execution_count": 2,
   "id": "543b4fc2",
   "metadata": {},
   "outputs": [
    {
     "name": "stdout",
     "output_type": "stream",
     "text": [
      "(569, 30)\n"
     ]
    }
   ],
   "source": [
    "# (2) 데이터 준비\n",
    "# load_breast_cancer 메서드를 사용\n",
    "\n",
    "breast_cancer = load_breast_cancer()\n",
    "\n",
    "breast_cancer_data = breast_cancer.data\n",
    "breast_cancer_label = breast_cancer.target\n",
    "print(breast_cancer_data.shape)"
   ]
  },
  {
   "cell_type": "code",
   "execution_count": 3,
   "id": "ca5269c3",
   "metadata": {},
   "outputs": [],
   "source": [
    "    ## breast_cancer_data에 저장된 데이터 양과 형식 확인.\n",
    "    ## 569개의 breast_cancer 데이터와 각각의 데이터에 30개의 feature이 저장되어 있음."
   ]
  },
  {
   "cell_type": "code",
   "execution_count": 4,
   "id": "6f4c0653",
   "metadata": {},
   "outputs": [
    {
     "data": {
      "text/plain": [
       "array([1.799e+01, 1.038e+01, 1.228e+02, 1.001e+03, 1.184e-01, 2.776e-01,\n",
       "       3.001e-01, 1.471e-01, 2.419e-01, 7.871e-02, 1.095e+00, 9.053e-01,\n",
       "       8.589e+00, 1.534e+02, 6.399e-03, 4.904e-02, 5.373e-02, 1.587e-02,\n",
       "       3.003e-02, 6.193e-03, 2.538e+01, 1.733e+01, 1.846e+02, 2.019e+03,\n",
       "       1.622e-01, 6.656e-01, 7.119e-01, 2.654e-01, 4.601e-01, 1.189e-01])"
      ]
     },
     "execution_count": 4,
     "metadata": {},
     "output_type": "execute_result"
    }
   ],
   "source": [
    "# (3)데이터 이해하기\n",
    "\n",
    "# (3)-1. Feature Data 지정\n",
    "\n",
    "breast_cancer.feature_names\n",
    "breast_cancer_data[0]"
   ]
  },
  {
   "cell_type": "code",
   "execution_count": 5,
   "id": "7a96d5f0",
   "metadata": {},
   "outputs": [
    {
     "name": "stdout",
     "output_type": "stream",
     "text": [
      "(569,)\n",
      "[0 0 0 0 0 0 0 0 0 0 0 0 0 0 0 0 0 0 0 1 1 1 0 0 0 0 0 0 0 0 0 0 0 0 0 0 0\n",
      " 1 0 0 0 0 0 0 0 0 1 0 1 1 1 1 1 0 0 1 0 0 1 1 1 1 0 1 0 0 1 1 1 1 0 1 0 0\n",
      " 1 0 1 0 0 1 1 1 0 0 1 0 0 0 1 1 1 0 1 1 0 0 1 1 1 0 0 1 1 1 1 0 1 1 0 1 1\n",
      " 1 1 1 1 1 1 0 0 0 1 0 0 1 1 1 0 0 1 0 1 0 0 1 0 0 1 1 0 1 1 0 1 1 1 1 0 1\n",
      " 1 1 1 1 1 1 1 1 0 1 1 1 1 0 0 1 0 1 1 0 0 1 1 0 0 1 1 1 1 0 1 1 0 0 0 1 0\n",
      " 1 0 1 1 1 0 1 1 0 0 1 0 0 0 0 1 0 0 0 1 0 1 0 1 1 0 1 0 0 0 0 1 1 0 0 1 1\n",
      " 1 0 1 1 1 1 1 0 0 1 1 0 1 1 0 0 1 0 1 1 1 1 0 1 1 1 1 1 0 1 0 0 0 0 0 0 0\n",
      " 0 0 0 0 0 0 0 1 1 1 1 1 1 0 1 0 1 1 0 1 1 0 1 0 0 1 1 1 1 1 1 1 1 1 1 1 1\n",
      " 1 0 1 1 0 1 0 1 1 1 1 1 1 1 1 1 1 1 1 1 1 0 1 1 1 0 1 0 1 1 1 1 0 0 0 1 1\n",
      " 1 1 0 1 0 1 0 1 1 1 0 1 1 1 1 1 1 1 0 0 0 1 1 1 1 1 1 1 1 1 1 1 0 0 1 0 0\n",
      " 0 1 0 0 1 1 1 1 1 0 1 1 1 1 1 0 1 1 1 0 1 1 0 0 1 1 1 1 1 1 0 1 1 1 1 1 1\n",
      " 1 0 1 1 1 1 1 0 1 1 0 1 1 1 1 1 1 1 1 1 1 1 1 0 1 0 0 1 0 1 1 1 1 1 0 1 1\n",
      " 0 1 0 1 1 0 1 0 1 1 1 1 1 1 1 1 0 0 1 1 1 1 1 1 0 1 1 1 1 1 1 1 1 1 1 0 1\n",
      " 1 1 1 1 1 1 0 1 0 1 1 0 1 1 1 1 1 0 0 1 0 1 0 1 1 1 1 1 0 1 1 0 1 0 1 0 0\n",
      " 1 1 1 0 1 1 1 1 1 1 1 1 1 1 1 0 1 0 0 1 1 1 1 1 1 1 1 1 1 1 1 1 1 1 1 1 1\n",
      " 1 1 1 1 1 1 1 0 0 0 0 0 0 1]\n"
     ]
    }
   ],
   "source": [
    "# (3)-2. Label Data 지정\n",
    "\n",
    "breast_cancer_label = breast_cancer.target\n",
    "print(breast_cancer_label.shape)\n",
    "print(breast_cancer_label[:])"
   ]
  },
  {
   "cell_type": "code",
   "execution_count": 6,
   "id": "0f58e6bd",
   "metadata": {},
   "outputs": [],
   "source": [
    "## breast_cancer_label에 저장된 데이터 양과 형식 확인.\n",
    "## 569개의 데이터가 저장."
   ]
  },
  {
   "cell_type": "code",
   "execution_count": 7,
   "id": "25d1d33c",
   "metadata": {},
   "outputs": [
    {
     "data": {
      "text/plain": [
       "array(['malignant', 'benign'], dtype='<U9')"
      ]
     },
     "execution_count": 7,
     "metadata": {},
     "output_type": "execute_result"
    }
   ],
   "source": [
    "# (3)-3. Target Names 출력\n",
    "\n",
    "breast_cancer.target_names"
   ]
  },
  {
   "cell_type": "code",
   "execution_count": 8,
   "id": "a761c26c",
   "metadata": {},
   "outputs": [],
   "source": [
    "    ## Target_Name은 'malignant', 'benign'"
   ]
  },
  {
   "cell_type": "code",
   "execution_count": 9,
   "id": "ddb419d8",
   "metadata": {},
   "outputs": [
    {
     "name": "stdout",
     "output_type": "stream",
     "text": [
      ".. _breast_cancer_dataset:\n",
      "\n",
      "Breast cancer wisconsin (diagnostic) dataset\n",
      "--------------------------------------------\n",
      "\n",
      "**Data Set Characteristics:**\n",
      "\n",
      "    :Number of Instances: 569\n",
      "\n",
      "    :Number of Attributes: 30 numeric, predictive attributes and the class\n",
      "\n",
      "    :Attribute Information:\n",
      "        - radius (mean of distances from center to points on the perimeter)\n",
      "        - texture (standard deviation of gray-scale values)\n",
      "        - perimeter\n",
      "        - area\n",
      "        - smoothness (local variation in radius lengths)\n",
      "        - compactness (perimeter^2 / area - 1.0)\n",
      "        - concavity (severity of concave portions of the contour)\n",
      "        - concave points (number of concave portions of the contour)\n",
      "        - symmetry\n",
      "        - fractal dimension (\"coastline approximation\" - 1)\n",
      "\n",
      "        The mean, standard error, and \"worst\" or largest (mean of the three\n",
      "        worst/largest values) of these features were computed for each image,\n",
      "        resulting in 30 features.  For instance, field 0 is Mean Radius, field\n",
      "        10 is Radius SE, field 20 is Worst Radius.\n",
      "\n",
      "        - class:\n",
      "                - WDBC-Malignant\n",
      "                - WDBC-Benign\n",
      "\n",
      "    :Summary Statistics:\n",
      "\n",
      "    ===================================== ====== ======\n",
      "                                           Min    Max\n",
      "    ===================================== ====== ======\n",
      "    radius (mean):                        6.981  28.11\n",
      "    texture (mean):                       9.71   39.28\n",
      "    perimeter (mean):                     43.79  188.5\n",
      "    area (mean):                          143.5  2501.0\n",
      "    smoothness (mean):                    0.053  0.163\n",
      "    compactness (mean):                   0.019  0.345\n",
      "    concavity (mean):                     0.0    0.427\n",
      "    concave points (mean):                0.0    0.201\n",
      "    symmetry (mean):                      0.106  0.304\n",
      "    fractal dimension (mean):             0.05   0.097\n",
      "    radius (standard error):              0.112  2.873\n",
      "    texture (standard error):             0.36   4.885\n",
      "    perimeter (standard error):           0.757  21.98\n",
      "    area (standard error):                6.802  542.2\n",
      "    smoothness (standard error):          0.002  0.031\n",
      "    compactness (standard error):         0.002  0.135\n",
      "    concavity (standard error):           0.0    0.396\n",
      "    concave points (standard error):      0.0    0.053\n",
      "    symmetry (standard error):            0.008  0.079\n",
      "    fractal dimension (standard error):   0.001  0.03\n",
      "    radius (worst):                       7.93   36.04\n",
      "    texture (worst):                      12.02  49.54\n",
      "    perimeter (worst):                    50.41  251.2\n",
      "    area (worst):                         185.2  4254.0\n",
      "    smoothness (worst):                   0.071  0.223\n",
      "    compactness (worst):                  0.027  1.058\n",
      "    concavity (worst):                    0.0    1.252\n",
      "    concave points (worst):               0.0    0.291\n",
      "    symmetry (worst):                     0.156  0.664\n",
      "    fractal dimension (worst):            0.055  0.208\n",
      "    ===================================== ====== ======\n",
      "\n",
      "    :Missing Attribute Values: None\n",
      "\n",
      "    :Class Distribution: 212 - Malignant, 357 - Benign\n",
      "\n",
      "    :Creator:  Dr. William H. Wolberg, W. Nick Street, Olvi L. Mangasarian\n",
      "\n",
      "    :Donor: Nick Street\n",
      "\n",
      "    :Date: November, 1995\n",
      "\n",
      "This is a copy of UCI ML Breast Cancer Wisconsin (Diagnostic) datasets.\n",
      "https://goo.gl/U2Uwz2\n",
      "\n",
      "Features are computed from a digitized image of a fine needle\n",
      "aspirate (FNA) of a breast mass.  They describe\n",
      "characteristics of the cell nuclei present in the image.\n",
      "\n",
      "Separating plane described above was obtained using\n",
      "Multisurface Method-Tree (MSM-T) [K. P. Bennett, \"Decision Tree\n",
      "Construction Via Linear Programming.\" Proceedings of the 4th\n",
      "Midwest Artificial Intelligence and Cognitive Science Society,\n",
      "pp. 97-101, 1992], a classification method which uses linear\n",
      "programming to construct a decision tree.  Relevant features\n",
      "were selected using an exhaustive search in the space of 1-4\n",
      "features and 1-3 separating planes.\n",
      "\n",
      "The actual linear program used to obtain the separating plane\n",
      "in the 3-dimensional space is that described in:\n",
      "[K. P. Bennett and O. L. Mangasarian: \"Robust Linear\n",
      "Programming Discrimination of Two Linearly Inseparable Sets\",\n",
      "Optimization Methods and Software 1, 1992, 23-34].\n",
      "\n",
      "This database is also available through the UW CS ftp server:\n",
      "\n",
      "ftp ftp.cs.wisc.edu\n",
      "cd math-prog/cpo-dataset/machine-learn/WDBC/\n",
      "\n",
      ".. topic:: References\n",
      "\n",
      "   - W.N. Street, W.H. Wolberg and O.L. Mangasarian. Nuclear feature extraction \n",
      "     for breast tumor diagnosis. IS&T/SPIE 1993 International Symposium on \n",
      "     Electronic Imaging: Science and Technology, volume 1905, pages 861-870,\n",
      "     San Jose, CA, 1993.\n",
      "   - O.L. Mangasarian, W.N. Street and W.H. Wolberg. Breast cancer diagnosis and \n",
      "     prognosis via linear programming. Operations Research, 43(4), pages 570-577, \n",
      "     July-August 1995.\n",
      "   - W.H. Wolberg, W.N. Street, and O.L. Mangasarian. Machine learning techniques\n",
      "     to diagnose breast cancer from fine-needle aspirates. Cancer Letters 77 (1994) \n",
      "     163-171.\n"
     ]
    }
   ],
   "source": [
    "# (3)-4. 데이터 Describe 해 보기\n",
    "\n",
    "print(breast_cancer.DESCR)"
   ]
  },
  {
   "cell_type": "code",
   "execution_count": 10,
   "id": "c0ea8cd5",
   "metadata": {},
   "outputs": [],
   "source": [
    "    ## 총 569개의 데이터.\n",
    "    ## 특성은 총 30개.\n",
    "    ## 2개의 라벨 - Malignant(악성 종양) 212개 , Benign(양성 종양) 357개."
   ]
  },
  {
   "cell_type": "code",
   "execution_count": 11,
   "id": "76c6ed40",
   "metadata": {},
   "outputs": [
    {
     "name": "stdout",
     "output_type": "stream",
     "text": [
      "X_train 개수:  455 , X_test 개수:  114\n"
     ]
    }
   ],
   "source": [
    "# (4) train, test 데이터 분리\n",
    "\n",
    "# 모델 학습과 테스트용 문제지와 정답지를 준비\n",
    "# X_train, X_test, y_train, y_test를 생성하는 방법을 참고\n",
    "\n",
    "\n",
    "from sklearn.model_selection import train_test_split\n",
    "\n",
    "X_train, X_test, y_train, y_test = train_test_split(breast_cancer_data, \n",
    "                                                    breast_cancer_label, \n",
    "                                                    test_size=0.2, \n",
    "                                                    random_state=7)\n",
    "\n",
    "print('X_train 개수: ', len(X_train),', X_test 개수: ', len(X_test))"
   ]
  },
  {
   "cell_type": "code",
   "execution_count": 12,
   "id": "e7b4d542",
   "metadata": {},
   "outputs": [],
   "source": [
    "    ## wine 데이터 셋을 학습용 데이터와 테스트용 데이터로 분리\n",
    "    ## test 데이터 셋의 크기는 전체 데이터셋의 20%\n",
    "    ## 569개의 데이터셋 - 학습용 데이터: 455개, 테스트용 데이터: 114개"
   ]
  },
  {
   "cell_type": "code",
   "execution_count": 13,
   "id": "bad11455",
   "metadata": {
    "scrolled": true
   },
   "outputs": [
    {
     "name": "stdout",
     "output_type": "stream",
     "text": [
      "              precision    recall  f1-score   support\n",
      "\n",
      "           0       0.92      0.82      0.87        40\n",
      "           1       0.91      0.96      0.93        74\n",
      "\n",
      "    accuracy                           0.91       114\n",
      "   macro avg       0.91      0.89      0.90       114\n",
      "weighted avg       0.91      0.91      0.91       114\n",
      "\n",
      "[[33  7]\n",
      " [ 3 71]]\n"
     ]
    }
   ],
   "source": [
    "# (5) 다양한 모델로 학습시켜보기\n",
    "# 학습데이터 X_train, y_train 을 활용해 분류기 모델을 만들어 보자.\n",
    "\n",
    "\n",
    "# (5)-1. Decision Tree 사용해 보기\n",
    "\n",
    "from sklearn.tree import DecisionTreeClassifier\n",
    "\n",
    "decision_tree = DecisionTreeClassifier(random_state=32)\n",
    "decision_tree.fit(X_train, y_train) # decision_tree 라는 변수에 모델을 저장\n",
    "y_pred = decision_tree.predict(X_test)\n",
    "\n",
    "print(classification_report(y_test, y_pred)) # Decision Tree 모델 평가\n",
    "print(confusion_matrix(y_test, y_pred))"
   ]
  },
  {
   "cell_type": "code",
   "execution_count": 14,
   "id": "46dac699",
   "metadata": {},
   "outputs": [],
   "source": [
    "# Decision Tree, accuracy : 91%\n",
    "    \n",
    "    \n",
    "    ## 해당 데이터는 악성/양성 종양에 대한 데이터이므로,\n",
    "    ## accuracy 자체보다는, Recall의 값이 중요함.\n",
    "    \n",
    "    ## Recall : 0.82의 값으로 측정.\n",
    "    ## test set 중, 7명의 악성 종양 환자에게 양성 종양이라는 잘못된 판단을 함."
   ]
  },
  {
   "cell_type": "code",
   "execution_count": 15,
   "id": "33a010f8",
   "metadata": {},
   "outputs": [
    {
     "name": "stdout",
     "output_type": "stream",
     "text": [
      "              precision    recall  f1-score   support\n",
      "\n",
      "           0       1.00      1.00      1.00        40\n",
      "           1       1.00      1.00      1.00        74\n",
      "\n",
      "    accuracy                           1.00       114\n",
      "   macro avg       1.00      1.00      1.00       114\n",
      "weighted avg       1.00      1.00      1.00       114\n",
      "\n",
      "[[40  0]\n",
      " [ 0 74]]\n"
     ]
    }
   ],
   "source": [
    "# (5)-2. Random Forest 사용해 보기\n",
    "\n",
    "from sklearn.ensemble import RandomForestClassifier\n",
    "\n",
    "random_forest = RandomForestClassifier(random_state=32)\n",
    "random_forest.fit(X_train, y_train)\n",
    "y_pred = random_forest.predict(X_test)\n",
    "\n",
    "print(classification_report(y_test, y_pred)) ## Random Forest 모델 평가\n",
    "print(confusion_matrix(y_test, y_pred))"
   ]
  },
  {
   "cell_type": "code",
   "execution_count": 16,
   "id": "00d46446",
   "metadata": {},
   "outputs": [],
   "source": [
    "# Random Forest, accuracy : 100%\n",
    "\n",
    "\n",
    "    ## 해당 모델의 정확도는 100%.\n",
    "    ## 모든 악성 종양 환자에게 정확한 진단을 함."
   ]
  },
  {
   "cell_type": "code",
   "execution_count": 17,
   "id": "87bbd8a1",
   "metadata": {},
   "outputs": [
    {
     "name": "stdout",
     "output_type": "stream",
     "text": [
      "              precision    recall  f1-score   support\n",
      "\n",
      "           0       1.00      0.72      0.84        40\n",
      "           1       0.87      1.00      0.93        74\n",
      "\n",
      "    accuracy                           0.90       114\n",
      "   macro avg       0.94      0.86      0.89       114\n",
      "weighted avg       0.92      0.90      0.90       114\n",
      "\n",
      "[[29 11]\n",
      " [ 0 74]]\n"
     ]
    }
   ],
   "source": [
    "# (5)-3. # SVM 사용해 보기\n",
    "\n",
    "from sklearn import svm\n",
    "\n",
    "svm_model = svm.SVC()\n",
    "svm_model.fit(X_train, y_train)\n",
    "y_pred = svm_model.predict(X_test)\n",
    "\n",
    "print(classification_report(y_test, y_pred)) ## SVM 모델 평가\n",
    "print(confusion_matrix(y_test, y_pred))"
   ]
  },
  {
   "cell_type": "code",
   "execution_count": 18,
   "id": "b3ac3a58",
   "metadata": {},
   "outputs": [],
   "source": [
    "# SVM, accuracy : 90%\n",
    "\n",
    "    \n",
    "    ## 해당 데이터는 악성/양성 종양에 대한 데이터이므로,\n",
    "    ## accuracy 자체보다는, Recall의 값이 중요.\n",
    "    \n",
    "    ## Recall : 0.72의 값으로 측정.\n",
    "    ## test set 중, 11명의 악성 종양 환자에게 양성 종양이라는 잘못된 판단을 함."
   ]
  },
  {
   "cell_type": "code",
   "execution_count": 19,
   "id": "8098ea04",
   "metadata": {},
   "outputs": [
    {
     "name": "stdout",
     "output_type": "stream",
     "text": [
      "              precision    recall  f1-score   support\n",
      "\n",
      "           0       1.00      0.70      0.82        40\n",
      "           1       0.86      1.00      0.92        74\n",
      "\n",
      "    accuracy                           0.89       114\n",
      "   macro avg       0.93      0.85      0.87       114\n",
      "weighted avg       0.91      0.89      0.89       114\n",
      "\n",
      "[[28 12]\n",
      " [ 0 74]]\n"
     ]
    }
   ],
   "source": [
    "# (5)-4. # SGD Classifier 사용해 보기\n",
    "\n",
    "from sklearn.linear_model import SGDClassifier\n",
    "\n",
    "sgd_model = SGDClassifier()\n",
    "sgd_model.fit(X_train, y_train)\n",
    "y_pred = sgd_model.predict(X_test)\n",
    "\n",
    "print(classification_report(y_test, y_pred))\n",
    "print(confusion_matrix(y_test, y_pred))"
   ]
  },
  {
   "cell_type": "code",
   "execution_count": 20,
   "id": "bb3610a1",
   "metadata": {},
   "outputs": [],
   "source": [
    "# SGD, accuracy : 90%\n",
    " \n",
    "    \n",
    "    ## 해당 데이터는 악성/양성 종양에 대한 데이터이므로,\n",
    "    ## accuracy 자체보다는, Recall의 값이 중요함.\n",
    "\n",
    "    ## Recall : 0.72의 값으로 측정.\n",
    "    ## test set 중, 11명의 악성 종양 환자에게 양성 종양이라는 잘못된 판단을 함."
   ]
  },
  {
   "cell_type": "code",
   "execution_count": 21,
   "id": "4f27e775",
   "metadata": {},
   "outputs": [
    {
     "name": "stdout",
     "output_type": "stream",
     "text": [
      "              precision    recall  f1-score   support\n",
      "\n",
      "           0       1.00      0.85      0.92        40\n",
      "           1       0.93      1.00      0.96        74\n",
      "\n",
      "    accuracy                           0.95       114\n",
      "   macro avg       0.96      0.93      0.94       114\n",
      "weighted avg       0.95      0.95      0.95       114\n",
      "\n",
      "[[34  6]\n",
      " [ 0 74]]\n"
     ]
    },
    {
     "name": "stderr",
     "output_type": "stream",
     "text": [
      "/opt/conda/lib/python3.9/site-packages/sklearn/linear_model/_logistic.py:814: ConvergenceWarning: lbfgs failed to converge (status=1):\n",
      "STOP: TOTAL NO. of ITERATIONS REACHED LIMIT.\n",
      "\n",
      "Increase the number of iterations (max_iter) or scale the data as shown in:\n",
      "    https://scikit-learn.org/stable/modules/preprocessing.html\n",
      "Please also refer to the documentation for alternative solver options:\n",
      "    https://scikit-learn.org/stable/modules/linear_model.html#logistic-regression\n",
      "  n_iter_i = _check_optimize_result(\n"
     ]
    }
   ],
   "source": [
    "# (5)-5. # Logistic Regression 사용해 보기\n",
    "\n",
    "from sklearn.linear_model import LogisticRegression\n",
    "\n",
    "logistic_model = LogisticRegression()\n",
    "logistic_model.fit(X_train, y_train)\n",
    "y_pred = logistic_model.predict(X_test)\n",
    "\n",
    "print(classification_report(y_test, y_pred))\n",
    "print(confusion_matrix(y_test, y_pred))"
   ]
  },
  {
   "cell_type": "code",
   "execution_count": 22,
   "id": "cb475658",
   "metadata": {},
   "outputs": [],
   "source": [
    "# Logistic Regression, accuracy : 95%\n",
    "\n",
    "\n",
    "    ## 해당 데이터는 악성/양성 종양에 대한 데이터이므로,\n",
    "    ## accuracy 자체보다는, Recall의 값이 중요함.\n",
    "    \n",
    "    ## Recall : 0.85의 값으로 측정.\n",
    "    ## test set 중, 6명의 악성 종양 환자에게 양성 종양이라는 잘못된 판단을 함.\n",
    "        \n",
    "    ## 오류\n",
    "        ## 수렴 경고 : 수렴 실패(status=1), 중지 : 총 반복 횟수가 한계에 도달함.\n",
    "        ## 해결하려면, 반복 횟수를 늘리거나(max_iter) 데이터를 확장해야 함."
   ]
  },
  {
   "cell_type": "code",
   "execution_count": 23,
   "id": "7c0fcbfa",
   "metadata": {},
   "outputs": [],
   "source": [
    "# (6) 모델을 평가해 보기\n",
    "\n",
    "# 학습된 모델들의 테스트데이터 예측 결과를 어떻게 해석해야 할까요?\n",
    "# 모델의 성능을 평가하는 지표로는 무엇이 좋을까요?\n",
    "# sklearn.metrics 에서 제공하는 평가지표 중 적절한 것을 선택해 보세요.\n",
    "# 선택하신 이유도 설명해 주세요."
   ]
  },
  {
   "cell_type": "code",
   "execution_count": 24,
   "id": "2812453c",
   "metadata": {},
   "outputs": [],
   "source": [
    "# 평가지표로 confusion_matrix를 사용한 이유?\n",
    "    ## [recall_score]를 이용하고 싶었는데 어째서인지 자꾸 모든 데이터값이 1로 나와서\n",
    "    ## 올바른 비교와 판단이 힘들어 [confusion_matrix]를 사용했다.\n",
    "\n",
    "# 해당 프로젝트에서는 reall값이 중요하다고 판단했다.\n",
    "    ## reall값이란 예측값으로 해당 프로젝트의 데이터 상에 암인데 암이 아닌 것으로 예측하는 것보다\n",
    "    ## 암이 아닌 것을 암으로 예측하는 것이 낫기 때문에 recall값을 평가지료로 사용했다.\n",
    "\n",
    "# 일단 모든 모델들의 accuracy로 보자면, \n",
    "    ## Decision Tree: 91% (Recall = 0.82)\n",
    "    ## Random Forest: 100% (Recall = 1.00)\n",
    "    ## SVM: 90% (Recall = 0.72)\n",
    "    ## SGD Classifier: 89% (Recall = 0.70)\n",
    "    ## Logistic Regression: 95% (Recall = 0.85)\n",
    "    ## 모든 모델이 89%이상의 정확도를 보여준다.\n",
    "\n",
    "# 해당 프로젝트에서 Random Forest를 제외한 나머지 모델에서는 Recall 값이 0.70~0.85 사이의 값을 갖는 것으로 확인.\n",
    "    ## 즉, 악성 종양 환자를 양성 종양 환자로 판단한 케이스가 6~12명.\n",
    "\n",
    "# 따라서 Random Forest를 제외한 나머지 4개의 모델은 해당 데이터에 적합한 모델이 아니라고 판단.\n",
    "\n",
    "    ## 환자 입장에서는 암이 존재한다고 했을 때 놓치지 않고 검출하는 것이 가장 좋을 것.\n",
    "    ## 만약 암의 존재를 알아차라지 못하면 치료가 늦어져서 생명에 위험이 생기기 때문.\n",
    "    ## 하지만 암이 존재하지 않는데도 불구하고 존재한다고 검출을 했을 때는 결과적으로는 문제가 없음."
   ]
  },
  {
   "cell_type": "code",
   "execution_count": 25,
   "id": "e49d638b",
   "metadata": {},
   "outputs": [],
   "source": [
    "# 회고\n",
    "\n",
    "# 정리하자면, 해당 프로젝트의 경우 Random ForestClassifier 모델의 성능이 가장 좋다고 생각한다.\n",
    "# Random Forest Classifier의 recall은 1.0이다. 즉, 모든 악성 종양 환자에게 정확한 진단을 했다.\n",
    "# 해당 프로젝트 같은 사람의 생명이 걸린 문제에서는 적절한 모델을 사용하여 최대한 정확한 진단을 필요로 한다. \n",
    "\n",
    "# 전체 프로젝트에서 Random Forest 모델이 대체적으로 성능이 높았다.\n",
    "# 그러나, RandomForest의 경우 느린 속도와 많은 메모리 차지를 하는 단점을 가지고 있어서 상황에 맞게 선택해야 할 것 같다.\n",
    "# 프로젝트(3)과 같이 생명이 걸린 경우 속도보다 정확한 예측과 진단이 필요하기 때문에 Random Forest 모델이 적합하다. \n",
    "\n",
    "# 이번 EXPLORATION을 통해 다양한 데이터들을 관찰하고 이해하며, 데이터에 맞는 분류 모델을 알아봤다.\n",
    "# 데이터와 문제, 상황 등 적합한 모델을 고르기 위해 고려해야할 사항이 존재했다.\n",
    "# 또한, 성능이 좋다는 것이 무조건 정확도가 높다는 걸로 판단할 수 없었다."
   ]
  },
  {
   "cell_type": "code",
   "execution_count": null,
   "id": "2a302a53",
   "metadata": {},
   "outputs": [],
   "source": []
  }
 ],
 "metadata": {
  "kernelspec": {
   "display_name": "Python 3 (ipykernel)",
   "language": "python",
   "name": "python3"
  },
  "language_info": {
   "codemirror_mode": {
    "name": "ipython",
    "version": 3
   },
   "file_extension": ".py",
   "mimetype": "text/x-python",
   "name": "python",
   "nbconvert_exporter": "python",
   "pygments_lexer": "ipython3",
   "version": "3.9.7"
  }
 },
 "nbformat": 4,
 "nbformat_minor": 5
}
