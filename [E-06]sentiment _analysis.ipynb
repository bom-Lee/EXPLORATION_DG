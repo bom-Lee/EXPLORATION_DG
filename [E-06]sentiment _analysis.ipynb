{
 "cells": [
  {
   "cell_type": "markdown",
   "id": "8fc2a63d",
   "metadata": {},
   "source": [
    "# EXPLORATION 6. 영화리뷰 텍스트 감성분석하기\n",
    "\n",
    "## 1) 데이터 준비와 확인"
   ]
  },
  {
   "cell_type": "code",
   "execution_count": 1,
   "id": "61367753",
   "metadata": {},
   "outputs": [
    {
     "data": {
      "text/html": [
       "<div>\n",
       "<style scoped>\n",
       "    .dataframe tbody tr th:only-of-type {\n",
       "        vertical-align: middle;\n",
       "    }\n",
       "\n",
       "    .dataframe tbody tr th {\n",
       "        vertical-align: top;\n",
       "    }\n",
       "\n",
       "    .dataframe thead th {\n",
       "        text-align: right;\n",
       "    }\n",
       "</style>\n",
       "<table border=\"1\" class=\"dataframe\">\n",
       "  <thead>\n",
       "    <tr style=\"text-align: right;\">\n",
       "      <th></th>\n",
       "      <th>id</th>\n",
       "      <th>document</th>\n",
       "      <th>label</th>\n",
       "    </tr>\n",
       "  </thead>\n",
       "  <tbody>\n",
       "    <tr>\n",
       "      <th>0</th>\n",
       "      <td>9976970</td>\n",
       "      <td>아 더빙.. 진짜 짜증나네요 목소리</td>\n",
       "      <td>0</td>\n",
       "    </tr>\n",
       "    <tr>\n",
       "      <th>1</th>\n",
       "      <td>3819312</td>\n",
       "      <td>흠...포스터보고 초딩영화줄....오버연기조차 가볍지 않구나</td>\n",
       "      <td>1</td>\n",
       "    </tr>\n",
       "    <tr>\n",
       "      <th>2</th>\n",
       "      <td>10265843</td>\n",
       "      <td>너무재밓었다그래서보는것을추천한다</td>\n",
       "      <td>0</td>\n",
       "    </tr>\n",
       "    <tr>\n",
       "      <th>3</th>\n",
       "      <td>9045019</td>\n",
       "      <td>교도소 이야기구먼 ..솔직히 재미는 없다..평점 조정</td>\n",
       "      <td>0</td>\n",
       "    </tr>\n",
       "    <tr>\n",
       "      <th>4</th>\n",
       "      <td>6483659</td>\n",
       "      <td>사이몬페그의 익살스런 연기가 돋보였던 영화!스파이더맨에서 늙어보이기만 했던 커스틴 ...</td>\n",
       "      <td>1</td>\n",
       "    </tr>\n",
       "  </tbody>\n",
       "</table>\n",
       "</div>"
      ],
      "text/plain": [
       "         id                                           document  label\n",
       "0   9976970                                아 더빙.. 진짜 짜증나네요 목소리      0\n",
       "1   3819312                  흠...포스터보고 초딩영화줄....오버연기조차 가볍지 않구나      1\n",
       "2  10265843                                  너무재밓었다그래서보는것을추천한다      0\n",
       "3   9045019                      교도소 이야기구먼 ..솔직히 재미는 없다..평점 조정      0\n",
       "4   6483659  사이몬페그의 익살스런 연기가 돋보였던 영화!스파이더맨에서 늙어보이기만 했던 커스틴 ...      1"
      ]
     },
     "execution_count": 1,
     "metadata": {},
     "output_type": "execute_result"
    }
   ],
   "source": [
    "import pandas as pd\n",
    "\n",
    "# 데이터를 읽어봅시다. \n",
    "train_data = pd.read_table('~/aiffel/sentiment_classification/data/ratings_train.txt')\n",
    "test_data = pd.read_table('~/aiffel/sentiment_classification/data/ratings_test.txt')\n",
    "\n",
    "train_data.head()"
   ]
  },
  {
   "cell_type": "markdown",
   "id": "ea41e451",
   "metadata": {},
   "source": [
    "## 2) 데이터로더 구성\n",
    "\n",
    "* 데이터의 중복 제거\n",
    "* NaN 결측치 제거\n",
    "* 한국어 토크나이저로 토큰화\n",
    "* 불용어(Stopwords) 제거\n",
    "* 사전word_to_index 구성\n",
    "* 텍스트 스트링을 사전 인덱스 스트링으로 변환\n",
    "* X_train, y_train, X_test, y_test, word_to_index 리턴"
   ]
  },
  {
   "cell_type": "code",
   "execution_count": 2,
   "id": "3872858b",
   "metadata": {},
   "outputs": [],
   "source": [
    "from konlpy.tag import Mecab\n",
    "import numpy as np\n",
    "from collections import Counter\n",
    "\n",
    "import tensorflow as tf\n",
    "from tensorflow import keras\n",
    "import os\n",
    "\n",
    "tokenizer = Mecab()\n",
    "stopwords = ['의','가','이','은','들','는','좀','잘','걍','과','도','를','으로','자','에','와','한','하다']\n",
    "\n",
    "def load_data(train_data, test_data, num_words=10000):\n",
    "    train_data.drop_duplicates(subset=['document'], inplace=True)\n",
    "    train_data = train_data.dropna(how = 'any') \n",
    "    test_data.drop_duplicates(subset=['document'], inplace=True)\n",
    "    test_data = test_data.dropna(how = 'any') \n",
    "    \n",
    "    X_train = []\n",
    "    for sentence in train_data['document']:\n",
    "        temp_X = tokenizer.morphs(sentence) # 토큰화\n",
    "        temp_X = [word for word in temp_X if not word in stopwords] # 불용어 제거\n",
    "        X_train.append(temp_X)\n",
    "\n",
    "    X_test = []\n",
    "    for sentence in test_data['document']:\n",
    "        temp_X = tokenizer.morphs(sentence) # 토큰화\n",
    "        temp_X = [word for word in temp_X if not word in stopwords] # 불용어 제거\n",
    "        X_test.append(temp_X)\n",
    "    \n",
    "    words = np.concatenate(X_train).tolist()\n",
    "    counter = Counter(words)\n",
    "    counter = counter.most_common(10000-4)\n",
    "    vocab = ['<PAD>', '<BOS>', '<UNK>', '<UNUSED>'] + [key for key, _ in counter]\n",
    "    word_to_index = {word:index for index, word in enumerate(vocab)}\n",
    "        \n",
    "    def wordlist_to_indexlist(wordlist):\n",
    "        return [word_to_index[word] if word in word_to_index else word_to_index['<UNK>'] for word in wordlist]\n",
    "        \n",
    "    X_train = list(map(wordlist_to_indexlist, X_train))\n",
    "    X_test = list(map(wordlist_to_indexlist, X_test))\n",
    "        \n",
    "    return X_train, np.array(list(train_data['label'])), X_test, np.array(list(test_data['label'])), word_to_index\n",
    "    \n",
    "X_train, y_train, X_test, y_test, word_to_index = load_data(train_data, test_data) "
   ]
  },
  {
   "cell_type": "code",
   "execution_count": 3,
   "id": "9abea137",
   "metadata": {},
   "outputs": [
    {
     "name": "stdout",
     "output_type": "stream",
     "text": [
      "train data 개수: 146182, test data 개수: 49157\n"
     ]
    }
   ],
   "source": [
    "print(f'train data 개수: {len(X_train)}, test data 개수: {len(X_test)}')"
   ]
  },
  {
   "cell_type": "code",
   "execution_count": 4,
   "id": "0753763c",
   "metadata": {},
   "outputs": [],
   "source": [
    "# 사전 딕셔너리 생성\n",
    "index_to_word = {index:word for word, index in word_to_index.items()}"
   ]
  },
  {
   "cell_type": "code",
   "execution_count": 5,
   "id": "50f87451",
   "metadata": {},
   "outputs": [],
   "source": [
    "# 문장 1개를 활용할 딕셔너리와 함께 주면, 단어 인덱스 리스트 벡터로 변환해 주는 함수입니다. \n",
    "# 단, 모든 문장은 <BOS>로 시작하는 것으로 합니다. \n",
    "def get_encoded_sentence(sentence, word_to_index):\n",
    "    return [word_to_index['<BOS>']]+[word_to_index[word] if word in word_to_index else word_to_index['<UNK>'] for word in sentence.split()]\n",
    "\n",
    "# 여러 개의 문장 리스트를 한꺼번에 단어 인덱스 리스트 벡터로 encode해 주는 함수입니다. \n",
    "def get_encoded_sentences(sentences, word_to_index):\n",
    "    return [get_encoded_sentence(sentence, word_to_index) for sentence in sentences]\n",
    "\n",
    "# 숫자 벡터로 encode된 문장을 원래대로 decode하는 함수입니다. \n",
    "def get_decoded_sentence(encoded_sentence, index_to_word):\n",
    "    return ' '.join(index_to_word[index] if index in index_to_word else '<UNK>' for index in encoded_sentence[1:])  #[1:]를 통해 <BOS>를 제외\n",
    "\n",
    "# 여러 개의 숫자 벡터로 encode된 문장을 한꺼번에 원래대로 decode하는 함수입니다. \n",
    "def get_decoded_sentences(encoded_sentences, index_to_word):\n",
    "    return [get_decoded_sentence(encoded_sentence, index_to_word) for encoded_sentence in encoded_sentences]"
   ]
  },
  {
   "cell_type": "markdown",
   "id": "4babad51",
   "metadata": {},
   "source": [
    "* get_encoded_sentence() : 하나의 문장을 이용하여, 단어를 인덱스로 변환하는 함수\n",
    "* get_encoded_sentences() : 여러개의 문장을 이용하여, 단어를 인덱스로 변환하는 함수\n",
    "* get_decoded_sentence() : 숫자 벡터를 원래의 문장으로 변환하는 함수\n",
    "* get_decoded_sentences() : 여러개의 숫자 벡터를 원래의 여러 문장으로 변환하는 함수"
   ]
  },
  {
   "cell_type": "markdown",
   "id": "fb0c1b7c",
   "metadata": {},
   "source": [
    "## 3) 모델 구성을 위한 데이터 분석 및 가공\n",
    "* 데이터셋 내 문장 길이 분포\n",
    "* 적절한 최대 문장 길이 지정\n",
    "* keras.preprocessing.sequence.pad_sequences 을 활용한 패딩 추가"
   ]
  },
  {
   "cell_type": "code",
   "execution_count": 6,
   "id": "b32c5b6b",
   "metadata": {},
   "outputs": [
    {
     "name": "stdout",
     "output_type": "stream",
     "text": [
      "[32, 74, 919, 4, 4, 39, 228, 20, 33, 748]\n",
      "라벨:  0\n",
      "1번째 리뷰 문장 길이:  10\n",
      "2번째 리뷰 문장 길이:  17\n",
      "10번째 리뷰 문장 길이:  21\n",
      "더 빙 . . 진짜 짜증 나 네요 목소리\n"
     ]
    }
   ],
   "source": [
    "print(X_train[0])  # 1번째 리뷰데이터\n",
    "print('라벨: ', y_train[0])  # 1번째 리뷰데이터의 라벨\n",
    "print('1번째 리뷰 문장 길이: ', len(X_train[0]))\n",
    "print('2번째 리뷰 문장 길이: ', len(X_train[1]))\n",
    "print('10번째 리뷰 문장 길이: ', len(X_train[9]))\n",
    "\n",
    "print(get_decoded_sentence(X_train[0], index_to_word))"
   ]
  },
  {
   "cell_type": "code",
   "execution_count": 7,
   "id": "8a90fdb9",
   "metadata": {},
   "outputs": [
    {
     "name": "stdout",
     "output_type": "stream",
     "text": [
      "문장길이 평균 :  15.96940191154864\n",
      "문장길이 최대 :  116\n",
      "문장길이 표준편차 :  12.843571191092\n",
      "pad_sequences maxlen :  41\n",
      "전체 문장의 0.9342988343341575%가 maxlen 설정값 이내에 포함됩니다. \n"
     ]
    }
   ],
   "source": [
    "total_data_text = list(X_train) + list(X_test)\n",
    "\n",
    "# 텍스트데이터 문장길이의 리스트를 생성한 후\n",
    "num_tokens = [len(tokens) for tokens in total_data_text]\n",
    "num_tokens = np.array(num_tokens)\n",
    "\n",
    "# 문장길이의 평균값, 최대값, 표준편차를 계산해 본다. \n",
    "print('문장길이 평균 : ', np.mean(num_tokens))\n",
    "print('문장길이 최대 : ', np.max(num_tokens))\n",
    "print('문장길이 표준편차 : ', np.std(num_tokens))\n",
    "\n",
    "# 예를들어, 최대 길이를 (평균 + 2*표준편차)로 한다면,  \n",
    "max_tokens = np.mean(num_tokens) + 2 * np.std(num_tokens)\n",
    "maxlen = int(max_tokens)\n",
    "print('pad_sequences maxlen : ', maxlen)\n",
    "print('전체 문장의 {}%가 maxlen 설정값 이내에 포함됩니다. '.format(np.sum(num_tokens < max_tokens) / len(num_tokens)))"
   ]
  },
  {
   "cell_type": "code",
   "execution_count": 8,
   "id": "050af829",
   "metadata": {},
   "outputs": [
    {
     "name": "stdout",
     "output_type": "stream",
     "text": [
      "(146182, 41)\n",
      "(49157, 41)\n"
     ]
    }
   ],
   "source": [
    "X_train = tf.keras.preprocessing.sequence.pad_sequences(X_train,\n",
    "                                                        value=word_to_index[\"<PAD>\"],\n",
    "                                                        padding='pre', # 혹은 'post'\n",
    "                                                        maxlen=maxlen)\n",
    "\n",
    "X_test = tf.keras.preprocessing.sequence.pad_sequences(X_test,\n",
    "                                                       value=word_to_index[\"<PAD>\"],\n",
    "                                                       padding='pre', # 혹은 'post'\n",
    "                                                       maxlen=maxlen)\n",
    "\n",
    "print(X_train.shape)\n",
    "print(X_test.shape)"
   ]
  },
  {
   "cell_type": "markdown",
   "id": "372fb52f",
   "metadata": {},
   "source": [
    "## 4) 모델 구성 및 validation set 구성\n",
    "모델은 3가지 이상 다양하게 구성하여 실험"
   ]
  },
  {
   "cell_type": "markdown",
   "id": "dd8808e9",
   "metadata": {},
   "source": [
    "### LSTM (RNN : Recurrent Neural Netowrk)"
   ]
  },
  {
   "cell_type": "code",
   "execution_count": 9,
   "id": "1a839c46",
   "metadata": {},
   "outputs": [
    {
     "name": "stdout",
     "output_type": "stream",
     "text": [
      "Model: \"sequential\"\n",
      "_________________________________________________________________\n",
      "Layer (type)                 Output Shape              Param #   \n",
      "=================================================================\n",
      "embedding (Embedding)        (None, None, 16)          160000    \n",
      "_________________________________________________________________\n",
      "lstm (LSTM)                  (None, 8)                 800       \n",
      "_________________________________________________________________\n",
      "dense (Dense)                (None, 8)                 72        \n",
      "_________________________________________________________________\n",
      "dense_1 (Dense)              (None, 1)                 9         \n",
      "=================================================================\n",
      "Total params: 160,881\n",
      "Trainable params: 160,881\n",
      "Non-trainable params: 0\n",
      "_________________________________________________________________\n"
     ]
    }
   ],
   "source": [
    "vocab_size = 10000    # 어휘 사전의 크기입니다(10,000개의 단어)\n",
    "word_vector_dim = 16  # 워드 벡터의 차원 수 (변경 가능한 하이퍼파라미터)\n",
    "\n",
    "# model 설계 - 딥러닝 모델 코드를 직접 작성해 주세요.\n",
    "model_lstm = tf.keras.Sequential()\n",
    "model_lstm.add(tf.keras.layers.Embedding(vocab_size, word_vector_dim, input_shape=(None,)))\n",
    "model_lstm.add(tf.keras.layers.LSTM(8))   # 가장 널리 쓰이는 RNN인 LSTM 레이어를 사용하였습니다. 이때 LSTM state 벡터의 차원수는 8로 하였습니다. (변경 가능)\n",
    "model_lstm.add(tf.keras.layers.Dense(8, activation='relu'))\n",
    "model_lstm.add(tf.keras.layers.Dense(1, activation='sigmoid'))  # 최종 출력은 긍정/부정을 나타내는 1dim 입니다.\n",
    "\n",
    "model_lstm.summary()"
   ]
  },
  {
   "cell_type": "code",
   "execution_count": 10,
   "id": "fb4febeb",
   "metadata": {},
   "outputs": [
    {
     "name": "stdout",
     "output_type": "stream",
     "text": [
      "(25000, 41)\n",
      "(25000,)\n",
      "(121182, 41)\n",
      "(121182,)\n"
     ]
    }
   ],
   "source": [
    "# validation set 분리\n",
    "X_val = X_train[:25000]   \n",
    "y_val = y_train[:25000]\n",
    "\n",
    "# validation set을 제외한 나머지\n",
    "partial_X_train = X_train[25000:]  \n",
    "partial_y_train = y_train[25000:]\n",
    "\n",
    "print(X_val.shape)\n",
    "print(y_val.shape)\n",
    "print(partial_X_train.shape)\n",
    "print(partial_y_train.shape)"
   ]
  },
  {
   "cell_type": "code",
   "execution_count": 11,
   "id": "39fc5627",
   "metadata": {},
   "outputs": [
    {
     "name": "stdout",
     "output_type": "stream",
     "text": [
      "Epoch 1/5\n",
      "947/947 [==============================] - 8s 6ms/step - loss: 0.4212 - accuracy: 0.8097 - val_loss: 0.3475 - val_accuracy: 0.8491\n",
      "Epoch 2/5\n",
      "947/947 [==============================] - 5s 5ms/step - loss: 0.3272 - accuracy: 0.8602 - val_loss: 0.3461 - val_accuracy: 0.8506\n",
      "Epoch 3/5\n",
      "947/947 [==============================] - 5s 6ms/step - loss: 0.3052 - accuracy: 0.8709 - val_loss: 0.3397 - val_accuracy: 0.8531\n",
      "Epoch 4/5\n",
      "947/947 [==============================] - 5s 5ms/step - loss: 0.2858 - accuracy: 0.8789 - val_loss: 0.3354 - val_accuracy: 0.8549\n",
      "Epoch 5/5\n",
      "947/947 [==============================] - 5s 5ms/step - loss: 0.2645 - accuracy: 0.8890 - val_loss: 0.3414 - val_accuracy: 0.8565\n"
     ]
    }
   ],
   "source": [
    "model_lstm.compile(optimizer='adam',\n",
    "              loss='binary_crossentropy',\n",
    "              metrics=['accuracy'])\n",
    "              \n",
    "epochs=5  # 몇 epoch를 훈련하면 좋을지 결과를 보면서 바꾸어 봅시다. \n",
    "\n",
    "history_lstm = model_lstm.fit(partial_X_train,\n",
    "                    partial_y_train,\n",
    "                    epochs=epochs,\n",
    "                    batch_size=128,\n",
    "                    validation_data=(X_val, y_val),\n",
    "                    verbose=1)"
   ]
  },
  {
   "cell_type": "code",
   "execution_count": 12,
   "id": "f50eca98",
   "metadata": {},
   "outputs": [
    {
     "name": "stdout",
     "output_type": "stream",
     "text": [
      "1537/1537 - 3s - loss: 0.3515 - accuracy: 0.8504\n",
      "[0.35148581862449646, 0.8503569960594177]\n"
     ]
    }
   ],
   "source": [
    "results_lstm = model_lstm.evaluate(X_test,  y_test, verbose=2)\n",
    "\n",
    "print(results_lstm)"
   ]
  },
  {
   "cell_type": "markdown",
   "id": "033518a4",
   "metadata": {},
   "source": [
    "### 1-D CNN (Convolution Neural Network)"
   ]
  },
  {
   "cell_type": "code",
   "execution_count": 13,
   "id": "a614cc04",
   "metadata": {},
   "outputs": [
    {
     "name": "stdout",
     "output_type": "stream",
     "text": [
      "Model: \"sequential_1\"\n",
      "_________________________________________________________________\n",
      "Layer (type)                 Output Shape              Param #   \n",
      "=================================================================\n",
      "embedding_1 (Embedding)      (None, None, 16)          160000    \n",
      "_________________________________________________________________\n",
      "conv1d (Conv1D)              (None, None, 16)          1808      \n",
      "_________________________________________________________________\n",
      "max_pooling1d (MaxPooling1D) (None, None, 16)          0         \n",
      "_________________________________________________________________\n",
      "conv1d_1 (Conv1D)            (None, None, 16)          1808      \n",
      "_________________________________________________________________\n",
      "global_max_pooling1d (Global (None, 16)                0         \n",
      "_________________________________________________________________\n",
      "dense_2 (Dense)              (None, 8)                 136       \n",
      "_________________________________________________________________\n",
      "dense_3 (Dense)              (None, 1)                 9         \n",
      "=================================================================\n",
      "Total params: 163,761\n",
      "Trainable params: 163,761\n",
      "Non-trainable params: 0\n",
      "_________________________________________________________________\n"
     ]
    }
   ],
   "source": [
    "# 1-D CNN\n",
    "vocab_size = 10000  # 어휘 사전의 크기입니다(10개의 단어)\n",
    "word_vector_dim = 16  # 단어 하나를 표현하는 임베딩 벡터의 차원수입니다. \n",
    "\n",
    "model_cnn = tf.keras.Sequential()\n",
    "model_cnn.add(tf.keras.layers.Embedding(vocab_size, word_vector_dim, input_shape=(None,)))\n",
    "model_cnn.add(tf.keras.layers.Conv1D(16, 7, activation='relu'))\n",
    "model_cnn.add(tf.keras.layers.MaxPooling1D(5))\n",
    "model_cnn.add(tf.keras.layers.Conv1D(16, 7, activation='relu'))\n",
    "model_cnn.add(tf.keras.layers.GlobalMaxPooling1D())\n",
    "model_cnn.add(tf.keras.layers.Dense(8, activation='relu'))\n",
    "model_cnn.add(tf.keras.layers.Dense(1, activation='sigmoid'))  # 최종 출력은 긍정/부정을 나타내는 1dim 입니다.\n",
    "\n",
    "model_cnn.summary()"
   ]
  },
  {
   "cell_type": "code",
   "execution_count": 14,
   "id": "dd7efa6a",
   "metadata": {},
   "outputs": [
    {
     "name": "stdout",
     "output_type": "stream",
     "text": [
      "Epoch 1/5\n",
      "947/947 [==============================] - 6s 5ms/step - loss: 0.4058 - accuracy: 0.8106 - val_loss: 0.3375 - val_accuracy: 0.8536\n",
      "Epoch 2/5\n",
      "947/947 [==============================] - 4s 4ms/step - loss: 0.3028 - accuracy: 0.8720 - val_loss: 0.3325 - val_accuracy: 0.8564\n",
      "Epoch 3/5\n",
      "947/947 [==============================] - 4s 4ms/step - loss: 0.2571 - accuracy: 0.8951 - val_loss: 0.3428 - val_accuracy: 0.8558\n",
      "Epoch 4/5\n",
      "947/947 [==============================] - 4s 4ms/step - loss: 0.2101 - accuracy: 0.9188 - val_loss: 0.3745 - val_accuracy: 0.8482\n",
      "Epoch 5/5\n",
      "947/947 [==============================] - 4s 4ms/step - loss: 0.1667 - accuracy: 0.9388 - val_loss: 0.4173 - val_accuracy: 0.8438\n"
     ]
    }
   ],
   "source": [
    "model_cnn.compile(optimizer='adam',\n",
    "              loss='binary_crossentropy',\n",
    "              metrics=['accuracy'])\n",
    "              \n",
    "epochs=5  # 몇 epoch를 훈련하면 좋을지 결과를 보면서 바꾸어 봅시다. \n",
    "\n",
    "history_cnn = model_cnn.fit(partial_X_train,\n",
    "                    partial_y_train,\n",
    "                    epochs=epochs,\n",
    "                    batch_size=128,\n",
    "                    validation_data=(X_val, y_val),\n",
    "                    verbose=1)"
   ]
  },
  {
   "cell_type": "code",
   "execution_count": 15,
   "id": "dc4e0433",
   "metadata": {},
   "outputs": [
    {
     "name": "stdout",
     "output_type": "stream",
     "text": [
      "1537/1537 - 2s - loss: 0.4261 - accuracy: 0.8391\n",
      "[0.42614296078681946, 0.8391073346138]\n"
     ]
    }
   ],
   "source": [
    "results_cnn = model_cnn.evaluate(X_test,  y_test, verbose=2)\n",
    "\n",
    "print(results_cnn)"
   ]
  },
  {
   "cell_type": "markdown",
   "id": "c6cc0638",
   "metadata": {},
   "source": [
    "### GlobalMaxPooling1D"
   ]
  },
  {
   "cell_type": "code",
   "execution_count": 16,
   "id": "70231400",
   "metadata": {},
   "outputs": [
    {
     "name": "stdout",
     "output_type": "stream",
     "text": [
      "Model: \"sequential_2\"\n",
      "_________________________________________________________________\n",
      "Layer (type)                 Output Shape              Param #   \n",
      "=================================================================\n",
      "embedding_2 (Embedding)      (None, None, 16)          160000    \n",
      "_________________________________________________________________\n",
      "global_max_pooling1d_1 (Glob (None, 16)                0         \n",
      "_________________________________________________________________\n",
      "dense_4 (Dense)              (None, 8)                 136       \n",
      "_________________________________________________________________\n",
      "dense_5 (Dense)              (None, 1)                 9         \n",
      "=================================================================\n",
      "Total params: 160,145\n",
      "Trainable params: 160,145\n",
      "Non-trainable params: 0\n",
      "_________________________________________________________________\n"
     ]
    }
   ],
   "source": [
    "# GlobalMaxPooling1D\n",
    "vocab_size = 10000  # 어휘 사전의 크기입니다(10개의 단어)\n",
    "word_vector_dim = 16  # 단어 하나를 표현하는 임베딩 벡터의 차원수입니다.\n",
    "\n",
    "model_gmp = tf.keras.Sequential()\n",
    "model_gmp.add(tf.keras.layers.Embedding(vocab_size, word_vector_dim, input_shape=(None,)))\n",
    "model_gmp.add(tf.keras.layers.GlobalMaxPooling1D())\n",
    "model_gmp.add(tf.keras.layers.Dense(8, activation='relu'))\n",
    "model_gmp.add(tf.keras.layers.Dense(1, activation='sigmoid'))  # 최종 출력은 긍정/부정을 나타내는 1dim 입니다.\n",
    "\n",
    "model_gmp.summary()"
   ]
  },
  {
   "cell_type": "code",
   "execution_count": 17,
   "id": "2547fafb",
   "metadata": {},
   "outputs": [
    {
     "name": "stdout",
     "output_type": "stream",
     "text": [
      "Epoch 1/5\n",
      "947/947 [==============================] - 4s 3ms/step - loss: 0.4546 - accuracy: 0.7976 - val_loss: 0.3620 - val_accuracy: 0.8396\n",
      "Epoch 2/5\n",
      "947/947 [==============================] - 3s 3ms/step - loss: 0.3339 - accuracy: 0.8567 - val_loss: 0.3522 - val_accuracy: 0.8455\n",
      "Epoch 3/5\n",
      "947/947 [==============================] - 3s 3ms/step - loss: 0.2995 - accuracy: 0.8745 - val_loss: 0.3563 - val_accuracy: 0.8473\n",
      "Epoch 4/5\n",
      "947/947 [==============================] - 3s 3ms/step - loss: 0.2766 - accuracy: 0.8858 - val_loss: 0.3649 - val_accuracy: 0.8454\n",
      "Epoch 5/5\n",
      "947/947 [==============================] - 3s 3ms/step - loss: 0.2583 - accuracy: 0.8949 - val_loss: 0.3762 - val_accuracy: 0.8429\n"
     ]
    }
   ],
   "source": [
    "model_gmp.compile(optimizer='adam',\n",
    "              loss='binary_crossentropy',\n",
    "              metrics=['accuracy'])\n",
    "              \n",
    "epochs=5  # 몇 epoch를 훈련하면 좋을지 결과를 보면서 바꾸어 봅시다. \n",
    "\n",
    "history_gmp = model_gmp.fit(partial_X_train,\n",
    "                    partial_y_train,\n",
    "                    epochs=epochs,\n",
    "                    batch_size=128,\n",
    "                    validation_data=(X_val, y_val),\n",
    "                    verbose=1)"
   ]
  },
  {
   "cell_type": "code",
   "execution_count": 18,
   "id": "f712b4b3",
   "metadata": {},
   "outputs": [
    {
     "name": "stdout",
     "output_type": "stream",
     "text": [
      "1537/1537 - 2s - loss: 0.3840 - accuracy: 0.8384\n",
      "[0.3840039074420929, 0.8383546471595764]\n"
     ]
    }
   ],
   "source": [
    "results_gmp = model_gmp.evaluate(X_test,  y_test, verbose=2)\n",
    "\n",
    "print(results_gmp)"
   ]
  },
  {
   "cell_type": "markdown",
   "id": "0f2ede5e",
   "metadata": {},
   "source": [
    "## 6) Loss, Accuracy 그래프 시각화\n",
    "\n",
    "* validation loss의 그래프가 train loss와의 이격이 발생하게 되면 더 이상의 트레이닝은 무의미함.\n",
    "* Training and validation accuracy 그래프 시각화"
   ]
  },
  {
   "cell_type": "markdown",
   "id": "2035f21b",
   "metadata": {},
   "source": [
    "### LSTM"
   ]
  },
  {
   "cell_type": "code",
   "execution_count": 19,
   "id": "02d68665",
   "metadata": {
    "scrolled": true
   },
   "outputs": [
    {
     "name": "stdout",
     "output_type": "stream",
     "text": [
      "dict_keys(['loss', 'accuracy', 'val_loss', 'val_accuracy'])\n"
     ]
    }
   ],
   "source": [
    "history_lstm_dict = history_lstm.history\n",
    "print(history_lstm_dict.keys()) # epoch에 따른 그래프를 그려볼 수 있는 항목들"
   ]
  },
  {
   "cell_type": "code",
   "execution_count": 20,
   "id": "475e5bb5",
   "metadata": {
    "scrolled": false
   },
   "outputs": [
    {
     "data": {
      "image/png": "[encoded data removed]",
      "text/plain": [
       "<Figure size 576x288 with 2 Axes>"
      ]
     },
     "metadata": {
      "needs_background": "light"
     },
     "output_type": "display_data"
    }
   ],
   "source": [
    "import matplotlib.pyplot as plt\n",
    "\n",
    "acc = history_lstm_dict['accuracy']\n",
    "val_acc = history_lstm_dict['val_accuracy']\n",
    "loss = history_lstm_dict['loss']\n",
    "val_loss = history_lstm_dict['val_loss']\n",
    "\n",
    "epochs = range(1, len(acc) + 1)\n",
    "\n",
    "plt.figure(figsize=(8, 4))\n",
    "plt.subplot(1, 2, 1)\n",
    "# \"bo\"는 \"파란색 점\"입니다\n",
    "plt.plot(epochs, loss, 'bo', label='Training loss')\n",
    "# b는 \"파란 실선\"입니다\n",
    "plt.plot(epochs, val_loss, 'b', label='Validation loss')\n",
    "plt.title('Training and validation loss')\n",
    "plt.xlabel('Epochs')\n",
    "plt.ylabel('Loss')\n",
    "plt.legend()\n",
    "\n",
    "# plt.clf()   # 그림을 초기화합니다\n",
    "\n",
    "plt.subplot(1, 2, 2)\n",
    "plt.plot(epochs, acc, 'bo', label='Training acc')\n",
    "plt.plot(epochs, val_acc, 'b', label='Validation acc')\n",
    "plt.title('Training and validation accuracy')\n",
    "plt.xlabel('Epochs')\n",
    "plt.ylabel('Accuracy')\n",
    "plt.legend()\n",
    "\n",
    "plt.show()"
   ]
  },
  {
   "cell_type": "markdown",
   "id": "94050ad7",
   "metadata": {},
   "source": [
    "### 1-D CNN ( Convolution Neural Network)"
   ]
  },
  {
   "cell_type": "code",
   "execution_count": 21,
   "id": "3bad3bd6",
   "metadata": {},
   "outputs": [
    {
     "name": "stdout",
     "output_type": "stream",
     "text": [
      "dict_keys(['loss', 'accuracy', 'val_loss', 'val_accuracy'])\n"
     ]
    }
   ],
   "source": [
    "history_cnn_dict = history_cnn.history\n",
    "print(history_cnn_dict.keys()) # epoch에 따른 그래프를 그려볼 수 있는 항목들"
   ]
  },
  {
   "cell_type": "code",
   "execution_count": 22,
   "id": "1215531b",
   "metadata": {},
   "outputs": [
    {
     "data": {
      "image/png": "[encoded data removed]",
      "text/plain": [
       "<Figure size 576x288 with 2 Axes>"
      ]
     },
     "metadata": {
      "needs_background": "light"
     },
     "output_type": "display_data"
    }
   ],
   "source": [
    "import matplotlib.pyplot as plt\n",
    "\n",
    "acc = history_cnn_dict['accuracy']\n",
    "val_acc = history_cnn_dict['val_accuracy']\n",
    "loss = history_cnn_dict['loss']\n",
    "val_loss = history_cnn_dict['val_loss']\n",
    "\n",
    "epochs = range(1, len(acc) + 1)\n",
    "\n",
    "plt.figure(figsize=(8, 4))\n",
    "plt.subplot(1, 2, 1)\n",
    "# \"bo\"는 \"파란색 점\"입니다\n",
    "plt.plot(epochs, loss, 'bo', label='Training loss')\n",
    "# b는 \"파란 실선\"입니다\n",
    "plt.plot(epochs, val_loss, 'b', label='Validation loss')\n",
    "plt.title('Training and validation loss')\n",
    "plt.xlabel('Epochs')\n",
    "plt.ylabel('Loss')\n",
    "plt.legend()\n",
    "\n",
    "# plt.clf()   # 그림을 초기화합니다\n",
    "\n",
    "plt.subplot(1, 2, 2)\n",
    "plt.plot(epochs, acc, 'bo', label='Training acc')\n",
    "plt.plot(epochs, val_acc, 'b', label='Validation acc')\n",
    "plt.title('Training and validation accuracy')\n",
    "plt.xlabel('Epochs')\n",
    "plt.ylabel('Accuracy')\n",
    "plt.legend()\n",
    "\n",
    "plt.show()"
   ]
  },
  {
   "cell_type": "markdown",
   "id": "e88c03ef",
   "metadata": {},
   "source": [
    "### GlobalMaxPooling1D"
   ]
  },
  {
   "cell_type": "code",
   "execution_count": 23,
   "id": "99193cd2",
   "metadata": {},
   "outputs": [
    {
     "name": "stdout",
     "output_type": "stream",
     "text": [
      "dict_keys(['loss', 'accuracy', 'val_loss', 'val_accuracy'])\n"
     ]
    }
   ],
   "source": [
    "history_gmp_dict = history_gmp.history\n",
    "print(history_gmp_dict.keys()) # epoch에 따른 그래프를 그려볼 수 있는 항목들"
   ]
  },
  {
   "cell_type": "code",
   "execution_count": 24,
   "id": "96f99d27",
   "metadata": {},
   "outputs": [
    {
     "data": {
      "image/png": "[encoded data removed]",
      "text/plain": [
       "<Figure size 576x288 with 2 Axes>"
      ]
     },
     "metadata": {
      "needs_background": "light"
     },
     "output_type": "display_data"
    }
   ],
   "source": [
    "import matplotlib.pyplot as plt\n",
    "\n",
    "acc = history_gmp_dict['accuracy']\n",
    "val_acc = history_gmp_dict['val_accuracy']\n",
    "loss = history_gmp_dict['loss']\n",
    "val_loss = history_gmp_dict['val_loss']\n",
    "\n",
    "epochs = range(1, len(acc) + 1)\n",
    "\n",
    "plt.figure(figsize=(8, 4))\n",
    "plt.subplot(1, 2, 1)\n",
    "# \"bo\"는 \"파란색 점\"입니다\n",
    "plt.plot(epochs, loss, 'bo', label='Training loss')\n",
    "# b는 \"파란 실선\"입니다\n",
    "plt.plot(epochs, val_loss, 'b', label='Validation loss')\n",
    "plt.title('Training and validation loss')\n",
    "plt.xlabel('Epochs')\n",
    "plt.ylabel('Loss')\n",
    "plt.legend()\n",
    "\n",
    "# plt.clf()   # 그림을 초기화합니다\n",
    "\n",
    "plt.subplot(1, 2, 2)\n",
    "plt.plot(epochs, acc, 'bo', label='Training acc')\n",
    "plt.plot(epochs, val_acc, 'b', label='Validation acc')\n",
    "plt.title('Training and validation accuracy')\n",
    "plt.xlabel('Epochs')\n",
    "plt.ylabel('Accuracy')\n",
    "plt.legend()\n",
    "\n",
    "plt.show()"
   ]
  },
  {
   "cell_type": "markdown",
   "id": "fbfb70f9",
   "metadata": {},
   "source": [
    "## 7) 학습된 Embedding 레이어 분석"
   ]
  },
  {
   "cell_type": "code",
   "execution_count": 25,
   "id": "8071f96a",
   "metadata": {},
   "outputs": [
    {
     "name": "stdout",
     "output_type": "stream",
     "text": [
      "(10000, 16)\n"
     ]
    }
   ],
   "source": [
    "# Word2Vec의 적용\n",
    "\n",
    "embedding_layer = model_lstm.layers[0]\n",
    "weights = embedding_layer.get_weights()[0]\n",
    "print(weights.shape)    # shape: (vocab_size, embedding_dim)"
   ]
  },
  {
   "cell_type": "code",
   "execution_count": 26,
   "id": "bffa7c29",
   "metadata": {},
   "outputs": [],
   "source": [
    "# 학습한 Embedding 파라미터를 파일에 써서 저장합니다. \n",
    "word2vec_file_path = os.getenv('HOME')+'/aiffel/sentiment_classification/data/word2vec.txt'\n",
    "f = open(word2vec_file_path, 'w')\n",
    "f.write('{} {}\\n'.format(vocab_size-4, word_vector_dim))  # 몇개의 벡터를 얼마 사이즈로 기재할지 타이틀을 씁니다.\n",
    "\n",
    "# 단어 개수(에서 특수문자 4개는 제외하고)만큼의 워드 벡터를 파일에 기록합니다. \n",
    "vectors = model_lstm.get_weights()[0]\n",
    "for i in range(4,vocab_size):\n",
    "    f.write('{} {}\\n'.format(index_to_word[i], ' '.join(map(str, list(vectors[i, :])))))\n",
    "f.close()"
   ]
  },
  {
   "cell_type": "code",
   "execution_count": 27,
   "id": "af051253",
   "metadata": {},
   "outputs": [
    {
     "data": {
      "text/plain": [
       "array([-0.03081841,  0.01616743, -0.02487994, -0.04259587,  0.08681718,\n",
       "        0.00052077, -0.04137291, -0.01431982,  0.05466141,  0.00838809,\n",
       "       -0.0049244 , -0.08618665, -0.04491316, -0.07623443,  0.00345929,\n",
       "        0.00263973], dtype=float32)"
      ]
     },
     "execution_count": 27,
     "metadata": {},
     "output_type": "execute_result"
    }
   ],
   "source": [
    "from gensim.models.keyedvectors import Word2VecKeyedVectors\n",
    "\n",
    "word_vectors = Word2VecKeyedVectors.load_word2vec_format(word2vec_file_path, binary=False)\n",
    "vector = word_vectors['웃음']\n",
    "vector"
   ]
  },
  {
   "cell_type": "code",
   "execution_count": 28,
   "id": "b02ee314",
   "metadata": {},
   "outputs": [
    {
     "data": {
      "text/plain": [
       "[('줄리안', 0.9734111428260803),\n",
       " ('팬텀', 0.9713502526283264),\n",
       " ('브라질', 0.969319224357605),\n",
       " ('시네마', 0.9682935476303101),\n",
       " ('천재', 0.9671037793159485),\n",
       " ('웰', 0.9670558571815491),\n",
       " ('부드러운', 0.9658504724502563),\n",
       " ('올릴', 0.9639681577682495),\n",
       " ('흥미진진', 0.9632986187934875),\n",
       " ('참된', 0.9622982740402222)]"
      ]
     },
     "execution_count": 28,
     "metadata": {},
     "output_type": "execute_result"
    }
   ],
   "source": [
    "word_vectors.similar_by_word(\"울음\")"
   ]
  },
  {
   "cell_type": "markdown",
   "id": "dc526bbd",
   "metadata": {},
   "source": [
    "* 영어로 된 Word2Vec으로는 유사한 단어를 찾기 어렵다."
   ]
  },
  {
   "cell_type": "markdown",
   "id": "794e240b",
   "metadata": {},
   "source": [
    "## 8) 한국어 Word2Vec 임베딩 활용하여 성능 개선\n",
    "* 한국어 Word2Vec : Pre-trained word vectors of 30+ languages\n",
    "위 링크에서 적절한 ko.bin을 찾아 이용. (gensim 버전을 3.x.x로 낮춰야 오류X)\n",
    "\n",
    "* pip uninstall gensim\n",
    "* pip install gensim==3.8.3\n",
    "or\n",
    "* pip install --upgrade gensim==3.8.3"
   ]
  },
  {
   "cell_type": "code",
   "execution_count": 29,
   "id": "595f20db",
   "metadata": {},
   "outputs": [
    {
     "data": {
      "text/plain": [
       "'3.8.3'"
      ]
     },
     "execution_count": 29,
     "metadata": {},
     "output_type": "execute_result"
    }
   ],
   "source": [
    "# gensim 패키지 버전 알아보기\n",
    "\n",
    "import gensim\n",
    "gensim.__version__"
   ]
  },
  {
   "cell_type": "markdown",
   "id": "de6cec36",
   "metadata": {},
   "source": [
    "### 한국어 Word2Vec 임베딩 활용"
   ]
  },
  {
   "cell_type": "code",
   "execution_count": 30,
   "id": "02704620",
   "metadata": {},
   "outputs": [
    {
     "name": "stderr",
     "output_type": "stream",
     "text": [
      "/tmp/ipykernel_4851/1959536968.py:8: DeprecationWarning: Call to deprecated `__getitem__` (Method will be removed in 4.0.0, use self.wv.__getitem__() instead).\n",
      "  vector = word2vec['명절']\n"
     ]
    },
    {
     "data": {
      "text/plain": [
       "array([ 6.93322241e-01, -9.50964928e-01,  4.45901036e-01,  1.69097155e-01,\n",
       "        5.80301642e-01, -3.72622418e-03,  1.10867608e+00,  3.52123559e-01,\n",
       "        3.93337905e-01, -7.99912140e-02,  4.19932038e-01, -1.32769847e+00,\n",
       "        3.53327185e-01, -4.77027267e-01,  2.20688239e-01, -1.56747192e-01,\n",
       "        3.46341252e-01,  7.66950428e-01, -1.09239051e-03, -4.10770386e-01,\n",
       "        1.24586403e-01,  5.86037278e-01,  1.89526863e-02,  4.41284716e-01,\n",
       "        2.16534674e-01, -3.06582659e-01,  2.52372980e-01, -2.46925771e-01,\n",
       "        1.19890809e+00, -4.30984199e-01,  2.77826816e-01, -2.22586319e-01,\n",
       "        3.80936742e-01,  3.15465719e-01,  1.89387977e-01, -6.79848135e-01,\n",
       "        5.52557290e-01,  7.23403215e-01, -1.50069982e-01,  3.92881244e-01,\n",
       "       -5.74123621e-01,  3.48875701e-01,  7.62878478e-01, -7.72131920e-01,\n",
       "       -2.05789566e+00, -3.81108731e-01, -2.47676358e-01, -1.01117408e+00,\n",
       "        2.71908551e-01,  4.06296819e-01,  4.25096631e-01,  4.45801049e-01,\n",
       "        7.31215835e-01, -3.40910912e-01, -4.74126041e-01, -4.57082003e-01,\n",
       "        3.91904593e-01, -3.86483550e-01, -7.93766737e-01, -8.43239784e-01,\n",
       "       -4.05824989e-01, -1.02580678e+00, -8.00728917e-01,  9.49519753e-01,\n",
       "       -1.56970754e-01,  8.46410215e-01,  1.14017177e+00,  8.88671935e-01,\n",
       "        5.13191402e-01,  6.10267162e-01, -4.13630486e-01,  3.61949176e-01,\n",
       "       -2.63800651e-01,  1.57725930e+00,  7.52991378e-01, -1.22205842e+00,\n",
       "        1.28014040e+00, -6.10460281e-01,  1.35186553e-01, -5.41360795e-01,\n",
       "        1.19817162e+00, -1.55322361e+00,  4.92116183e-01,  3.93617779e-01,\n",
       "       -8.86356056e-01, -5.70302725e-01, -5.18723369e-01, -1.02450001e+00,\n",
       "        4.39541554e-03,  8.72584820e-01,  2.79641479e-01,  3.37634325e-01,\n",
       "        1.16970360e+00,  2.61623740e-01,  1.42692530e+00,  2.71628350e-01,\n",
       "        1.46646172e-01,  1.37912440e+00,  9.19947922e-02, -5.48082292e-02,\n",
       "        2.95788497e-01, -3.58867675e-01,  1.09494638e+00,  3.19948107e-01,\n",
       "       -9.87029970e-01,  1.20056880e+00, -6.39994740e-01,  3.68759096e-01,\n",
       "       -4.92997646e-01,  1.89708263e-01,  2.73789316e-01, -1.03588438e+00,\n",
       "       -4.32406776e-02, -9.65926573e-02, -1.03130452e-01, -1.74520254e-01,\n",
       "       -5.43644309e-01,  7.78568506e-01,  4.72918898e-01,  2.68930435e-01,\n",
       "        3.93758625e-01, -4.45194542e-01,  3.85886073e-01, -4.02395368e-01,\n",
       "        5.65063655e-01,  2.11667642e-01, -5.22384793e-02, -8.53452206e-01,\n",
       "        1.06705379e+00,  3.97947937e-01, -6.63470387e-01,  7.61220396e-01,\n",
       "        8.81034613e-01,  1.63388271e-02,  1.63168222e-01, -5.85125029e-01,\n",
       "        4.32046056e-01,  2.19965026e-01,  5.70792332e-02, -3.87180746e-01,\n",
       "       -1.59778446e-01,  4.49299842e-01,  1.42511439e+00,  7.20759869e-01,\n",
       "        4.28911656e-01, -5.26599109e-01, -6.68487847e-01, -2.81840086e-01,\n",
       "        3.22417736e-01, -1.33971050e-01, -6.72879755e-01, -2.66597122e-01,\n",
       "       -5.51747203e-01,  8.97249281e-01, -2.70930827e-01, -7.40700185e-01,\n",
       "        1.18974715e-01,  7.51184464e-01, -6.02229238e-01, -3.82326245e-01,\n",
       "       -5.81710875e-01, -3.14356714e-01,  1.40985444e-01, -4.95320022e-01,\n",
       "        3.06911562e-02, -2.58276731e-01, -7.02346921e-01,  5.23684740e-01,\n",
       "       -9.60598662e-02,  3.56606036e-01,  5.16045868e-01, -6.35302782e-01,\n",
       "        6.88868342e-03, -4.24274713e-01,  1.13374941e-01, -1.54527202e-01,\n",
       "        4.92674500e-01, -6.98730350e-01,  5.75909838e-02, -5.93361616e-01,\n",
       "        9.58684459e-02, -4.78700429e-01, -3.85211851e-03,  2.75317490e-01,\n",
       "       -3.56039435e-01,  4.80041414e-01, -8.21269572e-01, -2.42818490e-01,\n",
       "        1.24440646e+00,  3.56902719e-01,  5.36585689e-01,  6.03104174e-01,\n",
       "       -1.25971317e-01, -4.73372579e-01,  4.21099454e-01,  1.05007565e+00,\n",
       "       -4.49853569e-01,  8.81602287e-01,  5.43602705e-02, -3.78873944e-01],\n",
       "      dtype=float32)"
      ]
     },
     "execution_count": 30,
     "metadata": {},
     "output_type": "execute_result"
    }
   ],
   "source": [
    "import os\n",
    "import gensim\n",
    "from gensim.models import Word2Vec\n",
    "\n",
    "word2vec_path = os.getenv('HOME')+'/aiffel/sentiment_classification/data/ko.bin'\n",
    "word2vec = gensim.models.Word2Vec.load(word2vec_path)\n",
    "\n",
    "vector = word2vec['명절']\n",
    "vector"
   ]
  },
  {
   "cell_type": "code",
   "execution_count": 31,
   "id": "853277d5",
   "metadata": {},
   "outputs": [
    {
     "data": {
      "text/plain": [
       "[('추석', 0.836398720741272),\n",
       " ('단오', 0.7760483622550964),\n",
       " ('명절', 0.7695590853691101),\n",
       " ('대보름', 0.7636866569519043),\n",
       " ('연휴', 0.7532376646995544),\n",
       " ('어린이날', 0.7317037582397461),\n",
       " ('섣달', 0.7061843276023865),\n",
       " ('추수', 0.6932740807533264),\n",
       " ('새해', 0.6902536749839783),\n",
       " ('휴일', 0.6774294376373291)]"
      ]
     },
     "execution_count": 31,
     "metadata": {},
     "output_type": "execute_result"
    }
   ],
   "source": [
    "word2vec.wv.most_similar(\"설날\")"
   ]
  },
  {
   "cell_type": "code",
   "execution_count": 32,
   "id": "87e9139b",
   "metadata": {},
   "outputs": [
    {
     "data": {
      "text/plain": [
       "[('추석', 0.8704657554626465),\n",
       " ('설날', 0.7532376050949097),\n",
       " ('휴일', 0.6423872709274292),\n",
       " ('단오', 0.6353431940078735),\n",
       " ('월요일', 0.6117392778396606),\n",
       " ('금요일', 0.6095596551895142),\n",
       " ('어린이날', 0.6063166856765747),\n",
       " ('화요일', 0.6043965816497803),\n",
       " ('일요일', 0.6042028665542603),\n",
       " ('공휴일', 0.600674033164978)]"
      ]
     },
     "execution_count": 32,
     "metadata": {},
     "output_type": "execute_result"
    }
   ],
   "source": [
    "word2vec.wv.most_similar(\"연휴\")"
   ]
  },
  {
   "cell_type": "code",
   "execution_count": 33,
   "id": "7e3aa0ef",
   "metadata": {},
   "outputs": [
    {
     "name": "stderr",
     "output_type": "stream",
     "text": [
      "/tmp/ipykernel_4851/2286156261.py:9: DeprecationWarning: Call to deprecated `__contains__` (Method will be removed in 4.0.0, use self.wv.__contains__() instead).\n",
      "  if index_to_word[i] in word2vec:\n",
      "/tmp/ipykernel_4851/2286156261.py:10: DeprecationWarning: Call to deprecated `__getitem__` (Method will be removed in 4.0.0, use self.wv.__getitem__() instead).\n",
      "  embedding_matrix[i] = word2vec[index_to_word[i]]\n"
     ]
    }
   ],
   "source": [
    "from tensorflow.keras.initializers import Constant\n",
    "\n",
    "vocab_size = 10000    # 어휘 사전의 크기입니다(10,000개의 단어)\n",
    "word_vector_dim = 200  # 워드 벡터의 차원수\n",
    "embedding_matrix = np.random.rand(vocab_size, word_vector_dim)\n",
    "\n",
    "# embedding_matrix에 Word2Vec 워드 벡터를 단어 하나씩마다 차례차례 카피\n",
    "for i in range(4,vocab_size):\n",
    "    if index_to_word[i] in word2vec:\n",
    "        embedding_matrix[i] = word2vec[index_to_word[i]]"
   ]
  },
  {
   "cell_type": "markdown",
   "id": "d91ea9c8",
   "metadata": {},
   "source": [
    "### LSTM + 한국어 Word2Vec"
   ]
  },
  {
   "cell_type": "code",
   "execution_count": 34,
   "id": "7e5358e0",
   "metadata": {},
   "outputs": [
    {
     "name": "stdout",
     "output_type": "stream",
     "text": [
      "Model: \"sequential_3\"\n",
      "_________________________________________________________________\n",
      "Layer (type)                 Output Shape              Param #   \n",
      "=================================================================\n",
      "embedding_3 (Embedding)      (None, 41, 200)           2000000   \n",
      "_________________________________________________________________\n",
      "lstm_1 (LSTM)                (None, 128)               168448    \n",
      "_________________________________________________________________\n",
      "dense_6 (Dense)              (None, 8)                 1032      \n",
      "_________________________________________________________________\n",
      "dense_7 (Dense)              (None, 1)                 9         \n",
      "=================================================================\n",
      "Total params: 2,169,489\n",
      "Trainable params: 2,169,489\n",
      "Non-trainable params: 0\n",
      "_________________________________________________________________\n"
     ]
    }
   ],
   "source": [
    "model_lstm = tf.keras.Sequential()\n",
    "model_lstm.add(tf.keras.layers.Embedding(vocab_size, \n",
    "                                 word_vector_dim, \n",
    "                                 embeddings_initializer=Constant(embedding_matrix),  # 카피한 임베딩을 여기서 활용\n",
    "                                 input_length=maxlen, \n",
    "                                 trainable=True))   # trainable을 True로 주면 Fine-tuning\n",
    "model_lstm.add(tf.keras.layers.LSTM(128))\n",
    "model_lstm.add(tf.keras.layers.Dense(8, activation='relu'))\n",
    "model_lstm.add(tf.keras.layers.Dense(1, activation='sigmoid'))  # 최종 출력은 긍정/부정을 나타내는 1dim 입니다.\n",
    "\n",
    "model_lstm.summary()"
   ]
  },
  {
   "cell_type": "code",
   "execution_count": 35,
   "id": "852df655",
   "metadata": {},
   "outputs": [
    {
     "name": "stdout",
     "output_type": "stream",
     "text": [
      "Epoch 1/5\n",
      "1894/1894 [==============================] - 13s 6ms/step - loss: 0.3922 - accuracy: 0.8205 - val_loss: 0.3244 - val_accuracy: 0.8601\n",
      "Epoch 2/5\n",
      "1894/1894 [==============================] - 11s 6ms/step - loss: 0.2906 - accuracy: 0.8765 - val_loss: 0.3120 - val_accuracy: 0.8652\n",
      "Epoch 3/5\n",
      "1894/1894 [==============================] - 11s 6ms/step - loss: 0.2465 - accuracy: 0.8976 - val_loss: 0.3155 - val_accuracy: 0.8678\n",
      "Epoch 4/5\n",
      "1894/1894 [==============================] - 11s 6ms/step - loss: 0.2074 - accuracy: 0.9159 - val_loss: 0.3457 - val_accuracy: 0.8658\n",
      "Epoch 5/5\n",
      "1894/1894 [==============================] - 11s 6ms/step - loss: 0.1683 - accuracy: 0.9329 - val_loss: 0.3655 - val_accuracy: 0.8669\n"
     ]
    }
   ],
   "source": [
    "# 학습 진행\n",
    "model_lstm.compile(optimizer='adam',\n",
    "              loss='binary_crossentropy',\n",
    "              metrics=['accuracy'])\n",
    "              \n",
    "epochs=5  # 몇 epoch를 훈련하면 좋을지 결과를 보면서 바꾸어 봅시다. \n",
    "\n",
    "history_lstm = model_lstm.fit(partial_X_train,\n",
    "                    partial_y_train,\n",
    "                    epochs=epochs,\n",
    "                    batch_size=64,\n",
    "                    validation_data=(X_val, y_val),\n",
    "                    verbose=1)"
   ]
  },
  {
   "cell_type": "code",
   "execution_count": 36,
   "id": "0b4d951f",
   "metadata": {},
   "outputs": [
    {
     "name": "stdout",
     "output_type": "stream",
     "text": [
      "1537/1537 - 3s - loss: 0.3739 - accuracy: 0.8619\n",
      "[0.3738887310028076, 0.8618507981300354]\n"
     ]
    }
   ],
   "source": [
    "# 테스트셋을 통한 모델 평가\n",
    "results_lstm = model_lstm.evaluate(X_test,  y_test, verbose=2)\n",
    "\n",
    "print(results_lstm)"
   ]
  },
  {
   "cell_type": "code",
   "execution_count": 37,
   "id": "f61d62e9",
   "metadata": {},
   "outputs": [
    {
     "data": {
      "text/plain": [
       "<Figure size 432x288 with 0 Axes>"
      ]
     },
     "metadata": {},
     "output_type": "display_data"
    },
    {
     "data": {
      "image/png": "[encoded data removed]",
      "text/plain": [
       "<Figure size 1440x360 with 2 Axes>"
      ]
     },
     "metadata": {
      "needs_background": "light"
     },
     "output_type": "display_data"
    }
   ],
   "source": [
    "# 한국어 Word2Vec 임베딩 활용한 모델 그래프\n",
    "\n",
    "history_lstm = history_lstm.history\n",
    "\n",
    "acc = history_lstm_dict['accuracy']\n",
    "val_acc = history_lstm_dict['val_accuracy']\n",
    "loss = history_lstm_dict['loss']\n",
    "val_loss = history_lstm_dict['val_loss']\n",
    "\n",
    "epochs = range(1, len(acc) + 1)\n",
    "\n",
    "plt.clf()\n",
    "\n",
    "plt.figure(figsize=(20,5))\n",
    "\n",
    "plt.subplot(121)\n",
    "plt.plot(epochs, loss, 'b', label='Training loss')\n",
    "plt.plot(epochs, val_loss, 'r', label='Validation loss')\n",
    "plt.title('Training and validation loss')\n",
    "plt.xlabel('Epochs')\n",
    "plt.ylabel('Loss')\n",
    "plt.legend()\n",
    "\n",
    "plt.subplot(122)\n",
    "plt.plot(epochs, acc, 'b', label='Training acc')\n",
    "plt.plot(epochs, val_acc, 'r', label='Validation acc')\n",
    "plt.title('Training and validation accuracy')\n",
    "plt.xlabel('Epochs')\n",
    "plt.ylabel('Accuracy')\n",
    "plt.legend()\n",
    "\n",
    "plt.show()"
   ]
  },
  {
   "cell_type": "markdown",
   "id": "5b6fc543",
   "metadata": {},
   "source": [
    "### 1-D CNN ( 1-D Convolution Neural Network)  + 한국어 Word2Vec"
   ]
  },
  {
   "cell_type": "code",
   "execution_count": 38,
   "id": "8fbce83c",
   "metadata": {},
   "outputs": [
    {
     "name": "stdout",
     "output_type": "stream",
     "text": [
      "Model: \"sequential_4\"\n",
      "_________________________________________________________________\n",
      "Layer (type)                 Output Shape              Param #   \n",
      "=================================================================\n",
      "embedding_4 (Embedding)      (None, 41, 200)           2000000   \n",
      "_________________________________________________________________\n",
      "conv1d_2 (Conv1D)            (None, 35, 16)            22416     \n",
      "_________________________________________________________________\n",
      "max_pooling1d_1 (MaxPooling1 (None, 7, 16)             0         \n",
      "_________________________________________________________________\n",
      "conv1d_3 (Conv1D)            (None, 1, 16)             1808      \n",
      "_________________________________________________________________\n",
      "global_max_pooling1d_2 (Glob (None, 16)                0         \n",
      "_________________________________________________________________\n",
      "dense_8 (Dense)              (None, 8)                 136       \n",
      "_________________________________________________________________\n",
      "dense_9 (Dense)              (None, 1)                 9         \n",
      "=================================================================\n",
      "Total params: 2,024,369\n",
      "Trainable params: 2,024,369\n",
      "Non-trainable params: 0\n",
      "_________________________________________________________________\n"
     ]
    }
   ],
   "source": [
    "model_cnn = tf.keras.Sequential()\n",
    "model_cnn.add(tf.keras.layers.Embedding(vocab_size, \n",
    "                                 word_vector_dim, \n",
    "                                 embeddings_initializer=Constant(embedding_matrix),  # 카피한 임베딩을 여기서 활용\n",
    "                                 input_length=maxlen, \n",
    "                                 trainable=True))   # trainable을 True로 주면 Fine-tuning\n",
    "model_cnn.add(tf.keras.layers.Conv1D(16, 7, activation='relu'))\n",
    "model_cnn.add(tf.keras.layers.MaxPooling1D(5))\n",
    "model_cnn.add(tf.keras.layers.Conv1D(16, 7, activation='relu'))\n",
    "model_cnn.add(tf.keras.layers.GlobalMaxPooling1D())\n",
    "model_cnn.add(tf.keras.layers.Dense(8, activation='relu'))\n",
    "model_cnn.add(tf.keras.layers.Dense(1, activation='sigmoid'))  # 최종 출력은 긍정/부정을 나타내는 1dim 입니다.\n",
    "\n",
    "model_cnn.summary()"
   ]
  },
  {
   "cell_type": "code",
   "execution_count": 39,
   "id": "79a3bc14",
   "metadata": {},
   "outputs": [
    {
     "name": "stdout",
     "output_type": "stream",
     "text": [
      "Epoch 1/5\n",
      "1894/1894 [==============================] - 10s 5ms/step - loss: 0.4642 - accuracy: 0.7665 - val_loss: 0.3613 - val_accuracy: 0.8390\n",
      "Epoch 2/5\n",
      "1894/1894 [==============================] - 9s 5ms/step - loss: 0.3306 - accuracy: 0.8570 - val_loss: 0.3571 - val_accuracy: 0.8434\n",
      "Epoch 3/5\n",
      "1894/1894 [==============================] - 9s 5ms/step - loss: 0.2903 - accuracy: 0.8772 - val_loss: 0.3396 - val_accuracy: 0.8520\n",
      "Epoch 4/5\n",
      "1894/1894 [==============================] - 9s 5ms/step - loss: 0.2598 - accuracy: 0.8926 - val_loss: 0.3495 - val_accuracy: 0.8504\n",
      "Epoch 5/5\n",
      "1894/1894 [==============================] - 9s 5ms/step - loss: 0.2305 - accuracy: 0.9068 - val_loss: 0.3575 - val_accuracy: 0.8496\n"
     ]
    }
   ],
   "source": [
    "# 학습 진행\n",
    "model_cnn.compile(optimizer='adam',\n",
    "              loss='binary_crossentropy',\n",
    "              metrics=['accuracy'])\n",
    "              \n",
    "epochs=5  # 몇 epoch를 훈련하면 좋을지 결과를 보면서 바꾸어 봅시다. \n",
    "\n",
    "history_cnn = model_cnn.fit(partial_X_train,\n",
    "                    partial_y_train,\n",
    "                    epochs=epochs,\n",
    "                    batch_size=64,\n",
    "                    validation_data=(X_val, y_val),\n",
    "                    verbose=1)"
   ]
  },
  {
   "cell_type": "code",
   "execution_count": 40,
   "id": "22da7bac",
   "metadata": {},
   "outputs": [
    {
     "name": "stdout",
     "output_type": "stream",
     "text": [
      "1537/1537 - 3s - loss: 0.3641 - accuracy: 0.8478\n",
      "[0.36413756012916565, 0.8478344678878784]\n"
     ]
    }
   ],
   "source": [
    "# 테스트셋을 통한 모델 평가\n",
    "results_cnn = model_cnn.evaluate(X_test,  y_test, verbose=2)\n",
    "\n",
    "print(results_cnn)"
   ]
  },
  {
   "cell_type": "code",
   "execution_count": 41,
   "id": "ee04b7be",
   "metadata": {},
   "outputs": [
    {
     "data": {
      "text/plain": [
       "<Figure size 432x288 with 0 Axes>"
      ]
     },
     "metadata": {},
     "output_type": "display_data"
    },
    {
     "data": {
      "image/png": "[encoded data removed]",
      "text/plain": [
       "<Figure size 1440x360 with 2 Axes>"
      ]
     },
     "metadata": {
      "needs_background": "light"
     },
     "output_type": "display_data"
    }
   ],
   "source": [
    "# 한국어 Word2Vec 임베딩 활용한 모델 그래프\n",
    "\n",
    "history_cnn = history_cnn.history\n",
    "\n",
    "acc = history_cnn_dict['accuracy']\n",
    "val_acc = history_cnn_dict['val_accuracy']\n",
    "loss = history_cnn_dict['loss']\n",
    "val_loss = history_cnn_dict['val_loss']\n",
    "\n",
    "epochs = range(1, len(acc) + 1)\n",
    "\n",
    "plt.clf()\n",
    "\n",
    "plt.figure(figsize=(20,5))\n",
    "\n",
    "plt.subplot(121)\n",
    "plt.plot(epochs, loss, 'b', label='Training loss')\n",
    "plt.plot(epochs, val_loss, 'r', label='Validation loss')\n",
    "plt.title('Training and validation loss')\n",
    "plt.xlabel('Epochs')\n",
    "plt.ylabel('Loss')\n",
    "plt.legend()\n",
    "\n",
    "plt.subplot(122)\n",
    "plt.plot(epochs, acc, 'b', label='Training acc')\n",
    "plt.plot(epochs, val_acc, 'r', label='Validation acc')\n",
    "plt.title('Training and validation accuracy')\n",
    "plt.xlabel('Epochs')\n",
    "plt.ylabel('Accuracy')\n",
    "plt.legend()\n",
    "\n",
    "plt.show()"
   ]
  },
  {
   "cell_type": "markdown",
   "id": "9ea8444a",
   "metadata": {},
   "source": [
    "### GlobalMaxPooling1D  + 한국어 Word2Vec"
   ]
  },
  {
   "cell_type": "code",
   "execution_count": 42,
   "id": "aabf97bd",
   "metadata": {},
   "outputs": [
    {
     "name": "stdout",
     "output_type": "stream",
     "text": [
      "Model: \"sequential_5\"\n",
      "_________________________________________________________________\n",
      "Layer (type)                 Output Shape              Param #   \n",
      "=================================================================\n",
      "embedding_5 (Embedding)      (None, 41, 200)           2000000   \n",
      "_________________________________________________________________\n",
      "global_max_pooling1d_3 (Glob (None, 200)               0         \n",
      "_________________________________________________________________\n",
      "dense_10 (Dense)             (None, 256)               51456     \n",
      "_________________________________________________________________\n",
      "dense_11 (Dense)             (None, 1)                 257       \n",
      "=================================================================\n",
      "Total params: 2,051,713\n",
      "Trainable params: 2,051,713\n",
      "Non-trainable params: 0\n",
      "_________________________________________________________________\n"
     ]
    }
   ],
   "source": [
    "model_gmp = tf.keras.Sequential()\n",
    "model_gmp.add(tf.keras.layers.Embedding(vocab_size, \n",
    "                                 word_vector_dim, \n",
    "                                 embeddings_initializer=Constant(embedding_matrix),  # 카피한 임베딩을 여기서 활용\n",
    "                                 input_length=maxlen, \n",
    "                                 trainable=True))   # trainable을 True로 주면 Fine-tuning\n",
    "model_gmp.add(tf.keras.layers.GlobalMaxPooling1D())\n",
    "model_gmp.add(tf.keras.layers.Dense(256, activation='relu'))\n",
    "model_gmp.add(tf.keras.layers.Dense(1, activation='sigmoid'))  # 최종 출력은 긍정/부정을 나타내는 1dim 입니다.\n",
    "\n",
    "model_gmp.summary()"
   ]
  },
  {
   "cell_type": "code",
   "execution_count": 43,
   "id": "b47cc4c7",
   "metadata": {},
   "outputs": [
    {
     "name": "stdout",
     "output_type": "stream",
     "text": [
      "Epoch 1/5\n",
      "1894/1894 [==============================] - 7s 4ms/step - loss: 0.5556 - accuracy: 0.7099 - val_loss: 0.4778 - val_accuracy: 0.7722\n",
      "Epoch 2/5\n",
      "1894/1894 [==============================] - 7s 4ms/step - loss: 0.4394 - accuracy: 0.7946 - val_loss: 0.4666 - val_accuracy: 0.7804\n",
      "Epoch 3/5\n",
      "1894/1894 [==============================] - 7s 4ms/step - loss: 0.3883 - accuracy: 0.8249 - val_loss: 0.4007 - val_accuracy: 0.8167\n",
      "Epoch 4/5\n",
      "1894/1894 [==============================] - 7s 4ms/step - loss: 0.3534 - accuracy: 0.8441 - val_loss: 0.4001 - val_accuracy: 0.8187\n",
      "Epoch 5/5\n",
      "1894/1894 [==============================] - 7s 4ms/step - loss: 0.3274 - accuracy: 0.8582 - val_loss: 0.3871 - val_accuracy: 0.8289\n"
     ]
    }
   ],
   "source": [
    "# 학습 진행\n",
    "model_gmp.compile(optimizer='adam',\n",
    "              loss='binary_crossentropy',\n",
    "              metrics=['accuracy'])\n",
    "              \n",
    "epochs=5  # 몇 epoch를 훈련하면 좋을지 결과를 보면서 바꾸어 봅시다. \n",
    "\n",
    "history_gmp = model_gmp.fit(partial_X_train,\n",
    "                    partial_y_train,\n",
    "                    epochs=epochs,\n",
    "                    batch_size=64,\n",
    "                    validation_data=(X_val, y_val),\n",
    "                    verbose=1)"
   ]
  },
  {
   "cell_type": "code",
   "execution_count": 44,
   "id": "f4ea9684",
   "metadata": {},
   "outputs": [
    {
     "name": "stdout",
     "output_type": "stream",
     "text": [
      "1537/1537 - 2s - loss: 0.3962 - accuracy: 0.8238\n",
      "[0.3961608409881592, 0.8237890601158142]\n"
     ]
    }
   ],
   "source": [
    "# 테스트셋을 통한 모델 평가\n",
    "results_gmp = model_gmp.evaluate(X_test,  y_test, verbose=2)\n",
    "\n",
    "print(results_gmp)"
   ]
  },
  {
   "cell_type": "code",
   "execution_count": 45,
   "id": "bacd073d",
   "metadata": {},
   "outputs": [
    {
     "data": {
      "text/plain": [
       "<Figure size 432x288 with 0 Axes>"
      ]
     },
     "metadata": {},
     "output_type": "display_data"
    },
    {
     "data": {
      "image/png": "[encoded data removed]",
      "text/plain": [
       "<Figure size 1440x360 with 2 Axes>"
      ]
     },
     "metadata": {
      "needs_background": "light"
     },
     "output_type": "display_data"
    }
   ],
   "source": [
    "# 한국어 Word2Vec 임베딩 활용한 모델 그래프\n",
    "\n",
    "history_gmp = history_gmp.history\n",
    "\n",
    "acc = history_gmp_dict['accuracy']\n",
    "val_acc = history_gmp_dict['val_accuracy']\n",
    "loss = history_gmp_dict['loss']\n",
    "val_loss = history_gmp_dict['val_loss']\n",
    "\n",
    "epochs = range(1, len(acc) + 1)\n",
    "\n",
    "plt.clf()\n",
    "\n",
    "plt.figure(figsize=(20,5))\n",
    "\n",
    "plt.subplot(121)\n",
    "plt.plot(epochs, loss, 'b', label='Training loss')\n",
    "plt.plot(epochs, val_loss, 'r', label='Validation loss')\n",
    "plt.title('Training and validation loss')\n",
    "plt.xlabel('Epochs')\n",
    "plt.ylabel('Loss')\n",
    "plt.legend()\n",
    "\n",
    "plt.subplot(122)\n",
    "plt.plot(epochs, acc, 'b', label='Training acc')\n",
    "plt.plot(epochs, val_acc, 'r', label='Validation acc')\n",
    "plt.title('Training and validation accuracy')\n",
    "plt.xlabel('Epochs')\n",
    "plt.ylabel('Accuracy')\n",
    "plt.legend()\n",
    "\n",
    "plt.show()"
   ]
  },
  {
   "cell_type": "markdown",
   "id": "f73016d0",
   "metadata": {},
   "source": [
    "### 학습, 평가, 시각화한 3개 모델의 한국어 Word2Vec 임베딩 활용에 따른 accuracy\n",
    "\n",
    "#### 전/후\n",
    "\n",
    "* LSTM    0.8504 / 0.8619\n",
    "\n",
    "* 1-D CNN    0.8391 / 0.8478\n",
    "\n",
    "* GlobalMaxPooling1D    0.8384 / 0.8238\n",
    "\n",
    "\n",
    "* LSTM 모델과 1-D CNN은 한국어 Word2Vec 임베딩 활용하여 정확도가 매우 소폭으로 향상 되었다.\n",
    "* GlobalMaxPooling1D 모델은 무슨 일인지 정확도가 더 떨어졌다."
   ]
  },
  {
   "cell_type": "markdown",
   "id": "da0bbbf3",
   "metadata": {},
   "source": [
    "### 루브릭\n",
    "\n",
    "1. 다양한 방법으로 Text Classification 태스크를 성공적으로 구현하였다.\n",
    "* 3가지 이상의 모델이 성공적으로 시도됨\n",
    ": LSTM, 1-D CNN, GlobalMaxPooling1D 3개 모델에 대해서 Text Classification 태스크를 구현했다.\n",
    "\n",
    "2. gensim을 활용하여 자체학습된 혹은 사전학습된 임베딩 레이어를 분석하였다.\n",
    "* gensim의 유사단어 찾기를 활용하여 자체학습한 임베딩과 사전학습 임베딩을 적절히 분석함\n",
    ": 자체학습된 임베딩 레이어는 유사한 단어를 잘 찾아내지 못했고, 사전학습된 임베딩은 유사한 단어를 비교적 잘 찾아냈다.\n",
    "\n",
    "3. 한국어 Word2Vec을 활용하여 가시적인 성능향상을 달성했다.\n",
    "* 네이버 영화리뷰 데이터 감성분석 정확도를 85% 이상 달성함\n",
    ": LSTM 모델에 관해서만 정확도 85% 이상 달성했다."
   ]
  },
  {
   "cell_type": "markdown",
   "id": "d74552d4",
   "metadata": {},
   "source": [
    "### 회고\n",
    "\n",
    "ko.bin 불러오는 부분에서부터 막혀서 당황스러웠다.\n",
    "버전이 다른 경우도 처음 접해봐서 버전을 낮추는 방법에 대해서 알게되었다.\n",
    "\n",
    "모델의 성능에 대한 시각화하는 부분에 있어서도 뭔가 부족해보이는데\n",
    "좀더 알아보기 쉽게 시각화 하기 위해 공부해야 할 것 같다.\n",
    "\n",
    "사용한 대부분의 모델들이 83~84%의 성능을 보였는데, 이게 높은 편인지 확신이 서지 않는 프로젝트였다. 한국어가 영어에 비해 복잡해서 그런지 하이퍼파라미터를 다양하게 조절해보아도 전체적으로 정확도 면에서 크게 향상 되지 않았다.\n",
    "gensim의 유사단어 찾기로 보면 한국어 Word2Vec를 활용하기 전보다 활용한 후가 비교적 유사한 단어를 출력했다.\n",
    "하지만 실제 네이버 영화리뷰 데이터를 넣었을 때에 어떨지 궁금하다. 실제 데이터상에는 비속어나 은어, 추상적인 표현들이 많아 분류해 낼 수 있을지 의문이다. 분류를 하더라도 신뢰할 수 있을지 확신이 서지 않다.\n",
    "\n",
    "자연어 부분에 있어서 한국어가 제일 어렵다는 말을 간접적으로 살짝 체감한 프로젝트였다."
   ]
  }
 ],
 "metadata": {
  "kernelspec": {
   "display_name": "Python 3 (ipykernel)",
   "language": "python",
   "name": "python3"
  },
  "language_info": {
   "codemirror_mode": {
    "name": "ipython",
    "version": 3
   },
   "file_extension": ".py",
   "mimetype": "text/x-python",
   "name": "python",
   "nbconvert_exporter": "python",
   "pygments_lexer": "ipython3",
   "version": "3.9.7"
  }
 },
 "nbformat": 4,
 "nbformat_minor": 5
}
