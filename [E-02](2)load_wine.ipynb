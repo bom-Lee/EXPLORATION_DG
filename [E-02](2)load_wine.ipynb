{
 "cells": [
  {
   "cell_type": "code",
   "execution_count": 1,
   "id": "ad718b31",
   "metadata": {},
   "outputs": [],
   "source": [
    "# (1)필요한 모듈 import하기\n",
    "\n",
    "from sklearn.datasets import load_wine\n",
    "from sklearn.model_selection import train_test_split\n",
    "from sklearn.metrics import classification_report "
   ]
  },
  {
   "cell_type": "code",
   "execution_count": 2,
   "id": "e079403c",
   "metadata": {},
   "outputs": [
    {
     "name": "stdout",
     "output_type": "stream",
     "text": [
      "['DESCR', 'data', 'feature_names', 'frame', 'target', 'target_names']\n"
     ]
    }
   ],
   "source": [
    "# (2) 데이터 준비\n",
    "# load_wine 메서드를 사용\n",
    "\n",
    "wine = load_wine()\n",
    "print(dir(wine))"
   ]
  },
  {
   "cell_type": "code",
   "execution_count": 3,
   "id": "4975df59",
   "metadata": {},
   "outputs": [
    {
     "data": {
      "text/plain": [
       "(178, 13)"
      ]
     },
     "execution_count": 3,
     "metadata": {},
     "output_type": "execute_result"
    }
   ],
   "source": [
    "# (3)데이터 이해하기\n",
    "\n",
    "# (3)-1. Feature Data 지정\n",
    "\n",
    "wine_data = wine.data\n",
    "wine_data.shape    ## shape는 배열의 형상정보를 출력(데이터 형태)"
   ]
  },
  {
   "cell_type": "code",
   "execution_count": 4,
   "id": "29e160e2",
   "metadata": {},
   "outputs": [],
   "source": [
    "    ## wine_data에 저장된 데이터 양과 형식 확인.\n",
    "    ## 178개의 wine 데이터와 각각의 데이터에 13개의 픽셀값(특성)이 저장되어 있음."
   ]
  },
  {
   "cell_type": "code",
   "execution_count": 5,
   "id": "69d25098",
   "metadata": {},
   "outputs": [
    {
     "name": "stdout",
     "output_type": "stream",
     "text": [
      "(178,)\n"
     ]
    },
    {
     "data": {
      "text/plain": [
       "array([0, 0, 0, 0, 0, 0, 0, 0, 0, 0, 0, 0, 0, 0, 0, 0, 0, 0, 0, 0, 0, 0,\n",
       "       0, 0, 0, 0, 0, 0, 0, 0, 0, 0, 0, 0, 0, 0, 0, 0, 0, 0, 0, 0, 0, 0,\n",
       "       0, 0, 0, 0, 0, 0, 0, 0, 0, 0, 0, 0, 0, 0, 0, 1, 1, 1, 1, 1, 1, 1,\n",
       "       1, 1, 1, 1, 1, 1, 1, 1, 1, 1, 1, 1, 1, 1, 1, 1, 1, 1, 1, 1, 1, 1,\n",
       "       1, 1, 1, 1, 1, 1, 1, 1, 1, 1, 1, 1, 1, 1, 1, 1, 1, 1, 1, 1, 1, 1,\n",
       "       1, 1, 1, 1, 1, 1, 1, 1, 1, 1, 1, 1, 1, 1, 1, 1, 1, 1, 1, 1, 2, 2,\n",
       "       2, 2, 2, 2, 2, 2, 2, 2, 2, 2, 2, 2, 2, 2, 2, 2, 2, 2, 2, 2, 2, 2,\n",
       "       2, 2, 2, 2, 2, 2, 2, 2, 2, 2, 2, 2, 2, 2, 2, 2, 2, 2, 2, 2, 2, 2,\n",
       "       2, 2])"
      ]
     },
     "execution_count": 5,
     "metadata": {},
     "output_type": "execute_result"
    }
   ],
   "source": [
    "# (3)-2. Label Data 지정\n",
    "\n",
    "wine_label = wine.target\n",
    "print(wine_label.shape)\n",
    "wine_label"
   ]
  },
  {
   "cell_type": "code",
   "execution_count": 6,
   "id": "bd37de4e",
   "metadata": {},
   "outputs": [
    {
     "data": {
      "text/plain": [
       "array(['class_0', 'class_1', 'class_2'], dtype='<U7')"
      ]
     },
     "execution_count": 6,
     "metadata": {},
     "output_type": "execute_result"
    }
   ],
   "source": [
    "# (3)-3. Target Names 출력\n",
    "\n",
    "wine.target_names"
   ]
  },
  {
   "cell_type": "code",
   "execution_count": 7,
   "id": "1cf1975d",
   "metadata": {},
   "outputs": [],
   "source": [
    "    ## Target_Name은 'class_0', 'class_1', 'class_2 3가지 클래스를 가짐."
   ]
  },
  {
   "cell_type": "code",
   "execution_count": 8,
   "id": "ebef8e4b",
   "metadata": {},
   "outputs": [
    {
     "name": "stdout",
     "output_type": "stream",
     "text": [
      ".. _wine_dataset:\n",
      "\n",
      "Wine recognition dataset\n",
      "------------------------\n",
      "\n",
      "**Data Set Characteristics:**\n",
      "\n",
      "    :Number of Instances: 178 (50 in each of three classes)\n",
      "    :Number of Attributes: 13 numeric, predictive attributes and the class\n",
      "    :Attribute Information:\n",
      " \t\t- Alcohol\n",
      " \t\t- Malic acid\n",
      " \t\t- Ash\n",
      "\t\t- Alcalinity of ash  \n",
      " \t\t- Magnesium\n",
      "\t\t- Total phenols\n",
      " \t\t- Flavanoids\n",
      " \t\t- Nonflavanoid phenols\n",
      " \t\t- Proanthocyanins\n",
      "\t\t- Color intensity\n",
      " \t\t- Hue\n",
      " \t\t- OD280/OD315 of diluted wines\n",
      " \t\t- Proline\n",
      "\n",
      "    - class:\n",
      "            - class_0\n",
      "            - class_1\n",
      "            - class_2\n",
      "\t\t\n",
      "    :Summary Statistics:\n",
      "    \n",
      "    ============================= ==== ===== ======= =====\n",
      "                                   Min   Max   Mean     SD\n",
      "    ============================= ==== ===== ======= =====\n",
      "    Alcohol:                      11.0  14.8    13.0   0.8\n",
      "    Malic Acid:                   0.74  5.80    2.34  1.12\n",
      "    Ash:                          1.36  3.23    2.36  0.27\n",
      "    Alcalinity of Ash:            10.6  30.0    19.5   3.3\n",
      "    Magnesium:                    70.0 162.0    99.7  14.3\n",
      "    Total Phenols:                0.98  3.88    2.29  0.63\n",
      "    Flavanoids:                   0.34  5.08    2.03  1.00\n",
      "    Nonflavanoid Phenols:         0.13  0.66    0.36  0.12\n",
      "    Proanthocyanins:              0.41  3.58    1.59  0.57\n",
      "    Colour Intensity:              1.3  13.0     5.1   2.3\n",
      "    Hue:                          0.48  1.71    0.96  0.23\n",
      "    OD280/OD315 of diluted wines: 1.27  4.00    2.61  0.71\n",
      "    Proline:                       278  1680     746   315\n",
      "    ============================= ==== ===== ======= =====\n",
      "\n",
      "    :Missing Attribute Values: None\n",
      "    :Class Distribution: class_0 (59), class_1 (71), class_2 (48)\n",
      "    :Creator: R.A. Fisher\n",
      "    :Donor: Michael Marshall (MARSHALL%PLU@io.arc.nasa.gov)\n",
      "    :Date: July, 1988\n",
      "\n",
      "This is a copy of UCI ML Wine recognition datasets.\n",
      "https://archive.ics.uci.edu/ml/machine-learning-databases/wine/wine.data\n",
      "\n",
      "The data is the results of a chemical analysis of wines grown in the same\n",
      "region in Italy by three different cultivators. There are thirteen different\n",
      "measurements taken for different constituents found in the three types of\n",
      "wine.\n",
      "\n",
      "Original Owners: \n",
      "\n",
      "Forina, M. et al, PARVUS - \n",
      "An Extendible Package for Data Exploration, Classification and Correlation. \n",
      "Institute of Pharmaceutical and Food Analysis and Technologies,\n",
      "Via Brigata Salerno, 16147 Genoa, Italy.\n",
      "\n",
      "Citation:\n",
      "\n",
      "Lichman, M. (2013). UCI Machine Learning Repository\n",
      "[https://archive.ics.uci.edu/ml]. Irvine, CA: University of California,\n",
      "School of Information and Computer Science. \n",
      "\n",
      ".. topic:: References\n",
      "\n",
      "  (1) S. Aeberhard, D. Coomans and O. de Vel, \n",
      "  Comparison of Classifiers in High Dimensional Settings, \n",
      "  Tech. Rep. no. 92-02, (1992), Dept. of Computer Science and Dept. of  \n",
      "  Mathematics and Statistics, James Cook University of North Queensland. \n",
      "  (Also submitted to Technometrics). \n",
      "\n",
      "  The data was used with many others for comparing various \n",
      "  classifiers. The classes are separable, though only RDA \n",
      "  has achieved 100% correct classification. \n",
      "  (RDA : 100%, QDA 99.4%, LDA 98.9%, 1NN 96.1% (z-transformed data)) \n",
      "  (All results using the leave-one-out technique) \n",
      "\n",
      "  (2) S. Aeberhard, D. Coomans and O. de Vel, \n",
      "  \"THE CLASSIFICATION PERFORMANCE OF RDA\" \n",
      "  Tech. Rep. no. 92-01, (1992), Dept. of Computer Science and Dept. of \n",
      "  Mathematics and Statistics, James Cook University of North Queensland. \n",
      "  (Also submitted to Journal of Chemometrics).\n",
      "\n"
     ]
    }
   ],
   "source": [
    "# (3)-4. 데이터 Describe 해 보기\n",
    "\n",
    "print(wine.DESCR)"
   ]
  },
  {
   "cell_type": "code",
   "execution_count": 9,
   "id": "0ad0b9f1",
   "metadata": {},
   "outputs": [],
   "source": [
    "    ## 총 178개의 데이터.\n",
    "    ## 특성은 총 13개, 모두 정수형 데이터.\n",
    "    ## 누락된 특성 값 없음. (NaN 값이 없음.)\n",
    "    ## class_0 (59), class_1 (71), class_2 (48) : 클래스 별 데이터 개수가 균등하지 않음."
   ]
  },
  {
   "cell_type": "code",
   "execution_count": 10,
   "id": "78f22377",
   "metadata": {},
   "outputs": [
    {
     "name": "stdout",
     "output_type": "stream",
     "text": [
      "X_train 개수:  142 , X_test 개수:  36\n"
     ]
    }
   ],
   "source": [
    "# (4) train, test 데이터 분리\n",
    "\n",
    "# 모델 학습과 테스트용 문제지와 정답지를 준비\n",
    "# X_train, X_test, y_train, y_test를 생성하는 방법을 참고\n",
    "\n",
    "\n",
    "from sklearn.model_selection import train_test_split\n",
    "\n",
    "X_train, X_test, y_train, y_test = train_test_split(wine_data, \n",
    "                                                    wine_label, \n",
    "                                                    test_size=0.2, \n",
    "                                                    random_state=7)\n",
    "\n",
    "print('X_train 개수: ', len(X_train),', X_test 개수: ', len(X_test))"
   ]
  },
  {
   "cell_type": "code",
   "execution_count": 11,
   "id": "f4a0ce16",
   "metadata": {},
   "outputs": [],
   "source": [
    "    ## wine 데이터 셋을 학습용 데이터와 테스트용 데이터로 분리\n",
    "    ## test 데이터 셋의 크기는 전체 데이터셋의 20%\n",
    "    ## 178개의 데이터셋 - 학습용 데이터: 142개, 테스트용 데이터: 36개"
   ]
  },
  {
   "cell_type": "code",
   "execution_count": 12,
   "id": "7cd15752",
   "metadata": {
    "scrolled": true
   },
   "outputs": [
    {
     "name": "stdout",
     "output_type": "stream",
     "text": [
      "              precision    recall  f1-score   support\n",
      "\n",
      "           0       1.00      1.00      1.00         7\n",
      "           1       0.89      1.00      0.94        17\n",
      "           2       1.00      0.83      0.91        12\n",
      "\n",
      "    accuracy                           0.94        36\n",
      "   macro avg       0.96      0.94      0.95        36\n",
      "weighted avg       0.95      0.94      0.94        36\n",
      "\n"
     ]
    }
   ],
   "source": [
    "# (5) 다양한 모델로 학습시켜보기\n",
    "# 학습데이터 X_train, y_train 을 활용해 분류기 모델을 만들어 보자.\n",
    "\n",
    "\n",
    "# 다양한 모델들의 정확도를 한꺼번에 계산하기 위해 예측값들을 저장하는 변수 추가\n",
    "y_pred_list = []\n",
    "\n",
    "\n",
    "# (5)-1. Decision Tree 사용해 보기\n",
    "\n",
    "from sklearn.tree import DecisionTreeClassifier # 모델을 import해서 가져오기\n",
    "\n",
    "decision_tree = DecisionTreeClassifier(random_state=32)\n",
    "decision_tree.fit(X_train, y_train) # decision_tree 라는 변수에 모델을 저장\n",
    "\n",
    "y_pred = decision_tree.predict(X_test)\n",
    "y_pred_list.append(y_pred)\n",
    "\n",
    "print(classification_report(y_test, y_pred)) # Decision Tree 모델 평가"
   ]
  },
  {
   "cell_type": "code",
   "execution_count": 13,
   "id": "6ae1ff61",
   "metadata": {},
   "outputs": [],
   "source": [
    "# Decision Tree, accuracy : 94%    \n",
    "    \n",
    "    \n",
    "    ## Precision\n",
    "        ## class 1의 경우 평균 precision(macro avg)보다 낮음.\n",
    "\n",
    "    ## Recall\n",
    "        ## class 2의 경우 평균 recall(macro avg)보다 낮음.\n",
    "        \n",
    "    ## 각각의 label에 따라서 precision과 recall의 편차가 큰 편이기에, 모델의 성능이 좋다고 말할 수 없음."
   ]
  },
  {
   "cell_type": "code",
   "execution_count": 14,
   "id": "3ec643c2",
   "metadata": {},
   "outputs": [
    {
     "name": "stdout",
     "output_type": "stream",
     "text": [
      "              precision    recall  f1-score   support\n",
      "\n",
      "           0       1.00      1.00      1.00         7\n",
      "           1       1.00      1.00      1.00        17\n",
      "           2       1.00      1.00      1.00        12\n",
      "\n",
      "    accuracy                           1.00        36\n",
      "   macro avg       1.00      1.00      1.00        36\n",
      "weighted avg       1.00      1.00      1.00        36\n",
      "\n"
     ]
    }
   ],
   "source": [
    "# (5)-2. Random Forest 사용해 보기\n",
    "\n",
    "from sklearn.ensemble import RandomForestClassifier\n",
    "\n",
    "random_forest = RandomForestClassifier(random_state=32)\n",
    "random_forest.fit(X_train, y_train)\n",
    "\n",
    "y_pred = random_forest.predict(X_test) \n",
    "y_pred_list.append(y_pred)\n",
    "\n",
    "print(classification_report(y_test, y_pred)) ## Random Forest 모델 평가"
   ]
  },
  {
   "cell_type": "code",
   "execution_count": 15,
   "id": "7cdd9df4",
   "metadata": {},
   "outputs": [],
   "source": [
    "# Random Forest, accuracy : 100%\n",
    "\n",
    "\n",
    "    ## Precision\n",
    "        ## class 1, 2, 3 모두 정밀한 예측.\n",
    "        \n",
    "    ## Recall\n",
    "        ## class 1, 2, 3 모두 정밀한 예측.\n",
    "        \n",
    "    ## precision과 recall의 각 label 별 편차가 대체적으로 크지 않고,\n",
    "    ## 전반적으로 0.9 이상의 값을 갖기때문에, 모델의 성능이 좋다고 말할 수 있음."
   ]
  },
  {
   "cell_type": "code",
   "execution_count": 16,
   "id": "edb6f3f1",
   "metadata": {},
   "outputs": [
    {
     "name": "stdout",
     "output_type": "stream",
     "text": [
      "classifier\n"
     ]
    }
   ],
   "source": [
    "# (5)-3. # SVM 사용해 보기\n",
    "\n",
    "from sklearn import svm\n",
    "svm_model = svm.SVC()\n",
    "\n",
    "print(svm_model._estimator_type)"
   ]
  },
  {
   "cell_type": "code",
   "execution_count": 17,
   "id": "9d2c9ebf",
   "metadata": {},
   "outputs": [
    {
     "name": "stdout",
     "output_type": "stream",
     "text": [
      "              precision    recall  f1-score   support\n",
      "\n",
      "           0       0.86      0.86      0.86         7\n",
      "           1       0.58      0.88      0.70        17\n",
      "           2       0.33      0.08      0.13        12\n",
      "\n",
      "    accuracy                           0.61        36\n",
      "   macro avg       0.59      0.61      0.56        36\n",
      "weighted avg       0.55      0.61      0.54        36\n",
      "\n"
     ]
    }
   ],
   "source": [
    "# SVM 모델 학습 - 결과\n",
    "svm_model.fit(X_train, y_train)\n",
    "y_pred = svm_model.predict(X_test)\n",
    "y_pred_list.append(y_pred)\n",
    "\n",
    "print(classification_report(y_test, y_pred)) ## SVM 모델 평가"
   ]
  },
  {
   "cell_type": "code",
   "execution_count": 18,
   "id": "aef1c4b5",
   "metadata": {},
   "outputs": [],
   "source": [
    "# SVM, accuracy : 61%\n",
    "\n",
    "    \n",
    "    ## Precision\n",
    "        ## class 1, 2 에서 평균 precision(macro avg)보다 낮음.\n",
    "        ## class 0의 경우 평균 precision(macro avg)보다 높음.\n",
    "        \n",
    "    ## Recall\n",
    "        ## class 1, 2 에서 평균 recall(macro avg)보다 높음.\n",
    "        ## class 0의 경우 해당 class 내에서 정확한 예측을 한 비율이 현저하게 적음.\n",
    "        \n",
    "        \n",
    "    ## 전체적으로 오답률이 높았고, 특히 class 2의 경우 대부분이 오답.\n",
    "    ## 61% 의 굉장히 낮은 정확도."
   ]
  },
  {
   "cell_type": "code",
   "execution_count": 19,
   "id": "744e45e4",
   "metadata": {},
   "outputs": [
    {
     "name": "stdout",
     "output_type": "stream",
     "text": [
      "classifier\n"
     ]
    }
   ],
   "source": [
    "# (5)-4. # SGD Classifier 사용해 보기\n",
    "\n",
    "from sklearn.linear_model import SGDClassifier\n",
    "sgd_model = SGDClassifier()\n",
    "\n",
    "print(sgd_model._estimator_type)"
   ]
  },
  {
   "cell_type": "code",
   "execution_count": 20,
   "id": "ab6a0118",
   "metadata": {},
   "outputs": [
    {
     "name": "stdout",
     "output_type": "stream",
     "text": [
      "              precision    recall  f1-score   support\n",
      "\n",
      "           0       0.88      1.00      0.93         7\n",
      "           1       0.57      0.94      0.71        17\n",
      "           2       0.00      0.00      0.00        12\n",
      "\n",
      "    accuracy                           0.64        36\n",
      "   macro avg       0.48      0.65      0.55        36\n",
      "weighted avg       0.44      0.64      0.52        36\n",
      "\n"
     ]
    },
    {
     "name": "stderr",
     "output_type": "stream",
     "text": [
      "/opt/conda/lib/python3.9/site-packages/sklearn/metrics/_classification.py:1308: UndefinedMetricWarning: Precision and F-score are ill-defined and being set to 0.0 in labels with no predicted samples. Use `zero_division` parameter to control this behavior.\n",
      "  _warn_prf(average, modifier, msg_start, len(result))\n",
      "/opt/conda/lib/python3.9/site-packages/sklearn/metrics/_classification.py:1308: UndefinedMetricWarning: Precision and F-score are ill-defined and being set to 0.0 in labels with no predicted samples. Use `zero_division` parameter to control this behavior.\n",
      "  _warn_prf(average, modifier, msg_start, len(result))\n",
      "/opt/conda/lib/python3.9/site-packages/sklearn/metrics/_classification.py:1308: UndefinedMetricWarning: Precision and F-score are ill-defined and being set to 0.0 in labels with no predicted samples. Use `zero_division` parameter to control this behavior.\n",
      "  _warn_prf(average, modifier, msg_start, len(result))\n"
     ]
    }
   ],
   "source": [
    "# SGD 모델 학습 - 결과\n",
    "sgd_model.fit(X_train, y_train)\n",
    "y_pred = sgd_model.predict(X_test)\n",
    "y_pred_list.append(y_pred)\n",
    "\n",
    "print(classification_report(y_test, y_pred))"
   ]
  },
  {
   "cell_type": "code",
   "execution_count": 21,
   "id": "043d0057",
   "metadata": {},
   "outputs": [],
   "source": [
    "# SGD, accuracy : 64%\n",
    " \n",
    "    \n",
    "    ## Precision\n",
    "        ## class 0, 1의 경우 평균 precision(macro avg)보다 높음.\n",
    "        ## class 2 의 경우 평균 precision(macro avg)보다 낮음.\n",
    "        \n",
    "    ## Recall\n",
    "        ## class 0, 2의 경우 평균 recall(macro avg)보다 높음.\n",
    "        ## class 1 의 경우 평균 recall(macro avg)보다 낮음.\n",
    "        ## precision과 recall 값이 다른 label에 비해서 많이 낮음.\n",
    "        \n",
    "    ## 오류\n",
    "        ## 예측 샘플이 없는 labels에서 predicted 및 f1-score가 잘못 정의되어 0.0으로 설정됨.\n",
    "        ## 해결하려면 'zero_division' 매개 변수를 사용하면 됨."
   ]
  },
  {
   "cell_type": "code",
   "execution_count": 22,
   "id": "310374ae",
   "metadata": {},
   "outputs": [
    {
     "name": "stdout",
     "output_type": "stream",
     "text": [
      "classifier\n"
     ]
    }
   ],
   "source": [
    "# (5)-5. # Logistic Regression 사용해 보기\n",
    "\n",
    "from sklearn.linear_model import LogisticRegression\n",
    "logistic_model = LogisticRegression()\n",
    "\n",
    "print(logistic_model._estimator_type)"
   ]
  },
  {
   "cell_type": "code",
   "execution_count": 23,
   "id": "6e8d5f0d",
   "metadata": {},
   "outputs": [
    {
     "name": "stdout",
     "output_type": "stream",
     "text": [
      "              precision    recall  f1-score   support\n",
      "\n",
      "           0       1.00      0.86      0.92         7\n",
      "           1       0.94      1.00      0.97        17\n",
      "           2       1.00      1.00      1.00        12\n",
      "\n",
      "    accuracy                           0.97        36\n",
      "   macro avg       0.98      0.95      0.96        36\n",
      "weighted avg       0.97      0.97      0.97        36\n",
      "\n"
     ]
    },
    {
     "name": "stderr",
     "output_type": "stream",
     "text": [
      "/opt/conda/lib/python3.9/site-packages/sklearn/linear_model/_logistic.py:814: ConvergenceWarning: lbfgs failed to converge (status=1):\n",
      "STOP: TOTAL NO. of ITERATIONS REACHED LIMIT.\n",
      "\n",
      "Increase the number of iterations (max_iter) or scale the data as shown in:\n",
      "    https://scikit-learn.org/stable/modules/preprocessing.html\n",
      "Please also refer to the documentation for alternative solver options:\n",
      "    https://scikit-learn.org/stable/modules/linear_model.html#logistic-regression\n",
      "  n_iter_i = _check_optimize_result(\n"
     ]
    }
   ],
   "source": [
    "# Logistic Regression 모델 학습 - 결과\n",
    "logistic_model.fit(X_train, y_train)\n",
    "\n",
    "y_pred = logistic_model.predict(X_test)\n",
    "y_pred_list.append(y_pred)\n",
    "\n",
    "print(classification_report(y_test, y_pred))\n"
   ]
  },
  {
   "cell_type": "code",
   "execution_count": 24,
   "id": "055b7345",
   "metadata": {},
   "outputs": [],
   "source": [
    "# Logistic Regression, accuracy : 97%\n",
    "\n",
    "\n",
    "    ## Precision\n",
    "        ## class 0, 2의 경우 평균 precision(macro avg)보다 높음.\n",
    "        ## class 1 의 경우 평균 precision(macro avg)보다 낮음.\n",
    "        \n",
    "    ## Recall\n",
    "        ## class 1, 2의 경우 평균 recall(macro avg)보다 높음.\n",
    "        ## class 0 의 경우 평균 recall(macro avg)보다 낮음.\n",
    "        \n",
    "    ## 오류\n",
    "        ## 수렴 경고 : 수렴 실패(status=1), 중지 : 총 반복 횟수가 한계에 도달함.\n",
    "        ## 해결하려면, 반복 횟수를 늘리거나(max_iter) 데이터를 확장해야 함."
   ]
  },
  {
   "cell_type": "code",
   "execution_count": 25,
   "id": "d695f3da",
   "metadata": {},
   "outputs": [],
   "source": [
    "# (6) 모델을 평가해 보기\n",
    "# 학습된 모델들의 테스트데이터 예측 결과를 어떻게 해석해야 할까요?\n",
    "# 모델의 성능을 평가하는 지표로는 무엇이 좋을까요?\n",
    "# sklearn.metrics 에서 제공하는 평가지표 중 적절한 것을 선택해 보세요.\n",
    "# 선택하신 이유도 설명해 주세요."
   ]
  },
  {
   "cell_type": "code",
   "execution_count": 26,
   "id": "56a076d6",
   "metadata": {},
   "outputs": [
    {
     "name": "stdout",
     "output_type": "stream",
     "text": [
      "0 : 0.9434624017957352\n",
      "1 : 1.0\n",
      "2 : 0.5405684754521964\n",
      "3 : 0.5172839506172839\n",
      "4 : 0.9715506715506714\n"
     ]
    }
   ],
   "source": [
    "from sklearn.metrics import f1_score\n",
    "# 0: decision tree, 1: random forest, 2: svm, 3: sgd classifier, 4: logistic regression\n",
    "for idx, y_pred in enumerate(y_pred_list):\n",
    "    accuracy = f1_score(y_test, y_pred, average='weighted')\n",
    "    print(f'{idx} : {accuracy}')"
   ]
  },
  {
   "cell_type": "code",
   "execution_count": 27,
   "id": "30ced42a",
   "metadata": {},
   "outputs": [],
   "source": [
    "# classification_report의 accuracy로 본 모델들의 정확도를 비교하자면,\n",
    "\n",
    "# Decision Tree, accuracy : 94%\n",
    "    ## precision과 recall의 편차가 큰 편이기에, 모델의 성능이 좋다고 판단할 수 없음.\n",
    "\n",
    "    \n",
    "# Random Forest, accuracy : 100%\n",
    "    ## 대부분 class 모두 정밀한 예측. precision과 recall의 편차가 크지 않고\n",
    "    ## 전반적으로 0.9 이상의 값을 갖기 때문에 모델 성능이 좋다고 판단.\n",
    "\n",
    "    \n",
    "# SVM, accuracy : 61%\n",
    "    ## 전반적으로 오답률이 높았고 굉장히 낮은 정확도를 보임. 성능이 좋다고 판단할 수 없음.\n",
    "\n",
    "    \n",
    "# SGD, accuracy : 58%\n",
    "    ## precision과 recall의 편차가 큰 편이고 굉장히 낮은 정확도를 보임.\n",
    "    ## 모델의 성능이 좋다고 판단할 수 없음.\n",
    "\n",
    "\n",
    "# Logistic Regression, accuracy : 97%\n",
    "    ## 단 하나의 오답을 제외하고 전반적으로 높은 정확도를 보임. 성능이 좋다고 판단할 수 있음.\n",
    "\n",
    "\n",
    "## wine datasets의 경우 digits와 같은 분류 문제. (Recall과 Precision등의 영향을 받지 않는 데이터.)\n",
    "## wine의 경우도 정답 또는 오류를 틀리게 예측한 것을 파악하는 것보다 오류를 바르게 예측하는게 더 중요하다고 생각했다.\n",
    "## 단순히 정확도만 확인해도 무방하기 때문에 Accuracy를 평가지료로 사용하면 될 것 같았다.\n",
    "## 그렇게 따지면, 정확도가 가장 높은 수치를 보인 모델은 100%로 Random Forest이다.\n",
    "\n",
    "# 그런데, 해당 프로젝트 target의 class들의 데이터 개수는 균등하지 않게 분포한다는 걸 알 수 있다.\n",
    "# 보통 분류 문제의 경우 classification_report 와 accuracy_score를 이용를 이용한다.\n",
    "# 하지만 데이터의 불균형으로 정확한 판단이 힘들다고 생각해 accuracy_score가 아닌 f1 score average를 평가지표로 선택했다."
   ]
  },
  {
   "cell_type": "code",
   "execution_count": 28,
   "id": "0a2e4337",
   "metadata": {},
   "outputs": [],
   "source": [
    "# 회고\n",
    "\n",
    "# 정리하자면, 해당 프로젝트의 경우 RandomForestClassifier 모델의 성능이 가장 좋다고 생각한다.\n",
    "# 그렇지만, Logistic Regression 의 사용도 고려해볼만 하다.\n",
    "\n",
    "# 일단, RandomForest Classifier의 f1-score는 1.0이다.\n",
    "    ## f1 score는 큰 값에 패널티를 주면서 작은 값 위주로 평균을 구하기 때문에 불균형한 데이터에서 잘 작동을 한다.\n",
    "    ## f1 score average로 weighted를 사용한 이유 : weighted 옵션은 라벨 불균형을 고려해 점수를 계산하기 때문에 선택했다.    \n",
    "# 결과만 놓고 보자면 accuracy_score 나, f1_score 나 RandomForest 모델이 가장 성능이 좋게 나왔다.\n",
    "\n",
    "# 하지만 Random Forest 는 Logistic Regression 모델보다 많은 메모리를 사용하며\n",
    "# 데이터가 많아질시 훈련과 예측이 느리다.\n",
    "# 따라서 정확도 약 97% 를 가지는 Logistic Regression 의 사용도 고려해볼 수 있다.\n",
    "\n",
    "# 이번 프로젝트를 통해 f1_score 를 어떻게 해석하고 사용하는지 알 수 있었다.\n",
    "# 모델의 정확도가 높다고 해서 모델의 성능이 가장 좋다고 할 수 없고,\n",
    "# 상황과 모델의 특성을 파악해서 선택해야한다는걸 알 수 있었다."
   ]
  },
  {
   "cell_type": "code",
   "execution_count": null,
   "id": "3cf72838",
   "metadata": {},
   "outputs": [],
   "source": []
  }
 ],
 "metadata": {
  "kernelspec": {
   "display_name": "Python 3 (ipykernel)",
   "language": "python",
   "name": "python3"
  },
  "language_info": {
   "codemirror_mode": {
    "name": "ipython",
    "version": 3
   },
   "file_extension": ".py",
   "mimetype": "text/x-python",
   "name": "python",
   "nbconvert_exporter": "python",
   "pygments_lexer": "ipython3",
   "version": "3.9.7"
  }
 },
 "nbformat": 4,
 "nbformat_minor": 5
}
